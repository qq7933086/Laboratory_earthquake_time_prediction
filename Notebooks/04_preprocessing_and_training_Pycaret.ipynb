{
 "cells": [
  {
   "cell_type": "markdown",
   "metadata": {},
   "source": [
    "# 4 Pre-Processing and Training Data<a id='4_Pre-Processing_and_Training_Data'></a>"
   ]
  },
  {
   "cell_type": "markdown",
   "metadata": {},
   "source": [
    "## 4.1 Contents"
   ]
  },
  {
   "cell_type": "markdown",
   "metadata": {},
   "source": [
    "## 4.2 Introduction"
   ]
  },
  {
   "cell_type": "markdown",
   "metadata": {},
   "source": [
    "## 4.3 Imports"
   ]
  },
  {
   "cell_type": "code",
   "execution_count": 2,
   "metadata": {},
   "outputs": [],
   "source": [
    "import pandas as pd\n",
    "import numpy as np\n",
    "import matplotlib.pyplot as plt\n",
    "import datetime\n",
    "# import seaborn as sns\n",
    "# from sklearn import __version__ as sklearn_version\n",
    "from sklearn.model_selection import train_test_split\n",
    "from sklearn.ensemble import VotingRegressor\n",
    "from sklearn.metrics import r2_score, mean_absolute_error\n",
    "\n",
    "from pycaret.regression import *\n",
    "import os, glob\n",
    "from statsmodels.tsa.stattools import acf\n",
    "\n",
    "import datetime\n",
    "%matplotlib inline  "
   ]
  },
  {
   "cell_type": "markdown",
   "metadata": {},
   "source": [
    "## 4.4 Load Data"
   ]
  },
  {
   "cell_type": "code",
   "execution_count": null,
   "metadata": {
    "scrolled": true
   },
   "outputs": [],
   "source": [
    "train_df212 = pd.read_pickle('../data/train_df212.pkl')\n",
    "# delete some features with small number of unique values\n",
    "train_df212.drop(columns = ['median'], inplace = True)\n",
    "train_df212.drop(columns = [col for col in train_df212.columns if '_median_smedian' in col], inplace = True)\n",
    "train_df212"
   ]
  },
  {
   "cell_type": "code",
   "execution_count": null,
   "metadata": {
    "scrolled": true
   },
   "outputs": [],
   "source": [
    "train_df243 = pd.read_pickle('../data/train_df243.pkl')\n",
    "train_df243.head()"
   ]
  },
  {
   "cell_type": "code",
   "execution_count": null,
   "metadata": {},
   "outputs": [],
   "source": [
    "cols_to_use = train_df243.columns.difference(train_df212.columns)\n",
    "train_df = pd.merge(train_df212, train_df243[cols_to_use], left_index=True, right_index=True, how='outer')\n",
    "train_df.head()"
   ]
  },
  {
   "cell_type": "code",
   "execution_count": null,
   "metadata": {
    "scrolled": false
   },
   "outputs": [],
   "source": [
    "# print(train_df212.shape)\n",
    "# print(train_df243.shape)\n",
    "# newtrain_df = pd.concat([train_df212, train_df243.drop(columns = 'ttf')], axis = 1)\n",
    "# train_df = newtrain_df.T.drop_duplicates().T\n",
    "train_df.to_pickle('../data/train_df388.pkl')"
   ]
  },
  {
   "cell_type": "code",
   "execution_count": 4,
   "metadata": {
    "scrolled": true
   },
   "outputs": [
    {
     "data": {
      "text/plain": [
       "(8355, 389)"
      ]
     },
     "execution_count": 4,
     "metadata": {},
     "output_type": "execute_result"
    }
   ],
   "source": [
    "train_df = pd.read_pickle('../data/train_df388.pkl')\n",
    "train_df.shape\n",
    "# columns = train_df.columns\n",
    "# newtrain_df[columns]"
   ]
  },
  {
   "cell_type": "code",
   "execution_count": 5,
   "metadata": {},
   "outputs": [
    {
     "data": {
      "text/plain": [
       "['rol1000_mean_iqr',\n",
       " 'rol1000_mean_skew',\n",
       " 'rol100_mean_skew',\n",
       " 'rol10_mean_skew']"
      ]
     },
     "execution_count": 5,
     "metadata": {},
     "output_type": "execute_result"
    }
   ],
   "source": [
    "col_todrop = list(train_df.T[train_df.T.duplicated()].index)\n",
    "col_todrop"
   ]
  },
  {
   "cell_type": "code",
   "execution_count": 6,
   "metadata": {},
   "outputs": [
    {
     "data": {
      "text/plain": [
       "(8355, 385)"
      ]
     },
     "execution_count": 6,
     "metadata": {},
     "output_type": "execute_result"
    }
   ],
   "source": [
    "train_df.drop(columns = col_todrop, inplace = True)\n",
    "train_df.shape"
   ]
  },
  {
   "cell_type": "markdown",
   "metadata": {},
   "source": [
    "## 4.6 Auto ML using Pycaret"
   ]
  },
  {
   "cell_type": "code",
   "execution_count": 7,
   "metadata": {
    "scrolled": false
   },
   "outputs": [
    {
     "data": {
      "text/html": [
       "<style type=\"text/css\">\n",
       "#T_bf174_row7_col1, #T_bf174_row12_col1, #T_bf174_row14_col1 {\n",
       "  background-color: lightgreen;\n",
       "}\n",
       "</style>\n",
       "<table id=\"T_bf174\">\n",
       "  <thead>\n",
       "    <tr>\n",
       "      <th class=\"blank level0\" >&nbsp;</th>\n",
       "      <th id=\"T_bf174_level0_col0\" class=\"col_heading level0 col0\" >Description</th>\n",
       "      <th id=\"T_bf174_level0_col1\" class=\"col_heading level0 col1\" >Value</th>\n",
       "    </tr>\n",
       "  </thead>\n",
       "  <tbody>\n",
       "    <tr>\n",
       "      <th id=\"T_bf174_level0_row0\" class=\"row_heading level0 row0\" >0</th>\n",
       "      <td id=\"T_bf174_row0_col0\" class=\"data row0 col0\" >Session id</td>\n",
       "      <td id=\"T_bf174_row0_col1\" class=\"data row0 col1\" >123</td>\n",
       "    </tr>\n",
       "    <tr>\n",
       "      <th id=\"T_bf174_level0_row1\" class=\"row_heading level0 row1\" >1</th>\n",
       "      <td id=\"T_bf174_row1_col0\" class=\"data row1 col0\" >Target</td>\n",
       "      <td id=\"T_bf174_row1_col1\" class=\"data row1 col1\" >ttf</td>\n",
       "    </tr>\n",
       "    <tr>\n",
       "      <th id=\"T_bf174_level0_row2\" class=\"row_heading level0 row2\" >2</th>\n",
       "      <td id=\"T_bf174_row2_col0\" class=\"data row2 col0\" >Target type</td>\n",
       "      <td id=\"T_bf174_row2_col1\" class=\"data row2 col1\" >Regression</td>\n",
       "    </tr>\n",
       "    <tr>\n",
       "      <th id=\"T_bf174_level0_row3\" class=\"row_heading level0 row3\" >3</th>\n",
       "      <td id=\"T_bf174_row3_col0\" class=\"data row3 col0\" >Data shape</td>\n",
       "      <td id=\"T_bf174_row3_col1\" class=\"data row3 col1\" >(8355, 47)</td>\n",
       "    </tr>\n",
       "    <tr>\n",
       "      <th id=\"T_bf174_level0_row4\" class=\"row_heading level0 row4\" >4</th>\n",
       "      <td id=\"T_bf174_row4_col0\" class=\"data row4 col0\" >Train data shape</td>\n",
       "      <td id=\"T_bf174_row4_col1\" class=\"data row4 col1\" >(5848, 47)</td>\n",
       "    </tr>\n",
       "    <tr>\n",
       "      <th id=\"T_bf174_level0_row5\" class=\"row_heading level0 row5\" >5</th>\n",
       "      <td id=\"T_bf174_row5_col0\" class=\"data row5 col0\" >Test data shape</td>\n",
       "      <td id=\"T_bf174_row5_col1\" class=\"data row5 col1\" >(2507, 47)</td>\n",
       "    </tr>\n",
       "    <tr>\n",
       "      <th id=\"T_bf174_level0_row6\" class=\"row_heading level0 row6\" >6</th>\n",
       "      <td id=\"T_bf174_row6_col0\" class=\"data row6 col0\" >Numeric features</td>\n",
       "      <td id=\"T_bf174_row6_col1\" class=\"data row6 col1\" >384</td>\n",
       "    </tr>\n",
       "    <tr>\n",
       "      <th id=\"T_bf174_level0_row7\" class=\"row_heading level0 row7\" >7</th>\n",
       "      <td id=\"T_bf174_row7_col0\" class=\"data row7 col0\" >Preprocess</td>\n",
       "      <td id=\"T_bf174_row7_col1\" class=\"data row7 col1\" >True</td>\n",
       "    </tr>\n",
       "    <tr>\n",
       "      <th id=\"T_bf174_level0_row8\" class=\"row_heading level0 row8\" >8</th>\n",
       "      <td id=\"T_bf174_row8_col0\" class=\"data row8 col0\" >Imputation type</td>\n",
       "      <td id=\"T_bf174_row8_col1\" class=\"data row8 col1\" >simple</td>\n",
       "    </tr>\n",
       "    <tr>\n",
       "      <th id=\"T_bf174_level0_row9\" class=\"row_heading level0 row9\" >9</th>\n",
       "      <td id=\"T_bf174_row9_col0\" class=\"data row9 col0\" >Numeric imputation</td>\n",
       "      <td id=\"T_bf174_row9_col1\" class=\"data row9 col1\" >mean</td>\n",
       "    </tr>\n",
       "    <tr>\n",
       "      <th id=\"T_bf174_level0_row10\" class=\"row_heading level0 row10\" >10</th>\n",
       "      <td id=\"T_bf174_row10_col0\" class=\"data row10 col0\" >Categorical imputation</td>\n",
       "      <td id=\"T_bf174_row10_col1\" class=\"data row10 col1\" >constant</td>\n",
       "    </tr>\n",
       "    <tr>\n",
       "      <th id=\"T_bf174_level0_row11\" class=\"row_heading level0 row11\" >11</th>\n",
       "      <td id=\"T_bf174_row11_col0\" class=\"data row11 col0\" >Low variance threshold</td>\n",
       "      <td id=\"T_bf174_row11_col1\" class=\"data row11 col1\" >0</td>\n",
       "    </tr>\n",
       "    <tr>\n",
       "      <th id=\"T_bf174_level0_row12\" class=\"row_heading level0 row12\" >12</th>\n",
       "      <td id=\"T_bf174_row12_col0\" class=\"data row12 col0\" >Normalize</td>\n",
       "      <td id=\"T_bf174_row12_col1\" class=\"data row12 col1\" >True</td>\n",
       "    </tr>\n",
       "    <tr>\n",
       "      <th id=\"T_bf174_level0_row13\" class=\"row_heading level0 row13\" >13</th>\n",
       "      <td id=\"T_bf174_row13_col0\" class=\"data row13 col0\" >Normalize method</td>\n",
       "      <td id=\"T_bf174_row13_col1\" class=\"data row13 col1\" >zscore</td>\n",
       "    </tr>\n",
       "    <tr>\n",
       "      <th id=\"T_bf174_level0_row14\" class=\"row_heading level0 row14\" >14</th>\n",
       "      <td id=\"T_bf174_row14_col0\" class=\"data row14 col0\" >PCA</td>\n",
       "      <td id=\"T_bf174_row14_col1\" class=\"data row14 col1\" >True</td>\n",
       "    </tr>\n",
       "    <tr>\n",
       "      <th id=\"T_bf174_level0_row15\" class=\"row_heading level0 row15\" >15</th>\n",
       "      <td id=\"T_bf174_row15_col0\" class=\"data row15 col0\" >PCA method</td>\n",
       "      <td id=\"T_bf174_row15_col1\" class=\"data row15 col1\" >linear</td>\n",
       "    </tr>\n",
       "    <tr>\n",
       "      <th id=\"T_bf174_level0_row16\" class=\"row_heading level0 row16\" >16</th>\n",
       "      <td id=\"T_bf174_row16_col0\" class=\"data row16 col0\" >PCA components</td>\n",
       "      <td id=\"T_bf174_row16_col1\" class=\"data row16 col1\" >0.950000</td>\n",
       "    </tr>\n",
       "    <tr>\n",
       "      <th id=\"T_bf174_level0_row17\" class=\"row_heading level0 row17\" >17</th>\n",
       "      <td id=\"T_bf174_row17_col0\" class=\"data row17 col0\" >Fold Generator</td>\n",
       "      <td id=\"T_bf174_row17_col1\" class=\"data row17 col1\" >KFold</td>\n",
       "    </tr>\n",
       "    <tr>\n",
       "      <th id=\"T_bf174_level0_row18\" class=\"row_heading level0 row18\" >18</th>\n",
       "      <td id=\"T_bf174_row18_col0\" class=\"data row18 col0\" >Fold Number</td>\n",
       "      <td id=\"T_bf174_row18_col1\" class=\"data row18 col1\" >10</td>\n",
       "    </tr>\n",
       "    <tr>\n",
       "      <th id=\"T_bf174_level0_row19\" class=\"row_heading level0 row19\" >19</th>\n",
       "      <td id=\"T_bf174_row19_col0\" class=\"data row19 col0\" >CPU Jobs</td>\n",
       "      <td id=\"T_bf174_row19_col1\" class=\"data row19 col1\" >-1</td>\n",
       "    </tr>\n",
       "    <tr>\n",
       "      <th id=\"T_bf174_level0_row20\" class=\"row_heading level0 row20\" >20</th>\n",
       "      <td id=\"T_bf174_row20_col0\" class=\"data row20 col0\" >Use GPU</td>\n",
       "      <td id=\"T_bf174_row20_col1\" class=\"data row20 col1\" >False</td>\n",
       "    </tr>\n",
       "    <tr>\n",
       "      <th id=\"T_bf174_level0_row21\" class=\"row_heading level0 row21\" >21</th>\n",
       "      <td id=\"T_bf174_row21_col0\" class=\"data row21 col0\" >Log Experiment</td>\n",
       "      <td id=\"T_bf174_row21_col1\" class=\"data row21 col1\" >False</td>\n",
       "    </tr>\n",
       "    <tr>\n",
       "      <th id=\"T_bf174_level0_row22\" class=\"row_heading level0 row22\" >22</th>\n",
       "      <td id=\"T_bf174_row22_col0\" class=\"data row22 col0\" >Experiment Name</td>\n",
       "      <td id=\"T_bf174_row22_col1\" class=\"data row22 col1\" >reg-default-name</td>\n",
       "    </tr>\n",
       "    <tr>\n",
       "      <th id=\"T_bf174_level0_row23\" class=\"row_heading level0 row23\" >23</th>\n",
       "      <td id=\"T_bf174_row23_col0\" class=\"data row23 col0\" >USI</td>\n",
       "      <td id=\"T_bf174_row23_col1\" class=\"data row23 col1\" >86ff</td>\n",
       "    </tr>\n",
       "  </tbody>\n",
       "</table>\n"
      ],
      "text/plain": [
       "<pandas.io.formats.style.Styler at 0x249588707f0>"
      ]
     },
     "metadata": {},
     "output_type": "display_data"
    }
   ],
   "source": [
    "# init setup\n",
    "\n",
    "# cv = LeaveOneGroupOut()\n",
    "s = setup(train_df,\n",
    "          target = 'ttf', \n",
    "          normalize = True,          \n",
    "          session_id = 123,\n",
    "          pca = True,\n",
    "          pca_components = 0.95\n",
    "         ) #event_df['event_id'] , fold_group100"
   ]
  },
  {
   "cell_type": "code",
   "execution_count": 8,
   "metadata": {},
   "outputs": [
    {
     "data": {
      "text/html": [],
      "text/plain": [
       "<IPython.core.display.HTML object>"
      ]
     },
     "metadata": {},
     "output_type": "display_data"
    },
    {
     "data": {
      "text/html": [
       "<style type=\"text/css\">\n",
       "#T_a6e51 th {\n",
       "  text-align: left;\n",
       "}\n",
       "#T_a6e51_row0_col0, #T_a6e51_row0_col5, #T_a6e51_row0_col6, #T_a6e51_row1_col0, #T_a6e51_row1_col1, #T_a6e51_row1_col2, #T_a6e51_row1_col3, #T_a6e51_row1_col4, #T_a6e51_row1_col5, #T_a6e51_row1_col6, #T_a6e51_row2_col0, #T_a6e51_row2_col1, #T_a6e51_row2_col2, #T_a6e51_row2_col3, #T_a6e51_row2_col4, #T_a6e51_row2_col6, #T_a6e51_row3_col0, #T_a6e51_row3_col1, #T_a6e51_row3_col2, #T_a6e51_row3_col3, #T_a6e51_row3_col4, #T_a6e51_row3_col5, #T_a6e51_row3_col6, #T_a6e51_row4_col0, #T_a6e51_row4_col1, #T_a6e51_row4_col2, #T_a6e51_row4_col3, #T_a6e51_row4_col4, #T_a6e51_row4_col5, #T_a6e51_row4_col6, #T_a6e51_row5_col0, #T_a6e51_row5_col1, #T_a6e51_row5_col2, #T_a6e51_row5_col3, #T_a6e51_row5_col4, #T_a6e51_row5_col5, #T_a6e51_row5_col6, #T_a6e51_row6_col0, #T_a6e51_row6_col1, #T_a6e51_row6_col2, #T_a6e51_row6_col3, #T_a6e51_row6_col4, #T_a6e51_row6_col5, #T_a6e51_row6_col6, #T_a6e51_row7_col0, #T_a6e51_row7_col1, #T_a6e51_row7_col2, #T_a6e51_row7_col3, #T_a6e51_row7_col4, #T_a6e51_row7_col5, #T_a6e51_row7_col6, #T_a6e51_row8_col0, #T_a6e51_row8_col1, #T_a6e51_row8_col2, #T_a6e51_row8_col3, #T_a6e51_row8_col4, #T_a6e51_row8_col5, #T_a6e51_row8_col6, #T_a6e51_row9_col0, #T_a6e51_row9_col1, #T_a6e51_row9_col2, #T_a6e51_row9_col3, #T_a6e51_row9_col4, #T_a6e51_row9_col5, #T_a6e51_row9_col6, #T_a6e51_row10_col0, #T_a6e51_row10_col1, #T_a6e51_row10_col2, #T_a6e51_row10_col3, #T_a6e51_row10_col4, #T_a6e51_row10_col5, #T_a6e51_row10_col6, #T_a6e51_row11_col0, #T_a6e51_row11_col1, #T_a6e51_row11_col2, #T_a6e51_row11_col3, #T_a6e51_row11_col4, #T_a6e51_row11_col5, #T_a6e51_row11_col6, #T_a6e51_row12_col0, #T_a6e51_row12_col1, #T_a6e51_row12_col2, #T_a6e51_row12_col3, #T_a6e51_row12_col4, #T_a6e51_row12_col5, #T_a6e51_row12_col6, #T_a6e51_row13_col0, #T_a6e51_row13_col1, #T_a6e51_row13_col2, #T_a6e51_row13_col3, #T_a6e51_row13_col4, #T_a6e51_row13_col5, #T_a6e51_row13_col6, #T_a6e51_row14_col0, #T_a6e51_row14_col1, #T_a6e51_row14_col2, #T_a6e51_row14_col3, #T_a6e51_row14_col4, #T_a6e51_row14_col5 {\n",
       "  text-align: left;\n",
       "}\n",
       "#T_a6e51_row0_col1, #T_a6e51_row0_col2, #T_a6e51_row0_col3, #T_a6e51_row0_col4, #T_a6e51_row2_col5, #T_a6e51_row14_col6 {\n",
       "  text-align: left;\n",
       "  background-color: yellow;\n",
       "}\n",
       "#T_a6e51_row0_col7, #T_a6e51_row1_col7, #T_a6e51_row2_col7, #T_a6e51_row3_col7, #T_a6e51_row4_col7, #T_a6e51_row5_col7, #T_a6e51_row6_col7, #T_a6e51_row7_col7, #T_a6e51_row8_col7, #T_a6e51_row9_col7, #T_a6e51_row11_col7, #T_a6e51_row12_col7, #T_a6e51_row13_col7, #T_a6e51_row14_col7 {\n",
       "  text-align: left;\n",
       "  background-color: lightgrey;\n",
       "}\n",
       "#T_a6e51_row10_col7 {\n",
       "  text-align: left;\n",
       "  background-color: yellow;\n",
       "  background-color: lightgrey;\n",
       "}\n",
       "</style>\n",
       "<table id=\"T_a6e51\">\n",
       "  <thead>\n",
       "    <tr>\n",
       "      <th class=\"blank level0\" >&nbsp;</th>\n",
       "      <th id=\"T_a6e51_level0_col0\" class=\"col_heading level0 col0\" >Model</th>\n",
       "      <th id=\"T_a6e51_level0_col1\" class=\"col_heading level0 col1\" >MAE</th>\n",
       "      <th id=\"T_a6e51_level0_col2\" class=\"col_heading level0 col2\" >MSE</th>\n",
       "      <th id=\"T_a6e51_level0_col3\" class=\"col_heading level0 col3\" >RMSE</th>\n",
       "      <th id=\"T_a6e51_level0_col4\" class=\"col_heading level0 col4\" >R2</th>\n",
       "      <th id=\"T_a6e51_level0_col5\" class=\"col_heading level0 col5\" >RMSLE</th>\n",
       "      <th id=\"T_a6e51_level0_col6\" class=\"col_heading level0 col6\" >MAPE</th>\n",
       "      <th id=\"T_a6e51_level0_col7\" class=\"col_heading level0 col7\" >TT (Sec)</th>\n",
       "    </tr>\n",
       "  </thead>\n",
       "  <tbody>\n",
       "    <tr>\n",
       "      <th id=\"T_a6e51_level0_row0\" class=\"row_heading level0 row0\" >et</th>\n",
       "      <td id=\"T_a6e51_row0_col0\" class=\"data row0 col0\" >Extra Trees Regressor</td>\n",
       "      <td id=\"T_a6e51_row0_col1\" class=\"data row0 col1\" >2.0468</td>\n",
       "      <td id=\"T_a6e51_row0_col2\" class=\"data row0 col2\" >6.9487</td>\n",
       "      <td id=\"T_a6e51_row0_col3\" class=\"data row0 col3\" >2.6341</td>\n",
       "      <td id=\"T_a6e51_row0_col4\" class=\"data row0 col4\" >0.4792</td>\n",
       "      <td id=\"T_a6e51_row0_col5\" class=\"data row0 col5\" >0.5098</td>\n",
       "      <td id=\"T_a6e51_row0_col6\" class=\"data row0 col6\" >7.2512</td>\n",
       "      <td id=\"T_a6e51_row0_col7\" class=\"data row0 col7\" >6.7850</td>\n",
       "    </tr>\n",
       "    <tr>\n",
       "      <th id=\"T_a6e51_level0_row1\" class=\"row_heading level0 row1\" >rf</th>\n",
       "      <td id=\"T_a6e51_row1_col0\" class=\"data row1 col0\" >Random Forest Regressor</td>\n",
       "      <td id=\"T_a6e51_row1_col1\" class=\"data row1 col1\" >2.0589</td>\n",
       "      <td id=\"T_a6e51_row1_col2\" class=\"data row1 col2\" >7.0239</td>\n",
       "      <td id=\"T_a6e51_row1_col3\" class=\"data row1 col3\" >2.6486</td>\n",
       "      <td id=\"T_a6e51_row1_col4\" class=\"data row1 col4\" >0.4732</td>\n",
       "      <td id=\"T_a6e51_row1_col5\" class=\"data row1 col5\" >0.5118</td>\n",
       "      <td id=\"T_a6e51_row1_col6\" class=\"data row1 col6\" >7.4425</td>\n",
       "      <td id=\"T_a6e51_row1_col7\" class=\"data row1 col7\" >13.7510</td>\n",
       "    </tr>\n",
       "    <tr>\n",
       "      <th id=\"T_a6e51_level0_row2\" class=\"row_heading level0 row2\" >lightgbm</th>\n",
       "      <td id=\"T_a6e51_row2_col0\" class=\"data row2 col0\" >Light Gradient Boosting Machine</td>\n",
       "      <td id=\"T_a6e51_row2_col1\" class=\"data row2 col1\" >2.0658</td>\n",
       "      <td id=\"T_a6e51_row2_col2\" class=\"data row2 col2\" >7.0936</td>\n",
       "      <td id=\"T_a6e51_row2_col3\" class=\"data row2 col3\" >2.6623</td>\n",
       "      <td id=\"T_a6e51_row2_col4\" class=\"data row2 col4\" >0.4677</td>\n",
       "      <td id=\"T_a6e51_row2_col5\" class=\"data row2 col5\" >0.5060</td>\n",
       "      <td id=\"T_a6e51_row2_col6\" class=\"data row2 col6\" >7.3628</td>\n",
       "      <td id=\"T_a6e51_row2_col7\" class=\"data row2 col7\" >0.8580</td>\n",
       "    </tr>\n",
       "    <tr>\n",
       "      <th id=\"T_a6e51_level0_row3\" class=\"row_heading level0 row3\" >gbr</th>\n",
       "      <td id=\"T_a6e51_row3_col0\" class=\"data row3 col0\" >Gradient Boosting Regressor</td>\n",
       "      <td id=\"T_a6e51_row3_col1\" class=\"data row3 col1\" >2.0807</td>\n",
       "      <td id=\"T_a6e51_row3_col2\" class=\"data row3 col2\" >7.0971</td>\n",
       "      <td id=\"T_a6e51_row3_col3\" class=\"data row3 col3\" >2.6627</td>\n",
       "      <td id=\"T_a6e51_row3_col4\" class=\"data row3 col4\" >0.4676</td>\n",
       "      <td id=\"T_a6e51_row3_col5\" class=\"data row3 col5\" >0.5121</td>\n",
       "      <td id=\"T_a6e51_row3_col6\" class=\"data row3 col6\" >7.4061</td>\n",
       "      <td id=\"T_a6e51_row3_col7\" class=\"data row3 col7\" >5.9770</td>\n",
       "    </tr>\n",
       "    <tr>\n",
       "      <th id=\"T_a6e51_level0_row4\" class=\"row_heading level0 row4\" >knn</th>\n",
       "      <td id=\"T_a6e51_row4_col0\" class=\"data row4 col0\" >K Neighbors Regressor</td>\n",
       "      <td id=\"T_a6e51_row4_col1\" class=\"data row4 col1\" >2.0810</td>\n",
       "      <td id=\"T_a6e51_row4_col2\" class=\"data row4 col2\" >7.4534</td>\n",
       "      <td id=\"T_a6e51_row4_col3\" class=\"data row4 col3\" >2.7289</td>\n",
       "      <td id=\"T_a6e51_row4_col4\" class=\"data row4 col4\" >0.4402</td>\n",
       "      <td id=\"T_a6e51_row4_col5\" class=\"data row4 col5\" >0.5134</td>\n",
       "      <td id=\"T_a6e51_row4_col6\" class=\"data row4 col6\" >6.5265</td>\n",
       "      <td id=\"T_a6e51_row4_col7\" class=\"data row4 col7\" >0.3330</td>\n",
       "    </tr>\n",
       "    <tr>\n",
       "      <th id=\"T_a6e51_level0_row5\" class=\"row_heading level0 row5\" >huber</th>\n",
       "      <td id=\"T_a6e51_row5_col0\" class=\"data row5 col0\" >Huber Regressor</td>\n",
       "      <td id=\"T_a6e51_row5_col1\" class=\"data row5 col1\" >2.1137</td>\n",
       "      <td id=\"T_a6e51_row5_col2\" class=\"data row5 col2\" >7.5149</td>\n",
       "      <td id=\"T_a6e51_row5_col3\" class=\"data row5 col3\" >2.7404</td>\n",
       "      <td id=\"T_a6e51_row5_col4\" class=\"data row5 col4\" >0.4356</td>\n",
       "      <td id=\"T_a6e51_row5_col5\" class=\"data row5 col5\" >0.5217</td>\n",
       "      <td id=\"T_a6e51_row5_col6\" class=\"data row5 col6\" >7.4851</td>\n",
       "      <td id=\"T_a6e51_row5_col7\" class=\"data row5 col7\" >0.3080</td>\n",
       "    </tr>\n",
       "    <tr>\n",
       "      <th id=\"T_a6e51_level0_row6\" class=\"row_heading level0 row6\" >br</th>\n",
       "      <td id=\"T_a6e51_row6_col0\" class=\"data row6 col0\" >Bayesian Ridge</td>\n",
       "      <td id=\"T_a6e51_row6_col1\" class=\"data row6 col1\" >2.1356</td>\n",
       "      <td id=\"T_a6e51_row6_col2\" class=\"data row6 col2\" >7.4077</td>\n",
       "      <td id=\"T_a6e51_row6_col3\" class=\"data row6 col3\" >2.7207</td>\n",
       "      <td id=\"T_a6e51_row6_col4\" class=\"data row6 col4\" >0.4439</td>\n",
       "      <td id=\"T_a6e51_row6_col5\" class=\"data row6 col5\" >0.5283</td>\n",
       "      <td id=\"T_a6e51_row6_col6\" class=\"data row6 col6\" >7.5262</td>\n",
       "      <td id=\"T_a6e51_row6_col7\" class=\"data row6 col7\" >0.2130</td>\n",
       "    </tr>\n",
       "    <tr>\n",
       "      <th id=\"T_a6e51_level0_row7\" class=\"row_heading level0 row7\" >lr</th>\n",
       "      <td id=\"T_a6e51_row7_col0\" class=\"data row7 col0\" >Linear Regression</td>\n",
       "      <td id=\"T_a6e51_row7_col1\" class=\"data row7 col1\" >2.1368</td>\n",
       "      <td id=\"T_a6e51_row7_col2\" class=\"data row7 col2\" >7.4117</td>\n",
       "      <td id=\"T_a6e51_row7_col3\" class=\"data row7 col3\" >2.7214</td>\n",
       "      <td id=\"T_a6e51_row7_col4\" class=\"data row7 col4\" >0.4436</td>\n",
       "      <td id=\"T_a6e51_row7_col5\" class=\"data row7 col5\" >0.5287</td>\n",
       "      <td id=\"T_a6e51_row7_col6\" class=\"data row7 col6\" >7.5211</td>\n",
       "      <td id=\"T_a6e51_row7_col7\" class=\"data row7 col7\" >1.7980</td>\n",
       "    </tr>\n",
       "    <tr>\n",
       "      <th id=\"T_a6e51_level0_row8\" class=\"row_heading level0 row8\" >ridge</th>\n",
       "      <td id=\"T_a6e51_row8_col0\" class=\"data row8 col0\" >Ridge Regression</td>\n",
       "      <td id=\"T_a6e51_row8_col1\" class=\"data row8 col1\" >2.1368</td>\n",
       "      <td id=\"T_a6e51_row8_col2\" class=\"data row8 col2\" >7.4117</td>\n",
       "      <td id=\"T_a6e51_row8_col3\" class=\"data row8 col3\" >2.7214</td>\n",
       "      <td id=\"T_a6e51_row8_col4\" class=\"data row8 col4\" >0.4436</td>\n",
       "      <td id=\"T_a6e51_row8_col5\" class=\"data row8 col5\" >0.5287</td>\n",
       "      <td id=\"T_a6e51_row8_col6\" class=\"data row8 col6\" >7.5211</td>\n",
       "      <td id=\"T_a6e51_row8_col7\" class=\"data row8 col7\" >0.1800</td>\n",
       "    </tr>\n",
       "    <tr>\n",
       "      <th id=\"T_a6e51_level0_row9\" class=\"row_heading level0 row9\" >omp</th>\n",
       "      <td id=\"T_a6e51_row9_col0\" class=\"data row9 col0\" >Orthogonal Matching Pursuit</td>\n",
       "      <td id=\"T_a6e51_row9_col1\" class=\"data row9 col1\" >2.1919</td>\n",
       "      <td id=\"T_a6e51_row9_col2\" class=\"data row9 col2\" >7.8858</td>\n",
       "      <td id=\"T_a6e51_row9_col3\" class=\"data row9 col3\" >2.8066</td>\n",
       "      <td id=\"T_a6e51_row9_col4\" class=\"data row9 col4\" >0.4085</td>\n",
       "      <td id=\"T_a6e51_row9_col5\" class=\"data row9 col5\" >0.5421</td>\n",
       "      <td id=\"T_a6e51_row9_col6\" class=\"data row9 col6\" >7.5921</td>\n",
       "      <td id=\"T_a6e51_row9_col7\" class=\"data row9 col7\" >0.2100</td>\n",
       "    </tr>\n",
       "    <tr>\n",
       "      <th id=\"T_a6e51_level0_row10\" class=\"row_heading level0 row10\" >en</th>\n",
       "      <td id=\"T_a6e51_row10_col0\" class=\"data row10 col0\" >Elastic Net</td>\n",
       "      <td id=\"T_a6e51_row10_col1\" class=\"data row10 col1\" >2.2022</td>\n",
       "      <td id=\"T_a6e51_row10_col2\" class=\"data row10 col2\" >7.8621</td>\n",
       "      <td id=\"T_a6e51_row10_col3\" class=\"data row10 col3\" >2.8026</td>\n",
       "      <td id=\"T_a6e51_row10_col4\" class=\"data row10 col4\" >0.4102</td>\n",
       "      <td id=\"T_a6e51_row10_col5\" class=\"data row10 col5\" >0.5437</td>\n",
       "      <td id=\"T_a6e51_row10_col6\" class=\"data row10 col6\" >7.5089</td>\n",
       "      <td id=\"T_a6e51_row10_col7\" class=\"data row10 col7\" >0.1780</td>\n",
       "    </tr>\n",
       "    <tr>\n",
       "      <th id=\"T_a6e51_level0_row11\" class=\"row_heading level0 row11\" >lasso</th>\n",
       "      <td id=\"T_a6e51_row11_col0\" class=\"data row11 col0\" >Lasso Regression</td>\n",
       "      <td id=\"T_a6e51_row11_col1\" class=\"data row11 col1\" >2.2232</td>\n",
       "      <td id=\"T_a6e51_row11_col2\" class=\"data row11 col2\" >7.9693</td>\n",
       "      <td id=\"T_a6e51_row11_col3\" class=\"data row11 col3\" >2.8216</td>\n",
       "      <td id=\"T_a6e51_row11_col4\" class=\"data row11 col4\" >0.4023</td>\n",
       "      <td id=\"T_a6e51_row11_col5\" class=\"data row11 col5\" >0.5485</td>\n",
       "      <td id=\"T_a6e51_row11_col6\" class=\"data row11 col6\" >7.4754</td>\n",
       "      <td id=\"T_a6e51_row11_col7\" class=\"data row11 col7\" >0.3500</td>\n",
       "    </tr>\n",
       "    <tr>\n",
       "      <th id=\"T_a6e51_level0_row12\" class=\"row_heading level0 row12\" >ada</th>\n",
       "      <td id=\"T_a6e51_row12_col0\" class=\"data row12 col0\" >AdaBoost Regressor</td>\n",
       "      <td id=\"T_a6e51_row12_col1\" class=\"data row12 col1\" >2.3007</td>\n",
       "      <td id=\"T_a6e51_row12_col2\" class=\"data row12 col2\" >8.0254</td>\n",
       "      <td id=\"T_a6e51_row12_col3\" class=\"data row12 col3\" >2.8302</td>\n",
       "      <td id=\"T_a6e51_row12_col4\" class=\"data row12 col4\" >0.3994</td>\n",
       "      <td id=\"T_a6e51_row12_col5\" class=\"data row12 col5\" >0.5661</td>\n",
       "      <td id=\"T_a6e51_row12_col6\" class=\"data row12 col6\" >6.6144</td>\n",
       "      <td id=\"T_a6e51_row12_col7\" class=\"data row12 col7\" >2.2590</td>\n",
       "    </tr>\n",
       "    <tr>\n",
       "      <th id=\"T_a6e51_level0_row13\" class=\"row_heading level0 row13\" >dt</th>\n",
       "      <td id=\"T_a6e51_row13_col0\" class=\"data row13 col0\" >Decision Tree Regressor</td>\n",
       "      <td id=\"T_a6e51_row13_col1\" class=\"data row13 col1\" >2.8922</td>\n",
       "      <td id=\"T_a6e51_row13_col2\" class=\"data row13 col2\" >14.7255</td>\n",
       "      <td id=\"T_a6e51_row13_col3\" class=\"data row13 col3\" >3.8354</td>\n",
       "      <td id=\"T_a6e51_row13_col4\" class=\"data row13 col4\" >-0.1064</td>\n",
       "      <td id=\"T_a6e51_row13_col5\" class=\"data row13 col5\" >0.7228</td>\n",
       "      <td id=\"T_a6e51_row13_col6\" class=\"data row13 col6\" >7.1454</td>\n",
       "      <td id=\"T_a6e51_row13_col7\" class=\"data row13 col7\" >0.4930</td>\n",
       "    </tr>\n",
       "    <tr>\n",
       "      <th id=\"T_a6e51_level0_row14\" class=\"row_heading level0 row14\" >dummy</th>\n",
       "      <td id=\"T_a6e51_row14_col0\" class=\"data row14 col0\" >Dummy Regressor</td>\n",
       "      <td id=\"T_a6e51_row14_col1\" class=\"data row14 col1\" >3.0395</td>\n",
       "      <td id=\"T_a6e51_row14_col2\" class=\"data row14 col2\" >13.3795</td>\n",
       "      <td id=\"T_a6e51_row14_col3\" class=\"data row14 col3\" >3.6551</td>\n",
       "      <td id=\"T_a6e51_row14_col4\" class=\"data row14 col4\" >-0.0018</td>\n",
       "      <td id=\"T_a6e51_row14_col5\" class=\"data row14 col5\" >0.6827</td>\n",
       "      <td id=\"T_a6e51_row14_col6\" class=\"data row14 col6\" >5.8869</td>\n",
       "      <td id=\"T_a6e51_row14_col7\" class=\"data row14 col7\" >0.2110</td>\n",
       "    </tr>\n",
       "  </tbody>\n",
       "</table>\n"
      ],
      "text/plain": [
       "<pandas.io.formats.style.Styler at 0x2493fd934f0>"
      ]
     },
     "metadata": {},
     "output_type": "display_data"
    },
    {
     "data": {
      "text/html": [],
      "text/plain": [
       "<IPython.core.display.HTML object>"
      ]
     },
     "metadata": {},
     "output_type": "display_data"
    }
   ],
   "source": [
    "# model training and selection\n",
    "best = compare_models(sort = 'MAE', exclude = ['par','lar','llar'])"
   ]
  },
  {
   "cell_type": "code",
   "execution_count": null,
   "metadata": {
    "scrolled": false
   },
   "outputs": [],
   "source": [
    "# analyze best model\n",
    "# fast result: Hyperparameters, Residuals, Prediction Error, Cooks Distance, Feature Importance, Interactive Residuals\n",
    "# evaluate_model(best)"
   ]
  },
  {
   "cell_type": "markdown",
   "metadata": {},
   "source": [
    "## 4.7 Create models using pycaret"
   ]
  },
  {
   "cell_type": "markdown",
   "metadata": {},
   "source": [
    "### 4.7.1 Light Gradient Boosting Machine"
   ]
  },
  {
   "cell_type": "code",
   "execution_count": 9,
   "metadata": {
    "scrolled": false
   },
   "outputs": [
    {
     "data": {
      "text/html": [],
      "text/plain": [
       "<IPython.core.display.HTML object>"
      ]
     },
     "metadata": {},
     "output_type": "display_data"
    },
    {
     "data": {
      "text/html": [
       "<style type=\"text/css\">\n",
       "#T_c7208_row10_col0, #T_c7208_row10_col1, #T_c7208_row10_col2, #T_c7208_row10_col3, #T_c7208_row10_col4, #T_c7208_row10_col5 {\n",
       "  background: yellow;\n",
       "}\n",
       "</style>\n",
       "<table id=\"T_c7208\">\n",
       "  <thead>\n",
       "    <tr>\n",
       "      <th class=\"blank level0\" >&nbsp;</th>\n",
       "      <th id=\"T_c7208_level0_col0\" class=\"col_heading level0 col0\" >MAE</th>\n",
       "      <th id=\"T_c7208_level0_col1\" class=\"col_heading level0 col1\" >MSE</th>\n",
       "      <th id=\"T_c7208_level0_col2\" class=\"col_heading level0 col2\" >RMSE</th>\n",
       "      <th id=\"T_c7208_level0_col3\" class=\"col_heading level0 col3\" >R2</th>\n",
       "      <th id=\"T_c7208_level0_col4\" class=\"col_heading level0 col4\" >RMSLE</th>\n",
       "      <th id=\"T_c7208_level0_col5\" class=\"col_heading level0 col5\" >MAPE</th>\n",
       "    </tr>\n",
       "    <tr>\n",
       "      <th class=\"index_name level0\" >Fold</th>\n",
       "      <th class=\"blank col0\" >&nbsp;</th>\n",
       "      <th class=\"blank col1\" >&nbsp;</th>\n",
       "      <th class=\"blank col2\" >&nbsp;</th>\n",
       "      <th class=\"blank col3\" >&nbsp;</th>\n",
       "      <th class=\"blank col4\" >&nbsp;</th>\n",
       "      <th class=\"blank col5\" >&nbsp;</th>\n",
       "    </tr>\n",
       "  </thead>\n",
       "  <tbody>\n",
       "    <tr>\n",
       "      <th id=\"T_c7208_level0_row0\" class=\"row_heading level0 row0\" >0</th>\n",
       "      <td id=\"T_c7208_row0_col0\" class=\"data row0 col0\" >2.0049</td>\n",
       "      <td id=\"T_c7208_row0_col1\" class=\"data row0 col1\" >6.9847</td>\n",
       "      <td id=\"T_c7208_row0_col2\" class=\"data row0 col2\" >2.6429</td>\n",
       "      <td id=\"T_c7208_row0_col3\" class=\"data row0 col3\" >0.4759</td>\n",
       "      <td id=\"T_c7208_row0_col4\" class=\"data row0 col4\" >0.4681</td>\n",
       "      <td id=\"T_c7208_row0_col5\" class=\"data row0 col5\" >3.6839</td>\n",
       "    </tr>\n",
       "    <tr>\n",
       "      <th id=\"T_c7208_level0_row1\" class=\"row_heading level0 row1\" >1</th>\n",
       "      <td id=\"T_c7208_row1_col0\" class=\"data row1 col0\" >1.9848</td>\n",
       "      <td id=\"T_c7208_row1_col1\" class=\"data row1 col1\" >6.4362</td>\n",
       "      <td id=\"T_c7208_row1_col2\" class=\"data row1 col2\" >2.5370</td>\n",
       "      <td id=\"T_c7208_row1_col3\" class=\"data row1 col3\" >0.4514</td>\n",
       "      <td id=\"T_c7208_row1_col4\" class=\"data row1 col4\" >0.5068</td>\n",
       "      <td id=\"T_c7208_row1_col5\" class=\"data row1 col5\" >3.2543</td>\n",
       "    </tr>\n",
       "    <tr>\n",
       "      <th id=\"T_c7208_level0_row2\" class=\"row_heading level0 row2\" >2</th>\n",
       "      <td id=\"T_c7208_row2_col0\" class=\"data row2 col0\" >2.0794</td>\n",
       "      <td id=\"T_c7208_row2_col1\" class=\"data row2 col1\" >7.1011</td>\n",
       "      <td id=\"T_c7208_row2_col2\" class=\"data row2 col2\" >2.6648</td>\n",
       "      <td id=\"T_c7208_row2_col3\" class=\"data row2 col3\" >0.5185</td>\n",
       "      <td id=\"T_c7208_row2_col4\" class=\"data row2 col4\" >0.4896</td>\n",
       "      <td id=\"T_c7208_row2_col5\" class=\"data row2 col5\" >7.3250</td>\n",
       "    </tr>\n",
       "    <tr>\n",
       "      <th id=\"T_c7208_level0_row3\" class=\"row_heading level0 row3\" >3</th>\n",
       "      <td id=\"T_c7208_row3_col0\" class=\"data row3 col0\" >2.0183</td>\n",
       "      <td id=\"T_c7208_row3_col1\" class=\"data row3 col1\" >6.6201</td>\n",
       "      <td id=\"T_c7208_row3_col2\" class=\"data row3 col2\" >2.5729</td>\n",
       "      <td id=\"T_c7208_row3_col3\" class=\"data row3 col3\" >0.4444</td>\n",
       "      <td id=\"T_c7208_row3_col4\" class=\"data row3 col4\" >0.4758</td>\n",
       "      <td id=\"T_c7208_row3_col5\" class=\"data row3 col5\" >6.3830</td>\n",
       "    </tr>\n",
       "    <tr>\n",
       "      <th id=\"T_c7208_level0_row4\" class=\"row_heading level0 row4\" >4</th>\n",
       "      <td id=\"T_c7208_row4_col0\" class=\"data row4 col0\" >2.0217</td>\n",
       "      <td id=\"T_c7208_row4_col1\" class=\"data row4 col1\" >6.5825</td>\n",
       "      <td id=\"T_c7208_row4_col2\" class=\"data row4 col2\" >2.5656</td>\n",
       "      <td id=\"T_c7208_row4_col3\" class=\"data row4 col3\" >0.4516</td>\n",
       "      <td id=\"T_c7208_row4_col4\" class=\"data row4 col4\" >0.4754</td>\n",
       "      <td id=\"T_c7208_row4_col5\" class=\"data row4 col5\" >3.8046</td>\n",
       "    </tr>\n",
       "    <tr>\n",
       "      <th id=\"T_c7208_level0_row5\" class=\"row_heading level0 row5\" >5</th>\n",
       "      <td id=\"T_c7208_row5_col0\" class=\"data row5 col0\" >2.0784</td>\n",
       "      <td id=\"T_c7208_row5_col1\" class=\"data row5 col1\" >7.3863</td>\n",
       "      <td id=\"T_c7208_row5_col2\" class=\"data row5 col2\" >2.7178</td>\n",
       "      <td id=\"T_c7208_row5_col3\" class=\"data row5 col3\" >0.4656</td>\n",
       "      <td id=\"T_c7208_row5_col4\" class=\"data row5 col4\" >0.5216</td>\n",
       "      <td id=\"T_c7208_row5_col5\" class=\"data row5 col5\" >3.1349</td>\n",
       "    </tr>\n",
       "    <tr>\n",
       "      <th id=\"T_c7208_level0_row6\" class=\"row_heading level0 row6\" >6</th>\n",
       "      <td id=\"T_c7208_row6_col0\" class=\"data row6 col0\" >2.0888</td>\n",
       "      <td id=\"T_c7208_row6_col1\" class=\"data row6 col1\" >7.2578</td>\n",
       "      <td id=\"T_c7208_row6_col2\" class=\"data row6 col2\" >2.6940</td>\n",
       "      <td id=\"T_c7208_row6_col3\" class=\"data row6 col3\" >0.4715</td>\n",
       "      <td id=\"T_c7208_row6_col4\" class=\"data row6 col4\" >0.5281</td>\n",
       "      <td id=\"T_c7208_row6_col5\" class=\"data row6 col5\" >3.6181</td>\n",
       "    </tr>\n",
       "    <tr>\n",
       "      <th id=\"T_c7208_level0_row7\" class=\"row_heading level0 row7\" >7</th>\n",
       "      <td id=\"T_c7208_row7_col0\" class=\"data row7 col0\" >2.1141</td>\n",
       "      <td id=\"T_c7208_row7_col1\" class=\"data row7 col1\" >7.5358</td>\n",
       "      <td id=\"T_c7208_row7_col2\" class=\"data row7 col2\" >2.7451</td>\n",
       "      <td id=\"T_c7208_row7_col3\" class=\"data row7 col3\" >0.4580</td>\n",
       "      <td id=\"T_c7208_row7_col4\" class=\"data row7 col4\" >0.5271</td>\n",
       "      <td id=\"T_c7208_row7_col5\" class=\"data row7 col5\" >6.1416</td>\n",
       "    </tr>\n",
       "    <tr>\n",
       "      <th id=\"T_c7208_level0_row8\" class=\"row_heading level0 row8\" >8</th>\n",
       "      <td id=\"T_c7208_row8_col0\" class=\"data row8 col0\" >2.1337</td>\n",
       "      <td id=\"T_c7208_row8_col1\" class=\"data row8 col1\" >7.5090</td>\n",
       "      <td id=\"T_c7208_row8_col2\" class=\"data row8 col2\" >2.7402</td>\n",
       "      <td id=\"T_c7208_row8_col3\" class=\"data row8 col3\" >0.4822</td>\n",
       "      <td id=\"T_c7208_row8_col4\" class=\"data row8 col4\" >0.5302</td>\n",
       "      <td id=\"T_c7208_row8_col5\" class=\"data row8 col5\" >2.6265</td>\n",
       "    </tr>\n",
       "    <tr>\n",
       "      <th id=\"T_c7208_level0_row9\" class=\"row_heading level0 row9\" >9</th>\n",
       "      <td id=\"T_c7208_row9_col0\" class=\"data row9 col0\" >2.1341</td>\n",
       "      <td id=\"T_c7208_row9_col1\" class=\"data row9 col1\" >7.5225</td>\n",
       "      <td id=\"T_c7208_row9_col2\" class=\"data row9 col2\" >2.7427</td>\n",
       "      <td id=\"T_c7208_row9_col3\" class=\"data row9 col3\" >0.4580</td>\n",
       "      <td id=\"T_c7208_row9_col4\" class=\"data row9 col4\" >0.5375</td>\n",
       "      <td id=\"T_c7208_row9_col5\" class=\"data row9 col5\" >33.6567</td>\n",
       "    </tr>\n",
       "    <tr>\n",
       "      <th id=\"T_c7208_level0_row10\" class=\"row_heading level0 row10\" >Mean</th>\n",
       "      <td id=\"T_c7208_row10_col0\" class=\"data row10 col0\" >2.0658</td>\n",
       "      <td id=\"T_c7208_row10_col1\" class=\"data row10 col1\" >7.0936</td>\n",
       "      <td id=\"T_c7208_row10_col2\" class=\"data row10 col2\" >2.6623</td>\n",
       "      <td id=\"T_c7208_row10_col3\" class=\"data row10 col3\" >0.4677</td>\n",
       "      <td id=\"T_c7208_row10_col4\" class=\"data row10 col4\" >0.5060</td>\n",
       "      <td id=\"T_c7208_row10_col5\" class=\"data row10 col5\" >7.3628</td>\n",
       "    </tr>\n",
       "    <tr>\n",
       "      <th id=\"T_c7208_level0_row11\" class=\"row_heading level0 row11\" >Std</th>\n",
       "      <td id=\"T_c7208_row11_col0\" class=\"data row11 col0\" >0.0519</td>\n",
       "      <td id=\"T_c7208_row11_col1\" class=\"data row11 col1\" >0.3993</td>\n",
       "      <td id=\"T_c7208_row11_col2\" class=\"data row11 col2\" >0.0754</td>\n",
       "      <td id=\"T_c7208_row11_col3\" class=\"data row11 col3\" >0.0203</td>\n",
       "      <td id=\"T_c7208_row11_col4\" class=\"data row11 col4\" >0.0251</td>\n",
       "      <td id=\"T_c7208_row11_col5\" class=\"data row11 col5\" >8.8951</td>\n",
       "    </tr>\n",
       "  </tbody>\n",
       "</table>\n"
      ],
      "text/plain": [
       "<pandas.io.formats.style.Styler at 0x249588a7b50>"
      ]
     },
     "metadata": {},
     "output_type": "display_data"
    },
    {
     "data": {
      "text/html": [],
      "text/plain": [
       "<IPython.core.display.HTML object>"
      ]
     },
     "metadata": {},
     "output_type": "display_data"
    }
   ],
   "source": [
    "lightgbm = create_model('lightgbm')"
   ]
  },
  {
   "cell_type": "markdown",
   "metadata": {},
   "source": [
    "### 4.7.2 Random Forest"
   ]
  },
  {
   "cell_type": "code",
   "execution_count": 10,
   "metadata": {
    "scrolled": false
   },
   "outputs": [
    {
     "data": {
      "text/html": [],
      "text/plain": [
       "<IPython.core.display.HTML object>"
      ]
     },
     "metadata": {},
     "output_type": "display_data"
    },
    {
     "data": {
      "text/html": [
       "<style type=\"text/css\">\n",
       "#T_ba3dc_row10_col0, #T_ba3dc_row10_col1, #T_ba3dc_row10_col2, #T_ba3dc_row10_col3, #T_ba3dc_row10_col4, #T_ba3dc_row10_col5 {\n",
       "  background: yellow;\n",
       "}\n",
       "</style>\n",
       "<table id=\"T_ba3dc\">\n",
       "  <thead>\n",
       "    <tr>\n",
       "      <th class=\"blank level0\" >&nbsp;</th>\n",
       "      <th id=\"T_ba3dc_level0_col0\" class=\"col_heading level0 col0\" >MAE</th>\n",
       "      <th id=\"T_ba3dc_level0_col1\" class=\"col_heading level0 col1\" >MSE</th>\n",
       "      <th id=\"T_ba3dc_level0_col2\" class=\"col_heading level0 col2\" >RMSE</th>\n",
       "      <th id=\"T_ba3dc_level0_col3\" class=\"col_heading level0 col3\" >R2</th>\n",
       "      <th id=\"T_ba3dc_level0_col4\" class=\"col_heading level0 col4\" >RMSLE</th>\n",
       "      <th id=\"T_ba3dc_level0_col5\" class=\"col_heading level0 col5\" >MAPE</th>\n",
       "    </tr>\n",
       "    <tr>\n",
       "      <th class=\"index_name level0\" >Fold</th>\n",
       "      <th class=\"blank col0\" >&nbsp;</th>\n",
       "      <th class=\"blank col1\" >&nbsp;</th>\n",
       "      <th class=\"blank col2\" >&nbsp;</th>\n",
       "      <th class=\"blank col3\" >&nbsp;</th>\n",
       "      <th class=\"blank col4\" >&nbsp;</th>\n",
       "      <th class=\"blank col5\" >&nbsp;</th>\n",
       "    </tr>\n",
       "  </thead>\n",
       "  <tbody>\n",
       "    <tr>\n",
       "      <th id=\"T_ba3dc_level0_row0\" class=\"row_heading level0 row0\" >0</th>\n",
       "      <td id=\"T_ba3dc_row0_col0\" class=\"data row0 col0\" >2.0031</td>\n",
       "      <td id=\"T_ba3dc_row0_col1\" class=\"data row0 col1\" >6.7537</td>\n",
       "      <td id=\"T_ba3dc_row0_col2\" class=\"data row0 col2\" >2.5988</td>\n",
       "      <td id=\"T_ba3dc_row0_col3\" class=\"data row0 col3\" >0.4933</td>\n",
       "      <td id=\"T_ba3dc_row0_col4\" class=\"data row0 col4\" >0.4719</td>\n",
       "      <td id=\"T_ba3dc_row0_col5\" class=\"data row0 col5\" >3.6188</td>\n",
       "    </tr>\n",
       "    <tr>\n",
       "      <th id=\"T_ba3dc_level0_row1\" class=\"row_heading level0 row1\" >1</th>\n",
       "      <td id=\"T_ba3dc_row1_col0\" class=\"data row1 col0\" >1.9309</td>\n",
       "      <td id=\"T_ba3dc_row1_col1\" class=\"data row1 col1\" >6.2685</td>\n",
       "      <td id=\"T_ba3dc_row1_col2\" class=\"data row1 col2\" >2.5037</td>\n",
       "      <td id=\"T_ba3dc_row1_col3\" class=\"data row1 col3\" >0.4657</td>\n",
       "      <td id=\"T_ba3dc_row1_col4\" class=\"data row1 col4\" >0.5061</td>\n",
       "      <td id=\"T_ba3dc_row1_col5\" class=\"data row1 col5\" >3.5052</td>\n",
       "    </tr>\n",
       "    <tr>\n",
       "      <th id=\"T_ba3dc_level0_row2\" class=\"row_heading level0 row2\" >2</th>\n",
       "      <td id=\"T_ba3dc_row2_col0\" class=\"data row2 col0\" >2.0620</td>\n",
       "      <td id=\"T_ba3dc_row2_col1\" class=\"data row2 col1\" >6.8887</td>\n",
       "      <td id=\"T_ba3dc_row2_col2\" class=\"data row2 col2\" >2.6246</td>\n",
       "      <td id=\"T_ba3dc_row2_col3\" class=\"data row2 col3\" >0.5329</td>\n",
       "      <td id=\"T_ba3dc_row2_col4\" class=\"data row2 col4\" >0.4925</td>\n",
       "      <td id=\"T_ba3dc_row2_col5\" class=\"data row2 col5\" >7.2827</td>\n",
       "    </tr>\n",
       "    <tr>\n",
       "      <th id=\"T_ba3dc_level0_row3\" class=\"row_heading level0 row3\" >3</th>\n",
       "      <td id=\"T_ba3dc_row3_col0\" class=\"data row3 col0\" >1.9895</td>\n",
       "      <td id=\"T_ba3dc_row3_col1\" class=\"data row3 col1\" >6.4351</td>\n",
       "      <td id=\"T_ba3dc_row3_col2\" class=\"data row3 col2\" >2.5367</td>\n",
       "      <td id=\"T_ba3dc_row3_col3\" class=\"data row3 col3\" >0.4599</td>\n",
       "      <td id=\"T_ba3dc_row3_col4\" class=\"data row3 col4\" >0.4763</td>\n",
       "      <td id=\"T_ba3dc_row3_col5\" class=\"data row3 col5\" >6.8373</td>\n",
       "    </tr>\n",
       "    <tr>\n",
       "      <th id=\"T_ba3dc_level0_row4\" class=\"row_heading level0 row4\" >4</th>\n",
       "      <td id=\"T_ba3dc_row4_col0\" class=\"data row4 col0\" >2.0254</td>\n",
       "      <td id=\"T_ba3dc_row4_col1\" class=\"data row4 col1\" >6.5301</td>\n",
       "      <td id=\"T_ba3dc_row4_col2\" class=\"data row4 col2\" >2.5554</td>\n",
       "      <td id=\"T_ba3dc_row4_col3\" class=\"data row4 col3\" >0.4560</td>\n",
       "      <td id=\"T_ba3dc_row4_col4\" class=\"data row4 col4\" >0.4852</td>\n",
       "      <td id=\"T_ba3dc_row4_col5\" class=\"data row4 col5\" >3.8398</td>\n",
       "    </tr>\n",
       "    <tr>\n",
       "      <th id=\"T_ba3dc_level0_row5\" class=\"row_heading level0 row5\" >5</th>\n",
       "      <td id=\"T_ba3dc_row5_col0\" class=\"data row5 col0\" >2.0810</td>\n",
       "      <td id=\"T_ba3dc_row5_col1\" class=\"data row5 col1\" >7.3447</td>\n",
       "      <td id=\"T_ba3dc_row5_col2\" class=\"data row5 col2\" >2.7101</td>\n",
       "      <td id=\"T_ba3dc_row5_col3\" class=\"data row5 col3\" >0.4687</td>\n",
       "      <td id=\"T_ba3dc_row5_col4\" class=\"data row5 col4\" >0.5282</td>\n",
       "      <td id=\"T_ba3dc_row5_col5\" class=\"data row5 col5\" >3.4494</td>\n",
       "    </tr>\n",
       "    <tr>\n",
       "      <th id=\"T_ba3dc_level0_row6\" class=\"row_heading level0 row6\" >6</th>\n",
       "      <td id=\"T_ba3dc_row6_col0\" class=\"data row6 col0\" >2.0831</td>\n",
       "      <td id=\"T_ba3dc_row6_col1\" class=\"data row6 col1\" >7.1821</td>\n",
       "      <td id=\"T_ba3dc_row6_col2\" class=\"data row6 col2\" >2.6799</td>\n",
       "      <td id=\"T_ba3dc_row6_col3\" class=\"data row6 col3\" >0.4770</td>\n",
       "      <td id=\"T_ba3dc_row6_col4\" class=\"data row6 col4\" >0.5333</td>\n",
       "      <td id=\"T_ba3dc_row6_col5\" class=\"data row6 col5\" >3.5645</td>\n",
       "    </tr>\n",
       "    <tr>\n",
       "      <th id=\"T_ba3dc_level0_row7\" class=\"row_heading level0 row7\" >7</th>\n",
       "      <td id=\"T_ba3dc_row7_col0\" class=\"data row7 col0\" >2.1143</td>\n",
       "      <td id=\"T_ba3dc_row7_col1\" class=\"data row7 col1\" >7.5045</td>\n",
       "      <td id=\"T_ba3dc_row7_col2\" class=\"data row7 col2\" >2.7394</td>\n",
       "      <td id=\"T_ba3dc_row7_col3\" class=\"data row7 col3\" >0.4603</td>\n",
       "      <td id=\"T_ba3dc_row7_col4\" class=\"data row7 col4\" >0.5345</td>\n",
       "      <td id=\"T_ba3dc_row7_col5\" class=\"data row7 col5\" >6.2702</td>\n",
       "    </tr>\n",
       "    <tr>\n",
       "      <th id=\"T_ba3dc_level0_row8\" class=\"row_heading level0 row8\" >8</th>\n",
       "      <td id=\"T_ba3dc_row8_col0\" class=\"data row8 col0\" >2.1450</td>\n",
       "      <td id=\"T_ba3dc_row8_col1\" class=\"data row8 col1\" >7.5385</td>\n",
       "      <td id=\"T_ba3dc_row8_col2\" class=\"data row8 col2\" >2.7456</td>\n",
       "      <td id=\"T_ba3dc_row8_col3\" class=\"data row8 col3\" >0.4802</td>\n",
       "      <td id=\"T_ba3dc_row8_col4\" class=\"data row8 col4\" >0.5396</td>\n",
       "      <td id=\"T_ba3dc_row8_col5\" class=\"data row8 col5\" >2.8001</td>\n",
       "    </tr>\n",
       "    <tr>\n",
       "      <th id=\"T_ba3dc_level0_row9\" class=\"row_heading level0 row9\" >9</th>\n",
       "      <td id=\"T_ba3dc_row9_col0\" class=\"data row9 col0\" >2.1548</td>\n",
       "      <td id=\"T_ba3dc_row9_col1\" class=\"data row9 col1\" >7.7930</td>\n",
       "      <td id=\"T_ba3dc_row9_col2\" class=\"data row9 col2\" >2.7916</td>\n",
       "      <td id=\"T_ba3dc_row9_col3\" class=\"data row9 col3\" >0.4385</td>\n",
       "      <td id=\"T_ba3dc_row9_col4\" class=\"data row9 col4\" >0.5504</td>\n",
       "      <td id=\"T_ba3dc_row9_col5\" class=\"data row9 col5\" >33.2569</td>\n",
       "    </tr>\n",
       "    <tr>\n",
       "      <th id=\"T_ba3dc_level0_row10\" class=\"row_heading level0 row10\" >Mean</th>\n",
       "      <td id=\"T_ba3dc_row10_col0\" class=\"data row10 col0\" >2.0589</td>\n",
       "      <td id=\"T_ba3dc_row10_col1\" class=\"data row10 col1\" >7.0239</td>\n",
       "      <td id=\"T_ba3dc_row10_col2\" class=\"data row10 col2\" >2.6486</td>\n",
       "      <td id=\"T_ba3dc_row10_col3\" class=\"data row10 col3\" >0.4732</td>\n",
       "      <td id=\"T_ba3dc_row10_col4\" class=\"data row10 col4\" >0.5118</td>\n",
       "      <td id=\"T_ba3dc_row10_col5\" class=\"data row10 col5\" >7.4425</td>\n",
       "    </tr>\n",
       "    <tr>\n",
       "      <th id=\"T_ba3dc_level0_row11\" class=\"row_heading level0 row11\" >Std</th>\n",
       "      <td id=\"T_ba3dc_row11_col0\" class=\"data row11 col0\" >0.0680</td>\n",
       "      <td id=\"T_ba3dc_row11_col1\" class=\"data row11 col1\" >0.4968</td>\n",
       "      <td id=\"T_ba3dc_row11_col2\" class=\"data row11 col2\" >0.0939</td>\n",
       "      <td id=\"T_ba3dc_row11_col3\" class=\"data row11 col3\" >0.0244</td>\n",
       "      <td id=\"T_ba3dc_row11_col4\" class=\"data row11 col4\" >0.0273</td>\n",
       "      <td id=\"T_ba3dc_row11_col5\" class=\"data row11 col5\" >8.7395</td>\n",
       "    </tr>\n",
       "  </tbody>\n",
       "</table>\n"
      ],
      "text/plain": [
       "<pandas.io.formats.style.Styler at 0x249588a7850>"
      ]
     },
     "metadata": {},
     "output_type": "display_data"
    },
    {
     "data": {
      "text/html": [],
      "text/plain": [
       "<IPython.core.display.HTML object>"
      ]
     },
     "metadata": {},
     "output_type": "display_data"
    }
   ],
   "source": [
    "rf = create_model('rf')"
   ]
  },
  {
   "cell_type": "markdown",
   "metadata": {},
   "source": [
    "### 4.7.3 Extra Trees Regressor"
   ]
  },
  {
   "cell_type": "code",
   "execution_count": 11,
   "metadata": {},
   "outputs": [
    {
     "data": {
      "text/html": [],
      "text/plain": [
       "<IPython.core.display.HTML object>"
      ]
     },
     "metadata": {},
     "output_type": "display_data"
    },
    {
     "data": {
      "text/html": [
       "<style type=\"text/css\">\n",
       "#T_2c73e_row10_col0, #T_2c73e_row10_col1, #T_2c73e_row10_col2, #T_2c73e_row10_col3, #T_2c73e_row10_col4, #T_2c73e_row10_col5 {\n",
       "  background: yellow;\n",
       "}\n",
       "</style>\n",
       "<table id=\"T_2c73e\">\n",
       "  <thead>\n",
       "    <tr>\n",
       "      <th class=\"blank level0\" >&nbsp;</th>\n",
       "      <th id=\"T_2c73e_level0_col0\" class=\"col_heading level0 col0\" >MAE</th>\n",
       "      <th id=\"T_2c73e_level0_col1\" class=\"col_heading level0 col1\" >MSE</th>\n",
       "      <th id=\"T_2c73e_level0_col2\" class=\"col_heading level0 col2\" >RMSE</th>\n",
       "      <th id=\"T_2c73e_level0_col3\" class=\"col_heading level0 col3\" >R2</th>\n",
       "      <th id=\"T_2c73e_level0_col4\" class=\"col_heading level0 col4\" >RMSLE</th>\n",
       "      <th id=\"T_2c73e_level0_col5\" class=\"col_heading level0 col5\" >MAPE</th>\n",
       "    </tr>\n",
       "    <tr>\n",
       "      <th class=\"index_name level0\" >Fold</th>\n",
       "      <th class=\"blank col0\" >&nbsp;</th>\n",
       "      <th class=\"blank col1\" >&nbsp;</th>\n",
       "      <th class=\"blank col2\" >&nbsp;</th>\n",
       "      <th class=\"blank col3\" >&nbsp;</th>\n",
       "      <th class=\"blank col4\" >&nbsp;</th>\n",
       "      <th class=\"blank col5\" >&nbsp;</th>\n",
       "    </tr>\n",
       "  </thead>\n",
       "  <tbody>\n",
       "    <tr>\n",
       "      <th id=\"T_2c73e_level0_row0\" class=\"row_heading level0 row0\" >0</th>\n",
       "      <td id=\"T_2c73e_row0_col0\" class=\"data row0 col0\" >1.9642</td>\n",
       "      <td id=\"T_2c73e_row0_col1\" class=\"data row0 col1\" >6.5235</td>\n",
       "      <td id=\"T_2c73e_row0_col2\" class=\"data row0 col2\" >2.5541</td>\n",
       "      <td id=\"T_2c73e_row0_col3\" class=\"data row0 col3\" >0.5105</td>\n",
       "      <td id=\"T_2c73e_row0_col4\" class=\"data row0 col4\" >0.4693</td>\n",
       "      <td id=\"T_2c73e_row0_col5\" class=\"data row0 col5\" >3.5912</td>\n",
       "    </tr>\n",
       "    <tr>\n",
       "      <th id=\"T_2c73e_level0_row1\" class=\"row_heading level0 row1\" >1</th>\n",
       "      <td id=\"T_2c73e_row1_col0\" class=\"data row1 col0\" >1.9020</td>\n",
       "      <td id=\"T_2c73e_row1_col1\" class=\"data row1 col1\" >6.0668</td>\n",
       "      <td id=\"T_2c73e_row1_col2\" class=\"data row1 col2\" >2.4631</td>\n",
       "      <td id=\"T_2c73e_row1_col3\" class=\"data row1 col3\" >0.4829</td>\n",
       "      <td id=\"T_2c73e_row1_col4\" class=\"data row1 col4\" >0.4973</td>\n",
       "      <td id=\"T_2c73e_row1_col5\" class=\"data row1 col5\" >3.4478</td>\n",
       "    </tr>\n",
       "    <tr>\n",
       "      <th id=\"T_2c73e_level0_row2\" class=\"row_heading level0 row2\" >2</th>\n",
       "      <td id=\"T_2c73e_row2_col0\" class=\"data row2 col0\" >2.0888</td>\n",
       "      <td id=\"T_2c73e_row2_col1\" class=\"data row2 col1\" >7.0132</td>\n",
       "      <td id=\"T_2c73e_row2_col2\" class=\"data row2 col2\" >2.6482</td>\n",
       "      <td id=\"T_2c73e_row2_col3\" class=\"data row2 col3\" >0.5245</td>\n",
       "      <td id=\"T_2c73e_row2_col4\" class=\"data row2 col4\" >0.5004</td>\n",
       "      <td id=\"T_2c73e_row2_col5\" class=\"data row2 col5\" >7.5812</td>\n",
       "    </tr>\n",
       "    <tr>\n",
       "      <th id=\"T_2c73e_level0_row3\" class=\"row_heading level0 row3\" >3</th>\n",
       "      <td id=\"T_2c73e_row3_col0\" class=\"data row3 col0\" >1.9882</td>\n",
       "      <td id=\"T_2c73e_row3_col1\" class=\"data row3 col1\" >6.4119</td>\n",
       "      <td id=\"T_2c73e_row3_col2\" class=\"data row3 col2\" >2.5322</td>\n",
       "      <td id=\"T_2c73e_row3_col3\" class=\"data row3 col3\" >0.4619</td>\n",
       "      <td id=\"T_2c73e_row3_col4\" class=\"data row3 col4\" >0.4756</td>\n",
       "      <td id=\"T_2c73e_row3_col5\" class=\"data row3 col5\" >6.7728</td>\n",
       "    </tr>\n",
       "    <tr>\n",
       "      <th id=\"T_2c73e_level0_row4\" class=\"row_heading level0 row4\" >4</th>\n",
       "      <td id=\"T_2c73e_row4_col0\" class=\"data row4 col0\" >1.9936</td>\n",
       "      <td id=\"T_2c73e_row4_col1\" class=\"data row4 col1\" >6.4081</td>\n",
       "      <td id=\"T_2c73e_row4_col2\" class=\"data row4 col2\" >2.5314</td>\n",
       "      <td id=\"T_2c73e_row4_col3\" class=\"data row4 col3\" >0.4661</td>\n",
       "      <td id=\"T_2c73e_row4_col4\" class=\"data row4 col4\" >0.4799</td>\n",
       "      <td id=\"T_2c73e_row4_col5\" class=\"data row4 col5\" >3.8300</td>\n",
       "    </tr>\n",
       "    <tr>\n",
       "      <th id=\"T_2c73e_level0_row5\" class=\"row_heading level0 row5\" >5</th>\n",
       "      <td id=\"T_2c73e_row5_col0\" class=\"data row5 col0\" >2.0790</td>\n",
       "      <td id=\"T_2c73e_row5_col1\" class=\"data row5 col1\" >7.3313</td>\n",
       "      <td id=\"T_2c73e_row5_col2\" class=\"data row5 col2\" >2.7076</td>\n",
       "      <td id=\"T_2c73e_row5_col3\" class=\"data row5 col3\" >0.4696</td>\n",
       "      <td id=\"T_2c73e_row5_col4\" class=\"data row5 col4\" >0.5286</td>\n",
       "      <td id=\"T_2c73e_row5_col5\" class=\"data row5 col5\" >3.3481</td>\n",
       "    </tr>\n",
       "    <tr>\n",
       "      <th id=\"T_2c73e_level0_row6\" class=\"row_heading level0 row6\" >6</th>\n",
       "      <td id=\"T_2c73e_row6_col0\" class=\"data row6 col0\" >2.0834</td>\n",
       "      <td id=\"T_2c73e_row6_col1\" class=\"data row6 col1\" >7.1727</td>\n",
       "      <td id=\"T_2c73e_row6_col2\" class=\"data row6 col2\" >2.6782</td>\n",
       "      <td id=\"T_2c73e_row6_col3\" class=\"data row6 col3\" >0.4777</td>\n",
       "      <td id=\"T_2c73e_row6_col4\" class=\"data row6 col4\" >0.5324</td>\n",
       "      <td id=\"T_2c73e_row6_col5\" class=\"data row6 col5\" >3.5771</td>\n",
       "    </tr>\n",
       "    <tr>\n",
       "      <th id=\"T_2c73e_level0_row7\" class=\"row_heading level0 row7\" >7</th>\n",
       "      <td id=\"T_2c73e_row7_col0\" class=\"data row7 col0\" >2.1089</td>\n",
       "      <td id=\"T_2c73e_row7_col1\" class=\"data row7 col1\" >7.4800</td>\n",
       "      <td id=\"T_2c73e_row7_col2\" class=\"data row7 col2\" >2.7350</td>\n",
       "      <td id=\"T_2c73e_row7_col3\" class=\"data row7 col3\" >0.4620</td>\n",
       "      <td id=\"T_2c73e_row7_col4\" class=\"data row7 col4\" >0.5349</td>\n",
       "      <td id=\"T_2c73e_row7_col5\" class=\"data row7 col5\" >6.2872</td>\n",
       "    </tr>\n",
       "    <tr>\n",
       "      <th id=\"T_2c73e_level0_row8\" class=\"row_heading level0 row8\" >8</th>\n",
       "      <td id=\"T_2c73e_row8_col0\" class=\"data row8 col0\" >2.1186</td>\n",
       "      <td id=\"T_2c73e_row8_col1\" class=\"data row8 col1\" >7.3721</td>\n",
       "      <td id=\"T_2c73e_row8_col2\" class=\"data row8 col2\" >2.7152</td>\n",
       "      <td id=\"T_2c73e_row8_col3\" class=\"data row8 col3\" >0.4917</td>\n",
       "      <td id=\"T_2c73e_row8_col4\" class=\"data row8 col4\" >0.5307</td>\n",
       "      <td id=\"T_2c73e_row8_col5\" class=\"data row8 col5\" >2.7320</td>\n",
       "    </tr>\n",
       "    <tr>\n",
       "      <th id=\"T_2c73e_level0_row9\" class=\"row_heading level0 row9\" >9</th>\n",
       "      <td id=\"T_2c73e_row9_col0\" class=\"data row9 col0\" >2.1413</td>\n",
       "      <td id=\"T_2c73e_row9_col1\" class=\"data row9 col1\" >7.7073</td>\n",
       "      <td id=\"T_2c73e_row9_col2\" class=\"data row9 col2\" >2.7762</td>\n",
       "      <td id=\"T_2c73e_row9_col3\" class=\"data row9 col3\" >0.4447</td>\n",
       "      <td id=\"T_2c73e_row9_col4\" class=\"data row9 col4\" >0.5490</td>\n",
       "      <td id=\"T_2c73e_row9_col5\" class=\"data row9 col5\" >31.3447</td>\n",
       "    </tr>\n",
       "    <tr>\n",
       "      <th id=\"T_2c73e_level0_row10\" class=\"row_heading level0 row10\" >Mean</th>\n",
       "      <td id=\"T_2c73e_row10_col0\" class=\"data row10 col0\" >2.0468</td>\n",
       "      <td id=\"T_2c73e_row10_col1\" class=\"data row10 col1\" >6.9487</td>\n",
       "      <td id=\"T_2c73e_row10_col2\" class=\"data row10 col2\" >2.6341</td>\n",
       "      <td id=\"T_2c73e_row10_col3\" class=\"data row10 col3\" >0.4792</td>\n",
       "      <td id=\"T_2c73e_row10_col4\" class=\"data row10 col4\" >0.5098</td>\n",
       "      <td id=\"T_2c73e_row10_col5\" class=\"data row10 col5\" >7.2512</td>\n",
       "    </tr>\n",
       "    <tr>\n",
       "      <th id=\"T_2c73e_level0_row11\" class=\"row_heading level0 row11\" >Std</th>\n",
       "      <td id=\"T_2c73e_row11_col0\" class=\"data row11 col0\" >0.0749</td>\n",
       "      <td id=\"T_2c73e_row11_col1\" class=\"data row11 col1\" >0.5269</td>\n",
       "      <td id=\"T_2c73e_row11_col2\" class=\"data row11 col2\" >0.1005</td>\n",
       "      <td id=\"T_2c73e_row11_col3\" class=\"data row11 col3\" >0.0229</td>\n",
       "      <td id=\"T_2c73e_row11_col4\" class=\"data row11 col4\" >0.0272</td>\n",
       "      <td id=\"T_2c73e_row11_col5\" class=\"data row11 col5\" >8.1883</td>\n",
       "    </tr>\n",
       "  </tbody>\n",
       "</table>\n"
      ],
      "text/plain": [
       "<pandas.io.formats.style.Styler at 0x249588f1940>"
      ]
     },
     "metadata": {},
     "output_type": "display_data"
    },
    {
     "data": {
      "text/html": [],
      "text/plain": [
       "<IPython.core.display.HTML object>"
      ]
     },
     "metadata": {},
     "output_type": "display_data"
    }
   ],
   "source": [
    "et = create_model('et')"
   ]
  },
  {
   "cell_type": "markdown",
   "metadata": {},
   "source": [
    "### 4.7.4 Gradient Boosting Regressor"
   ]
  },
  {
   "cell_type": "code",
   "execution_count": 12,
   "metadata": {},
   "outputs": [
    {
     "data": {
      "text/html": [],
      "text/plain": [
       "<IPython.core.display.HTML object>"
      ]
     },
     "metadata": {},
     "output_type": "display_data"
    },
    {
     "data": {
      "text/html": [
       "<style type=\"text/css\">\n",
       "#T_f700d_row10_col0, #T_f700d_row10_col1, #T_f700d_row10_col2, #T_f700d_row10_col3, #T_f700d_row10_col4, #T_f700d_row10_col5 {\n",
       "  background: yellow;\n",
       "}\n",
       "</style>\n",
       "<table id=\"T_f700d\">\n",
       "  <thead>\n",
       "    <tr>\n",
       "      <th class=\"blank level0\" >&nbsp;</th>\n",
       "      <th id=\"T_f700d_level0_col0\" class=\"col_heading level0 col0\" >MAE</th>\n",
       "      <th id=\"T_f700d_level0_col1\" class=\"col_heading level0 col1\" >MSE</th>\n",
       "      <th id=\"T_f700d_level0_col2\" class=\"col_heading level0 col2\" >RMSE</th>\n",
       "      <th id=\"T_f700d_level0_col3\" class=\"col_heading level0 col3\" >R2</th>\n",
       "      <th id=\"T_f700d_level0_col4\" class=\"col_heading level0 col4\" >RMSLE</th>\n",
       "      <th id=\"T_f700d_level0_col5\" class=\"col_heading level0 col5\" >MAPE</th>\n",
       "    </tr>\n",
       "    <tr>\n",
       "      <th class=\"index_name level0\" >Fold</th>\n",
       "      <th class=\"blank col0\" >&nbsp;</th>\n",
       "      <th class=\"blank col1\" >&nbsp;</th>\n",
       "      <th class=\"blank col2\" >&nbsp;</th>\n",
       "      <th class=\"blank col3\" >&nbsp;</th>\n",
       "      <th class=\"blank col4\" >&nbsp;</th>\n",
       "      <th class=\"blank col5\" >&nbsp;</th>\n",
       "    </tr>\n",
       "  </thead>\n",
       "  <tbody>\n",
       "    <tr>\n",
       "      <th id=\"T_f700d_level0_row0\" class=\"row_heading level0 row0\" >0</th>\n",
       "      <td id=\"T_f700d_row0_col0\" class=\"data row0 col0\" >2.0023</td>\n",
       "      <td id=\"T_f700d_row0_col1\" class=\"data row0 col1\" >6.8068</td>\n",
       "      <td id=\"T_f700d_row0_col2\" class=\"data row0 col2\" >2.6090</td>\n",
       "      <td id=\"T_f700d_row0_col3\" class=\"data row0 col3\" >0.4893</td>\n",
       "      <td id=\"T_f700d_row0_col4\" class=\"data row0 col4\" >0.4735</td>\n",
       "      <td id=\"T_f700d_row0_col5\" class=\"data row0 col5\" >3.5199</td>\n",
       "    </tr>\n",
       "    <tr>\n",
       "      <th id=\"T_f700d_level0_row1\" class=\"row_heading level0 row1\" >1</th>\n",
       "      <td id=\"T_f700d_row1_col0\" class=\"data row1 col0\" >2.0042</td>\n",
       "      <td id=\"T_f700d_row1_col1\" class=\"data row1 col1\" >6.4991</td>\n",
       "      <td id=\"T_f700d_row1_col2\" class=\"data row1 col2\" >2.5493</td>\n",
       "      <td id=\"T_f700d_row1_col3\" class=\"data row1 col3\" >0.4460</td>\n",
       "      <td id=\"T_f700d_row1_col4\" class=\"data row1 col4\" >0.5165</td>\n",
       "      <td id=\"T_f700d_row1_col5\" class=\"data row1 col5\" >3.5466</td>\n",
       "    </tr>\n",
       "    <tr>\n",
       "      <th id=\"T_f700d_level0_row2\" class=\"row_heading level0 row2\" >2</th>\n",
       "      <td id=\"T_f700d_row2_col0\" class=\"data row2 col0\" >2.1084</td>\n",
       "      <td id=\"T_f700d_row2_col1\" class=\"data row2 col1\" >7.0831</td>\n",
       "      <td id=\"T_f700d_row2_col2\" class=\"data row2 col2\" >2.6614</td>\n",
       "      <td id=\"T_f700d_row2_col3\" class=\"data row2 col3\" >0.5197</td>\n",
       "      <td id=\"T_f700d_row2_col4\" class=\"data row2 col4\" >0.4922</td>\n",
       "      <td id=\"T_f700d_row2_col5\" class=\"data row2 col5\" >7.6741</td>\n",
       "    </tr>\n",
       "    <tr>\n",
       "      <th id=\"T_f700d_level0_row3\" class=\"row_heading level0 row3\" >3</th>\n",
       "      <td id=\"T_f700d_row3_col0\" class=\"data row3 col0\" >2.0049</td>\n",
       "      <td id=\"T_f700d_row3_col1\" class=\"data row3 col1\" >6.4947</td>\n",
       "      <td id=\"T_f700d_row3_col2\" class=\"data row3 col2\" >2.5485</td>\n",
       "      <td id=\"T_f700d_row3_col3\" class=\"data row3 col3\" >0.4549</td>\n",
       "      <td id=\"T_f700d_row3_col4\" class=\"data row3 col4\" >0.4803</td>\n",
       "      <td id=\"T_f700d_row3_col5\" class=\"data row3 col5\" >6.6396</td>\n",
       "    </tr>\n",
       "    <tr>\n",
       "      <th id=\"T_f700d_level0_row4\" class=\"row_heading level0 row4\" >4</th>\n",
       "      <td id=\"T_f700d_row4_col0\" class=\"data row4 col0\" >2.0305</td>\n",
       "      <td id=\"T_f700d_row4_col1\" class=\"data row4 col1\" >6.5685</td>\n",
       "      <td id=\"T_f700d_row4_col2\" class=\"data row4 col2\" >2.5629</td>\n",
       "      <td id=\"T_f700d_row4_col3\" class=\"data row4 col3\" >0.4528</td>\n",
       "      <td id=\"T_f700d_row4_col4\" class=\"data row4 col4\" >0.4882</td>\n",
       "      <td id=\"T_f700d_row4_col5\" class=\"data row4 col5\" >3.9832</td>\n",
       "    </tr>\n",
       "    <tr>\n",
       "      <th id=\"T_f700d_level0_row5\" class=\"row_heading level0 row5\" >5</th>\n",
       "      <td id=\"T_f700d_row5_col0\" class=\"data row5 col0\" >2.0993</td>\n",
       "      <td id=\"T_f700d_row5_col1\" class=\"data row5 col1\" >7.4868</td>\n",
       "      <td id=\"T_f700d_row5_col2\" class=\"data row5 col2\" >2.7362</td>\n",
       "      <td id=\"T_f700d_row5_col3\" class=\"data row5 col3\" >0.4584</td>\n",
       "      <td id=\"T_f700d_row5_col4\" class=\"data row5 col4\" >0.5278</td>\n",
       "      <td id=\"T_f700d_row5_col5\" class=\"data row5 col5\" >3.3891</td>\n",
       "    </tr>\n",
       "    <tr>\n",
       "      <th id=\"T_f700d_level0_row6\" class=\"row_heading level0 row6\" >6</th>\n",
       "      <td id=\"T_f700d_row6_col0\" class=\"data row6 col0\" >2.1280</td>\n",
       "      <td id=\"T_f700d_row6_col1\" class=\"data row6 col1\" >7.2734</td>\n",
       "      <td id=\"T_f700d_row6_col2\" class=\"data row6 col2\" >2.6969</td>\n",
       "      <td id=\"T_f700d_row6_col3\" class=\"data row6 col3\" >0.4704</td>\n",
       "      <td id=\"T_f700d_row6_col4\" class=\"data row6 col4\" >0.5350</td>\n",
       "      <td id=\"T_f700d_row6_col5\" class=\"data row6 col5\" >3.5973</td>\n",
       "    </tr>\n",
       "    <tr>\n",
       "      <th id=\"T_f700d_level0_row7\" class=\"row_heading level0 row7\" >7</th>\n",
       "      <td id=\"T_f700d_row7_col0\" class=\"data row7 col0\" >2.1317</td>\n",
       "      <td id=\"T_f700d_row7_col1\" class=\"data row7 col1\" >7.5002</td>\n",
       "      <td id=\"T_f700d_row7_col2\" class=\"data row7 col2\" >2.7387</td>\n",
       "      <td id=\"T_f700d_row7_col3\" class=\"data row7 col3\" >0.4606</td>\n",
       "      <td id=\"T_f700d_row7_col4\" class=\"data row7 col4\" >0.5310</td>\n",
       "      <td id=\"T_f700d_row7_col5\" class=\"data row7 col5\" >6.1700</td>\n",
       "    </tr>\n",
       "    <tr>\n",
       "      <th id=\"T_f700d_level0_row8\" class=\"row_heading level0 row8\" >8</th>\n",
       "      <td id=\"T_f700d_row8_col0\" class=\"data row8 col0\" >2.1319</td>\n",
       "      <td id=\"T_f700d_row8_col1\" class=\"data row8 col1\" >7.5202</td>\n",
       "      <td id=\"T_f700d_row8_col2\" class=\"data row8 col2\" >2.7423</td>\n",
       "      <td id=\"T_f700d_row8_col3\" class=\"data row8 col3\" >0.4815</td>\n",
       "      <td id=\"T_f700d_row8_col4\" class=\"data row8 col4\" >0.5313</td>\n",
       "      <td id=\"T_f700d_row8_col5\" class=\"data row8 col5\" >2.7919</td>\n",
       "    </tr>\n",
       "    <tr>\n",
       "      <th id=\"T_f700d_level0_row9\" class=\"row_heading level0 row9\" >9</th>\n",
       "      <td id=\"T_f700d_row9_col0\" class=\"data row9 col0\" >2.1654</td>\n",
       "      <td id=\"T_f700d_row9_col1\" class=\"data row9 col1\" >7.7376</td>\n",
       "      <td id=\"T_f700d_row9_col2\" class=\"data row9 col2\" >2.7817</td>\n",
       "      <td id=\"T_f700d_row9_col3\" class=\"data row9 col3\" >0.4425</td>\n",
       "      <td id=\"T_f700d_row9_col4\" class=\"data row9 col4\" >0.5456</td>\n",
       "      <td id=\"T_f700d_row9_col5\" class=\"data row9 col5\" >32.7494</td>\n",
       "    </tr>\n",
       "    <tr>\n",
       "      <th id=\"T_f700d_level0_row10\" class=\"row_heading level0 row10\" >Mean</th>\n",
       "      <td id=\"T_f700d_row10_col0\" class=\"data row10 col0\" >2.0807</td>\n",
       "      <td id=\"T_f700d_row10_col1\" class=\"data row10 col1\" >7.0971</td>\n",
       "      <td id=\"T_f700d_row10_col2\" class=\"data row10 col2\" >2.6627</td>\n",
       "      <td id=\"T_f700d_row10_col3\" class=\"data row10 col3\" >0.4676</td>\n",
       "      <td id=\"T_f700d_row10_col4\" class=\"data row10 col4\" >0.5121</td>\n",
       "      <td id=\"T_f700d_row10_col5\" class=\"data row10 col5\" >7.4061</td>\n",
       "    </tr>\n",
       "    <tr>\n",
       "      <th id=\"T_f700d_level0_row11\" class=\"row_heading level0 row11\" >Std</th>\n",
       "      <td id=\"T_f700d_row11_col0\" class=\"data row11 col0\" >0.0600</td>\n",
       "      <td id=\"T_f700d_row11_col1\" class=\"data row11 col1\" >0.4494</td>\n",
       "      <td id=\"T_f700d_row11_col2\" class=\"data row11 col2\" >0.0846</td>\n",
       "      <td id=\"T_f700d_row11_col3\" class=\"data row11 col3\" >0.0224</td>\n",
       "      <td id=\"T_f700d_row11_col4\" class=\"data row11 col4\" >0.0247</td>\n",
       "      <td id=\"T_f700d_row11_col5\" class=\"data row11 col5\" >8.5914</td>\n",
       "    </tr>\n",
       "  </tbody>\n",
       "</table>\n"
      ],
      "text/plain": [
       "<pandas.io.formats.style.Styler at 0x24958877580>"
      ]
     },
     "metadata": {},
     "output_type": "display_data"
    },
    {
     "data": {
      "text/html": [],
      "text/plain": [
       "<IPython.core.display.HTML object>"
      ]
     },
     "metadata": {},
     "output_type": "display_data"
    }
   ],
   "source": [
    "gbr = create_model('gbr')"
   ]
  },
  {
   "cell_type": "markdown",
   "metadata": {},
   "source": [
    "## 4.8 Tune a Model"
   ]
  },
  {
   "cell_type": "markdown",
   "metadata": {},
   "source": [
    "### 4.8.1 Light Gradient Boosting Machine"
   ]
  },
  {
   "cell_type": "code",
   "execution_count": 13,
   "metadata": {},
   "outputs": [
    {
     "data": {
      "text/html": [],
      "text/plain": [
       "<IPython.core.display.HTML object>"
      ]
     },
     "metadata": {},
     "output_type": "display_data"
    },
    {
     "data": {
      "text/html": [
       "<style type=\"text/css\">\n",
       "#T_b81bb_row10_col0, #T_b81bb_row10_col1, #T_b81bb_row10_col2, #T_b81bb_row10_col3, #T_b81bb_row10_col4, #T_b81bb_row10_col5 {\n",
       "  background: yellow;\n",
       "}\n",
       "</style>\n",
       "<table id=\"T_b81bb\">\n",
       "  <thead>\n",
       "    <tr>\n",
       "      <th class=\"blank level0\" >&nbsp;</th>\n",
       "      <th id=\"T_b81bb_level0_col0\" class=\"col_heading level0 col0\" >MAE</th>\n",
       "      <th id=\"T_b81bb_level0_col1\" class=\"col_heading level0 col1\" >MSE</th>\n",
       "      <th id=\"T_b81bb_level0_col2\" class=\"col_heading level0 col2\" >RMSE</th>\n",
       "      <th id=\"T_b81bb_level0_col3\" class=\"col_heading level0 col3\" >R2</th>\n",
       "      <th id=\"T_b81bb_level0_col4\" class=\"col_heading level0 col4\" >RMSLE</th>\n",
       "      <th id=\"T_b81bb_level0_col5\" class=\"col_heading level0 col5\" >MAPE</th>\n",
       "    </tr>\n",
       "    <tr>\n",
       "      <th class=\"index_name level0\" >Fold</th>\n",
       "      <th class=\"blank col0\" >&nbsp;</th>\n",
       "      <th class=\"blank col1\" >&nbsp;</th>\n",
       "      <th class=\"blank col2\" >&nbsp;</th>\n",
       "      <th class=\"blank col3\" >&nbsp;</th>\n",
       "      <th class=\"blank col4\" >&nbsp;</th>\n",
       "      <th class=\"blank col5\" >&nbsp;</th>\n",
       "    </tr>\n",
       "  </thead>\n",
       "  <tbody>\n",
       "    <tr>\n",
       "      <th id=\"T_b81bb_level0_row0\" class=\"row_heading level0 row0\" >0</th>\n",
       "      <td id=\"T_b81bb_row0_col0\" class=\"data row0 col0\" >1.9890</td>\n",
       "      <td id=\"T_b81bb_row0_col1\" class=\"data row0 col1\" >6.7585</td>\n",
       "      <td id=\"T_b81bb_row0_col2\" class=\"data row0 col2\" >2.5997</td>\n",
       "      <td id=\"T_b81bb_row0_col3\" class=\"data row0 col3\" >0.4929</td>\n",
       "      <td id=\"T_b81bb_row0_col4\" class=\"data row0 col4\" >0.4684</td>\n",
       "      <td id=\"T_b81bb_row0_col5\" class=\"data row0 col5\" >3.5722</td>\n",
       "    </tr>\n",
       "    <tr>\n",
       "      <th id=\"T_b81bb_level0_row1\" class=\"row_heading level0 row1\" >1</th>\n",
       "      <td id=\"T_b81bb_row1_col0\" class=\"data row1 col0\" >1.9878</td>\n",
       "      <td id=\"T_b81bb_row1_col1\" class=\"data row1 col1\" >6.4158</td>\n",
       "      <td id=\"T_b81bb_row1_col2\" class=\"data row1 col2\" >2.5329</td>\n",
       "      <td id=\"T_b81bb_row1_col3\" class=\"data row1 col3\" >0.4531</td>\n",
       "      <td id=\"T_b81bb_row1_col4\" class=\"data row1 col4\" >0.5099</td>\n",
       "      <td id=\"T_b81bb_row1_col5\" class=\"data row1 col5\" >3.4760</td>\n",
       "    </tr>\n",
       "    <tr>\n",
       "      <th id=\"T_b81bb_level0_row2\" class=\"row_heading level0 row2\" >2</th>\n",
       "      <td id=\"T_b81bb_row2_col0\" class=\"data row2 col0\" >2.0915</td>\n",
       "      <td id=\"T_b81bb_row2_col1\" class=\"data row2 col1\" >7.0538</td>\n",
       "      <td id=\"T_b81bb_row2_col2\" class=\"data row2 col2\" >2.6559</td>\n",
       "      <td id=\"T_b81bb_row2_col3\" class=\"data row2 col3\" >0.5217</td>\n",
       "      <td id=\"T_b81bb_row2_col4\" class=\"data row2 col4\" >0.4941</td>\n",
       "      <td id=\"T_b81bb_row2_col5\" class=\"data row2 col5\" >7.4058</td>\n",
       "    </tr>\n",
       "    <tr>\n",
       "      <th id=\"T_b81bb_level0_row3\" class=\"row_heading level0 row3\" >3</th>\n",
       "      <td id=\"T_b81bb_row3_col0\" class=\"data row3 col0\" >2.0187</td>\n",
       "      <td id=\"T_b81bb_row3_col1\" class=\"data row3 col1\" >6.5962</td>\n",
       "      <td id=\"T_b81bb_row3_col2\" class=\"data row3 col2\" >2.5683</td>\n",
       "      <td id=\"T_b81bb_row3_col3\" class=\"data row3 col3\" >0.4464</td>\n",
       "      <td id=\"T_b81bb_row3_col4\" class=\"data row3 col4\" >0.4772</td>\n",
       "      <td id=\"T_b81bb_row3_col5\" class=\"data row3 col5\" >6.3609</td>\n",
       "    </tr>\n",
       "    <tr>\n",
       "      <th id=\"T_b81bb_level0_row4\" class=\"row_heading level0 row4\" >4</th>\n",
       "      <td id=\"T_b81bb_row4_col0\" class=\"data row4 col0\" >1.9983</td>\n",
       "      <td id=\"T_b81bb_row4_col1\" class=\"data row4 col1\" >6.4035</td>\n",
       "      <td id=\"T_b81bb_row4_col2\" class=\"data row4 col2\" >2.5305</td>\n",
       "      <td id=\"T_b81bb_row4_col3\" class=\"data row4 col3\" >0.4665</td>\n",
       "      <td id=\"T_b81bb_row4_col4\" class=\"data row4 col4\" >0.4810</td>\n",
       "      <td id=\"T_b81bb_row4_col5\" class=\"data row4 col5\" >3.9499</td>\n",
       "    </tr>\n",
       "    <tr>\n",
       "      <th id=\"T_b81bb_level0_row5\" class=\"row_heading level0 row5\" >5</th>\n",
       "      <td id=\"T_b81bb_row5_col0\" class=\"data row5 col0\" >2.0942</td>\n",
       "      <td id=\"T_b81bb_row5_col1\" class=\"data row5 col1\" >7.4807</td>\n",
       "      <td id=\"T_b81bb_row5_col2\" class=\"data row5 col2\" >2.7351</td>\n",
       "      <td id=\"T_b81bb_row5_col3\" class=\"data row5 col3\" >0.4588</td>\n",
       "      <td id=\"T_b81bb_row5_col4\" class=\"data row5 col4\" >0.5275</td>\n",
       "      <td id=\"T_b81bb_row5_col5\" class=\"data row5 col5\" >3.3142</td>\n",
       "    </tr>\n",
       "    <tr>\n",
       "      <th id=\"T_b81bb_level0_row6\" class=\"row_heading level0 row6\" >6</th>\n",
       "      <td id=\"T_b81bb_row6_col0\" class=\"data row6 col0\" >2.0968</td>\n",
       "      <td id=\"T_b81bb_row6_col1\" class=\"data row6 col1\" >7.1655</td>\n",
       "      <td id=\"T_b81bb_row6_col2\" class=\"data row6 col2\" >2.6768</td>\n",
       "      <td id=\"T_b81bb_row6_col3\" class=\"data row6 col3\" >0.4782</td>\n",
       "      <td id=\"T_b81bb_row6_col4\" class=\"data row6 col4\" >0.5312</td>\n",
       "      <td id=\"T_b81bb_row6_col5\" class=\"data row6 col5\" >3.5671</td>\n",
       "    </tr>\n",
       "    <tr>\n",
       "      <th id=\"T_b81bb_level0_row7\" class=\"row_heading level0 row7\" >7</th>\n",
       "      <td id=\"T_b81bb_row7_col0\" class=\"data row7 col0\" >2.0920</td>\n",
       "      <td id=\"T_b81bb_row7_col1\" class=\"data row7 col1\" >7.3152</td>\n",
       "      <td id=\"T_b81bb_row7_col2\" class=\"data row7 col2\" >2.7047</td>\n",
       "      <td id=\"T_b81bb_row7_col3\" class=\"data row7 col3\" >0.4739</td>\n",
       "      <td id=\"T_b81bb_row7_col4\" class=\"data row7 col4\" >0.5218</td>\n",
       "      <td id=\"T_b81bb_row7_col5\" class=\"data row7 col5\" >6.4990</td>\n",
       "    </tr>\n",
       "    <tr>\n",
       "      <th id=\"T_b81bb_level0_row8\" class=\"row_heading level0 row8\" >8</th>\n",
       "      <td id=\"T_b81bb_row8_col0\" class=\"data row8 col0\" >2.1072</td>\n",
       "      <td id=\"T_b81bb_row8_col1\" class=\"data row8 col1\" >7.4046</td>\n",
       "      <td id=\"T_b81bb_row8_col2\" class=\"data row8 col2\" >2.7211</td>\n",
       "      <td id=\"T_b81bb_row8_col3\" class=\"data row8 col3\" >0.4894</td>\n",
       "      <td id=\"T_b81bb_row8_col4\" class=\"data row8 col4\" >0.5301</td>\n",
       "      <td id=\"T_b81bb_row8_col5\" class=\"data row8 col5\" >2.6933</td>\n",
       "    </tr>\n",
       "    <tr>\n",
       "      <th id=\"T_b81bb_level0_row9\" class=\"row_heading level0 row9\" >9</th>\n",
       "      <td id=\"T_b81bb_row9_col0\" class=\"data row9 col0\" >2.1630</td>\n",
       "      <td id=\"T_b81bb_row9_col1\" class=\"data row9 col1\" >7.7214</td>\n",
       "      <td id=\"T_b81bb_row9_col2\" class=\"data row9 col2\" >2.7787</td>\n",
       "      <td id=\"T_b81bb_row9_col3\" class=\"data row9 col3\" >0.4436</td>\n",
       "      <td id=\"T_b81bb_row9_col4\" class=\"data row9 col4\" >0.5441</td>\n",
       "      <td id=\"T_b81bb_row9_col5\" class=\"data row9 col5\" >32.4672</td>\n",
       "    </tr>\n",
       "    <tr>\n",
       "      <th id=\"T_b81bb_level0_row10\" class=\"row_heading level0 row10\" >Mean</th>\n",
       "      <td id=\"T_b81bb_row10_col0\" class=\"data row10 col0\" >2.0639</td>\n",
       "      <td id=\"T_b81bb_row10_col1\" class=\"data row10 col1\" >7.0315</td>\n",
       "      <td id=\"T_b81bb_row10_col2\" class=\"data row10 col2\" >2.6504</td>\n",
       "      <td id=\"T_b81bb_row10_col3\" class=\"data row10 col3\" >0.4725</td>\n",
       "      <td id=\"T_b81bb_row10_col4\" class=\"data row10 col4\" >0.5085</td>\n",
       "      <td id=\"T_b81bb_row10_col5\" class=\"data row10 col5\" >7.3306</td>\n",
       "    </tr>\n",
       "    <tr>\n",
       "      <th id=\"T_b81bb_level0_row11\" class=\"row_heading level0 row11\" >Std</th>\n",
       "      <td id=\"T_b81bb_row11_col0\" class=\"data row11 col0\" >0.0574</td>\n",
       "      <td id=\"T_b81bb_row11_col1\" class=\"data row11 col1\" >0.4420</td>\n",
       "      <td id=\"T_b81bb_row11_col2\" class=\"data row11 col2\" >0.0835</td>\n",
       "      <td id=\"T_b81bb_row11_col3\" class=\"data row11 col3\" >0.0230</td>\n",
       "      <td id=\"T_b81bb_row11_col4\" class=\"data row11 col4\" >0.0252</td>\n",
       "      <td id=\"T_b81bb_row11_col5\" class=\"data row11 col5\" >8.5188</td>\n",
       "    </tr>\n",
       "  </tbody>\n",
       "</table>\n"
      ],
      "text/plain": [
       "<pandas.io.formats.style.Styler at 0x249588f1760>"
      ]
     },
     "metadata": {},
     "output_type": "display_data"
    },
    {
     "data": {
      "text/html": [],
      "text/plain": [
       "<IPython.core.display.HTML object>"
      ]
     },
     "metadata": {},
     "output_type": "display_data"
    },
    {
     "name": "stdout",
     "output_type": "stream",
     "text": [
      "Fitting 10 folds for each of 10 candidates, totalling 100 fits\n"
     ]
    }
   ],
   "source": [
    "tuned_lightgbm = tune_model(lightgbm, optimize = 'MAE')"
   ]
  },
  {
   "cell_type": "code",
   "execution_count": null,
   "metadata": {},
   "outputs": [],
   "source": [
    "#tuned model object is stored in the variable 'tuned_lightgbm'. \n",
    "print(tuned_lightgbm)"
   ]
  },
  {
   "cell_type": "code",
   "execution_count": null,
   "metadata": {
    "scrolled": false
   },
   "outputs": [],
   "source": [
    "plot_model(tuned_lightgbm, plot='feature')"
   ]
  },
  {
   "cell_type": "markdown",
   "metadata": {},
   "source": [
    "Q: Why the feature importance is so high in lightgbm model? What does it indicate?"
   ]
  },
  {
   "cell_type": "code",
   "execution_count": null,
   "metadata": {},
   "outputs": [],
   "source": [
    "plot_model(tuned_lightgbm)"
   ]
  },
  {
   "cell_type": "code",
   "execution_count": null,
   "metadata": {
    "scrolled": false
   },
   "outputs": [],
   "source": [
    "plot_model(tuned_lightgbm, plot = 'error')"
   ]
  },
  {
   "cell_type": "code",
   "execution_count": null,
   "metadata": {},
   "outputs": [],
   "source": [
    "pred_holdout = predict_model(tuned_lightgbm)"
   ]
  },
  {
   "cell_type": "markdown",
   "metadata": {},
   "source": [
    "### 4.8.2 Random Forest"
   ]
  },
  {
   "cell_type": "code",
   "execution_count": 14,
   "metadata": {
    "scrolled": false
   },
   "outputs": [
    {
     "data": {
      "text/html": [],
      "text/plain": [
       "<IPython.core.display.HTML object>"
      ]
     },
     "metadata": {},
     "output_type": "display_data"
    },
    {
     "data": {
      "text/html": [
       "<style type=\"text/css\">\n",
       "#T_66872_row10_col0, #T_66872_row10_col1, #T_66872_row10_col2, #T_66872_row10_col3, #T_66872_row10_col4, #T_66872_row10_col5 {\n",
       "  background: yellow;\n",
       "}\n",
       "</style>\n",
       "<table id=\"T_66872\">\n",
       "  <thead>\n",
       "    <tr>\n",
       "      <th class=\"blank level0\" >&nbsp;</th>\n",
       "      <th id=\"T_66872_level0_col0\" class=\"col_heading level0 col0\" >MAE</th>\n",
       "      <th id=\"T_66872_level0_col1\" class=\"col_heading level0 col1\" >MSE</th>\n",
       "      <th id=\"T_66872_level0_col2\" class=\"col_heading level0 col2\" >RMSE</th>\n",
       "      <th id=\"T_66872_level0_col3\" class=\"col_heading level0 col3\" >R2</th>\n",
       "      <th id=\"T_66872_level0_col4\" class=\"col_heading level0 col4\" >RMSLE</th>\n",
       "      <th id=\"T_66872_level0_col5\" class=\"col_heading level0 col5\" >MAPE</th>\n",
       "    </tr>\n",
       "    <tr>\n",
       "      <th class=\"index_name level0\" >Fold</th>\n",
       "      <th class=\"blank col0\" >&nbsp;</th>\n",
       "      <th class=\"blank col1\" >&nbsp;</th>\n",
       "      <th class=\"blank col2\" >&nbsp;</th>\n",
       "      <th class=\"blank col3\" >&nbsp;</th>\n",
       "      <th class=\"blank col4\" >&nbsp;</th>\n",
       "      <th class=\"blank col5\" >&nbsp;</th>\n",
       "    </tr>\n",
       "  </thead>\n",
       "  <tbody>\n",
       "    <tr>\n",
       "      <th id=\"T_66872_level0_row0\" class=\"row_heading level0 row0\" >0</th>\n",
       "      <td id=\"T_66872_row0_col0\" class=\"data row0 col0\" >2.0331</td>\n",
       "      <td id=\"T_66872_row0_col1\" class=\"data row0 col1\" >6.8644</td>\n",
       "      <td id=\"T_66872_row0_col2\" class=\"data row0 col2\" >2.6200</td>\n",
       "      <td id=\"T_66872_row0_col3\" class=\"data row0 col3\" >0.4850</td>\n",
       "      <td id=\"T_66872_row0_col4\" class=\"data row0 col4\" >0.4824</td>\n",
       "      <td id=\"T_66872_row0_col5\" class=\"data row0 col5\" >3.4740</td>\n",
       "    </tr>\n",
       "    <tr>\n",
       "      <th id=\"T_66872_level0_row1\" class=\"row_heading level0 row1\" >1</th>\n",
       "      <td id=\"T_66872_row1_col0\" class=\"data row1 col0\" >1.9683</td>\n",
       "      <td id=\"T_66872_row1_col1\" class=\"data row1 col1\" >6.2807</td>\n",
       "      <td id=\"T_66872_row1_col2\" class=\"data row1 col2\" >2.5061</td>\n",
       "      <td id=\"T_66872_row1_col3\" class=\"data row1 col3\" >0.4647</td>\n",
       "      <td id=\"T_66872_row1_col4\" class=\"data row1 col4\" >0.5160</td>\n",
       "      <td id=\"T_66872_row1_col5\" class=\"data row1 col5\" >3.5298</td>\n",
       "    </tr>\n",
       "    <tr>\n",
       "      <th id=\"T_66872_level0_row2\" class=\"row_heading level0 row2\" >2</th>\n",
       "      <td id=\"T_66872_row2_col0\" class=\"data row2 col0\" >2.1214</td>\n",
       "      <td id=\"T_66872_row2_col1\" class=\"data row2 col1\" >7.1933</td>\n",
       "      <td id=\"T_66872_row2_col2\" class=\"data row2 col2\" >2.6820</td>\n",
       "      <td id=\"T_66872_row2_col3\" class=\"data row2 col3\" >0.5123</td>\n",
       "      <td id=\"T_66872_row2_col4\" class=\"data row2 col4\" >0.5102</td>\n",
       "      <td id=\"T_66872_row2_col5\" class=\"data row2 col5\" >7.4052</td>\n",
       "    </tr>\n",
       "    <tr>\n",
       "      <th id=\"T_66872_level0_row3\" class=\"row_heading level0 row3\" >3</th>\n",
       "      <td id=\"T_66872_row3_col0\" class=\"data row3 col0\" >2.0269</td>\n",
       "      <td id=\"T_66872_row3_col1\" class=\"data row3 col1\" >6.5278</td>\n",
       "      <td id=\"T_66872_row3_col2\" class=\"data row3 col2\" >2.5550</td>\n",
       "      <td id=\"T_66872_row3_col3\" class=\"data row3 col3\" >0.4521</td>\n",
       "      <td id=\"T_66872_row3_col4\" class=\"data row3 col4\" >0.4849</td>\n",
       "      <td id=\"T_66872_row3_col5\" class=\"data row3 col5\" >6.6958</td>\n",
       "    </tr>\n",
       "    <tr>\n",
       "      <th id=\"T_66872_level0_row4\" class=\"row_heading level0 row4\" >4</th>\n",
       "      <td id=\"T_66872_row4_col0\" class=\"data row4 col0\" >2.0416</td>\n",
       "      <td id=\"T_66872_row4_col1\" class=\"data row4 col1\" >6.5478</td>\n",
       "      <td id=\"T_66872_row4_col2\" class=\"data row4 col2\" >2.5589</td>\n",
       "      <td id=\"T_66872_row4_col3\" class=\"data row4 col3\" >0.4545</td>\n",
       "      <td id=\"T_66872_row4_col4\" class=\"data row4 col4\" >0.4947</td>\n",
       "      <td id=\"T_66872_row4_col5\" class=\"data row4 col5\" >3.7888</td>\n",
       "    </tr>\n",
       "    <tr>\n",
       "      <th id=\"T_66872_level0_row5\" class=\"row_heading level0 row5\" >5</th>\n",
       "      <td id=\"T_66872_row5_col0\" class=\"data row5 col0\" >2.1440</td>\n",
       "      <td id=\"T_66872_row5_col1\" class=\"data row5 col1\" >7.6061</td>\n",
       "      <td id=\"T_66872_row5_col2\" class=\"data row5 col2\" >2.7579</td>\n",
       "      <td id=\"T_66872_row5_col3\" class=\"data row5 col3\" >0.4497</td>\n",
       "      <td id=\"T_66872_row5_col4\" class=\"data row5 col4\" >0.5426</td>\n",
       "      <td id=\"T_66872_row5_col5\" class=\"data row5 col5\" >3.3392</td>\n",
       "    </tr>\n",
       "    <tr>\n",
       "      <th id=\"T_66872_level0_row6\" class=\"row_heading level0 row6\" >6</th>\n",
       "      <td id=\"T_66872_row6_col0\" class=\"data row6 col0\" >2.1355</td>\n",
       "      <td id=\"T_66872_row6_col1\" class=\"data row6 col1\" >7.2655</td>\n",
       "      <td id=\"T_66872_row6_col2\" class=\"data row6 col2\" >2.6955</td>\n",
       "      <td id=\"T_66872_row6_col3\" class=\"data row6 col3\" >0.4709</td>\n",
       "      <td id=\"T_66872_row6_col4\" class=\"data row6 col4\" >0.5463</td>\n",
       "      <td id=\"T_66872_row6_col5\" class=\"data row6 col5\" >3.5712</td>\n",
       "    </tr>\n",
       "    <tr>\n",
       "      <th id=\"T_66872_level0_row7\" class=\"row_heading level0 row7\" >7</th>\n",
       "      <td id=\"T_66872_row7_col0\" class=\"data row7 col0\" >2.1497</td>\n",
       "      <td id=\"T_66872_row7_col1\" class=\"data row7 col1\" >7.6134</td>\n",
       "      <td id=\"T_66872_row7_col2\" class=\"data row7 col2\" >2.7592</td>\n",
       "      <td id=\"T_66872_row7_col3\" class=\"data row7 col3\" >0.4524</td>\n",
       "      <td id=\"T_66872_row7_col4\" class=\"data row7 col4\" >0.5453</td>\n",
       "      <td id=\"T_66872_row7_col5\" class=\"data row7 col5\" >6.0892</td>\n",
       "    </tr>\n",
       "    <tr>\n",
       "      <th id=\"T_66872_level0_row8\" class=\"row_heading level0 row8\" >8</th>\n",
       "      <td id=\"T_66872_row8_col0\" class=\"data row8 col0\" >2.1988</td>\n",
       "      <td id=\"T_66872_row8_col1\" class=\"data row8 col1\" >7.8201</td>\n",
       "      <td id=\"T_66872_row8_col2\" class=\"data row8 col2\" >2.7964</td>\n",
       "      <td id=\"T_66872_row8_col3\" class=\"data row8 col3\" >0.4608</td>\n",
       "      <td id=\"T_66872_row8_col4\" class=\"data row8 col4\" >0.5506</td>\n",
       "      <td id=\"T_66872_row8_col5\" class=\"data row8 col5\" >2.7930</td>\n",
       "    </tr>\n",
       "    <tr>\n",
       "      <th id=\"T_66872_level0_row9\" class=\"row_heading level0 row9\" >9</th>\n",
       "      <td id=\"T_66872_row9_col0\" class=\"data row9 col0\" >2.1772</td>\n",
       "      <td id=\"T_66872_row9_col1\" class=\"data row9 col1\" >7.7904</td>\n",
       "      <td id=\"T_66872_row9_col2\" class=\"data row9 col2\" >2.7911</td>\n",
       "      <td id=\"T_66872_row9_col3\" class=\"data row9 col3\" >0.4387</td>\n",
       "      <td id=\"T_66872_row9_col4\" class=\"data row9 col4\" >0.5579</td>\n",
       "      <td id=\"T_66872_row9_col5\" class=\"data row9 col5\" >31.9824</td>\n",
       "    </tr>\n",
       "    <tr>\n",
       "      <th id=\"T_66872_level0_row10\" class=\"row_heading level0 row10\" >Mean</th>\n",
       "      <td id=\"T_66872_row10_col0\" class=\"data row10 col0\" >2.0996</td>\n",
       "      <td id=\"T_66872_row10_col1\" class=\"data row10 col1\" >7.1510</td>\n",
       "      <td id=\"T_66872_row10_col2\" class=\"data row10 col2\" >2.6722</td>\n",
       "      <td id=\"T_66872_row10_col3\" class=\"data row10 col3\" >0.4641</td>\n",
       "      <td id=\"T_66872_row10_col4\" class=\"data row10 col4\" >0.5231</td>\n",
       "      <td id=\"T_66872_row10_col5\" class=\"data row10 col5\" >7.2669</td>\n",
       "    </tr>\n",
       "    <tr>\n",
       "      <th id=\"T_66872_level0_row11\" class=\"row_heading level0 row11\" >Std</th>\n",
       "      <td id=\"T_66872_row11_col0\" class=\"data row11 col0\" >0.0724</td>\n",
       "      <td id=\"T_66872_row11_col1\" class=\"data row11 col1\" >0.5370</td>\n",
       "      <td id=\"T_66872_row11_col2\" class=\"data row11 col2\" >0.1010</td>\n",
       "      <td id=\"T_66872_row11_col3\" class=\"data row11 col3\" >0.0201</td>\n",
       "      <td id=\"T_66872_row11_col4\" class=\"data row11 col4\" >0.0274</td>\n",
       "      <td id=\"T_66872_row11_col5\" class=\"data row11 col5\" >8.3794</td>\n",
       "    </tr>\n",
       "  </tbody>\n",
       "</table>\n"
      ],
      "text/plain": [
       "<pandas.io.formats.style.Styler at 0x2495891a0a0>"
      ]
     },
     "metadata": {},
     "output_type": "display_data"
    },
    {
     "data": {
      "text/html": [],
      "text/plain": [
       "<IPython.core.display.HTML object>"
      ]
     },
     "metadata": {},
     "output_type": "display_data"
    },
    {
     "name": "stdout",
     "output_type": "stream",
     "text": [
      "Fitting 10 folds for each of 10 candidates, totalling 100 fits\n",
      "Original model was better than the tuned model, hence it will be returned. NOTE: The display metrics are for the tuned model (not the original one).\n"
     ]
    }
   ],
   "source": [
    "tuned_rf = tune_model(rf, optimize = 'MAE')"
   ]
  },
  {
   "cell_type": "code",
   "execution_count": null,
   "metadata": {
    "scrolled": false
   },
   "outputs": [],
   "source": [
    "plot_model(tuned_rf, plot='feature')"
   ]
  },
  {
   "cell_type": "code",
   "execution_count": null,
   "metadata": {
    "scrolled": false
   },
   "outputs": [],
   "source": [
    "plot_model(tuned_rf)"
   ]
  },
  {
   "cell_type": "code",
   "execution_count": null,
   "metadata": {
    "scrolled": false
   },
   "outputs": [],
   "source": [
    "plot_model(tuned_rf, plot = 'error')"
   ]
  },
  {
   "cell_type": "code",
   "execution_count": null,
   "metadata": {},
   "outputs": [],
   "source": [
    "pred_holdout = predict_model(tuned_rf)"
   ]
  },
  {
   "cell_type": "markdown",
   "metadata": {},
   "source": [
    "### 4.8.3 Extra Trees Regressor"
   ]
  },
  {
   "cell_type": "code",
   "execution_count": null,
   "metadata": {},
   "outputs": [],
   "source": [
    "tuned_et = tune_model(et, optimize = 'MAE')"
   ]
  },
  {
   "cell_type": "code",
   "execution_count": null,
   "metadata": {
    "scrolled": false
   },
   "outputs": [],
   "source": [
    "plot_model(tuned_et, plot='feature')"
   ]
  },
  {
   "cell_type": "code",
   "execution_count": null,
   "metadata": {
    "scrolled": false
   },
   "outputs": [],
   "source": [
    "plot_model(tuned_et)"
   ]
  },
  {
   "cell_type": "markdown",
   "metadata": {},
   "source": [
    "Q: Is it a good idea to dismiss Extra Tree Regressor? It is heavily over fitted, even though it has top 3 score."
   ]
  },
  {
   "cell_type": "code",
   "execution_count": null,
   "metadata": {},
   "outputs": [],
   "source": [
    "plot_model(tuned_et, plot = 'error')"
   ]
  },
  {
   "cell_type": "code",
   "execution_count": null,
   "metadata": {},
   "outputs": [],
   "source": [
    "pred_holdout = predict_model(tuned_et)"
   ]
  },
  {
   "cell_type": "markdown",
   "metadata": {},
   "source": [
    "### 4.8.4 Gradient Boosting Regressor"
   ]
  },
  {
   "cell_type": "code",
   "execution_count": 15,
   "metadata": {
    "scrolled": false
   },
   "outputs": [
    {
     "data": {
      "text/html": [],
      "text/plain": [
       "<IPython.core.display.HTML object>"
      ]
     },
     "metadata": {},
     "output_type": "display_data"
    },
    {
     "data": {
      "text/html": [
       "<style type=\"text/css\">\n",
       "#T_b4081_row10_col0, #T_b4081_row10_col1, #T_b4081_row10_col2, #T_b4081_row10_col3, #T_b4081_row10_col4, #T_b4081_row10_col5 {\n",
       "  background: yellow;\n",
       "}\n",
       "</style>\n",
       "<table id=\"T_b4081\">\n",
       "  <thead>\n",
       "    <tr>\n",
       "      <th class=\"blank level0\" >&nbsp;</th>\n",
       "      <th id=\"T_b4081_level0_col0\" class=\"col_heading level0 col0\" >MAE</th>\n",
       "      <th id=\"T_b4081_level0_col1\" class=\"col_heading level0 col1\" >MSE</th>\n",
       "      <th id=\"T_b4081_level0_col2\" class=\"col_heading level0 col2\" >RMSE</th>\n",
       "      <th id=\"T_b4081_level0_col3\" class=\"col_heading level0 col3\" >R2</th>\n",
       "      <th id=\"T_b4081_level0_col4\" class=\"col_heading level0 col4\" >RMSLE</th>\n",
       "      <th id=\"T_b4081_level0_col5\" class=\"col_heading level0 col5\" >MAPE</th>\n",
       "    </tr>\n",
       "    <tr>\n",
       "      <th class=\"index_name level0\" >Fold</th>\n",
       "      <th class=\"blank col0\" >&nbsp;</th>\n",
       "      <th class=\"blank col1\" >&nbsp;</th>\n",
       "      <th class=\"blank col2\" >&nbsp;</th>\n",
       "      <th class=\"blank col3\" >&nbsp;</th>\n",
       "      <th class=\"blank col4\" >&nbsp;</th>\n",
       "      <th class=\"blank col5\" >&nbsp;</th>\n",
       "    </tr>\n",
       "  </thead>\n",
       "  <tbody>\n",
       "    <tr>\n",
       "      <th id=\"T_b4081_level0_row0\" class=\"row_heading level0 row0\" >0</th>\n",
       "      <td id=\"T_b4081_row0_col0\" class=\"data row0 col0\" >2.0983</td>\n",
       "      <td id=\"T_b4081_row0_col1\" class=\"data row0 col1\" >7.4263</td>\n",
       "      <td id=\"T_b4081_row0_col2\" class=\"data row0 col2\" >2.7251</td>\n",
       "      <td id=\"T_b4081_row0_col3\" class=\"data row0 col3\" >0.4428</td>\n",
       "      <td id=\"T_b4081_row0_col4\" class=\"data row0 col4\" >0.4857</td>\n",
       "      <td id=\"T_b4081_row0_col5\" class=\"data row0 col5\" >3.4003</td>\n",
       "    </tr>\n",
       "    <tr>\n",
       "      <th id=\"T_b4081_level0_row1\" class=\"row_heading level0 row1\" >1</th>\n",
       "      <td id=\"T_b4081_row1_col0\" class=\"data row1 col0\" >2.0214</td>\n",
       "      <td id=\"T_b4081_row1_col1\" class=\"data row1 col1\" >6.7110</td>\n",
       "      <td id=\"T_b4081_row1_col2\" class=\"data row1 col2\" >2.5906</td>\n",
       "      <td id=\"T_b4081_row1_col3\" class=\"data row1 col3\" >0.4280</td>\n",
       "      <td id=\"T_b4081_row1_col4\" class=\"data row1 col4\" >0.5139</td>\n",
       "      <td id=\"T_b4081_row1_col5\" class=\"data row1 col5\" >3.3166</td>\n",
       "    </tr>\n",
       "    <tr>\n",
       "      <th id=\"T_b4081_level0_row2\" class=\"row_heading level0 row2\" >2</th>\n",
       "      <td id=\"T_b4081_row2_col0\" class=\"data row2 col0\" >2.1580</td>\n",
       "      <td id=\"T_b4081_row2_col1\" class=\"data row2 col1\" >7.7038</td>\n",
       "      <td id=\"T_b4081_row2_col2\" class=\"data row2 col2\" >2.7756</td>\n",
       "      <td id=\"T_b4081_row2_col3\" class=\"data row2 col3\" >0.4777</td>\n",
       "      <td id=\"T_b4081_row2_col4\" class=\"data row2 col4\" >0.5028</td>\n",
       "      <td id=\"T_b4081_row2_col5\" class=\"data row2 col5\" >7.0341</td>\n",
       "    </tr>\n",
       "    <tr>\n",
       "      <th id=\"T_b4081_level0_row3\" class=\"row_heading level0 row3\" >3</th>\n",
       "      <td id=\"T_b4081_row3_col0\" class=\"data row3 col0\" >2.0224</td>\n",
       "      <td id=\"T_b4081_row3_col1\" class=\"data row3 col1\" >6.5995</td>\n",
       "      <td id=\"T_b4081_row3_col2\" class=\"data row3 col2\" >2.5689</td>\n",
       "      <td id=\"T_b4081_row3_col3\" class=\"data row3 col3\" >0.4461</td>\n",
       "      <td id=\"T_b4081_row3_col4\" class=\"data row3 col4\" >0.4811</td>\n",
       "      <td id=\"T_b4081_row3_col5\" class=\"data row3 col5\" >6.3333</td>\n",
       "    </tr>\n",
       "    <tr>\n",
       "      <th id=\"T_b4081_level0_row4\" class=\"row_heading level0 row4\" >4</th>\n",
       "      <td id=\"T_b4081_row4_col0\" class=\"data row4 col0\" >2.0867</td>\n",
       "      <td id=\"T_b4081_row4_col1\" class=\"data row4 col1\" >7.1957</td>\n",
       "      <td id=\"T_b4081_row4_col2\" class=\"data row4 col2\" >2.6825</td>\n",
       "      <td id=\"T_b4081_row4_col3\" class=\"data row4 col3\" >0.4005</td>\n",
       "      <td id=\"T_b4081_row4_col4\" class=\"data row4 col4\" >0.4923</td>\n",
       "      <td id=\"T_b4081_row4_col5\" class=\"data row4 col5\" >4.6769</td>\n",
       "    </tr>\n",
       "    <tr>\n",
       "      <th id=\"T_b4081_level0_row5\" class=\"row_heading level0 row5\" >5</th>\n",
       "      <td id=\"T_b4081_row5_col0\" class=\"data row5 col0\" >2.1645</td>\n",
       "      <td id=\"T_b4081_row5_col1\" class=\"data row5 col1\" >7.8060</td>\n",
       "      <td id=\"T_b4081_row5_col2\" class=\"data row5 col2\" >2.7939</td>\n",
       "      <td id=\"T_b4081_row5_col3\" class=\"data row5 col3\" >0.4353</td>\n",
       "      <td id=\"T_b4081_row5_col4\" class=\"data row5 col4\" >0.5299</td>\n",
       "      <td id=\"T_b4081_row5_col5\" class=\"data row5 col5\" >3.0853</td>\n",
       "    </tr>\n",
       "    <tr>\n",
       "      <th id=\"T_b4081_level0_row6\" class=\"row_heading level0 row6\" >6</th>\n",
       "      <td id=\"T_b4081_row6_col0\" class=\"data row6 col0\" >2.1100</td>\n",
       "      <td id=\"T_b4081_row6_col1\" class=\"data row6 col1\" >7.4471</td>\n",
       "      <td id=\"T_b4081_row6_col2\" class=\"data row6 col2\" >2.7289</td>\n",
       "      <td id=\"T_b4081_row6_col3\" class=\"data row6 col3\" >0.4577</td>\n",
       "      <td id=\"T_b4081_row6_col4\" class=\"data row6 col4\" >0.5357</td>\n",
       "      <td id=\"T_b4081_row6_col5\" class=\"data row6 col5\" >3.8993</td>\n",
       "    </tr>\n",
       "    <tr>\n",
       "      <th id=\"T_b4081_level0_row7\" class=\"row_heading level0 row7\" >7</th>\n",
       "      <td id=\"T_b4081_row7_col0\" class=\"data row7 col0\" >2.1400</td>\n",
       "      <td id=\"T_b4081_row7_col1\" class=\"data row7 col1\" >7.6728</td>\n",
       "      <td id=\"T_b4081_row7_col2\" class=\"data row7 col2\" >2.7700</td>\n",
       "      <td id=\"T_b4081_row7_col3\" class=\"data row7 col3\" >0.4482</td>\n",
       "      <td id=\"T_b4081_row7_col4\" class=\"data row7 col4\" >0.5420</td>\n",
       "      <td id=\"T_b4081_row7_col5\" class=\"data row7 col5\" >6.2895</td>\n",
       "    </tr>\n",
       "    <tr>\n",
       "      <th id=\"T_b4081_level0_row8\" class=\"row_heading level0 row8\" >8</th>\n",
       "      <td id=\"T_b4081_row8_col0\" class=\"data row8 col0\" >2.2123</td>\n",
       "      <td id=\"T_b4081_row8_col1\" class=\"data row8 col1\" >7.9033</td>\n",
       "      <td id=\"T_b4081_row8_col2\" class=\"data row8 col2\" >2.8113</td>\n",
       "      <td id=\"T_b4081_row8_col3\" class=\"data row8 col3\" >0.4550</td>\n",
       "      <td id=\"T_b4081_row8_col4\" class=\"data row8 col4\" >0.5406</td>\n",
       "      <td id=\"T_b4081_row8_col5\" class=\"data row8 col5\" >2.6326</td>\n",
       "    </tr>\n",
       "    <tr>\n",
       "      <th id=\"T_b4081_level0_row9\" class=\"row_heading level0 row9\" >9</th>\n",
       "      <td id=\"T_b4081_row9_col0\" class=\"data row9 col0\" >2.1689</td>\n",
       "      <td id=\"T_b4081_row9_col1\" class=\"data row9 col1\" >8.0219</td>\n",
       "      <td id=\"T_b4081_row9_col2\" class=\"data row9 col2\" >2.8323</td>\n",
       "      <td id=\"T_b4081_row9_col3\" class=\"data row9 col3\" >0.4220</td>\n",
       "      <td id=\"T_b4081_row9_col4\" class=\"data row9 col4\" >0.5542</td>\n",
       "      <td id=\"T_b4081_row9_col5\" class=\"data row9 col5\" >29.2793</td>\n",
       "    </tr>\n",
       "    <tr>\n",
       "      <th id=\"T_b4081_level0_row10\" class=\"row_heading level0 row10\" >Mean</th>\n",
       "      <td id=\"T_b4081_row10_col0\" class=\"data row10 col0\" >2.1182</td>\n",
       "      <td id=\"T_b4081_row10_col1\" class=\"data row10 col1\" >7.4487</td>\n",
       "      <td id=\"T_b4081_row10_col2\" class=\"data row10 col2\" >2.7279</td>\n",
       "      <td id=\"T_b4081_row10_col3\" class=\"data row10 col3\" >0.4413</td>\n",
       "      <td id=\"T_b4081_row10_col4\" class=\"data row10 col4\" >0.5178</td>\n",
       "      <td id=\"T_b4081_row10_col5\" class=\"data row10 col5\" >6.9947</td>\n",
       "    </tr>\n",
       "    <tr>\n",
       "      <th id=\"T_b4081_level0_row11\" class=\"row_heading level0 row11\" >Std</th>\n",
       "      <td id=\"T_b4081_row11_col0\" class=\"data row11 col0\" >0.0597</td>\n",
       "      <td id=\"T_b4081_row11_col1\" class=\"data row11 col1\" >0.4591</td>\n",
       "      <td id=\"T_b4081_row11_col2\" class=\"data row11 col2\" >0.0851</td>\n",
       "      <td id=\"T_b4081_row11_col3\" class=\"data row11 col3\" >0.0203</td>\n",
       "      <td id=\"T_b4081_row11_col4\" class=\"data row11 col4\" >0.0248</td>\n",
       "      <td id=\"T_b4081_row11_col5\" class=\"data row11 col5\" >7.5714</td>\n",
       "    </tr>\n",
       "  </tbody>\n",
       "</table>\n"
      ],
      "text/plain": [
       "<pandas.io.formats.style.Styler at 0x24954c316d0>"
      ]
     },
     "metadata": {},
     "output_type": "display_data"
    },
    {
     "data": {
      "text/html": [],
      "text/plain": [
       "<IPython.core.display.HTML object>"
      ]
     },
     "metadata": {},
     "output_type": "display_data"
    },
    {
     "name": "stdout",
     "output_type": "stream",
     "text": [
      "Fitting 10 folds for each of 10 candidates, totalling 100 fits\n",
      "Original model was better than the tuned model, hence it will be returned. NOTE: The display metrics are for the tuned model (not the original one).\n"
     ]
    }
   ],
   "source": [
    "tuned_gbr = tune_model(gbr, optimize = 'MAE')"
   ]
  },
  {
   "cell_type": "code",
   "execution_count": null,
   "metadata": {},
   "outputs": [],
   "source": [
    "plot_model(tuned_gbr, plot='feature')"
   ]
  },
  {
   "cell_type": "code",
   "execution_count": null,
   "metadata": {},
   "outputs": [],
   "source": [
    "plot_model(tuned_gbr)"
   ]
  },
  {
   "cell_type": "code",
   "execution_count": null,
   "metadata": {},
   "outputs": [],
   "source": [
    "plot_model(tuned_gbr, plot = 'error')"
   ]
  },
  {
   "cell_type": "code",
   "execution_count": null,
   "metadata": {
    "scrolled": true
   },
   "outputs": [],
   "source": [
    "pred_holdout = predict_model(tuned_gbr)"
   ]
  },
  {
   "cell_type": "markdown",
   "metadata": {},
   "source": [
    "## 4.9 Voting Regressor"
   ]
  },
  {
   "cell_type": "markdown",
   "metadata": {},
   "source": [
    "### 4.9.1 no weights"
   ]
  },
  {
   "cell_type": "code",
   "execution_count": 16,
   "metadata": {
    "scrolled": true
   },
   "outputs": [
    {
     "data": {
      "text/html": [],
      "text/plain": [
       "<IPython.core.display.HTML object>"
      ]
     },
     "metadata": {},
     "output_type": "display_data"
    },
    {
     "data": {
      "text/html": [
       "<style type=\"text/css\">\n",
       "#T_e3787 th {\n",
       "  text-align: left;\n",
       "}\n",
       "#T_e3787_row0_col0, #T_e3787_row0_col5, #T_e3787_row0_col6, #T_e3787_row1_col0, #T_e3787_row1_col1, #T_e3787_row1_col2, #T_e3787_row1_col3, #T_e3787_row1_col4, #T_e3787_row2_col0, #T_e3787_row2_col1, #T_e3787_row2_col2, #T_e3787_row2_col3, #T_e3787_row2_col4, #T_e3787_row2_col5, #T_e3787_row2_col6 {\n",
       "  text-align: left;\n",
       "}\n",
       "#T_e3787_row0_col1, #T_e3787_row0_col2, #T_e3787_row0_col3, #T_e3787_row0_col4, #T_e3787_row1_col5, #T_e3787_row1_col6 {\n",
       "  text-align: left;\n",
       "  background-color: yellow;\n",
       "}\n",
       "#T_e3787_row0_col7, #T_e3787_row2_col7 {\n",
       "  text-align: left;\n",
       "  background-color: lightgrey;\n",
       "}\n",
       "#T_e3787_row1_col7 {\n",
       "  text-align: left;\n",
       "  background-color: yellow;\n",
       "  background-color: lightgrey;\n",
       "}\n",
       "</style>\n",
       "<table id=\"T_e3787\">\n",
       "  <thead>\n",
       "    <tr>\n",
       "      <th class=\"blank level0\" >&nbsp;</th>\n",
       "      <th id=\"T_e3787_level0_col0\" class=\"col_heading level0 col0\" >Model</th>\n",
       "      <th id=\"T_e3787_level0_col1\" class=\"col_heading level0 col1\" >MAE</th>\n",
       "      <th id=\"T_e3787_level0_col2\" class=\"col_heading level0 col2\" >MSE</th>\n",
       "      <th id=\"T_e3787_level0_col3\" class=\"col_heading level0 col3\" >RMSE</th>\n",
       "      <th id=\"T_e3787_level0_col4\" class=\"col_heading level0 col4\" >R2</th>\n",
       "      <th id=\"T_e3787_level0_col5\" class=\"col_heading level0 col5\" >RMSLE</th>\n",
       "      <th id=\"T_e3787_level0_col6\" class=\"col_heading level0 col6\" >MAPE</th>\n",
       "      <th id=\"T_e3787_level0_col7\" class=\"col_heading level0 col7\" >TT (Sec)</th>\n",
       "    </tr>\n",
       "  </thead>\n",
       "  <tbody>\n",
       "    <tr>\n",
       "      <th id=\"T_e3787_level0_row0\" class=\"row_heading level0 row0\" >1</th>\n",
       "      <td id=\"T_e3787_row0_col0\" class=\"data row0 col0\" >Random Forest Regressor</td>\n",
       "      <td id=\"T_e3787_row0_col1\" class=\"data row0 col1\" >2.0589</td>\n",
       "      <td id=\"T_e3787_row0_col2\" class=\"data row0 col2\" >7.0239</td>\n",
       "      <td id=\"T_e3787_row0_col3\" class=\"data row0 col3\" >2.6486</td>\n",
       "      <td id=\"T_e3787_row0_col4\" class=\"data row0 col4\" >0.4732</td>\n",
       "      <td id=\"T_e3787_row0_col5\" class=\"data row0 col5\" >0.5118</td>\n",
       "      <td id=\"T_e3787_row0_col6\" class=\"data row0 col6\" >7.4425</td>\n",
       "      <td id=\"T_e3787_row0_col7\" class=\"data row0 col7\" >16.3160</td>\n",
       "    </tr>\n",
       "    <tr>\n",
       "      <th id=\"T_e3787_level0_row1\" class=\"row_heading level0 row1\" >0</th>\n",
       "      <td id=\"T_e3787_row1_col0\" class=\"data row1 col0\" >Light Gradient Boosting Machine</td>\n",
       "      <td id=\"T_e3787_row1_col1\" class=\"data row1 col1\" >2.0639</td>\n",
       "      <td id=\"T_e3787_row1_col2\" class=\"data row1 col2\" >7.0315</td>\n",
       "      <td id=\"T_e3787_row1_col3\" class=\"data row1 col3\" >2.6504</td>\n",
       "      <td id=\"T_e3787_row1_col4\" class=\"data row1 col4\" >0.4725</td>\n",
       "      <td id=\"T_e3787_row1_col5\" class=\"data row1 col5\" >0.5085</td>\n",
       "      <td id=\"T_e3787_row1_col6\" class=\"data row1 col6\" >7.3306</td>\n",
       "      <td id=\"T_e3787_row1_col7\" class=\"data row1 col7\" >1.3820</td>\n",
       "    </tr>\n",
       "    <tr>\n",
       "      <th id=\"T_e3787_level0_row2\" class=\"row_heading level0 row2\" >2</th>\n",
       "      <td id=\"T_e3787_row2_col0\" class=\"data row2 col0\" >Gradient Boosting Regressor</td>\n",
       "      <td id=\"T_e3787_row2_col1\" class=\"data row2 col1\" >2.0807</td>\n",
       "      <td id=\"T_e3787_row2_col2\" class=\"data row2 col2\" >7.0971</td>\n",
       "      <td id=\"T_e3787_row2_col3\" class=\"data row2 col3\" >2.6627</td>\n",
       "      <td id=\"T_e3787_row2_col4\" class=\"data row2 col4\" >0.4676</td>\n",
       "      <td id=\"T_e3787_row2_col5\" class=\"data row2 col5\" >0.5121</td>\n",
       "      <td id=\"T_e3787_row2_col6\" class=\"data row2 col6\" >7.4061</td>\n",
       "      <td id=\"T_e3787_row2_col7\" class=\"data row2 col7\" >5.5450</td>\n",
       "    </tr>\n",
       "  </tbody>\n",
       "</table>\n"
      ],
      "text/plain": [
       "<pandas.io.formats.style.Styler at 0x24958899df0>"
      ]
     },
     "metadata": {},
     "output_type": "display_data"
    },
    {
     "data": {
      "text/html": [],
      "text/plain": [
       "<IPython.core.display.HTML object>"
      ]
     },
     "metadata": {},
     "output_type": "display_data"
    }
   ],
   "source": [
    "# exp_name = setup(data = boston,  target = 'medv')\n",
    "top3 = compare_models(include = [tuned_lightgbm, tuned_rf,  tuned_gbr],n_select = 3,sort = 'MAE')\n",
    "# top4 = compare_models(include = ['lightgbm', 'rf', 'et', 'gbr'],n_select = 4)"
   ]
  },
  {
   "cell_type": "code",
   "execution_count": 17,
   "metadata": {
    "scrolled": true
   },
   "outputs": [
    {
     "data": {
      "text/html": [],
      "text/plain": [
       "<IPython.core.display.HTML object>"
      ]
     },
     "metadata": {},
     "output_type": "display_data"
    },
    {
     "data": {
      "text/html": [
       "<style type=\"text/css\">\n",
       "#T_01a31_row10_col0, #T_01a31_row10_col1, #T_01a31_row10_col2, #T_01a31_row10_col3, #T_01a31_row10_col4, #T_01a31_row10_col5 {\n",
       "  background: yellow;\n",
       "}\n",
       "</style>\n",
       "<table id=\"T_01a31\">\n",
       "  <thead>\n",
       "    <tr>\n",
       "      <th class=\"blank level0\" >&nbsp;</th>\n",
       "      <th id=\"T_01a31_level0_col0\" class=\"col_heading level0 col0\" >MAE</th>\n",
       "      <th id=\"T_01a31_level0_col1\" class=\"col_heading level0 col1\" >MSE</th>\n",
       "      <th id=\"T_01a31_level0_col2\" class=\"col_heading level0 col2\" >RMSE</th>\n",
       "      <th id=\"T_01a31_level0_col3\" class=\"col_heading level0 col3\" >R2</th>\n",
       "      <th id=\"T_01a31_level0_col4\" class=\"col_heading level0 col4\" >RMSLE</th>\n",
       "      <th id=\"T_01a31_level0_col5\" class=\"col_heading level0 col5\" >MAPE</th>\n",
       "    </tr>\n",
       "    <tr>\n",
       "      <th class=\"index_name level0\" >Fold</th>\n",
       "      <th class=\"blank col0\" >&nbsp;</th>\n",
       "      <th class=\"blank col1\" >&nbsp;</th>\n",
       "      <th class=\"blank col2\" >&nbsp;</th>\n",
       "      <th class=\"blank col3\" >&nbsp;</th>\n",
       "      <th class=\"blank col4\" >&nbsp;</th>\n",
       "      <th class=\"blank col5\" >&nbsp;</th>\n",
       "    </tr>\n",
       "  </thead>\n",
       "  <tbody>\n",
       "    <tr>\n",
       "      <th id=\"T_01a31_level0_row0\" class=\"row_heading level0 row0\" >0</th>\n",
       "      <td id=\"T_01a31_row0_col0\" class=\"data row0 col0\" >1.9848</td>\n",
       "      <td id=\"T_01a31_row0_col1\" class=\"data row0 col1\" >6.6751</td>\n",
       "      <td id=\"T_01a31_row0_col2\" class=\"data row0 col2\" >2.5836</td>\n",
       "      <td id=\"T_01a31_row0_col3\" class=\"data row0 col3\" >0.4992</td>\n",
       "      <td id=\"T_01a31_row0_col4\" class=\"data row0 col4\" >0.4685</td>\n",
       "      <td id=\"T_01a31_row0_col5\" class=\"data row0 col5\" >3.5674</td>\n",
       "    </tr>\n",
       "    <tr>\n",
       "      <th id=\"T_01a31_level0_row1\" class=\"row_heading level0 row1\" >1</th>\n",
       "      <td id=\"T_01a31_row1_col0\" class=\"data row1 col0\" >1.9531</td>\n",
       "      <td id=\"T_01a31_row1_col1\" class=\"data row1 col1\" >6.2712</td>\n",
       "      <td id=\"T_01a31_row1_col2\" class=\"data row1 col2\" >2.5042</td>\n",
       "      <td id=\"T_01a31_row1_col3\" class=\"data row1 col3\" >0.4655</td>\n",
       "      <td id=\"T_01a31_row1_col4\" class=\"data row1 col4\" >0.5073</td>\n",
       "      <td id=\"T_01a31_row1_col5\" class=\"data row1 col5\" >3.5048</td>\n",
       "    </tr>\n",
       "    <tr>\n",
       "      <th id=\"T_01a31_level0_row2\" class=\"row_heading level0 row2\" >2</th>\n",
       "      <td id=\"T_01a31_row2_col0\" class=\"data row2 col0\" >2.0774</td>\n",
       "      <td id=\"T_01a31_row2_col1\" class=\"data row2 col1\" >6.9021</td>\n",
       "      <td id=\"T_01a31_row2_col2\" class=\"data row2 col2\" >2.6272</td>\n",
       "      <td id=\"T_01a31_row2_col3\" class=\"data row2 col3\" >0.5320</td>\n",
       "      <td id=\"T_01a31_row2_col4\" class=\"data row2 col4\" >0.4897</td>\n",
       "      <td id=\"T_01a31_row2_col5\" class=\"data row2 col5\" >7.4512</td>\n",
       "    </tr>\n",
       "    <tr>\n",
       "      <th id=\"T_01a31_level0_row3\" class=\"row_heading level0 row3\" >3</th>\n",
       "      <td id=\"T_01a31_row3_col0\" class=\"data row3 col0\" >1.9863</td>\n",
       "      <td id=\"T_01a31_row3_col1\" class=\"data row3 col1\" >6.4003</td>\n",
       "      <td id=\"T_01a31_row3_col2\" class=\"data row3 col2\" >2.5299</td>\n",
       "      <td id=\"T_01a31_row3_col3\" class=\"data row3 col3\" >0.4628</td>\n",
       "      <td id=\"T_01a31_row3_col4\" class=\"data row3 col4\" >0.4746</td>\n",
       "      <td id=\"T_01a31_row3_col5\" class=\"data row3 col5\" >6.6086</td>\n",
       "    </tr>\n",
       "    <tr>\n",
       "      <th id=\"T_01a31_level0_row4\" class=\"row_heading level0 row4\" >4</th>\n",
       "      <td id=\"T_01a31_row4_col0\" class=\"data row4 col0\" >2.0048</td>\n",
       "      <td id=\"T_01a31_row4_col1\" class=\"data row4 col1\" >6.4009</td>\n",
       "      <td id=\"T_01a31_row4_col2\" class=\"data row4 col2\" >2.5300</td>\n",
       "      <td id=\"T_01a31_row4_col3\" class=\"data row4 col3\" >0.4667</td>\n",
       "      <td id=\"T_01a31_row4_col4\" class=\"data row4 col4\" >0.4814</td>\n",
       "      <td id=\"T_01a31_row4_col5\" class=\"data row4 col5\" >3.9209</td>\n",
       "    </tr>\n",
       "    <tr>\n",
       "      <th id=\"T_01a31_level0_row5\" class=\"row_heading level0 row5\" >5</th>\n",
       "      <td id=\"T_01a31_row5_col0\" class=\"data row5 col0\" >2.0784</td>\n",
       "      <td id=\"T_01a31_row5_col1\" class=\"data row5 col1\" >7.3258</td>\n",
       "      <td id=\"T_01a31_row5_col2\" class=\"data row5 col2\" >2.7066</td>\n",
       "      <td id=\"T_01a31_row5_col3\" class=\"data row5 col3\" >0.4700</td>\n",
       "      <td id=\"T_01a31_row5_col4\" class=\"data row5 col4\" >0.5246</td>\n",
       "      <td id=\"T_01a31_row5_col5\" class=\"data row5 col5\" >3.3811</td>\n",
       "    </tr>\n",
       "    <tr>\n",
       "      <th id=\"T_01a31_level0_row6\" class=\"row_heading level0 row6\" >6</th>\n",
       "      <td id=\"T_01a31_row6_col0\" class=\"data row6 col0\" >2.0789</td>\n",
       "      <td id=\"T_01a31_row6_col1\" class=\"data row6 col1\" >7.0810</td>\n",
       "      <td id=\"T_01a31_row6_col2\" class=\"data row6 col2\" >2.6610</td>\n",
       "      <td id=\"T_01a31_row6_col3\" class=\"data row6 col3\" >0.4844</td>\n",
       "      <td id=\"T_01a31_row6_col4\" class=\"data row6 col4\" >0.5281</td>\n",
       "      <td id=\"T_01a31_row6_col5\" class=\"data row6 col5\" >3.5538</td>\n",
       "    </tr>\n",
       "    <tr>\n",
       "      <th id=\"T_01a31_level0_row7\" class=\"row_heading level0 row7\" >7</th>\n",
       "      <td id=\"T_01a31_row7_col0\" class=\"data row7 col0\" >2.0977</td>\n",
       "      <td id=\"T_01a31_row7_col1\" class=\"data row7 col1\" >7.3299</td>\n",
       "      <td id=\"T_01a31_row7_col2\" class=\"data row7 col2\" >2.7074</td>\n",
       "      <td id=\"T_01a31_row7_col3\" class=\"data row7 col3\" >0.4728</td>\n",
       "      <td id=\"T_01a31_row7_col4\" class=\"data row7 col4\" >0.5266</td>\n",
       "      <td id=\"T_01a31_row7_col5\" class=\"data row7 col5\" >6.3096</td>\n",
       "    </tr>\n",
       "    <tr>\n",
       "      <th id=\"T_01a31_level0_row8\" class=\"row_heading level0 row8\" >8</th>\n",
       "      <td id=\"T_01a31_row8_col0\" class=\"data row8 col0\" >2.1094</td>\n",
       "      <td id=\"T_01a31_row8_col1\" class=\"data row8 col1\" >7.3645</td>\n",
       "      <td id=\"T_01a31_row8_col2\" class=\"data row8 col2\" >2.7138</td>\n",
       "      <td id=\"T_01a31_row8_col3\" class=\"data row8 col3\" >0.4922</td>\n",
       "      <td id=\"T_01a31_row8_col4\" class=\"data row8 col4\" >0.5308</td>\n",
       "      <td id=\"T_01a31_row8_col5\" class=\"data row8 col5\" >2.7572</td>\n",
       "    </tr>\n",
       "    <tr>\n",
       "      <th id=\"T_01a31_level0_row9\" class=\"row_heading level0 row9\" >9</th>\n",
       "      <td id=\"T_01a31_row9_col0\" class=\"data row9 col0\" >2.1534</td>\n",
       "      <td id=\"T_01a31_row9_col1\" class=\"data row9 col1\" >7.6569</td>\n",
       "      <td id=\"T_01a31_row9_col2\" class=\"data row9 col2\" >2.7671</td>\n",
       "      <td id=\"T_01a31_row9_col3\" class=\"data row9 col3\" >0.4483</td>\n",
       "      <td id=\"T_01a31_row9_col4\" class=\"data row9 col4\" >0.5444</td>\n",
       "      <td id=\"T_01a31_row9_col5\" class=\"data row9 col5\" >32.8225</td>\n",
       "    </tr>\n",
       "    <tr>\n",
       "      <th id=\"T_01a31_level0_row10\" class=\"row_heading level0 row10\" >Mean</th>\n",
       "      <td id=\"T_01a31_row10_col0\" class=\"data row10 col0\" >2.0524</td>\n",
       "      <td id=\"T_01a31_row10_col1\" class=\"data row10 col1\" >6.9408</td>\n",
       "      <td id=\"T_01a31_row10_col2\" class=\"data row10 col2\" >2.6331</td>\n",
       "      <td id=\"T_01a31_row10_col3\" class=\"data row10 col3\" >0.4794</td>\n",
       "      <td id=\"T_01a31_row10_col4\" class=\"data row10 col4\" >0.5076</td>\n",
       "      <td id=\"T_01a31_row10_col5\" class=\"data row10 col5\" >7.3877</td>\n",
       "    </tr>\n",
       "    <tr>\n",
       "      <th id=\"T_01a31_level0_row11\" class=\"row_heading level0 row11\" >Std</th>\n",
       "      <td id=\"T_01a31_row11_col0\" class=\"data row11 col0\" >0.0621</td>\n",
       "      <td id=\"T_01a31_row11_col1\" class=\"data row11 col1\" >0.4600</td>\n",
       "      <td id=\"T_01a31_row11_col2\" class=\"data row11 col2\" >0.0875</td>\n",
       "      <td id=\"T_01a31_row11_col3\" class=\"data row11 col3\" >0.0225</td>\n",
       "      <td id=\"T_01a31_row11_col4\" class=\"data row11 col4\" >0.0257</td>\n",
       "      <td id=\"T_01a31_row11_col5\" class=\"data row11 col5\" >8.6174</td>\n",
       "    </tr>\n",
       "  </tbody>\n",
       "</table>\n"
      ],
      "text/plain": [
       "<pandas.io.formats.style.Styler at 0x2493fe1fee0>"
      ]
     },
     "metadata": {},
     "output_type": "display_data"
    },
    {
     "data": {
      "text/html": [],
      "text/plain": [
       "<IPython.core.display.HTML object>"
      ]
     },
     "metadata": {},
     "output_type": "display_data"
    }
   ],
   "source": [
    "blender = blend_models(top3, optimize = 'MAE')"
   ]
  },
  {
   "cell_type": "code",
   "execution_count": null,
   "metadata": {},
   "outputs": [],
   "source": [
    "pred_holdout = predict_model(blender)\n",
    "\n",
    "# print(mean_absolute_error(y_test,pred_test['prediction_label']))\n",
    "# print(r2_score(y_test,pred_test['prediction_label']))"
   ]
  },
  {
   "cell_type": "code",
   "execution_count": null,
   "metadata": {
    "scrolled": true
   },
   "outputs": [],
   "source": [
    "print(blender)"
   ]
  },
  {
   "cell_type": "code",
   "execution_count": null,
   "metadata": {
    "scrolled": true
   },
   "outputs": [],
   "source": [
    "plot_model(blender, plot='pipeline')"
   ]
  },
  {
   "cell_type": "markdown",
   "metadata": {},
   "source": [
    "### 4.9.2 Find best weights using VotingRegressor()"
   ]
  },
  {
   "cell_type": "code",
   "execution_count": null,
   "metadata": {},
   "outputs": [],
   "source": [
    "y = train_df[\"ttf\"]\n",
    "X = train_df.drop(columns = [\"ttf\" ])\n",
    "feature_names=X.columns"
   ]
  },
  {
   "cell_type": "code",
   "execution_count": null,
   "metadata": {},
   "outputs": [],
   "source": [
    "X_train, X_test, y_train, y_test = train_test_split(X,y, test_size=0.2, random_state=47)\n"
   ]
  },
  {
   "cell_type": "code",
   "execution_count": null,
   "metadata": {},
   "outputs": [],
   "source": [
    "top03_copy = top3"
   ]
  },
  {
   "cell_type": "code",
   "execution_count": null,
   "metadata": {},
   "outputs": [],
   "source": [
    "# use sklearn vote weights\n",
    "# Create empty lists that will storage the different weights\n",
    "\n",
    "weights1 = []\n",
    "weights2 = []\n",
    "weights3 = []\n",
    "scores = []\n",
    "\n",
    "# Create a for loop to evaluate different combinations of weights\n",
    "\n",
    "for i in np.arange(0.1,1, 0.1):\n",
    "    now = datetime.datetime.now()\n",
    "    print(i, now)\n",
    "    for j in np.arange(0.1,1, 0.1):\n",
    "        \n",
    "#         for k in np.arange(0.1,1, 0.1):\n",
    "        k = 1 - i - j\n",
    "        if k > 0:            \n",
    "            rg_voting3 = VotingRegressor(estimators = [('est1', top03_copy[0]), ('est2', top03_copy[1]), \n",
    "                                           ('est3', top03_copy[2])], n_jobs = -1,weights = [i, j, k])\n",
    "            rg_votine3.fit(X_train, y_train)\n",
    "            pred = rg_voting3.predict(X_test)\n",
    "            score = mean_absolute_error(y_test, pred)\n",
    "            scores.append(score)\n",
    "            weights1.append(i)\n",
    "            weights2.append(j)\n",
    "            weights3.append(k)"
   ]
  },
  {
   "cell_type": "code",
   "execution_count": null,
   "metadata": {},
   "outputs": [],
   "source": [
    "# Save the results in a data frame\n",
    "\n",
    "test_scores03 = pd.DataFrame()\n",
    "test_scores03['Weight1'] = weights1\n",
    "test_scores03['Weight2'] = weights2\n",
    "test_scores03['Weight3'] = weights3\n",
    "test_scores03['Test MAE'] = scores\n",
    "\n",
    "condition = (test_scores03['Weight3'] >=0.01)\n",
    "\n",
    "test_scores03 = test_scores03.loc[condition]\n",
    "# Sort the values to see the different test scores depending on the weights\n",
    "test_scores03.sort_values(by = 'Test MAE', ascending = True).head(15)"
   ]
  },
  {
   "cell_type": "code",
   "execution_count": null,
   "metadata": {},
   "outputs": [],
   "source": [
    "rg_voting03 = VotingRegressor(estimators = [('est1', top03_copy[0]), ('est2', top03_copy[1]), \n",
    "                                           ('est3', top03_copy[2])], n_jobs = -1,weights = test_scores03.sort_values(by = 'Test MAE', ascending = True).iloc[0,:3])\n",
    "#Fit and predict\n",
    "\n",
    "rg_voting03.fit(X_train, y_train)\n",
    "pred_voting03 = rg_voting.predict(X_test)"
   ]
  },
  {
   "cell_type": "code",
   "execution_count": null,
   "metadata": {},
   "outputs": [],
   "source": [
    "rg_voting03"
   ]
  },
  {
   "cell_type": "code",
   "execution_count": null,
   "metadata": {},
   "outputs": [],
   "source": [
    "mean_absolute_error(pred_voting03,y_test)"
   ]
  },
  {
   "cell_type": "code",
   "execution_count": null,
   "metadata": {},
   "outputs": [],
   "source": [
    "top3_copy = top3"
   ]
  },
  {
   "cell_type": "code",
   "execution_count": null,
   "metadata": {
    "scrolled": false
   },
   "outputs": [],
   "source": [
    "# use sklearn vote weights\n",
    "# Create empty lists that will storage the different weights\n",
    "\n",
    "weights1 = []\n",
    "weights2 = []\n",
    "weights3 = []\n",
    "scores = []\n",
    "\n",
    "# Create a for loop to evaluate different combinations of weights\n",
    "\n",
    "for i in np.arange(0.1,1, 0.1):\n",
    "    now = datetime.datetime.now()\n",
    "    print(i, now)\n",
    "    for j in np.arange(0.1,1, 0.1):\n",
    "        \n",
    "#         for k in np.arange(0.1,1, 0.1):\n",
    "        k = 1 - i - j\n",
    "        if k > 0:            \n",
    "            rg_voting = VotingRegressor(estimators = [('est1', top3_copy[0]), ('est2', top3_copy[1]), \n",
    "                                           ('est3', top3_copy[2])], n_jobs = -1,weights = [i, j, k])\n",
    "            rg_voting.fit(X_train, y_train)\n",
    "            pred = rg_voting.predict(X_test)\n",
    "            score = mean_absolute_error(y_test, pred)\n",
    "            scores.append(score)\n",
    "            weights1.append(i)\n",
    "            weights2.append(j)\n",
    "            weights3.append(k)"
   ]
  },
  {
   "cell_type": "code",
   "execution_count": null,
   "metadata": {
    "scrolled": false
   },
   "outputs": [],
   "source": [
    "# Save the results in a data frame\n",
    "\n",
    "test_scores = pd.DataFrame()\n",
    "test_scores['Weight1'] = weights1\n",
    "test_scores['Weight2'] = weights2\n",
    "test_scores['Weight3'] = weights3\n",
    "test_scores['Test MAE'] = scores\n",
    "\n",
    "condition = (test_scores['Weight3'] >=0.01)\n",
    "\n",
    "test_scores = test_scores.loc[condition]\n",
    "# Sort the values to see the different test scores depending on the weights\n",
    "test_scores.sort_values(by = 'Test MAE', ascending = True).head(15)"
   ]
  },
  {
   "cell_type": "code",
   "execution_count": null,
   "metadata": {},
   "outputs": [],
   "source": [
    "rg_voting = VotingRegressor(estimators = [('est1', top3_copy[0]), ('est2', top3_copy[1]), \n",
    "                                           ('est3', top3_copy[2])], n_jobs = -1,weights = test_scores.sort_values(by = 'Test MAE', ascending = True).iloc[0,:3])\n",
    "#Fit and predict\n",
    "\n",
    "rg_voting.fit(X_train, y_train)\n",
    "pred_voting = rg_voting.predict(X_test)"
   ]
  },
  {
   "cell_type": "code",
   "execution_count": null,
   "metadata": {
    "scrolled": true
   },
   "outputs": [],
   "source": [
    "mean_absolute_error(pred_voting,y_test)"
   ]
  },
  {
   "cell_type": "code",
   "execution_count": null,
   "metadata": {},
   "outputs": [],
   "source": [
    "rg_voting"
   ]
  },
  {
   "cell_type": "markdown",
   "metadata": {},
   "source": [
    "## 4.10 Plot"
   ]
  },
  {
   "cell_type": "markdown",
   "metadata": {},
   "source": [
    "### 4.10.1 Feature Importance Plot"
   ]
  },
  {
   "cell_type": "code",
   "execution_count": null,
   "metadata": {},
   "outputs": [],
   "source": [
    "# plot_model(best_mae_model)"
   ]
  },
  {
   "cell_type": "code",
   "execution_count": null,
   "metadata": {},
   "outputs": [],
   "source": [
    "# plot_model(best_mae_model, plot = 'error')"
   ]
  },
  {
   "cell_type": "markdown",
   "metadata": {},
   "source": [
    "* When label is high, underestimated\n",
    "* When label is low, overestimated\n",
    "* Some labels with values close to zero are significantly overestimated"
   ]
  },
  {
   "cell_type": "markdown",
   "metadata": {},
   "source": [
    "## 4.11 Predict on test / hold-out Sample"
   ]
  },
  {
   "cell_type": "code",
   "execution_count": null,
   "metadata": {},
   "outputs": [],
   "source": [
    "# predict_model(best_mae_model);"
   ]
  },
  {
   "cell_type": "markdown",
   "metadata": {},
   "source": [
    "## 4.12 Submit to Kaggle"
   ]
  },
  {
   "cell_type": "code",
   "execution_count": null,
   "metadata": {},
   "outputs": [],
   "source": [
    "testfilepath = \"../raw_data/test/\"\n",
    "os.chdir(testfilepath)\n",
    "testfiles = glob.glob(\"*.csv\")\n",
    "seg_len = 150_000"
   ]
  },
  {
   "cell_type": "markdown",
   "metadata": {},
   "source": [
    "Generate 243 features"
   ]
  },
  {
   "cell_type": "code",
   "execution_count": null,
   "metadata": {},
   "outputs": [],
   "source": [
    "# # time-domain features\n",
    "# qt5 = lambda x: x.quantile(0.05)\n",
    "# qt25 = lambda x: x.quantile(0.25)\n",
    "# qt75 = lambda x: x.quantile(0.75)\n",
    "# qt95 = lambda x: x.quantile(0.95)\n",
    "# iqr = lambda x : qt75(x) - qt25(x)\n",
    "# statistics_names = [\"mean\",\"median\",\"std\",\"kurt\",\"skew\",\"min\",\"max\",\"qt5\",\"qt25\",\"qt75\",\"qt95\",\"iqr\"]\n",
    "# statistics_funs = [\"mean\",\"median\",\"std\",\"kurt\",\"skew\",\"min\",\"max\",qt5,qt25,qt75,qt95,iqr]\n",
    "\n",
    "# rol_funcs_names = [\"mean\",\"std\",\"kurt\",\"skew\"]\n",
    "# windows = [10, 100,1000]\n",
    "# rol_feature_names = [\"rol\" + str(w) + \"_\" + func1 + \"_\"+ func2 \\\n",
    "#                      for w in windows\\\n",
    "#                      for func1 in rol_funcs_names \\\n",
    "#                      for func2 in statistics_names \\\n",
    "#                      ]\n",
    "\n",
    "# # envelope_features\n",
    "# envelope_names = [\"rol\" + str(w) + \"envelope_\" + fun \\\n",
    "#                   for w in windows\\\n",
    "#                   for fun in [\"mean\",\"std\",\"max\",\"kurt\",\"skew\"]]\n",
    "\n",
    "# # lag_features\n",
    "# lag_names = [\"lag\" + str(i) for i in range(1,12)]\n",
    "\n",
    "# tfeature_names = statistics_names + rol_feature_names + envelope_names + lag_names\n",
    "\n",
    "# def chunk_statistics(chunk):\n",
    "#     temp_np = chunk['acoustic_data'].agg(statistics_funs)\n",
    "#     return temp_np.tolist()\n",
    "\n",
    "# def rolling_statistics(chunk, windows):\n",
    "#     rtn_list = []\n",
    "\n",
    "#     for w in windows:\n",
    "#         temp_rolling = chunk['acoustic_data'].rolling(w, center = True)\n",
    "#         temp_df = temp_rolling.agg(rol_funcs_names).agg(statistics_funs)\n",
    "#         temp_list = temp_df.values.ravel().tolist()\n",
    "#         rtn_list = temp_list + rtn_list\n",
    "#     return rtn_list     \n",
    "\n",
    "# def rectify_statistics(chunk, windows):\n",
    "#     envelope_stats_list = []\n",
    "#     signal_rectified = chunk['acoustic_data'].apply(np.abs)\n",
    "#     for w in windows:\n",
    "#         signal_envelope = signal_rectified.rolling(w, center = True).mean()\n",
    "#         signal_envelope_list = signal_envelope.agg([\"mean\",\"std\",\"max\",\"kurt\",\"skew\"]).tolist()\n",
    "#         envelope_stats_list = envelope_stats_list + signal_envelope_list\n",
    "#     return envelope_stats_list\n",
    "\n",
    "# def ac_features(chunk):    \n",
    "#     temp = acf(chunk['acoustic_data'], nlags=11, fft = True)\n",
    "#     return temp[1:].tolist()\n",
    "\n",
    "# def generate_stats(chunk,windows):\n",
    "#     \"\"\" statistic feature in time_domain\"\"\"\n",
    "#     rol_stats_list = rolling_statistics(chunk, windows)\n",
    "#     stats_list = chunk_statistics(chunk)\n",
    "#     envelope_stats_list = rectify_statistics(chunk, windows)\n",
    "#     ac_list = ac_features(chunk)\n",
    "#     tfeature_list = stats_list +  rol_stats_list + envelope_stats_list + ac_list\n",
    "#     return tfeature_list"
   ]
  },
  {
   "cell_type": "code",
   "execution_count": null,
   "metadata": {},
   "outputs": [],
   "source": [
    "# # frequency features\n",
    "# # rolling statistic feature in time_domain\n",
    "# freq_stat_names = [\"mean\",\"median\",\"std\",\"kurt\",\"skew\",\"min\",\"max\",\"qt25\",\"qt75\",\"iqr\"]\n",
    "# freq_windows = [5000, 10000, 50000] #\n",
    "# amp_spectrum_rol_feature_names = [\"amp_sp_rol\" + str(w) + \"_\"+ freq_stat_name \\\n",
    "#                                   for w in freq_windows \\\n",
    "#                                   for freq_stat_name in freq_stat_names] \n",
    "# amp_spectrum_rol_seg_feature_names = [\"amp_sp_rol\" + str(w) + \"seg_\" + str(i) for w in freq_windows for i in range(10)]\n",
    "\n",
    "# # rolling functions for amplitude spectrum\n",
    "# def roll_seg_median(spectrum_np, seg_len):\n",
    "#     interval = int(seg_len/20)\n",
    "#     roll_spectrum_seg_median = []\n",
    "#     for i in range(10):\n",
    "#         idx = list((np.arange(0,interval) + interval * i))\n",
    "#         roll_spectrum_seg_median.append(np.median(spectrum_np[idx]))\n",
    "\n",
    "#     return roll_spectrum_seg_median\n",
    "\n",
    "# def rolling_amp_spectrum(chunk, windows, seg_len):\n",
    "#     roll_amp_spectrum_statistics = []\n",
    "#     roll_amp_spectrum_seg_median= []\n",
    "#     sp = np.fft.fft(chunk['acoustic_data'])\n",
    "#     amp_sp = pd.Series(np.abs(sp))[0:int(seg_len/2)]\n",
    "#     for w in windows:\n",
    "#         temp_rolling_median = amp_sp.rolling(w, center = True).agg(np.median)\n",
    "#         roll_amp_spectrum_statistics.append(temp_rolling_median.\n",
    "#                                             agg([\"mean\",\"median\",\"std\",\"kurt\",\"skew\",\"min\",\"max\",qt25,qt75,iqr])) #   \n",
    "#         roll_amp_spectrum_seg_median.append(roll_seg_median(temp_rolling_median, seg_len)) \n",
    "#     roll_amp_spectrum_statistics = [j for sub in roll_amp_spectrum_statistics for j in sub]        \n",
    "#     roll_amp_spectrum_seg_median = [j for sub in roll_amp_spectrum_seg_median for j in sub]\n",
    "\n",
    "#     return roll_amp_spectrum_statistics + roll_amp_spectrum_seg_median\n",
    "\n",
    "# # amplitude spectrum trend (ac)\n",
    "# def ac_spectrum(chunk):\n",
    "#     sp = np.fft.fft(chunk['acoustic_data'])\n",
    "#     SP = np.abs(sp)\n",
    "#     ac_spectrum_list = acf(SP, nlags=11, fft = True)[1:]\n",
    "#     return ac_spectrum_list\n"
   ]
  },
  {
   "cell_type": "code",
   "execution_count": null,
   "metadata": {},
   "outputs": [],
   "source": [
    "# # spectrogram features\n",
    "# import librosa as lr\n",
    "# def spectrogram_feature(chunk, HOP_LENGTH, SIZE_WINDOW):    \n",
    "#     spec = lr.stft(chunk['acoustic_data'].values.astype(float), hop_length = HOP_LENGTH, n_fft = SIZE_WINDOW)\n",
    "#     spec_rectified = np.abs(spec)\n",
    "#     mean_bandwidth = np.mean(lr.feature.spectral_bandwidth(S = spec_rectified))\n",
    "#     mean_centroids = np.mean(lr.feature.spectral_centroid(S = spec_rectified))\n",
    "#     return mean_centroids, mean_bandwidth\n"
   ]
  },
  {
   "cell_type": "markdown",
   "metadata": {},
   "source": [
    "Generate 243 features"
   ]
  },
  {
   "cell_type": "code",
   "execution_count": null,
   "metadata": {
    "scrolled": true
   },
   "outputs": [],
   "source": [
    "# j = -1\n",
    "\n",
    "# seg_id =[]\n",
    "# tfeatures = []\n",
    "\n",
    "# roll_AP_statistics = []\n",
    "# ac_spectrum_list = []\n",
    "\n",
    "# HOP_LENGTH = 2**6\n",
    "# SIZE_WINDOW = 2**7\n",
    "# bandwidths = []\n",
    "# centroids = []\n",
    "\n",
    "# for file in testfiles: \n",
    "#     chunk = pd.read_csv(file)\n",
    "#     j += 1\n",
    "#     if j % 500 == 0:\n",
    "#         print(j)\n",
    "#         now = datetime.datetime.now()\n",
    "#         print(now)\n",
    "    \n",
    "#     tfeature_list = generate_stats(chunk, windows)\n",
    "#     tfeatures.append( tfeature_list)\n",
    "\n",
    "#     seg_id.append(file[:-4])\n",
    "\n",
    "#     roll_amp_spectrum_statistics = rolling_amp_spectrum(chunk, freq_windows, seg_len)\n",
    "#     roll_AP_statistics.append(roll_amp_spectrum_statistics)\n",
    "    \n",
    "#     ac_spectrum_row = ac_spectrum(chunk)\n",
    "#     ac_spectrum_list.append(ac_spectrum_row)\n",
    "    \n",
    "#     mean_centroids, mean_bandwidth = spectrogram_feature(chunk, HOP_LENGTH, SIZE_WINDOW)\n",
    "#     centroids.append(mean_centroids)\n",
    "#     bandwidths.append(mean_bandwidth)\n",
    "# #     if j > 2:\n",
    "# #         break\n",
    "\n",
    "# tfeature_df = pd.DataFrame(tfeatures, columns = tfeature_names)\n",
    "# roll_AP_statistics_df = pd.DataFrame(roll_AP_statistics, columns = amp_spectrum_rol_feature_names +\n",
    "#                                     amp_spectrum_rol_seg_feature_names)\n",
    "# ac_amp_spec_df = pd.DataFrame(ac_spectrum_list, columns = ['amp_spec_ac' + str(i) for i in range(1,12)])\n",
    "# spectrogram_feature_df = pd.DataFrame({'mean_centroids':centroids, 'bandwidth':bandwidths})\n",
    "\n"
   ]
  },
  {
   "cell_type": "code",
   "execution_count": null,
   "metadata": {
    "scrolled": true
   },
   "outputs": [],
   "source": [
    "# roll_AP_statistics_df.dropna(axis = 1, inplace = True)\n",
    "# test_df = pd.concat([tfeature_df, \n",
    "#                      roll_AP_statistics_df, \n",
    "#                      ac_amp_spec_df, \n",
    "#                      spectrogram_feature_df], axis = 1) \n",
    "# test_df.index = pd.Index(seg_id)\n",
    "# test_df.index.name = 'seg_id'\n",
    "# test_df.to_pickle('../../data/test_features243.pkl')\n",
    "# test_df.head()"
   ]
  },
  {
   "cell_type": "markdown",
   "metadata": {},
   "source": [
    "Generate 212 features"
   ]
  },
  {
   "cell_type": "code",
   "execution_count": null,
   "metadata": {},
   "outputs": [],
   "source": [
    "qt25 = lambda x: x.quantile(0.25)\n",
    "qt75 = lambda x: x.quantile(0.75)\n",
    "iqr = lambda x : qt75(x) - qt25(x)\n",
    "abs_sum = lambda x : sum(abs(x))\n",
    "statistics_names = [\"mean\",\"median\",\"std\",\"kurt\",\"skew\",\"min\",\"max\",\"qt25\",\"qt75\",\"iqr\",\"abs_sum\"]\n",
    "\n",
    "rol_funcs = [\"mean\",\"median\",\"std\",\"kurt\",\"skew\"]\n",
    "rol_funcs_names = [\"mean\",\"median\",\"std\",\"kurt\",\"skew\"]\n",
    "\n",
    "windows = [50, 100,500,1000, 5000]\n",
    "rol_feature_names = [\"rol\" + str(w) + \"_\" + func1 + \"_\"+ func2 \\\n",
    "                     for w in windows\\\n",
    "                     for func1 in rol_funcs_names \\\n",
    "                     for func2 in [\"smean\",\"smedian\",\"sstd\",\"skurt\",\"sskew\"] \\\n",
    "                     ]\n",
    "\n",
    "rol10_feature_names = [\"rol10\" + \"_\" + func1 + \"_\"+ func2 \\\n",
    "                     for func1 in rol_funcs_names \\\n",
    "                     for func2 in [\"smean\",\"smedian\",\"sstd\",\"skurt\",\"sskew\"] \\\n",
    "                     ]\n",
    "\n",
    "lag_names = [\"lag\" + str(i) for i in range(1,11)]\n",
    "\n",
    "tfeature_names = statistics_names + rol_feature_names + lag_names\n",
    "def chunk_statistics(chunk):\n",
    "    temp_df = chunk['acoustic_data'].agg([\"mean\",\"median\",\"std\",\"kurt\",\"skew\",\"min\",\"max\",qt25,qt75,iqr,abs_sum])\n",
    "    return pd.DataFrame(temp_df.values.reshape(1,len(statistics_names) ), columns = statistics_names)\n",
    "\n",
    "# rol_features\n",
    "def rolling_statistics(chunk, windows):\n",
    "    rtn_df = []\n",
    "\n",
    "    for w in windows:\n",
    "        temp_rolling = chunk['acoustic_data'].rolling(w, center = True)\n",
    "        temp_df = temp_rolling.agg(rol_funcs).agg([\"mean\",\"median\",\"std\",\"kurt\",\"skew\"])\n",
    "        window_df = pd.DataFrame(temp_df.values.reshape((1,len(temp_df.columns) * len(temp_df))), \n",
    "                     columns = [\"rol\" + str(w) + \"_\" + func1 + \"_\"+ func2 \\\n",
    "                                for func2 in [\"smean\",\"smedian\",\"sstd\",\"skurt\",\"sskew\"] for func1 in rol_funcs_names ])\n",
    "        if len(rtn_df) > 0:\n",
    "            rtn_df = pd.concat([rtn_df, window_df], axis=1)\n",
    "        else:\n",
    "            rtn_df = window_df\n",
    "    return rtn_df      \n",
    "    \n",
    "\n",
    "def ac_features(chunk):\n",
    "    \n",
    "    temp = acf(chunk['acoustic_data'], nlags=10, fft = True)\n",
    "    return pd.DataFrame(temp[1:].reshape(1,10), columns = lag_names)\n",
    "\n",
    "def generate_stats(chunk, windows):\n",
    "    \"\"\" statistic feature in time_domain\"\"\"\n",
    "    rol_stats_df = rolling_statistics(chunk, windows)\n",
    "    stats_df = chunk_statistics(chunk)\n",
    "    ac_df = ac_features(chunk)\n",
    "    tfeature_list = pd.concat([stats_df, rol_stats_df,ac_df], axis = 1).values.tolist()[0] # rol_stats_df\n",
    "    return tfeature_list\n"
   ]
  },
  {
   "cell_type": "code",
   "execution_count": null,
   "metadata": {},
   "outputs": [],
   "source": []
  },
  {
   "cell_type": "code",
   "execution_count": null,
   "metadata": {},
   "outputs": [],
   "source": [
    "j = -1\n",
    "\n",
    "\n",
    "seg_id =[]\n",
    "rol10 = []\n",
    "tfeatures = []\n",
    "# roll_AP_statistics = []\n",
    "\n",
    "for file in testfiles: \n",
    "    chunk = pd.read_csv(file)\n",
    "    j += 1\n",
    "    if j % 500 == 0:\n",
    "        print(j)\n",
    "        now = datetime.datetime.now()\n",
    "        print(now)\n",
    "    \n",
    "    tfeature_list = generate_stats(chunk, windows)\n",
    "    tfeatures.append( tfeature_list)\n",
    "    rol10.append(rolling_statistics(chunk, [10]).values.tolist()[0]) \n",
    "\n",
    "    seg_id.append(file[:-4])\n",
    "\n",
    "#     roll_amp_spectrum_statistics = rolling_amp_spectrum(chunk, freq_windows, seg_len)\n",
    "#     roll_AP_statistics.append(roll_amp_spectrum_statistics)\n",
    "    \n",
    "    if j > 2:\n",
    "        break\n",
    "\n",
    "tfeature_df = pd.DataFrame(tfeatures, columns = tfeature_names, index = seg_id)\n",
    "trol10_features_df = pd.DataFrame(rol10, columns = rol10_feature_names, index = seg_id)\n",
    "tfeatures_df = pd.concat([tfeature_df,trol10_features_df], axis = 1)\n",
    "tfeatures_df.to_pickle('../../data/test_features_timedomain212.pkl')\n",
    "# roll_AP_statistics_df = pd.DataFrame(roll_AP_statistics, columns = amp_spectrum_rol_feature_names +\n",
    "#                                     amp_spectrum_rol_seg_feature_names)\n",
    "\n"
   ]
  },
  {
   "cell_type": "code",
   "execution_count": null,
   "metadata": {},
   "outputs": [],
   "source": [
    "test_df243 = pd.read_pickle('../../data/test_features243.pkl')\n",
    "roll_AP_statistics_df = test_df243[[col for col in test_df243.columns if 'amp_sp_rol' in col]]\n"
   ]
  },
  {
   "cell_type": "code",
   "execution_count": null,
   "metadata": {},
   "outputs": [],
   "source": [
    "test_df = pd.concat([tfeatures_df, roll_AP_statistics_df ], axis = 1) \n",
    "test_df.index = pd.Index(seg_id)\n",
    "test_df.index.name = 'seg_id'\n",
    "test_df.drop(columns = ['median'], inplace = True)\n",
    "test_df.drop(columns = [col for col in test_df.columns if '_median_smedian' in col], inplace = True)\n",
    "\n",
    "test_df.to_pickle('../../data/test_features212.pkl')\n",
    "test_df.head()"
   ]
  },
  {
   "cell_type": "code",
   "execution_count": null,
   "metadata": {},
   "outputs": [],
   "source": [
    "test_df212 = pd.read_pickle('../data/test_features212.pkl')\n",
    "test_df212.shape"
   ]
  },
  {
   "cell_type": "markdown",
   "metadata": {},
   "source": [
    "### single model prediction"
   ]
  },
  {
   "cell_type": "code",
   "execution_count": 18,
   "metadata": {},
   "outputs": [],
   "source": [
    "test_df384 = pd.read_pickle('../data/test_df384.pkl')"
   ]
  },
  {
   "cell_type": "code",
   "execution_count": 19,
   "metadata": {},
   "outputs": [
    {
     "data": {
      "text/html": [],
      "text/plain": [
       "<IPython.core.display.HTML object>"
      ]
     },
     "metadata": {},
     "output_type": "display_data"
    },
    {
     "data": {
      "text/html": [],
      "text/plain": [
       "<IPython.core.display.HTML object>"
      ]
     },
     "metadata": {},
     "output_type": "display_data"
    },
    {
     "data": {
      "text/html": [],
      "text/plain": [
       "<IPython.core.display.HTML object>"
      ]
     },
     "metadata": {},
     "output_type": "display_data"
    }
   ],
   "source": [
    "best3_models = [tuned_lightgbm, tuned_rf,  tuned_gbr]\n",
    "model_names = ['lightgbm', 'rf','gbr']\n",
    "for idx, single_model in enumerate(best3_models):     \n",
    "#     single_model.fit(X,y)\n",
    "    pred_test = predict_model(single_model ,data = test_df384)\n",
    "    pred_label = pd.DataFrame(pred_test['prediction_label'].values, index = test_df384.index)\n",
    "    pred_label.columns = ['time_to_failure']\n",
    "    pred_label.to_csv('../data/submission_384_pca95' + model_names[idx] + '.csv')"
   ]
  },
  {
   "cell_type": "markdown",
   "metadata": {},
   "source": [
    "### blend model prediction"
   ]
  },
  {
   "cell_type": "code",
   "execution_count": 20,
   "metadata": {},
   "outputs": [
    {
     "data": {
      "text/html": [],
      "text/plain": [
       "<IPython.core.display.HTML object>"
      ]
     },
     "metadata": {},
     "output_type": "display_data"
    }
   ],
   "source": [
    "# blender.fit(X,y)\n",
    "pred_test = predict_model(blender ,data = test_df384)\n",
    "pred_label = pd.DataFrame(pred_test['prediction_label'].values, index = test_df384.index)\n",
    "pred_label.columns = ['time_to_failure']\n",
    "pred_label.to_csv('../data/submission384_pca95_noweights_voting.csv')"
   ]
  },
  {
   "cell_type": "markdown",
   "metadata": {},
   "source": [
    "### weighted voting regressor prediction"
   ]
  },
  {
   "cell_type": "code",
   "execution_count": null,
   "metadata": {},
   "outputs": [],
   "source": [
    "# rg_voting.fit(X, y)\n",
    "pred_voting = rg_voting.predict(test_df)\n",
    "pred_label = pd.DataFrame(pred_voting, index = test_df.index)\n",
    "pred_label.columns = ['time_to_failure']\n",
    "pred_label.to_csv('../../data/submission_weighted_voting.csv')"
   ]
  },
  {
   "cell_type": "markdown",
   "metadata": {},
   "source": [
    "Private Score on kaggle and rank using 212 features:\n",
    "* blender no weights: 2.471, 114, <top3%\n",
    "* gbr: 2.481, 150 \n",
    "* lightgbr: 2.487\n",
    "* VotingRegressor with weithts： 2.493\n",
    "* rf: 2.495\n",
    "\n"
   ]
  },
  {
   "cell_type": "markdown",
   "metadata": {},
   "source": [
    "Private Score on kaggle and rank using 243 features on 9/28/2022 is poorer, even though the trainig performance is better:\n",
    "* blender no weights: 2.505\n",
    "* gbr: 2.5889 \n",
    "* lightgbr: 2.5152\n",
    "* VotingRegressor with weithts： 2.5196\n",
    "* rf: 2.5115"
   ]
  },
  {
   "cell_type": "markdown",
   "metadata": {},
   "source": [
    "Private Score on kaggle and rank using 384 features on 9/29/2022 intermediate:\n",
    "\n",
    "* blender no weights: 2.4932\n",
    "* gbr: 2.57878\n",
    "* lightgbr: 2.5017\n",
    "* rf: 2.4968"
   ]
  },
  {
   "cell_type": "markdown",
   "metadata": {},
   "source": [
    "Private Score on kaggle and rank using 384 features with pca 0.8 on 9/29/2022:\n",
    "\n",
    "* blender no weights: 2.508\n",
    "* gbr: 2.52355\n",
    "* lightgbr: 2.4885\n",
    "* rf: 2.54866"
   ]
  },
  {
   "cell_type": "code",
   "execution_count": null,
   "metadata": {},
   "outputs": [],
   "source": []
  }
 ],
 "metadata": {
  "kernelspec": {
   "display_name": "Python 3 (ipykernel)",
   "language": "python",
   "name": "python3"
  },
  "language_info": {
   "codemirror_mode": {
    "name": "ipython",
    "version": 3
   },
   "file_extension": ".py",
   "mimetype": "text/x-python",
   "name": "python",
   "nbconvert_exporter": "python",
   "pygments_lexer": "ipython3",
   "version": "3.8.13"
  }
 },
 "nbformat": 4,
 "nbformat_minor": 4
}
