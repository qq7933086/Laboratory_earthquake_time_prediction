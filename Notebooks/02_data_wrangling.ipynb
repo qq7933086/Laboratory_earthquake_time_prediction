{
 "cells": [
  {
   "cell_type": "markdown",
   "metadata": {},
   "source": [
    "# 2 Data wrangling"
   ]
  },
  {
   "cell_type": "markdown",
   "metadata": {},
   "source": [
    "## 2.2 Introduction"
   ]
  },
  {
   "cell_type": "markdown",
   "metadata": {},
   "source": [
    "This step focuses on collecting your data, organizing it, and making sure it's well defined."
   ]
  },
  {
   "cell_type": "markdown",
   "metadata": {},
   "source": [
    "### 2.2.1 Recap Of Data Science Problem"
   ]
  },
  {
   "cell_type": "markdown",
   "metadata": {},
   "source": [
    "The purpose of this data science project is to predict time to failure given each small segment of acoustic signal using a data-driven model"
   ]
  },
  {
   "cell_type": "markdown",
   "metadata": {},
   "source": [
    "## 2.3 Imports"
   ]
  },
  {
   "cell_type": "code",
   "execution_count": 1,
   "metadata": {
    "scrolled": true
   },
   "outputs": [],
   "source": [
    "import pandas as pd\n",
    "import matplotlib.pyplot as plt\n",
    "import seaborn as sns\n",
    "from pandas_profiling import ProfileReport\n",
    "import numpy as np\n",
    "import glob, os"
   ]
  },
  {
   "cell_type": "markdown",
   "metadata": {},
   "source": [
    "## 2.4 Objectives"
   ]
  },
  {
   "cell_type": "markdown",
   "metadata": {},
   "source": [
    "There are some fundamental questions to resolve in this notebook before you move on.\n",
    "\n",
    "* Do you think you may have the data you need to tackle the desired question?\n",
    "    * Have you identified the required target value?\n",
    "    * Do you have potentially useful features?\n",
    "* Do you have any fundamental issues with the data?\n",
    "* Do your column names correspond to what those columns store?\n",
    "    * Check the data types of your columns. Are they sensible?\n",
    "    * Calculate summary statistics for each of your columns, such as mean, median, mode, standard deviation, range, and number of unique values. What does this tell you about your data? What do you now need to investigate?"
   ]
  },
  {
   "cell_type": "markdown",
   "metadata": {},
   "source": [
    "# 2.5 Load the training data"
   ]
  },
  {
   "cell_type": "markdown",
   "metadata": {},
   "source": [
    "## 2.5.1 Check a small section of data"
   ]
  },
  {
   "cell_type": "code",
   "execution_count": 2,
   "metadata": {},
   "outputs": [],
   "source": [
    "filename = 'D:/DataScience/rawdata/2ndCapstone/train.csv'"
   ]
  },
  {
   "cell_type": "code",
   "execution_count": 3,
   "metadata": {},
   "outputs": [],
   "source": [
    "df_tr_sec =  pd.read_csv(filename,nrows = 6e6)\n"
   ]
  },
  {
   "cell_type": "code",
   "execution_count": 4,
   "metadata": {
    "scrolled": true
   },
   "outputs": [
    {
     "name": "stdout",
     "output_type": "stream",
     "text": [
      "<class 'pandas.core.frame.DataFrame'>\n",
      "RangeIndex: 6000000 entries, 0 to 5999999\n",
      "Data columns (total 2 columns):\n",
      " #   Column           Dtype  \n",
      "---  ------           -----  \n",
      " 0   acoustic_data    int64  \n",
      " 1   time_to_failure  float64\n",
      "dtypes: float64(1), int64(1)\n",
      "memory usage: 91.6 MB\n"
     ]
    }
   ],
   "source": [
    "df_tr_sec.info()"
   ]
  },
  {
   "cell_type": "code",
   "execution_count": 5,
   "metadata": {},
   "outputs": [
    {
     "data": {
      "text/html": [
       "<div>\n",
       "<style scoped>\n",
       "    .dataframe tbody tr th:only-of-type {\n",
       "        vertical-align: middle;\n",
       "    }\n",
       "\n",
       "    .dataframe tbody tr th {\n",
       "        vertical-align: top;\n",
       "    }\n",
       "\n",
       "    .dataframe thead th {\n",
       "        text-align: right;\n",
       "    }\n",
       "</style>\n",
       "<table border=\"1\" class=\"dataframe\">\n",
       "  <thead>\n",
       "    <tr style=\"text-align: right;\">\n",
       "      <th></th>\n",
       "      <th>acoustic_data</th>\n",
       "      <th>time_to_failure</th>\n",
       "    </tr>\n",
       "  </thead>\n",
       "  <tbody>\n",
       "    <tr>\n",
       "      <th>count</th>\n",
       "      <td>6.000000e+06</td>\n",
       "      <td>6.000000e+06</td>\n",
       "    </tr>\n",
       "    <tr>\n",
       "      <th>mean</th>\n",
       "      <td>4.545660e+00</td>\n",
       "      <td>1.350958e+00</td>\n",
       "    </tr>\n",
       "    <tr>\n",
       "      <th>std</th>\n",
       "      <td>2.277303e+01</td>\n",
       "      <td>2.533610e+00</td>\n",
       "    </tr>\n",
       "    <tr>\n",
       "      <th>min</th>\n",
       "      <td>-4.621000e+03</td>\n",
       "      <td>7.954798e-04</td>\n",
       "    </tr>\n",
       "    <tr>\n",
       "      <th>25%</th>\n",
       "      <td>2.000000e+00</td>\n",
       "      <td>3.902964e-01</td>\n",
       "    </tr>\n",
       "    <tr>\n",
       "      <th>50%</th>\n",
       "      <td>5.000000e+00</td>\n",
       "      <td>7.796974e-01</td>\n",
       "    </tr>\n",
       "    <tr>\n",
       "      <th>75%</th>\n",
       "      <td>7.000000e+00</td>\n",
       "      <td>1.169098e+00</td>\n",
       "    </tr>\n",
       "    <tr>\n",
       "      <th>max</th>\n",
       "      <td>3.252000e+03</td>\n",
       "      <td>1.154080e+01</td>\n",
       "    </tr>\n",
       "  </tbody>\n",
       "</table>\n",
       "</div>"
      ],
      "text/plain": [
       "       acoustic_data  time_to_failure\n",
       "count   6.000000e+06     6.000000e+06\n",
       "mean    4.545660e+00     1.350958e+00\n",
       "std     2.277303e+01     2.533610e+00\n",
       "min    -4.621000e+03     7.954798e-04\n",
       "25%     2.000000e+00     3.902964e-01\n",
       "50%     5.000000e+00     7.796974e-01\n",
       "75%     7.000000e+00     1.169098e+00\n",
       "max     3.252000e+03     1.154080e+01"
      ]
     },
     "execution_count": 5,
     "metadata": {},
     "output_type": "execute_result"
    }
   ],
   "source": [
    "df_tr_sec.describe()"
   ]
  },
  {
   "cell_type": "code",
   "execution_count": 6,
   "metadata": {
    "scrolled": true
   },
   "outputs": [
    {
     "data": {
      "text/html": [
       "<div>\n",
       "<style scoped>\n",
       "    .dataframe tbody tr th:only-of-type {\n",
       "        vertical-align: middle;\n",
       "    }\n",
       "\n",
       "    .dataframe tbody tr th {\n",
       "        vertical-align: top;\n",
       "    }\n",
       "\n",
       "    .dataframe thead th {\n",
       "        text-align: right;\n",
       "    }\n",
       "</style>\n",
       "<table border=\"1\" class=\"dataframe\">\n",
       "  <thead>\n",
       "    <tr style=\"text-align: right;\">\n",
       "      <th></th>\n",
       "      <th>acoustic_data</th>\n",
       "      <th>time_to_failure</th>\n",
       "    </tr>\n",
       "  </thead>\n",
       "  <tbody>\n",
       "    <tr>\n",
       "      <th>0</th>\n",
       "      <td>12</td>\n",
       "      <td>1.4691</td>\n",
       "    </tr>\n",
       "    <tr>\n",
       "      <th>1</th>\n",
       "      <td>6</td>\n",
       "      <td>1.4691</td>\n",
       "    </tr>\n",
       "    <tr>\n",
       "      <th>2</th>\n",
       "      <td>8</td>\n",
       "      <td>1.4691</td>\n",
       "    </tr>\n",
       "    <tr>\n",
       "      <th>3</th>\n",
       "      <td>5</td>\n",
       "      <td>1.4691</td>\n",
       "    </tr>\n",
       "    <tr>\n",
       "      <th>4</th>\n",
       "      <td>8</td>\n",
       "      <td>1.4691</td>\n",
       "    </tr>\n",
       "  </tbody>\n",
       "</table>\n",
       "</div>"
      ],
      "text/plain": [
       "   acoustic_data  time_to_failure\n",
       "0             12           1.4691\n",
       "1              6           1.4691\n",
       "2              8           1.4691\n",
       "3              5           1.4691\n",
       "4              8           1.4691"
      ]
     },
     "execution_count": 6,
     "metadata": {},
     "output_type": "execute_result"
    }
   ],
   "source": [
    "df_tr_sec.head()"
   ]
  },
  {
   "cell_type": "code",
   "execution_count": 7,
   "metadata": {},
   "outputs": [
    {
     "data": {
      "image/png": "[encoded data removed]",
      "text/plain": [
       "<Figure size 432x288 with 2 Axes>"
      ]
     },
     "metadata": {
      "needs_background": "light"
     },
     "output_type": "display_data"
    }
   ],
   "source": [
    "fig, ax1 = plt.subplots()\n",
    "fig.figsize = (16,9)\n",
    "ax2 = ax1.twinx()\n",
    "ax1.plot(df_tr_sec['acoustic_data'], 'g.')\n",
    "ax2.plot(df_tr_sec['time_to_failure'], 'b.')\n",
    "\n",
    "\n",
    "ax1.set_ylabel('Signal', color='g')\n",
    "ax2.set_ylabel('Time to failure', color='b')\n",
    "plt.title('The first 0.6 M data points');"
   ]
  },
  {
   "cell_type": "code",
   "execution_count": 8,
   "metadata": {},
   "outputs": [
    {
     "data": {
      "image/png": "[encoded data removed]",
      "text/plain": [
       "<Figure size 432x288 with 1 Axes>"
      ]
     },
     "metadata": {
      "needs_background": "light"
     },
     "output_type": "display_data"
    }
   ],
   "source": [
    "df_tr_sec.plot('time_to_failure','acoustic_data',kind = 'scatter')\n",
    "plt.gca().invert_xaxis()"
   ]
  },
  {
   "cell_type": "code",
   "execution_count": 9,
   "metadata": {},
   "outputs": [
    {
     "data": {
      "image/png": "[encoded data removed]",
      "text/plain": [
       "<Figure size 432x288 with 1 Axes>"
      ]
     },
     "metadata": {
      "needs_background": "light"
     },
     "output_type": "display_data"
    }
   ],
   "source": [
    "time2fail_np = df_tr_sec['time_to_failure'].to_numpy()\n",
    "dt_np = time2fail_np[0:-1] - time2fail_np[1:] \n",
    "dt_unique_np= np.unique(dt_np)\n",
    "# print(\"Unique time sampling:\")\n",
    "# print(dt_unique_np)\n",
    "plt.hist(dt_np)\n",
    "plt.title('Histogram of time sampling')\n",
    "plt.ylabel('Count')\n",
    "plt.yscale('log')\n",
    "plt.xlabel('time sampling');"
   ]
  },
  {
   "cell_type": "markdown",
   "metadata": {},
   "source": [
    "`acoustic_data` distribute unevenly.\n",
    "\n",
    "From `time_to_failure`, the equipment may work a while to acquire signal at high frequency (1.1e-9 s), and then take a rest (1e-3 s)before next aquisition.\n",
    "\n",
    "The sampling rate is not a constant\n",
    "\n"
   ]
  },
  {
   "cell_type": "markdown",
   "metadata": {},
   "source": [
    "## 2.5.2 Truncate training data for each earthquake event"
   ]
  },
  {
   "cell_type": "code",
   "execution_count": 11,
   "metadata": {
    "scrolled": false
   },
   "outputs": [
    {
     "name": "stdout",
     "output_type": "stream",
     "text": [
      "idx Int64Index([5656574], dtype='int64')\n",
      "idx Int64Index([50085878], dtype='int64')\n",
      "idx Int64Index([104677356], dtype='int64')\n",
      "idx Int64Index([138772453], dtype='int64')\n",
      "idx Int64Index([187641820], dtype='int64')\n",
      "idx Int64Index([218652630], dtype='int64')\n",
      "idx Int64Index([245829585], dtype='int64')\n",
      "idx Int64Index([307838917], dtype='int64')\n",
      "idx Int64Index([338276287], dtype='int64')\n",
      "idx Int64Index([375377848], dtype='int64')\n",
      "idx Int64Index([419368880], dtype='int64')\n",
      "idx Int64Index([461811623], dtype='int64')\n",
      "idx Int64Index([495800225], dtype='int64')\n",
      "idx Int64Index([528777115], dtype='int64')\n",
      "idx Int64Index([585568144], dtype='int64')\n",
      "idx Int64Index([621985673], dtype='int64')\n"
     ]
    }
   ],
   "source": [
    "# using chunk to manipulate the raw train data\n",
    "filenum = 0\n",
    "j = 0\n",
    "previous_df = pd.DataFrame()\n",
    "total_missing = np.array([0,0])\n",
    "total_records = 0\n",
    "min_time = 100000\n",
    "\n",
    "for chunk in pd.read_csv(filename, chunksize = 1e7):\n",
    "    # count missing value in each column\n",
    "\n",
    "    total_missing += chunk.isna().sum().to_numpy()\n",
    "    total_records += len(chunk)\n",
    "    min_time = np.array([chunk.iloc[-1,1], min_time]).min()\n",
    "    \n",
    "    j += 1\n",
    "#     print('chunk', j)\n",
    "    dt_df = chunk[['time_to_failure']].shift(fill_value = chunk.iloc[0]['time_to_failure']) - chunk[['time_to_failure']]\n",
    "    # find the last index of an earthquake event\n",
    "    idx = dt_df[dt_df['time_to_failure'] < 0].index\n",
    "    \n",
    "    if len(idx) == 0:\n",
    "        previous_df = pd.concat([previous_df,chunk])\n",
    "    else:\n",
    "        prev_i = chunk.index[0]\n",
    "#         print('idx', idx)\n",
    "        for i in idx:\n",
    "            # save each earthquake event in a pickle file\n",
    "            pd.concat([previous_df, chunk.loc[prev_i:i, :]]).to_pickle('D:/DataScience/traindata/train_sec_' + str(filenum) + '.pkl')\n",
    "            filenum += 1\n",
    "            prev_i = i\n",
    "        previous_df = chunk.loc[i:, :]\n",
    "#     print('filename', filenum)\n",
    "\n",
    "# The last earthquake file    \n",
    "previous_df.to_pickle('D:/DataScience/traindata/train_sec_' + str(filenum) + '.pkl')"
   ]
  },
  {
   "cell_type": "code",
   "execution_count": 12,
   "metadata": {
    "scrolled": true
   },
   "outputs": [
    {
     "name": "stdout",
     "output_type": "stream",
     "text": [
      "nan for two variables:  [0 0]\n",
      "Total records:  629145480\n",
      "Last time of recording:  0.021999835975000003\n"
     ]
    }
   ],
   "source": [
    "print(\"nan for two variables: \", total_missing)\n",
    "print(\"Total records: \", total_records)\n",
    "print(\"Last time of recording: \", min_time)"
   ]
  },
  {
   "cell_type": "markdown",
   "metadata": {},
   "source": [
    "## 2.5.3 Check tuncated data"
   ]
  },
  {
   "cell_type": "code",
   "execution_count": 13,
   "metadata": {},
   "outputs": [],
   "source": [
    "def plot_train_segment(fileobject):\n",
    "    df = pd.read_pickle(fileobject)\n",
    "    print(df.columns)\n",
    "    print('Records number:',len(df))\n",
    "    df.plot(x = 'time_to_failure', y = 'acoustic_data')\n",
    "    \n",
    "    plt.gca().invert_xaxis()\n",
    "    plt.title(fileobject[31:-4])\n",
    "    plt.savefig(\"../images/\" + fileobject[25:-4] + \".jpg\")\n",
    "    #     plt.close()"
   ]
  },
  {
   "cell_type": "code",
   "execution_count": 14,
   "metadata": {},
   "outputs": [],
   "source": [
    "pathlist = ['D:/DataScience/traindata/train_sec_' + str(num) + '.pkl' for num in range (0,17)]\n"
   ]
  },
  {
   "cell_type": "code",
   "execution_count": 15,
   "metadata": {},
   "outputs": [
    {
     "name": "stdout",
     "output_type": "stream",
     "text": [
      "Index(['acoustic_data', 'time_to_failure'], dtype='object')\n",
      "Records number: 48869368\n",
      "Index(['acoustic_data', 'time_to_failure'], dtype='object')\n",
      "Records number: 31010811\n"
     ]
    },
    {
     "data": {
      "image/png": "[encoded data removed]",
      "text/plain": [
       "<Figure size 432x288 with 1 Axes>"
      ]
     },
     "metadata": {
      "needs_background": "light"
     },
     "output_type": "display_data"
    },
    {
     "data": {
      "image/png": "[encoded data removed]",
      "text/plain": [
       "<Figure size 432x288 with 1 Axes>"
      ]
     },
     "metadata": {
      "needs_background": "light"
     },
     "output_type": "display_data"
    }
   ],
   "source": [
    "# plot the training segment and save figure\n",
    "for path in pathlist[4:6]:\n",
    "    plot_train_segment(path)"
   ]
  },
  {
   "cell_type": "code",
   "execution_count": 16,
   "metadata": {
    "scrolled": false
   },
   "outputs": [
    {
     "data": {
      "text/html": [
       "<div>\n",
       "<style scoped>\n",
       "    .dataframe tbody tr th:only-of-type {\n",
       "        vertical-align: middle;\n",
       "    }\n",
       "\n",
       "    .dataframe tbody tr th {\n",
       "        vertical-align: top;\n",
       "    }\n",
       "\n",
       "    .dataframe thead th {\n",
       "        text-align: right;\n",
       "    }\n",
       "</style>\n",
       "<table border=\"1\" class=\"dataframe\">\n",
       "  <thead>\n",
       "    <tr style=\"text-align: right;\">\n",
       "      <th></th>\n",
       "      <th>acoustic_data</th>\n",
       "      <th>time_to_failure</th>\n",
       "    </tr>\n",
       "  </thead>\n",
       "  <tbody>\n",
       "    <tr>\n",
       "      <th>629145475</th>\n",
       "      <td>7</td>\n",
       "      <td>9.759796</td>\n",
       "    </tr>\n",
       "    <tr>\n",
       "      <th>629145476</th>\n",
       "      <td>9</td>\n",
       "      <td>9.759796</td>\n",
       "    </tr>\n",
       "    <tr>\n",
       "      <th>629145477</th>\n",
       "      <td>10</td>\n",
       "      <td>9.759796</td>\n",
       "    </tr>\n",
       "    <tr>\n",
       "      <th>629145478</th>\n",
       "      <td>6</td>\n",
       "      <td>9.759796</td>\n",
       "    </tr>\n",
       "    <tr>\n",
       "      <th>629145479</th>\n",
       "      <td>5</td>\n",
       "      <td>9.759796</td>\n",
       "    </tr>\n",
       "  </tbody>\n",
       "</table>\n",
       "</div>"
      ],
      "text/plain": [
       "           acoustic_data  time_to_failure\n",
       "629145475              7         9.759796\n",
       "629145476              9         9.759796\n",
       "629145477             10         9.759796\n",
       "629145478              6         9.759796\n",
       "629145479              5         9.759796"
      ]
     },
     "execution_count": 16,
     "metadata": {},
     "output_type": "execute_result"
    }
   ],
   "source": [
    "df_tr_end = pd.read_pickle(pathlist[-1])\n",
    "df_tr_end.iloc[-5:]"
   ]
  },
  {
   "cell_type": "markdown",
   "metadata": {},
   "source": [
    "`train_sec_16` is not complete, i.e., it does not records the failure event"
   ]
  },
  {
   "cell_type": "markdown",
   "metadata": {},
   "source": [
    "## 2.5.4 Pandas profiling for a training segment"
   ]
  },
  {
   "cell_type": "code",
   "execution_count": 17,
   "metadata": {},
   "outputs": [],
   "source": [
    "df_tr_sec = pd.read_pickle(pathlist[7])"
   ]
  },
  {
   "cell_type": "code",
   "execution_count": 18,
   "metadata": {},
   "outputs": [],
   "source": [
    "profile = ProfileReport(df_tr_sec, title=\"Pandas Profiling Report of the Training Data 6\")"
   ]
  },
  {
   "cell_type": "code",
   "execution_count": 19,
   "metadata": {
    "scrolled": false
   },
   "outputs": [
    {
     "data": {
      "application/vnd.jupyter.widget-view+json": {
       "model_id": "7951a92728994618b671d7b3b66a413c",
       "version_major": 2,
       "version_minor": 0
      },
      "text/plain": [
       "Summarize dataset:   0%|          | 0/17 [00:00<?, ?it/s]"
      ]
     },
     "metadata": {},
     "output_type": "display_data"
    },
    {
     "data": {
      "application/vnd.jupyter.widget-view+json": {
       "model_id": "2d4947fdb07946b7a9a7e96a9ccb1b58",
       "version_major": 2,
       "version_minor": 0
      },
      "text/plain": [
       "Generate report structure:   0%|          | 0/1 [00:00<?, ?it/s]"
      ]
     },
     "metadata": {},
     "output_type": "display_data"
    },
    {
     "data": {
      "application/vnd.jupyter.widget-view+json": {
       "model_id": "",
       "version_major": 2,
       "version_minor": 0
      },
      "text/plain": [
       "Render widgets:   0%|          | 0/1 [00:00<?, ?it/s]"
      ]
     },
     "metadata": {},
     "output_type": "display_data"
    },
    {
     "data": {
      "application/vnd.jupyter.widget-view+json": {
       "model_id": "7de15991fd534ae0856050200d110fa4",
       "version_major": 2,
       "version_minor": 0
      },
      "text/plain": [
       "VBox(children=(Tab(children=(Tab(children=(GridBox(children=(VBox(children=(GridspecLayout(children=(HTML(valu…"
      ]
     },
     "metadata": {},
     "output_type": "display_data"
    }
   ],
   "source": [
    "profile.to_widgets()"
   ]
  },
  {
   "cell_type": "code",
   "execution_count": 20,
   "metadata": {
    "scrolled": false
   },
   "outputs": [
    {
     "data": {
      "application/vnd.jupyter.widget-view+json": {
       "model_id": "09b79849fc4e424086217eb83e9f63f2",
       "version_major": 2,
       "version_minor": 0
      },
      "text/plain": [
       "Render HTML:   0%|          | 0/1 [00:00<?, ?it/s]"
      ]
     },
     "metadata": {},
     "output_type": "display_data"
    },
    {
     "data": {
      "application/vnd.jupyter.widget-view+json": {
       "model_id": "ecc42f08d6804855894ee948c835c787",
       "version_major": 2,
       "version_minor": 0
      },
      "text/plain": [
       "Export report to file:   0%|          | 0/1 [00:00<?, ?it/s]"
      ]
     },
     "metadata": {},
     "output_type": "display_data"
    }
   ],
   "source": [
    "profile.to_file(\"../report/training_data_report_6.html\")"
   ]
  },
  {
   "cell_type": "markdown",
   "metadata": {},
   "source": [
    "# 2.6 Load the testing data"
   ]
  },
  {
   "cell_type": "code",
   "execution_count": 31,
   "metadata": {},
   "outputs": [
    {
     "name": "stdout",
     "output_type": "stream",
     "text": [
      "['seg_00030f.csv', 'seg_0012b5.csv', 'seg_00184e.csv', 'seg_003339.csv', 'seg_0042cc.csv']\n"
     ]
    }
   ],
   "source": [
    "testfilepath = \"../raw_data/test/\"\n",
    "os.chdir(testfilepath)\n",
    "testfiles = glob.glob(\"*.csv\")\n",
    "print(testfiles[0:5])"
   ]
  },
  {
   "cell_type": "code",
   "execution_count": 32,
   "metadata": {},
   "outputs": [],
   "source": [
    "def plot_test_file(fileobject):\n",
    "    df = pd.read_csv(fileobject)\n",
    "    print(df.describe())\n",
    "    df.plot(y = 'acoustic_data')\n",
    "    plt.title(fileobject[0:-4])"
   ]
  },
  {
   "cell_type": "code",
   "execution_count": 33,
   "metadata": {},
   "outputs": [
    {
     "data": {
      "text/html": [
       "<div>\n",
       "<style scoped>\n",
       "    .dataframe tbody tr th:only-of-type {\n",
       "        vertical-align: middle;\n",
       "    }\n",
       "\n",
       "    .dataframe tbody tr th {\n",
       "        vertical-align: top;\n",
       "    }\n",
       "\n",
       "    .dataframe thead th {\n",
       "        text-align: right;\n",
       "    }\n",
       "</style>\n",
       "<table border=\"1\" class=\"dataframe\">\n",
       "  <thead>\n",
       "    <tr style=\"text-align: right;\">\n",
       "      <th></th>\n",
       "      <th>acoustic_data</th>\n",
       "    </tr>\n",
       "  </thead>\n",
       "  <tbody>\n",
       "    <tr>\n",
       "      <th>0</th>\n",
       "      <td>4</td>\n",
       "    </tr>\n",
       "    <tr>\n",
       "      <th>1</th>\n",
       "      <td>0</td>\n",
       "    </tr>\n",
       "    <tr>\n",
       "      <th>2</th>\n",
       "      <td>-2</td>\n",
       "    </tr>\n",
       "    <tr>\n",
       "      <th>3</th>\n",
       "      <td>0</td>\n",
       "    </tr>\n",
       "    <tr>\n",
       "      <th>4</th>\n",
       "      <td>2</td>\n",
       "    </tr>\n",
       "  </tbody>\n",
       "</table>\n",
       "</div>"
      ],
      "text/plain": [
       "   acoustic_data\n",
       "0              4\n",
       "1              0\n",
       "2             -2\n",
       "3              0\n",
       "4              2"
      ]
     },
     "execution_count": 33,
     "metadata": {},
     "output_type": "execute_result"
    }
   ],
   "source": [
    "df_te = pd.read_csv(testfiles[0])\n",
    "df_te.head()"
   ]
  },
  {
   "cell_type": "code",
   "execution_count": 34,
   "metadata": {
    "scrolled": false
   },
   "outputs": [
    {
     "name": "stdout",
     "output_type": "stream",
     "text": [
      "14\n",
      "       acoustic_data\n",
      "count   150000.00000\n",
      "mean         4.49178\n",
      "std          4.89369\n",
      "min        -75.00000\n",
      "25%          2.00000\n",
      "50%          4.00000\n",
      "75%          7.00000\n",
      "max        115.00000\n",
      "14\n",
      "       acoustic_data\n",
      "count  150000.000000\n",
      "mean        4.171153\n",
      "std         5.922839\n",
      "min      -140.000000\n",
      "25%         2.000000\n",
      "50%         4.000000\n",
      "75%         7.000000\n",
      "max       152.000000\n",
      "14\n",
      "       acoustic_data\n",
      "count   150000.00000\n",
      "mean         4.61026\n",
      "std          6.94699\n",
      "min       -193.00000\n",
      "25%          2.00000\n",
      "50%          5.00000\n",
      "75%          7.00000\n",
      "max        248.00000\n"
     ]
    },
    {
     "data": {
      "image/png": "[encoded data removed]",
      "text/plain": [
       "<Figure size 432x288 with 1 Axes>"
      ]
     },
     "metadata": {
      "needs_background": "light"
     },
     "output_type": "display_data"
    },
    {
     "data": {
      "image/png": "[encoded data removed]",
      "text/plain": [
       "<Figure size 432x288 with 1 Axes>"
      ]
     },
     "metadata": {
      "needs_background": "light"
     },
     "output_type": "display_data"
    },
    {
     "data": {
      "image/png": "[encoded data removed]",
      "text/plain": [
       "<Figure size 432x288 with 1 Axes>"
      ]
     },
     "metadata": {
      "needs_background": "light"
     },
     "output_type": "display_data"
    }
   ],
   "source": [
    "for testfile in testfiles[0:3]:\n",
    "    print(len(testfile))\n",
    "    plot_test_file(testfile)\n",
    "    "
   ]
  },
  {
   "cell_type": "markdown",
   "metadata": {},
   "source": [
    "# 2.7 Summary"
   ]
  },
  {
   "cell_type": "markdown",
   "metadata": {},
   "source": [
    "For the training data:\n",
    "* The data has zero missing values for both columns\n",
    "* The data has only two column ,`acoustic_data` in int type and `time_to_failure` in float type. `time_to_failure` is our target.\n",
    "* The data has 629,145,480 records, too large to operate.\n",
    "* `acoustic_data` is the acoustic emission signal (amplitude), consisting of many peaks and troughts. \n",
    "* `time_to_failure` decreases from a value to zero periodically. The data should be truncated based on it.\n",
    "* 17 segments were obtained after analyzing chunk data in the rawdata. \n",
    "* Each training segment has different time length\n",
    "* The first one only has about two seconds record to earthquake. The last one is not complete because the `time_to_failure` is 9.75 s, far from zero.\n",
    "* After `acoustic_data` reaches a extremly large event, the eqrthquake occurs soon in each training segment, and `time_to_failure` is less than 0.5s.\n",
    "\n",
    "For the testing data:\n",
    "* Only one row in each file, which is the `acoustic_data`\n",
    "* Each segment contains 150k records, a small segment from a complete earthquake event. By comparision, records in training data is about 200 times of the test data. This may inspire us the feature extraction from the training data\n",
    "* Similar to the training data, the average `acoustic_data` of a test data are small, while some abnormal `acoustic_data` exists. These determines what a feature is.\n",
    "* Most test data may not contain the extremly large event with an absolute of amplitude over 1000. They contains peaks at a scale of several hundred amplitude"
   ]
  },
  {
   "cell_type": "code",
   "execution_count": null,
   "metadata": {},
   "outputs": [],
   "source": []
  }
 ],
 "metadata": {
  "kernelspec": {
   "display_name": "Python 3",
   "language": "python",
   "name": "python3"
  },
  "language_info": {
   "codemirror_mode": {
    "name": "ipython",
    "version": 3
   },
   "file_extension": ".py",
   "mimetype": "text/x-python",
   "name": "python",
   "nbconvert_exporter": "python",
   "pygments_lexer": "ipython3",
   "version": "3.8.3"
  }
 },
 "nbformat": 4,
 "nbformat_minor": 4
}
