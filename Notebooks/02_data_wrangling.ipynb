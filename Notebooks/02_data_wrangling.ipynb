{
 "cells": [
  {
   "cell_type": "markdown",
   "metadata": {},
   "source": [
    "# 2 Data wrangling"
   ]
  },
  {
   "cell_type": "markdown",
   "metadata": {},
   "source": [
    "## 2.2 Introduction"
   ]
  },
  {
   "cell_type": "markdown",
   "metadata": {},
   "source": [
    "This step focuses on collecting your data, organizing it, and making sure it's well defined."
   ]
  },
  {
   "cell_type": "markdown",
   "metadata": {},
   "source": [
    "### 2.2.1 Recap Of Data Science Problem"
   ]
  },
  {
   "cell_type": "markdown",
   "metadata": {},
   "source": [
    "The purpose of this data science project is to predict time to failure given each small segment of acoustic signal using a data-driven model"
   ]
  },
  {
   "cell_type": "markdown",
   "metadata": {},
   "source": [
    "## 2.3 Imports"
   ]
  },
  {
   "cell_type": "code",
   "execution_count": 1,
   "metadata": {
    "scrolled": true
   },
   "outputs": [],
   "source": [
    "import pandas as pd\n",
    "import matplotlib.pyplot as plt\n",
    "import seaborn as sns\n",
    "from pandas_profiling import ProfileReport\n",
    "import numpy as np\n",
    "import glob, os\n",
    "pd.set_option(\"display.precision\", 8)"
   ]
  },
  {
   "cell_type": "code",
   "execution_count": 2,
   "metadata": {},
   "outputs": [],
   "source": [
    "from scipy import signal"
   ]
  },
  {
   "cell_type": "markdown",
   "metadata": {},
   "source": [
    "## 2.4 Objectives"
   ]
  },
  {
   "cell_type": "markdown",
   "metadata": {},
   "source": [
    "There are some fundamental questions to resolve in this notebook before you move on.\n",
    "\n",
    "* Do you think you may have the data you need to tackle the desired question?\n",
    "    * Have you identified the required target value?\n",
    "    * Do you have potentially useful features?\n",
    "* Do you have any fundamental issues with the data?\n",
    "* Do your column names correspond to what those columns store?\n",
    "    * Check the data types of your columns. Are they sensible?\n",
    "    * Calculate summary statistics for each of your columns, such as mean, median, mode, standard deviation, range, and number of unique values. What does this tell you about your data? What do you now need to investigate?"
   ]
  },
  {
   "cell_type": "markdown",
   "metadata": {},
   "source": [
    "# 2.5 Load the training data"
   ]
  },
  {
   "cell_type": "markdown",
   "metadata": {},
   "source": [
    "## 2.5.1 Check a small section of data"
   ]
  },
  {
   "cell_type": "code",
   "execution_count": 3,
   "metadata": {},
   "outputs": [],
   "source": [
    "filename = 'D:/DataScience/rawdata/2ndCapstone/train.csv'"
   ]
  },
  {
   "cell_type": "code",
   "execution_count": 4,
   "metadata": {},
   "outputs": [],
   "source": [
    "# df_tr_sec =  pd.read_csv(filename,nrows = 6e6)\n",
    "df_tr_sec =  pd.read_csv(filename,nrows = 150000)\n"
   ]
  },
  {
   "cell_type": "code",
   "execution_count": 5,
   "metadata": {
    "scrolled": true
   },
   "outputs": [
    {
     "name": "stdout",
     "output_type": "stream",
     "text": [
      "<class 'pandas.core.frame.DataFrame'>\n",
      "RangeIndex: 150000 entries, 0 to 149999\n",
      "Data columns (total 2 columns):\n",
      " #   Column           Non-Null Count   Dtype  \n",
      "---  ------           --------------   -----  \n",
      " 0   acoustic_data    150000 non-null  int64  \n",
      " 1   time_to_failure  150000 non-null  float64\n",
      "dtypes: float64(1), int64(1)\n",
      "memory usage: 2.3 MB\n"
     ]
    }
   ],
   "source": [
    "df_tr_sec.info()"
   ]
  },
  {
   "cell_type": "code",
   "execution_count": 6,
   "metadata": {},
   "outputs": [
    {
     "data": {
      "text/html": [
       "<div>\n",
       "<style scoped>\n",
       "    .dataframe tbody tr th:only-of-type {\n",
       "        vertical-align: middle;\n",
       "    }\n",
       "\n",
       "    .dataframe tbody tr th {\n",
       "        vertical-align: top;\n",
       "    }\n",
       "\n",
       "    .dataframe thead th {\n",
       "        text-align: right;\n",
       "    }\n",
       "</style>\n",
       "<table border=\"1\" class=\"dataframe\">\n",
       "  <thead>\n",
       "    <tr style=\"text-align: right;\">\n",
       "      <th></th>\n",
       "      <th>acoustic_data</th>\n",
       "      <th>time_to_failure</th>\n",
       "    </tr>\n",
       "  </thead>\n",
       "  <tbody>\n",
       "    <tr>\n",
       "      <th>count</th>\n",
       "      <td>150000.00000000</td>\n",
       "      <td>150000.00000000</td>\n",
       "    </tr>\n",
       "    <tr>\n",
       "      <th>mean</th>\n",
       "      <td>4.88411333</td>\n",
       "      <td>1.45018249</td>\n",
       "    </tr>\n",
       "    <tr>\n",
       "      <th>std</th>\n",
       "      <td>5.10110613</td>\n",
       "      <td>0.01124842</td>\n",
       "    </tr>\n",
       "    <tr>\n",
       "      <th>min</th>\n",
       "      <td>-98.00000000</td>\n",
       "      <td>1.43079719</td>\n",
       "    </tr>\n",
       "    <tr>\n",
       "      <th>25%</th>\n",
       "      <td>3.00000000</td>\n",
       "      <td>1.44039789</td>\n",
       "    </tr>\n",
       "    <tr>\n",
       "      <th>50%</th>\n",
       "      <td>5.00000000</td>\n",
       "      <td>1.44999858</td>\n",
       "    </tr>\n",
       "    <tr>\n",
       "      <th>75%</th>\n",
       "      <td>7.00000000</td>\n",
       "      <td>1.45959928</td>\n",
       "    </tr>\n",
       "    <tr>\n",
       "      <th>max</th>\n",
       "      <td>104.00000000</td>\n",
       "      <td>1.46909998</td>\n",
       "    </tr>\n",
       "  </tbody>\n",
       "</table>\n",
       "</div>"
      ],
      "text/plain": [
       "         acoustic_data  time_to_failure\n",
       "count  150000.00000000  150000.00000000\n",
       "mean        4.88411333       1.45018249\n",
       "std         5.10110613       0.01124842\n",
       "min       -98.00000000       1.43079719\n",
       "25%         3.00000000       1.44039789\n",
       "50%         5.00000000       1.44999858\n",
       "75%         7.00000000       1.45959928\n",
       "max       104.00000000       1.46909998"
      ]
     },
     "execution_count": 6,
     "metadata": {},
     "output_type": "execute_result"
    }
   ],
   "source": [
    "df_tr_sec.describe()"
   ]
  },
  {
   "cell_type": "code",
   "execution_count": 7,
   "metadata": {
    "scrolled": true
   },
   "outputs": [
    {
     "data": {
      "text/html": [
       "<div>\n",
       "<style scoped>\n",
       "    .dataframe tbody tr th:only-of-type {\n",
       "        vertical-align: middle;\n",
       "    }\n",
       "\n",
       "    .dataframe tbody tr th {\n",
       "        vertical-align: top;\n",
       "    }\n",
       "\n",
       "    .dataframe thead th {\n",
       "        text-align: right;\n",
       "    }\n",
       "</style>\n",
       "<table border=\"1\" class=\"dataframe\">\n",
       "  <thead>\n",
       "    <tr style=\"text-align: right;\">\n",
       "      <th></th>\n",
       "      <th>acoustic_data</th>\n",
       "      <th>time_to_failure</th>\n",
       "    </tr>\n",
       "  </thead>\n",
       "  <tbody>\n",
       "    <tr>\n",
       "      <th>0</th>\n",
       "      <td>12</td>\n",
       "      <td>1.46909998</td>\n",
       "    </tr>\n",
       "    <tr>\n",
       "      <th>1</th>\n",
       "      <td>6</td>\n",
       "      <td>1.46909998</td>\n",
       "    </tr>\n",
       "    <tr>\n",
       "      <th>2</th>\n",
       "      <td>8</td>\n",
       "      <td>1.46909998</td>\n",
       "    </tr>\n",
       "    <tr>\n",
       "      <th>3</th>\n",
       "      <td>5</td>\n",
       "      <td>1.46909998</td>\n",
       "    </tr>\n",
       "    <tr>\n",
       "      <th>4</th>\n",
       "      <td>8</td>\n",
       "      <td>1.46909998</td>\n",
       "    </tr>\n",
       "  </tbody>\n",
       "</table>\n",
       "</div>"
      ],
      "text/plain": [
       "   acoustic_data  time_to_failure\n",
       "0             12       1.46909998\n",
       "1              6       1.46909998\n",
       "2              8       1.46909998\n",
       "3              5       1.46909998\n",
       "4              8       1.46909998"
      ]
     },
     "execution_count": 7,
     "metadata": {},
     "output_type": "execute_result"
    }
   ],
   "source": [
    "df_tr_sec.head()"
   ]
  },
  {
   "cell_type": "code",
   "execution_count": 8,
   "metadata": {},
   "outputs": [
    {
     "data": {
      "image/png": "[encoded data removed]",
      "text/plain": [
       "<Figure size 1600x1200 with 2 Axes>"
      ]
     },
     "metadata": {
      "needs_background": "light"
     },
     "output_type": "display_data"
    }
   ],
   "source": [
    "fig, ax1 = plt.subplots(1,1,figsize=(16, 12), dpi=100 )\n",
    "ax2 = ax1.twinx()\n",
    "ax1.plot(df_tr_sec['acoustic_data'], 'g.')\n",
    "ax2.plot(df_tr_sec['time_to_failure'], 'b.')\n",
    "\n",
    "\n",
    "ax1.set_ylabel('Signal', color='g')\n",
    "ax2.set_ylabel('Time to failure', color='b')\n",
    "ax2.grid()\n",
    "plt.title('The first 6 M data points');"
   ]
  },
  {
   "cell_type": "code",
   "execution_count": 9,
   "metadata": {},
   "outputs": [
    {
     "data": {
      "image/png": "[encoded data removed]",
      "text/plain": [
       "<Figure size 432x288 with 1 Axes>"
      ]
     },
     "metadata": {
      "needs_background": "light"
     },
     "output_type": "display_data"
    }
   ],
   "source": [
    "df_tr_sec.plot('time_to_failure','acoustic_data',kind = 'scatter')\n",
    "plt.gca().invert_xaxis()"
   ]
  },
  {
   "cell_type": "code",
   "execution_count": 10,
   "metadata": {
    "scrolled": false
   },
   "outputs": [
    {
     "name": "stdout",
     "output_type": "stream",
     "text": [
      "1.09999987e-09    64231\n",
      "1.10000009e-09    59657\n",
      "1.10000031e-09    18314\n",
      "1.09999965e-09     7761\n",
      "1.09549550e-03       17\n",
      "9.95495500e-04       11\n",
      "1.09549550e-03        6\n",
      "9.95495500e-04        2\n",
      "Name: dt, dtype: int64\n"
     ]
    },
    {
     "name": "stderr",
     "output_type": "stream",
     "text": [
      "C:\\anaconda\\lib\\site-packages\\numpy\\lib\\histograms.py:839: RuntimeWarning: invalid value encountered in greater_equal\n",
      "  keep = (tmp_a >= first_edge)\n",
      "C:\\anaconda\\lib\\site-packages\\numpy\\lib\\histograms.py:840: RuntimeWarning: invalid value encountered in less_equal\n",
      "  keep &= (tmp_a <= last_edge)\n"
     ]
    },
    {
     "data": {
      "image/png": "[encoded data removed]",
      "text/plain": [
       "<Figure size 432x288 with 1 Axes>"
      ]
     },
     "metadata": {
      "needs_background": "light"
     },
     "output_type": "display_data"
    }
   ],
   "source": [
    "time2fail_np = df_tr_sec['time_to_failure'].to_numpy()\n",
    "# dt_np = time2fail_np[0:-1] - time2fail_np[1:] \n",
    "dt = pd.Series(-df_tr_sec['time_to_failure'].diff(), name='dt')\n",
    "print(dt.value_counts())\n",
    "plt.hist(dt.sort_values()[1:])# remove the time difference between two segement, which is about -11\n",
    "plt.title('Histogram of time sampling')\n",
    "plt.ylabel('Count')\n",
    "plt.yscale('log')\n",
    "plt.xlabel('time sampling');"
   ]
  },
  {
   "cell_type": "markdown",
   "metadata": {},
   "source": [
    "`acoustic_data` distribute unevenly.\n",
    "\n",
    "From `time_to_failure`, the equipment may work a while to acquire signal at high frequency (1.1e-9 s), and then take a rest (1e-3 s)before next aquisition.\n",
    "\n",
    "The sampling rate is not a constant, and the distribution of time step is bimodal with one large timestep and a small timestep.\n",
    "\n",
    "Try resample with the large timestep later.\n",
    "\n"
   ]
  },
  {
   "cell_type": "markdown",
   "metadata": {},
   "source": [
    "## 2.5.2 Resampling the small section of training data"
   ]
  },
  {
   "cell_type": "code",
   "execution_count": 11,
   "metadata": {},
   "outputs": [],
   "source": [
    "# power spectrum density (square of amplitude spectrum)\n",
    "def psd(input_signal):\n",
    "    f, Pxx_den = signal.periodogram(input_signal, fs = 1/1.1e-9)\n",
    "    f_dom = f[np.argmax(Pxx_den)]\n",
    "    return f, Pxx_den, f_dom\n",
    "#     return f[np.argmax(Pxx_den)]"
   ]
  },
  {
   "cell_type": "code",
   "execution_count": 12,
   "metadata": {},
   "outputs": [],
   "source": [
    "def iqr(X):\n",
    "    Q1 = X.quantile(0.25)\n",
    "    Q3 = X.quantile(0.75)\n",
    "    iqr_X = Q3 - Q1\n",
    "    return iqr_X"
   ]
  },
  {
   "cell_type": "code",
   "execution_count": 13,
   "metadata": {},
   "outputs": [],
   "source": [
    "def create_feature(X):\n",
    "    mean_X = X.mean()\n",
    "    median_X = X.median()\n",
    "    std_X = X.std()\n",
    "    iqr_X = iqr(X)\n",
    "#     f, Pxx_den, f_dom_X = psd(X)\n",
    "    return [len(X), mean_X, median_X, std_X, iqr_X]"
   ]
  },
  {
   "cell_type": "code",
   "execution_count": 14,
   "metadata": {},
   "outputs": [],
   "source": [
    "def create_lag_feature(X, periods= 1):\n",
    "    feature_list = create_feature(X.diff(periods))\n",
    "    return feature_list"
   ]
  },
  {
   "cell_type": "code",
   "execution_count": 15,
   "metadata": {
    "scrolled": false
   },
   "outputs": [
    {
     "data": {
      "text/html": [
       "<div>\n",
       "<style scoped>\n",
       "    .dataframe tbody tr th:only-of-type {\n",
       "        vertical-align: middle;\n",
       "    }\n",
       "\n",
       "    .dataframe tbody tr th {\n",
       "        vertical-align: top;\n",
       "    }\n",
       "\n",
       "    .dataframe thead th {\n",
       "        text-align: right;\n",
       "    }\n",
       "</style>\n",
       "<table border=\"1\" class=\"dataframe\">\n",
       "  <thead>\n",
       "    <tr style=\"text-align: right;\">\n",
       "      <th></th>\n",
       "      <th>ct</th>\n",
       "      <th>mean</th>\n",
       "      <th>median</th>\n",
       "      <th>std</th>\n",
       "      <th>iqr</th>\n",
       "    </tr>\n",
       "    <tr>\n",
       "      <th>ttf_round</th>\n",
       "      <th></th>\n",
       "      <th></th>\n",
       "      <th></th>\n",
       "      <th></th>\n",
       "      <th></th>\n",
       "    </tr>\n",
       "  </thead>\n",
       "  <tbody>\n",
       "    <tr>\n",
       "      <th>1.4308</th>\n",
       "      <td>2545</td>\n",
       "      <td>4.88094303</td>\n",
       "      <td>5.0</td>\n",
       "      <td>3.81896365</td>\n",
       "      <td>4.0</td>\n",
       "    </tr>\n",
       "    <tr>\n",
       "      <th>1.4319</th>\n",
       "      <td>4096</td>\n",
       "      <td>4.75024414</td>\n",
       "      <td>5.0</td>\n",
       "      <td>4.45072053</td>\n",
       "      <td>5.0</td>\n",
       "    </tr>\n",
       "    <tr>\n",
       "      <th>1.433</th>\n",
       "      <td>4096</td>\n",
       "      <td>4.33105469</td>\n",
       "      <td>4.0</td>\n",
       "      <td>4.35043371</td>\n",
       "      <td>5.0</td>\n",
       "    </tr>\n",
       "    <tr>\n",
       "      <th>1.434</th>\n",
       "      <td>4096</td>\n",
       "      <td>4.30029297</td>\n",
       "      <td>4.0</td>\n",
       "      <td>4.13427378</td>\n",
       "      <td>5.0</td>\n",
       "    </tr>\n",
       "    <tr>\n",
       "      <th>1.4351</th>\n",
       "      <td>4096</td>\n",
       "      <td>4.36376953</td>\n",
       "      <td>4.0</td>\n",
       "      <td>2.70656884</td>\n",
       "      <td>3.0</td>\n",
       "    </tr>\n",
       "  </tbody>\n",
       "</table>\n",
       "</div>"
      ],
      "text/plain": [
       "             ct        mean  median         std  iqr\n",
       "ttf_round                                           \n",
       "1.4308     2545  4.88094303     5.0  3.81896365  4.0\n",
       "1.4319     4096  4.75024414     5.0  4.45072053  5.0\n",
       "1.433      4096  4.33105469     4.0  4.35043371  5.0\n",
       "1.434      4096  4.30029297     4.0  4.13427378  5.0\n",
       "1.4351     4096  4.36376953     4.0  2.70656884  3.0"
      ]
     },
     "execution_count": 15,
     "metadata": {},
     "output_type": "execute_result"
    }
   ],
   "source": [
    "df_tr_sec['ttf_round'] = df_tr_sec['time_to_failure'].round(4).astype('str')\n",
    "df_agg = df_tr_sec.groupby('ttf_round')['acoustic_data'].agg(create_feature)\n",
    "df_agg = pd.DataFrame(df_agg.tolist(), index= df_agg.index, columns = ['ct', 'mean','median','std','iqr'])\n",
    "# df_agg.reset_index(inplace = True)\n",
    "# df_agg.ttf_round = df_agg.ttf_round.astype('float')\n",
    "df_agg.head()"
   ]
  },
  {
   "cell_type": "markdown",
   "metadata": {},
   "source": [
    "### 2.5.5.1 Create feature using time lagging on acoustic data"
   ]
  },
  {
   "cell_type": "code",
   "execution_count": 16,
   "metadata": {},
   "outputs": [
    {
     "data": {
      "text/html": [
       "<div>\n",
       "<style scoped>\n",
       "    .dataframe tbody tr th:only-of-type {\n",
       "        vertical-align: middle;\n",
       "    }\n",
       "\n",
       "    .dataframe tbody tr th {\n",
       "        vertical-align: top;\n",
       "    }\n",
       "\n",
       "    .dataframe thead th {\n",
       "        text-align: right;\n",
       "    }\n",
       "</style>\n",
       "<table border=\"1\" class=\"dataframe\">\n",
       "  <thead>\n",
       "    <tr style=\"text-align: right;\">\n",
       "      <th></th>\n",
       "      <th>ct_lag</th>\n",
       "      <th>mean_lag</th>\n",
       "      <th>median_lag</th>\n",
       "      <th>std_lag</th>\n",
       "      <th>iqr_lag</th>\n",
       "    </tr>\n",
       "    <tr>\n",
       "      <th>ttf_round</th>\n",
       "      <th></th>\n",
       "      <th></th>\n",
       "      <th></th>\n",
       "      <th></th>\n",
       "      <th></th>\n",
       "    </tr>\n",
       "  </thead>\n",
       "  <tbody>\n",
       "    <tr>\n",
       "      <th>1.4308</th>\n",
       "      <td>2545</td>\n",
       "      <td>0.0000000</td>\n",
       "      <td>0.0</td>\n",
       "      <td>3.23335448</td>\n",
       "      <td>4.0</td>\n",
       "    </tr>\n",
       "    <tr>\n",
       "      <th>1.4319</th>\n",
       "      <td>4096</td>\n",
       "      <td>0.0000000</td>\n",
       "      <td>0.0</td>\n",
       "      <td>3.30851369</td>\n",
       "      <td>4.0</td>\n",
       "    </tr>\n",
       "    <tr>\n",
       "      <th>1.433</th>\n",
       "      <td>4096</td>\n",
       "      <td>0.0039072</td>\n",
       "      <td>0.0</td>\n",
       "      <td>3.23716275</td>\n",
       "      <td>4.0</td>\n",
       "    </tr>\n",
       "    <tr>\n",
       "      <th>1.434</th>\n",
       "      <td>4096</td>\n",
       "      <td>0.0014652</td>\n",
       "      <td>0.0</td>\n",
       "      <td>3.26451481</td>\n",
       "      <td>4.0</td>\n",
       "    </tr>\n",
       "    <tr>\n",
       "      <th>1.4351</th>\n",
       "      <td>4096</td>\n",
       "      <td>0.0002442</td>\n",
       "      <td>0.0</td>\n",
       "      <td>3.05873938</td>\n",
       "      <td>4.0</td>\n",
       "    </tr>\n",
       "  </tbody>\n",
       "</table>\n",
       "</div>"
      ],
      "text/plain": [
       "           ct_lag   mean_lag  median_lag     std_lag  iqr_lag\n",
       "ttf_round                                                    \n",
       "1.4308       2545  0.0000000         0.0  3.23335448      4.0\n",
       "1.4319       4096  0.0000000         0.0  3.30851369      4.0\n",
       "1.433        4096  0.0039072         0.0  3.23716275      4.0\n",
       "1.434        4096  0.0014652         0.0  3.26451481      4.0\n",
       "1.4351       4096  0.0002442         0.0  3.05873938      4.0"
      ]
     },
     "execution_count": 16,
     "metadata": {},
     "output_type": "execute_result"
    }
   ],
   "source": [
    "df_lag_agg = df_tr_sec.groupby('ttf_round')['acoustic_data'].agg(create_lag_feature, periods = 1)\n",
    "df_lag_agg = pd.DataFrame(df_lag_agg.tolist(), index= df_lag_agg.index, \n",
    "                          columns = ['ct_lag', 'mean_lag','median_lag','std_lag','iqr_lag'])\n",
    "# df_lag_agg.reset_index(inplace = True)\n",
    "# df_lag_agg.ttf_round = df_lag_agg.ttf_round.astype('float')\n",
    "\n",
    "df_lag_agg.head()"
   ]
  },
  {
   "cell_type": "code",
   "execution_count": 17,
   "metadata": {},
   "outputs": [
    {
     "data": {
      "text/html": [
       "<div>\n",
       "<style scoped>\n",
       "    .dataframe tbody tr th:only-of-type {\n",
       "        vertical-align: middle;\n",
       "    }\n",
       "\n",
       "    .dataframe tbody tr th {\n",
       "        vertical-align: top;\n",
       "    }\n",
       "\n",
       "    .dataframe thead th {\n",
       "        text-align: right;\n",
       "    }\n",
       "</style>\n",
       "<table border=\"1\" class=\"dataframe\">\n",
       "  <thead>\n",
       "    <tr style=\"text-align: right;\">\n",
       "      <th></th>\n",
       "      <th>ct_lag2</th>\n",
       "      <th>mean_lag2</th>\n",
       "      <th>median_lag2</th>\n",
       "      <th>std_lag2</th>\n",
       "      <th>iqr_lag2</th>\n",
       "    </tr>\n",
       "    <tr>\n",
       "      <th>ttf_round</th>\n",
       "      <th></th>\n",
       "      <th></th>\n",
       "      <th></th>\n",
       "      <th></th>\n",
       "      <th></th>\n",
       "    </tr>\n",
       "  </thead>\n",
       "  <tbody>\n",
       "    <tr>\n",
       "      <th>1.4308</th>\n",
       "      <td>2545</td>\n",
       "      <td>-0.00196618</td>\n",
       "      <td>0.0</td>\n",
       "      <td>4.27750001</td>\n",
       "      <td>6.0</td>\n",
       "    </tr>\n",
       "    <tr>\n",
       "      <th>1.4319</th>\n",
       "      <td>4096</td>\n",
       "      <td>-0.00146556</td>\n",
       "      <td>0.0</td>\n",
       "      <td>4.60833414</td>\n",
       "      <td>6.0</td>\n",
       "    </tr>\n",
       "    <tr>\n",
       "      <th>1.433</th>\n",
       "      <td>4096</td>\n",
       "      <td>0.00732780</td>\n",
       "      <td>0.0</td>\n",
       "      <td>4.46365402</td>\n",
       "      <td>6.0</td>\n",
       "    </tr>\n",
       "    <tr>\n",
       "      <th>1.434</th>\n",
       "      <td>4096</td>\n",
       "      <td>0.00146556</td>\n",
       "      <td>0.0</td>\n",
       "      <td>4.34702780</td>\n",
       "      <td>6.0</td>\n",
       "    </tr>\n",
       "    <tr>\n",
       "      <th>1.4351</th>\n",
       "      <td>4096</td>\n",
       "      <td>0.00073278</td>\n",
       "      <td>0.0</td>\n",
       "      <td>3.73698565</td>\n",
       "      <td>4.0</td>\n",
       "    </tr>\n",
       "  </tbody>\n",
       "</table>\n",
       "</div>"
      ],
      "text/plain": [
       "           ct_lag2   mean_lag2  median_lag2    std_lag2  iqr_lag2\n",
       "ttf_round                                                        \n",
       "1.4308        2545 -0.00196618          0.0  4.27750001       6.0\n",
       "1.4319        4096 -0.00146556          0.0  4.60833414       6.0\n",
       "1.433         4096  0.00732780          0.0  4.46365402       6.0\n",
       "1.434         4096  0.00146556          0.0  4.34702780       6.0\n",
       "1.4351        4096  0.00073278          0.0  3.73698565       4.0"
      ]
     },
     "execution_count": 17,
     "metadata": {},
     "output_type": "execute_result"
    }
   ],
   "source": [
    "step = 2\n",
    "df_lag2_agg = df_tr_sec.groupby('ttf_round')['acoustic_data'].agg(create_lag_feature,periods = step)\n",
    "df_lag2_agg = pd.DataFrame(df_lag2_agg.tolist(), index= df_lag2_agg.index, columns = [col + str(step) for col in df_lag_agg.columns])\n",
    "df_lag2_agg.head()"
   ]
  },
  {
   "cell_type": "code",
   "execution_count": 18,
   "metadata": {
    "scrolled": true
   },
   "outputs": [
    {
     "data": {
      "text/html": [
       "<div>\n",
       "<style scoped>\n",
       "    .dataframe tbody tr th:only-of-type {\n",
       "        vertical-align: middle;\n",
       "    }\n",
       "\n",
       "    .dataframe tbody tr th {\n",
       "        vertical-align: top;\n",
       "    }\n",
       "\n",
       "    .dataframe thead th {\n",
       "        text-align: right;\n",
       "    }\n",
       "</style>\n",
       "<table border=\"1\" class=\"dataframe\">\n",
       "  <thead>\n",
       "    <tr style=\"text-align: right;\">\n",
       "      <th></th>\n",
       "      <th>ct_lag3</th>\n",
       "      <th>mean_lag3</th>\n",
       "      <th>median_lag3</th>\n",
       "      <th>std_lag3</th>\n",
       "      <th>iqr_lag3</th>\n",
       "    </tr>\n",
       "    <tr>\n",
       "      <th>ttf_round</th>\n",
       "      <th></th>\n",
       "      <th></th>\n",
       "      <th></th>\n",
       "      <th></th>\n",
       "      <th></th>\n",
       "    </tr>\n",
       "  </thead>\n",
       "  <tbody>\n",
       "    <tr>\n",
       "      <th>1.4308</th>\n",
       "      <td>2545</td>\n",
       "      <td>-0.00432730</td>\n",
       "      <td>0.0</td>\n",
       "      <td>4.80075065</td>\n",
       "      <td>6.0</td>\n",
       "    </tr>\n",
       "    <tr>\n",
       "      <th>1.4319</th>\n",
       "      <td>4096</td>\n",
       "      <td>-0.00317615</td>\n",
       "      <td>0.0</td>\n",
       "      <td>5.43433562</td>\n",
       "      <td>6.0</td>\n",
       "    </tr>\n",
       "    <tr>\n",
       "      <th>1.433</th>\n",
       "      <td>4096</td>\n",
       "      <td>0.01294894</td>\n",
       "      <td>0.0</td>\n",
       "      <td>5.24703318</td>\n",
       "      <td>6.0</td>\n",
       "    </tr>\n",
       "    <tr>\n",
       "      <th>1.434</th>\n",
       "      <td>4096</td>\n",
       "      <td>0.00024432</td>\n",
       "      <td>0.0</td>\n",
       "      <td>4.97503542</td>\n",
       "      <td>6.0</td>\n",
       "    </tr>\n",
       "    <tr>\n",
       "      <th>1.4351</th>\n",
       "      <td>4096</td>\n",
       "      <td>0.00097728</td>\n",
       "      <td>0.0</td>\n",
       "      <td>3.81935686</td>\n",
       "      <td>6.0</td>\n",
       "    </tr>\n",
       "  </tbody>\n",
       "</table>\n",
       "</div>"
      ],
      "text/plain": [
       "           ct_lag3   mean_lag3  median_lag3    std_lag3  iqr_lag3\n",
       "ttf_round                                                        \n",
       "1.4308        2545 -0.00432730          0.0  4.80075065       6.0\n",
       "1.4319        4096 -0.00317615          0.0  5.43433562       6.0\n",
       "1.433         4096  0.01294894          0.0  5.24703318       6.0\n",
       "1.434         4096  0.00024432          0.0  4.97503542       6.0\n",
       "1.4351        4096  0.00097728          0.0  3.81935686       6.0"
      ]
     },
     "execution_count": 18,
     "metadata": {},
     "output_type": "execute_result"
    }
   ],
   "source": [
    "step = 3\n",
    "df_lag3_agg = df_tr_sec.groupby('ttf_round')['acoustic_data'].agg(create_lag_feature,periods = step)\n",
    "df_lag3_agg = pd.DataFrame(df_lag3_agg.tolist(), index= df_lag3_agg.index, columns = [col + str(step) for col in df_lag_agg.columns])\n",
    "\n",
    "df_lag3_agg.head()"
   ]
  },
  {
   "cell_type": "code",
   "execution_count": 19,
   "metadata": {
    "scrolled": true
   },
   "outputs": [
    {
     "data": {
      "text/html": [
       "<div>\n",
       "<style scoped>\n",
       "    .dataframe tbody tr th:only-of-type {\n",
       "        vertical-align: middle;\n",
       "    }\n",
       "\n",
       "    .dataframe tbody tr th {\n",
       "        vertical-align: top;\n",
       "    }\n",
       "\n",
       "    .dataframe thead th {\n",
       "        text-align: right;\n",
       "    }\n",
       "</style>\n",
       "<table border=\"1\" class=\"dataframe\">\n",
       "  <thead>\n",
       "    <tr style=\"text-align: right;\">\n",
       "      <th>ttf_round</th>\n",
       "      <th>1.4308</th>\n",
       "      <th>1.4319</th>\n",
       "      <th>1.433</th>\n",
       "      <th>1.434</th>\n",
       "      <th>1.4351</th>\n",
       "    </tr>\n",
       "  </thead>\n",
       "  <tbody>\n",
       "    <tr>\n",
       "      <th>mean</th>\n",
       "      <td>4.88094303</td>\n",
       "      <td>4.75024414</td>\n",
       "      <td>4.33105469</td>\n",
       "      <td>4.30029297</td>\n",
       "      <td>4.36376953</td>\n",
       "    </tr>\n",
       "    <tr>\n",
       "      <th>median</th>\n",
       "      <td>5.00000000</td>\n",
       "      <td>5.00000000</td>\n",
       "      <td>4.00000000</td>\n",
       "      <td>4.00000000</td>\n",
       "      <td>4.00000000</td>\n",
       "    </tr>\n",
       "    <tr>\n",
       "      <th>std</th>\n",
       "      <td>3.81896365</td>\n",
       "      <td>4.45072053</td>\n",
       "      <td>4.35043371</td>\n",
       "      <td>4.13427378</td>\n",
       "      <td>2.70656884</td>\n",
       "    </tr>\n",
       "    <tr>\n",
       "      <th>iqr</th>\n",
       "      <td>4.00000000</td>\n",
       "      <td>5.00000000</td>\n",
       "      <td>5.00000000</td>\n",
       "      <td>5.00000000</td>\n",
       "      <td>3.00000000</td>\n",
       "    </tr>\n",
       "    <tr>\n",
       "      <th>mean_lag</th>\n",
       "      <td>0.00000000</td>\n",
       "      <td>0.00000000</td>\n",
       "      <td>0.00390720</td>\n",
       "      <td>0.00146520</td>\n",
       "      <td>0.00024420</td>\n",
       "    </tr>\n",
       "    <tr>\n",
       "      <th>median_lag</th>\n",
       "      <td>0.00000000</td>\n",
       "      <td>0.00000000</td>\n",
       "      <td>0.00000000</td>\n",
       "      <td>0.00000000</td>\n",
       "      <td>0.00000000</td>\n",
       "    </tr>\n",
       "    <tr>\n",
       "      <th>std_lag</th>\n",
       "      <td>3.23335448</td>\n",
       "      <td>3.30851369</td>\n",
       "      <td>3.23716275</td>\n",
       "      <td>3.26451481</td>\n",
       "      <td>3.05873938</td>\n",
       "    </tr>\n",
       "    <tr>\n",
       "      <th>iqr_lag</th>\n",
       "      <td>4.00000000</td>\n",
       "      <td>4.00000000</td>\n",
       "      <td>4.00000000</td>\n",
       "      <td>4.00000000</td>\n",
       "      <td>4.00000000</td>\n",
       "    </tr>\n",
       "    <tr>\n",
       "      <th>mean_lag2</th>\n",
       "      <td>-0.00196618</td>\n",
       "      <td>-0.00146556</td>\n",
       "      <td>0.00732780</td>\n",
       "      <td>0.00146556</td>\n",
       "      <td>0.00073278</td>\n",
       "    </tr>\n",
       "    <tr>\n",
       "      <th>median_lag2</th>\n",
       "      <td>0.00000000</td>\n",
       "      <td>0.00000000</td>\n",
       "      <td>0.00000000</td>\n",
       "      <td>0.00000000</td>\n",
       "      <td>0.00000000</td>\n",
       "    </tr>\n",
       "    <tr>\n",
       "      <th>std_lag2</th>\n",
       "      <td>4.27750001</td>\n",
       "      <td>4.60833414</td>\n",
       "      <td>4.46365402</td>\n",
       "      <td>4.34702780</td>\n",
       "      <td>3.73698565</td>\n",
       "    </tr>\n",
       "    <tr>\n",
       "      <th>iqr_lag2</th>\n",
       "      <td>6.00000000</td>\n",
       "      <td>6.00000000</td>\n",
       "      <td>6.00000000</td>\n",
       "      <td>6.00000000</td>\n",
       "      <td>4.00000000</td>\n",
       "    </tr>\n",
       "    <tr>\n",
       "      <th>mean_lag3</th>\n",
       "      <td>-0.00432730</td>\n",
       "      <td>-0.00317615</td>\n",
       "      <td>0.01294894</td>\n",
       "      <td>0.00024432</td>\n",
       "      <td>0.00097728</td>\n",
       "    </tr>\n",
       "    <tr>\n",
       "      <th>median_lag3</th>\n",
       "      <td>0.00000000</td>\n",
       "      <td>0.00000000</td>\n",
       "      <td>0.00000000</td>\n",
       "      <td>0.00000000</td>\n",
       "      <td>0.00000000</td>\n",
       "    </tr>\n",
       "    <tr>\n",
       "      <th>std_lag3</th>\n",
       "      <td>4.80075065</td>\n",
       "      <td>5.43433562</td>\n",
       "      <td>5.24703318</td>\n",
       "      <td>4.97503542</td>\n",
       "      <td>3.81935686</td>\n",
       "    </tr>\n",
       "    <tr>\n",
       "      <th>iqr_lag3</th>\n",
       "      <td>6.00000000</td>\n",
       "      <td>6.00000000</td>\n",
       "      <td>6.00000000</td>\n",
       "      <td>6.00000000</td>\n",
       "      <td>6.00000000</td>\n",
       "    </tr>\n",
       "  </tbody>\n",
       "</table>\n",
       "</div>"
      ],
      "text/plain": [
       "ttf_round        1.4308      1.4319       1.433       1.434      1.4351\n",
       "mean         4.88094303  4.75024414  4.33105469  4.30029297  4.36376953\n",
       "median       5.00000000  5.00000000  4.00000000  4.00000000  4.00000000\n",
       "std          3.81896365  4.45072053  4.35043371  4.13427378  2.70656884\n",
       "iqr          4.00000000  5.00000000  5.00000000  5.00000000  3.00000000\n",
       "mean_lag     0.00000000  0.00000000  0.00390720  0.00146520  0.00024420\n",
       "median_lag   0.00000000  0.00000000  0.00000000  0.00000000  0.00000000\n",
       "std_lag      3.23335448  3.30851369  3.23716275  3.26451481  3.05873938\n",
       "iqr_lag      4.00000000  4.00000000  4.00000000  4.00000000  4.00000000\n",
       "mean_lag2   -0.00196618 -0.00146556  0.00732780  0.00146556  0.00073278\n",
       "median_lag2  0.00000000  0.00000000  0.00000000  0.00000000  0.00000000\n",
       "std_lag2     4.27750001  4.60833414  4.46365402  4.34702780  3.73698565\n",
       "iqr_lag2     6.00000000  6.00000000  6.00000000  6.00000000  4.00000000\n",
       "mean_lag3   -0.00432730 -0.00317615  0.01294894  0.00024432  0.00097728\n",
       "median_lag3  0.00000000  0.00000000  0.00000000  0.00000000  0.00000000\n",
       "std_lag3     4.80075065  5.43433562  5.24703318  4.97503542  3.81935686\n",
       "iqr_lag3     6.00000000  6.00000000  6.00000000  6.00000000  6.00000000"
      ]
     },
     "execution_count": 19,
     "metadata": {},
     "output_type": "execute_result"
    }
   ],
   "source": [
    "df_lag_all = df_agg.iloc[:,1:] \\\n",
    "    .merge(df_lag_agg.iloc[:,1:],left_index = True, right_index = True) \\\n",
    "    .merge(df_lag2_agg.iloc[:,1:],left_index = True, right_index = True) \\\n",
    "    .merge(df_lag3_agg.iloc[:,1:],left_index = True, right_index = True)\n",
    "\n",
    "\n",
    "\n",
    "df_lag_all.head().T\n"
   ]
  },
  {
   "cell_type": "markdown",
   "metadata": {},
   "source": [
    "### 2.5.5.2 Frequency domain in neighbouging (1ms) signal"
   ]
  },
  {
   "cell_type": "markdown",
   "metadata": {},
   "source": [
    "Plot periodogram (square of amplitude spectrum)"
   ]
  },
  {
   "cell_type": "code",
   "execution_count": 20,
   "metadata": {},
   "outputs": [
    {
     "data": {
      "image/png": "[encoded data removed]",
      "text/plain": [
       "<Figure size 1600x1200 with 2 Axes>"
      ]
     },
     "metadata": {
      "needs_background": "light"
     },
     "output_type": "display_data"
    }
   ],
   "source": [
    "row1 = df_tr_sec['ttf_round'] == df_tr_sec['ttf_round'].unique()[1]\n",
    "f1, Pxx_den1, f_dom1 = psd(df_tr_sec.loc[row1,'acoustic_data'])\n",
    "\n",
    "row2 = df_tr_sec['ttf_round'] == df_tr_sec['ttf_round'].unique()[2]\n",
    "f2, Pxx_den2, f_dom2 = psd(df_tr_sec.loc[row2,'acoustic_data'])\n",
    "\n",
    "fig, ax_list = plt.subplots(2,1,figsize=(16, 12), dpi=100 )\n",
    "ax = ax_list[0]\n",
    "ax.plot(f1,Pxx_den1)\n",
    "ax.set_ylabel('Power spectral density')\n",
    "ax.set_xlabel('Frequency (Hz)')\n",
    "ax.set_title('time to failure: ' + df_tr_sec['ttf_round'].unique()[1] + ' sec' )\n",
    "\n",
    "ax = ax_list[1]\n",
    "ax.plot(f2,Pxx_den2)\n",
    "ax.set_ylabel('Power spectral density')\n",
    "ax.set_xlabel('Frequency (Hz)')\n",
    "ax.set_title('time to failure: ' + df_tr_sec['ttf_round'].unique()[2] + ' sec' );"
   ]
  },
  {
   "cell_type": "markdown",
   "metadata": {},
   "source": [
    "The frequency component mainly distribute in 1e8 Hz. Divide this frequency interval to 10 pieces, calculate the probability to create some features"
   ]
  },
  {
   "cell_type": "code",
   "execution_count": 21,
   "metadata": {
    "scrolled": false
   },
   "outputs": [
    {
     "data": {
      "text/html": [
       "<div>\n",
       "<style scoped>\n",
       "    .dataframe tbody tr th:only-of-type {\n",
       "        vertical-align: middle;\n",
       "    }\n",
       "\n",
       "    .dataframe tbody tr th {\n",
       "        vertical-align: top;\n",
       "    }\n",
       "\n",
       "    .dataframe thead th {\n",
       "        text-align: right;\n",
       "    }\n",
       "</style>\n",
       "<table border=\"1\" class=\"dataframe\">\n",
       "  <thead>\n",
       "    <tr style=\"text-align: right;\">\n",
       "      <th></th>\n",
       "      <th>freq</th>\n",
       "      <th>psd</th>\n",
       "      <th>f_dom</th>\n",
       "    </tr>\n",
       "    <tr>\n",
       "      <th>ttf_round</th>\n",
       "      <th></th>\n",
       "      <th></th>\n",
       "      <th></th>\n",
       "    </tr>\n",
       "  </thead>\n",
       "  <tbody>\n",
       "    <tr>\n",
       "      <th>1.4308</th>\n",
       "      <td>[0.0, 357206.64404357923, 714413.2880871585, 1...</td>\n",
       "      <td>[2.4058242836791375e-39, 1.02954527591958e-07,...</td>\n",
       "      <td>5.71530630e+07</td>\n",
       "    </tr>\n",
       "    <tr>\n",
       "      <th>1.4319</th>\n",
       "      <td>[0.0, 221946.02272727274, 443892.04545454547, ...</td>\n",
       "      <td>[0.0, 1.5160343499452684e-07, 5.87705036998709...</td>\n",
       "      <td>6.01473722e+07</td>\n",
       "    </tr>\n",
       "    <tr>\n",
       "      <th>1.433</th>\n",
       "      <td>[0.0, 221946.02272727274, 443892.04545454547, ...</td>\n",
       "      <td>[0.0, 2.427974301821161e-07, 8.709172315991998...</td>\n",
       "      <td>5.70401278e+07</td>\n",
       "    </tr>\n",
       "    <tr>\n",
       "      <th>1.434</th>\n",
       "      <td>[0.0, 221946.02272727274, 443892.04545454547, ...</td>\n",
       "      <td>[0.0, 7.377340534178557e-08, 3.997906934969890...</td>\n",
       "      <td>3.86186080e+07</td>\n",
       "    </tr>\n",
       "    <tr>\n",
       "      <th>1.4351</th>\n",
       "      <td>[0.0, 221946.02272727274, 443892.04545454547, ...</td>\n",
       "      <td>[0.0, 1.8976395737071333e-08, 3.20879003980537...</td>\n",
       "      <td>6.99129972e+07</td>\n",
       "    </tr>\n",
       "  </tbody>\n",
       "</table>\n",
       "</div>"
      ],
      "text/plain": [
       "                                                        freq  \\\n",
       "ttf_round                                                      \n",
       "1.4308     [0.0, 357206.64404357923, 714413.2880871585, 1...   \n",
       "1.4319     [0.0, 221946.02272727274, 443892.04545454547, ...   \n",
       "1.433      [0.0, 221946.02272727274, 443892.04545454547, ...   \n",
       "1.434      [0.0, 221946.02272727274, 443892.04545454547, ...   \n",
       "1.4351     [0.0, 221946.02272727274, 443892.04545454547, ...   \n",
       "\n",
       "                                                         psd           f_dom  \n",
       "ttf_round                                                                     \n",
       "1.4308     [2.4058242836791375e-39, 1.02954527591958e-07,...  5.71530630e+07  \n",
       "1.4319     [0.0, 1.5160343499452684e-07, 5.87705036998709...  6.01473722e+07  \n",
       "1.433      [0.0, 2.427974301821161e-07, 8.709172315991998...  5.70401278e+07  \n",
       "1.434      [0.0, 7.377340534178557e-08, 3.997906934969890...  3.86186080e+07  \n",
       "1.4351     [0.0, 1.8976395737071333e-08, 3.20879003980537...  6.99129972e+07  "
      ]
     },
     "execution_count": 21,
     "metadata": {},
     "output_type": "execute_result"
    }
   ],
   "source": [
    "df_psd = df_tr_sec.groupby('ttf_round')['acoustic_data'].agg(psd)\n",
    "df_psd = pd.DataFrame(df_psd.tolist(), index= df_psd.index, columns = ['freq', 'psd','f_dom'])\n",
    "df_psd.head()"
   ]
  },
  {
   "cell_type": "code",
   "execution_count": 22,
   "metadata": {
    "scrolled": true
   },
   "outputs": [
    {
     "data": {
      "text/html": [
       "<div>\n",
       "<style scoped>\n",
       "    .dataframe tbody tr th:only-of-type {\n",
       "        vertical-align: middle;\n",
       "    }\n",
       "\n",
       "    .dataframe tbody tr th {\n",
       "        vertical-align: top;\n",
       "    }\n",
       "\n",
       "    .dataframe thead th {\n",
       "        text-align: right;\n",
       "    }\n",
       "</style>\n",
       "<table border=\"1\" class=\"dataframe\">\n",
       "  <thead>\n",
       "    <tr style=\"text-align: right;\">\n",
       "      <th>ttf_round</th>\n",
       "      <th>1.4308</th>\n",
       "      <th>1.4319</th>\n",
       "      <th>1.433</th>\n",
       "      <th>1.434</th>\n",
       "      <th>1.4351</th>\n",
       "    </tr>\n",
       "  </thead>\n",
       "  <tbody>\n",
       "    <tr>\n",
       "      <th>freq</th>\n",
       "      <td>[0.0, 357206.64404357923, 714413.2880871585, 1...</td>\n",
       "      <td>[0.0, 221946.02272727274, 443892.04545454547, ...</td>\n",
       "      <td>[0.0, 221946.02272727274, 443892.04545454547, ...</td>\n",
       "      <td>[0.0, 221946.02272727274, 443892.04545454547, ...</td>\n",
       "      <td>[0.0, 221946.02272727274, 443892.04545454547, ...</td>\n",
       "    </tr>\n",
       "    <tr>\n",
       "      <th>psd</th>\n",
       "      <td>[2.4058242836791375e-39, 1.02954527591958e-07,...</td>\n",
       "      <td>[0.0, 1.5160343499452684e-07, 5.87705036998709...</td>\n",
       "      <td>[0.0, 2.427974301821161e-07, 8.709172315991998...</td>\n",
       "      <td>[0.0, 7.377340534178557e-08, 3.997906934969890...</td>\n",
       "      <td>[0.0, 1.8976395737071333e-08, 3.20879003980537...</td>\n",
       "    </tr>\n",
       "    <tr>\n",
       "      <th>f_dom</th>\n",
       "      <td>57153063</td>\n",
       "      <td>60147372</td>\n",
       "      <td>57040128</td>\n",
       "      <td>38618608</td>\n",
       "      <td>69912997</td>\n",
       "    </tr>\n",
       "    <tr>\n",
       "      <th>f_sec1</th>\n",
       "      <td>0.018663116</td>\n",
       "      <td>0.011383158</td>\n",
       "      <td>0.014795234</td>\n",
       "      <td>0.010322085</td>\n",
       "      <td>0.048759826</td>\n",
       "    </tr>\n",
       "    <tr>\n",
       "      <th>f_sec2</th>\n",
       "      <td>0.03619608</td>\n",
       "      <td>0.014028674</td>\n",
       "      <td>0.020870639</td>\n",
       "      <td>0.029468356</td>\n",
       "      <td>0.071429379</td>\n",
       "    </tr>\n",
       "    <tr>\n",
       "      <th>f_sec3</th>\n",
       "      <td>0.056099068</td>\n",
       "      <td>0.042418963</td>\n",
       "      <td>0.069884057</td>\n",
       "      <td>0.070903322</td>\n",
       "      <td>0.095376687</td>\n",
       "    </tr>\n",
       "    <tr>\n",
       "      <th>f_sec4</th>\n",
       "      <td>0.10433925</td>\n",
       "      <td>0.078821207</td>\n",
       "      <td>0.10416894</td>\n",
       "      <td>0.18843071</td>\n",
       "      <td>0.10689126</td>\n",
       "    </tr>\n",
       "    <tr>\n",
       "      <th>f_sec5</th>\n",
       "      <td>0.16212579</td>\n",
       "      <td>0.14310953</td>\n",
       "      <td>0.1095054</td>\n",
       "      <td>0.15071376</td>\n",
       "      <td>0.16753724</td>\n",
       "    </tr>\n",
       "    <tr>\n",
       "      <th>f_sec6</th>\n",
       "      <td>0.36710466</td>\n",
       "      <td>0.39284</td>\n",
       "      <td>0.43727298</td>\n",
       "      <td>0.273352</td>\n",
       "      <td>0.11055486</td>\n",
       "    </tr>\n",
       "    <tr>\n",
       "      <th>f_sec7</th>\n",
       "      <td>0.11509893</td>\n",
       "      <td>0.22097272</td>\n",
       "      <td>0.131849</td>\n",
       "      <td>0.13893969</td>\n",
       "      <td>0.14391569</td>\n",
       "    </tr>\n",
       "    <tr>\n",
       "      <th>f_sec8</th>\n",
       "      <td>0.045882903</td>\n",
       "      <td>0.029350639</td>\n",
       "      <td>0.037078896</td>\n",
       "      <td>0.061215691</td>\n",
       "      <td>0.08143266</td>\n",
       "    </tr>\n",
       "    <tr>\n",
       "      <th>f_sec9</th>\n",
       "      <td>0.04702841</td>\n",
       "      <td>0.0402014</td>\n",
       "      <td>0.034958649</td>\n",
       "      <td>0.047887512</td>\n",
       "      <td>0.078640999</td>\n",
       "    </tr>\n",
       "    <tr>\n",
       "      <th>f_sec10</th>\n",
       "      <td>0.047461793</td>\n",
       "      <td>0.026873719</td>\n",
       "      <td>0.039616198</td>\n",
       "      <td>0.028766877</td>\n",
       "      <td>0.095461409</td>\n",
       "    </tr>\n",
       "  </tbody>\n",
       "</table>\n",
       "</div>"
      ],
      "text/plain": [
       "ttf_round                                             1.4308  \\\n",
       "freq       [0.0, 357206.64404357923, 714413.2880871585, 1...   \n",
       "psd        [2.4058242836791375e-39, 1.02954527591958e-07,...   \n",
       "f_dom                                               57153063   \n",
       "f_sec1                                           0.018663116   \n",
       "f_sec2                                            0.03619608   \n",
       "f_sec3                                           0.056099068   \n",
       "f_sec4                                            0.10433925   \n",
       "f_sec5                                            0.16212579   \n",
       "f_sec6                                            0.36710466   \n",
       "f_sec7                                            0.11509893   \n",
       "f_sec8                                           0.045882903   \n",
       "f_sec9                                            0.04702841   \n",
       "f_sec10                                          0.047461793   \n",
       "\n",
       "ttf_round                                             1.4319  \\\n",
       "freq       [0.0, 221946.02272727274, 443892.04545454547, ...   \n",
       "psd        [0.0, 1.5160343499452684e-07, 5.87705036998709...   \n",
       "f_dom                                               60147372   \n",
       "f_sec1                                           0.011383158   \n",
       "f_sec2                                           0.014028674   \n",
       "f_sec3                                           0.042418963   \n",
       "f_sec4                                           0.078821207   \n",
       "f_sec5                                            0.14310953   \n",
       "f_sec6                                               0.39284   \n",
       "f_sec7                                            0.22097272   \n",
       "f_sec8                                           0.029350639   \n",
       "f_sec9                                             0.0402014   \n",
       "f_sec10                                          0.026873719   \n",
       "\n",
       "ttf_round                                              1.433  \\\n",
       "freq       [0.0, 221946.02272727274, 443892.04545454547, ...   \n",
       "psd        [0.0, 2.427974301821161e-07, 8.709172315991998...   \n",
       "f_dom                                               57040128   \n",
       "f_sec1                                           0.014795234   \n",
       "f_sec2                                           0.020870639   \n",
       "f_sec3                                           0.069884057   \n",
       "f_sec4                                            0.10416894   \n",
       "f_sec5                                             0.1095054   \n",
       "f_sec6                                            0.43727298   \n",
       "f_sec7                                              0.131849   \n",
       "f_sec8                                           0.037078896   \n",
       "f_sec9                                           0.034958649   \n",
       "f_sec10                                          0.039616198   \n",
       "\n",
       "ttf_round                                              1.434  \\\n",
       "freq       [0.0, 221946.02272727274, 443892.04545454547, ...   \n",
       "psd        [0.0, 7.377340534178557e-08, 3.997906934969890...   \n",
       "f_dom                                               38618608   \n",
       "f_sec1                                           0.010322085   \n",
       "f_sec2                                           0.029468356   \n",
       "f_sec3                                           0.070903322   \n",
       "f_sec4                                            0.18843071   \n",
       "f_sec5                                            0.15071376   \n",
       "f_sec6                                              0.273352   \n",
       "f_sec7                                            0.13893969   \n",
       "f_sec8                                           0.061215691   \n",
       "f_sec9                                           0.047887512   \n",
       "f_sec10                                          0.028766877   \n",
       "\n",
       "ttf_round                                             1.4351  \n",
       "freq       [0.0, 221946.02272727274, 443892.04545454547, ...  \n",
       "psd        [0.0, 1.8976395737071333e-08, 3.20879003980537...  \n",
       "f_dom                                               69912997  \n",
       "f_sec1                                           0.048759826  \n",
       "f_sec2                                           0.071429379  \n",
       "f_sec3                                           0.095376687  \n",
       "f_sec4                                            0.10689126  \n",
       "f_sec5                                            0.16753724  \n",
       "f_sec6                                            0.11055486  \n",
       "f_sec7                                            0.14391569  \n",
       "f_sec8                                            0.08143266  \n",
       "f_sec9                                           0.078640999  \n",
       "f_sec10                                          0.095461409  "
      ]
     },
     "execution_count": 22,
     "metadata": {},
     "output_type": "execute_result"
    }
   ],
   "source": [
    "fsecs = ['f_sec' + str(num) for num in range(1,11)] # variable names\n",
    "df_f = pd.DataFrame(columns = fsecs)\n",
    "for index, row in df_psd.iterrows():\n",
    "#     print(type(row))\n",
    "    f_dict = dict()\n",
    "    freq_sec = np.linspace(0,1e8,11)\n",
    "    psd = row['psd']\n",
    "    freq = row['freq']\n",
    "    area = psd[freq < 1e8].sum()\n",
    "\n",
    "    for idx, fsec in enumerate(fsecs):\n",
    "        row_filter = (freq >= freq_sec[idx]) & (freq < freq_sec[idx+1])\n",
    "        pzone = psd[row_filter].sum()    \n",
    "        f_dict[fsec] = pzone / area\n",
    "    temp = pd.DataFrame(f_dict,index =[index] )\n",
    "#     print(temp)\n",
    "    df_f = df_f.append(temp) \n",
    "df_psd = df_psd.merge(df_f, how = 'left', left_index = True, right_index = True)\n",
    "df_psd.head().T"
   ]
  },
  {
   "cell_type": "markdown",
   "metadata": {},
   "source": [
    "merge time-lag features `df_lag_all` with frequency-domain features `df_psd`"
   ]
  },
  {
   "cell_type": "code",
   "execution_count": 23,
   "metadata": {},
   "outputs": [
    {
     "data": {
      "image/png": "[encoded data removed]",
      "text/plain": [
       "<Figure size 1152x1152 with 2 Axes>"
      ]
     },
     "metadata": {
      "needs_background": "light"
     },
     "output_type": "display_data"
    }
   ],
   "source": [
    "df_agg_all = df_lag_all.merge(df_psd, how = 'left', left_index = True, right_index = True)\n",
    "# df_agg_all.reset_index(inplace = True)\n",
    "# df_agg_all.ttf_round = df_agg_all.ttf_round.astype('float')\n",
    "\n",
    "corr_lag = df_agg_all.corr()\n",
    "mask = np.triu(np.ones_like(corr_lag, dtype=bool))\n",
    "# Generate a custom diverging colormap\n",
    "cmap = sns.diverging_palette(230, 20, as_cmap=True)\n",
    "f, ax = plt.subplots(figsize=(16, 16))\n",
    "ax = sns.heatmap(corr_lag, mask=mask, cmap=cmap, vmax=.3, center=0,\n",
    "                 square=True, linewidths=.5);"
   ]
  },
  {
   "cell_type": "code",
   "execution_count": 24,
   "metadata": {
    "scrolled": true
   },
   "outputs": [
    {
     "data": {
      "image/png": "[encoded data removed]",
      "text/plain": [
       "<Figure size 1152x648 with 30 Axes>"
      ]
     },
     "metadata": {
      "needs_background": "light"
     },
     "output_type": "display_data"
    }
   ],
   "source": [
    "df_agg_all.hist(figsize=(16,9))\n",
    "plt.subplots_adjust(hspace=0.5);"
   ]
  },
  {
   "cell_type": "markdown",
   "metadata": {},
   "source": [
    "Q: why median and iqr only have a precision of 1\n",
    "\n",
    "Because `acoustic_data` is int type."
   ]
  },
  {
   "cell_type": "markdown",
   "metadata": {},
   "source": [
    "## 2.5.3 Truncate training data for each earthquake event"
   ]
  },
  {
   "cell_type": "code",
   "execution_count": null,
   "metadata": {
    "scrolled": false
   },
   "outputs": [],
   "source": [
    "# using chunk to manipulate the raw train data\n",
    "filenum = 0\n",
    "j = 0\n",
    "previous_df = pd.DataFrame()\n",
    "total_missing = np.array([0,0])\n",
    "total_records = 0\n",
    "min_time = 100000\n",
    "\n",
    "for chunk in pd.read_csv(filename, chunksize = 1e7):\n",
    "    # count missing value in each column\n",
    "\n",
    "    total_missing += chunk.isna().sum().to_numpy()\n",
    "    total_records += len(chunk)\n",
    "    min_time = np.array([chunk.iloc[-1,1], min_time]).min()\n",
    "    \n",
    "    j += 1\n",
    "#     print('chunk', j)\n",
    "    dt_df = chunk[['time_to_failure']].shift(fill_value = chunk.iloc[0]['time_to_failure']) - chunk[['time_to_failure']]\n",
    "    # find the last index of an earthquake event\n",
    "    idx = dt_df[dt_df['time_to_failure'] < 0].index\n",
    "    \n",
    "    if len(idx) == 0:\n",
    "        previous_df = pd.concat([previous_df,chunk])\n",
    "    else:\n",
    "        prev_i = chunk.index[0]\n",
    "#         print('idx', idx)\n",
    "        for i in idx:\n",
    "            # save each earthquake event in a pickle file\n",
    "            pd.concat([previous_df, chunk.loc[prev_i:i, :]]).to_pickle('D:/DataScience/traindata/train_sec_' + str(filenum) + '.pkl')\n",
    "            filenum += 1\n",
    "            prev_i = i\n",
    "        previous_df = chunk.loc[i:, :]\n",
    "#     print('filename', filenum)\n",
    "\n",
    "# The last earthquake file    \n",
    "previous_df.to_pickle('D:/DataScience/traindata/train_sec_' + str(filenum) + '.pkl')"
   ]
  },
  {
   "cell_type": "code",
   "execution_count": null,
   "metadata": {
    "scrolled": true
   },
   "outputs": [],
   "source": [
    "print(\"nan for two variables: \", total_missing)\n",
    "print(\"Total records: \", total_records)\n",
    "print(\"Last time of recording: \", min_time)"
   ]
  },
  {
   "cell_type": "markdown",
   "metadata": {},
   "source": [
    "## 2.5.4 Check tuncated data"
   ]
  },
  {
   "cell_type": "code",
   "execution_count": null,
   "metadata": {},
   "outputs": [],
   "source": [
    "def plot_train_segment(fileobject):\n",
    "    df = pd.read_pickle(fileobject)\n",
    "    print(df.columns)\n",
    "    print('Records number:',len(df))\n",
    "    df.plot(x = 'time_to_failure', y = 'acoustic_data')\n",
    "    \n",
    "    plt.gca().invert_xaxis()\n",
    "    plt.title(fileobject[31:-4])\n",
    "    plt.savefig(\"../images/\" + fileobject[25:-4] + \".jpg\")\n",
    "    #     plt.close()"
   ]
  },
  {
   "cell_type": "code",
   "execution_count": null,
   "metadata": {},
   "outputs": [],
   "source": [
    "pathlist = ['D:/DataScience/traindata/train_sec_' + str(num) + '.pkl' for num in range (0,17)]\n"
   ]
  },
  {
   "cell_type": "code",
   "execution_count": null,
   "metadata": {},
   "outputs": [],
   "source": [
    "# plot the training segment and save figure\n",
    "for path in pathlist[4:6]:\n",
    "    plot_train_segment(path)"
   ]
  },
  {
   "cell_type": "code",
   "execution_count": null,
   "metadata": {
    "scrolled": false
   },
   "outputs": [],
   "source": [
    "df_tr_end = pd.read_pickle(pathlist[-1])\n",
    "df_tr_end.iloc[-5:]"
   ]
  },
  {
   "cell_type": "markdown",
   "metadata": {},
   "source": [
    "`train_sec_16` is not complete, i.e., it does not records the failure event"
   ]
  },
  {
   "cell_type": "markdown",
   "metadata": {},
   "source": [
    "## 2.5.5 Pandas profiling for a training segment"
   ]
  },
  {
   "cell_type": "code",
   "execution_count": null,
   "metadata": {},
   "outputs": [],
   "source": [
    "df_tr_sec = pd.read_pickle(pathlist[7])"
   ]
  },
  {
   "cell_type": "code",
   "execution_count": null,
   "metadata": {},
   "outputs": [],
   "source": [
    "profile = ProfileReport(df_tr_sec, title=\"Pandas Profiling Report of the Training Data 6\")"
   ]
  },
  {
   "cell_type": "code",
   "execution_count": null,
   "metadata": {
    "scrolled": false
   },
   "outputs": [],
   "source": [
    "# profile.to_widgets()"
   ]
  },
  {
   "cell_type": "code",
   "execution_count": null,
   "metadata": {
    "scrolled": true
   },
   "outputs": [],
   "source": [
    "profile.to_file(\"../report/training_data_report_6.html\")"
   ]
  },
  {
   "cell_type": "markdown",
   "metadata": {},
   "source": [
    "# 2.6 Load the testing data"
   ]
  },
  {
   "cell_type": "code",
   "execution_count": null,
   "metadata": {},
   "outputs": [],
   "source": [
    "testfilepath = \"../raw_data/test/\"\n",
    "os.chdir(testfilepath)\n",
    "testfiles = glob.glob(\"*.csv\")\n",
    "print(testfiles[0:5])"
   ]
  },
  {
   "cell_type": "code",
   "execution_count": null,
   "metadata": {},
   "outputs": [],
   "source": [
    "def plot_test_file(fileobject):\n",
    "    df = pd.read_csv(fileobject)\n",
    "    print(df.describe())\n",
    "    df.plot(y = 'acoustic_data')\n",
    "    plt.title(fileobject[0:-4])"
   ]
  },
  {
   "cell_type": "code",
   "execution_count": null,
   "metadata": {},
   "outputs": [],
   "source": [
    "df_te = pd.read_csv(testfiles[0])\n",
    "df_te.head()"
   ]
  },
  {
   "cell_type": "code",
   "execution_count": null,
   "metadata": {
    "scrolled": false
   },
   "outputs": [],
   "source": [
    "for testfile in testfiles[0:3]:\n",
    "    print(len(testfile))\n",
    "    plot_test_file(testfile)\n",
    "    "
   ]
  },
  {
   "cell_type": "markdown",
   "metadata": {},
   "source": [
    "# 2.7 Summary"
   ]
  },
  {
   "cell_type": "markdown",
   "metadata": {},
   "source": [
    "For the training data:\n",
    "* The data has zero missing values for both columns\n",
    "* The data has only two column ,`acoustic_data` in int type and `time_to_failure` in float type. `time_to_failure` is our target.\n",
    "* The data has 629,145,480 records, too large to operate.\n",
    "* `acoustic_data` is the acoustic emission signal (amplitude), consisting of many peaks and troughts. \n",
    "* `time_to_failure` decreases from a value to zero periodically. The data should be truncated based on it.\n",
    "* 17 segments were obtained after analyzing chunk data in the rawdata. \n",
    "* Each training segment has different time length\n",
    "* The first one only has about two seconds record to earthquake. The last one is not complete because the `time_to_failure` is 9.75 s, far from zero.\n",
    "* After `acoustic_data` reaches a extremly large event, the eqrthquake occurs soon in each training segment, and `time_to_failure` is less than 0.5s.\n",
    "\n",
    "For the testing data:\n",
    "* Only one row in each file, which is the `acoustic_data`\n",
    "* Each segment contains 150k records, a small segment from a complete earthquake event. By comparision, records in training data is about 200 times of the test data. This may inspire us the feature extraction from the training data\n",
    "* Similar to the training data, the average `acoustic_data` of a test data are small, while some abnormal `acoustic_data` exists. These determines what a feature is.\n",
    "* Most test data may not contain the extremly large event with an absolute of amplitude over 1000. They contains peaks at a scale of several hundred amplitude"
   ]
  },
  {
   "cell_type": "markdown",
   "metadata": {},
   "source": [
    "7/11/2022\n",
    "For the training data:\n",
    "\n",
    "* Resampling using groupby on round precision = 4 for `time_to_failure`\n",
    "* Time lagging is tried on `acoustic_data` to create features. However, what time step is an optimum value?"
   ]
  },
  {
   "cell_type": "code",
   "execution_count": null,
   "metadata": {},
   "outputs": [],
   "source": []
  }
 ],
 "metadata": {
  "kernelspec": {
   "display_name": "Python 3",
   "language": "python",
   "name": "python3"
  },
  "language_info": {
   "codemirror_mode": {
    "name": "ipython",
    "version": 3
   },
   "file_extension": ".py",
   "mimetype": "text/x-python",
   "name": "python",
   "nbconvert_exporter": "python",
   "pygments_lexer": "ipython3",
   "version": "3.8.3"
  }
 },
 "nbformat": 4,
 "nbformat_minor": 4
}
