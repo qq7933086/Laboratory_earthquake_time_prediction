{
 "cells": [
  {
   "cell_type": "markdown",
   "metadata": {},
   "source": [
    "# 4 Pre-Processing and Training Data<a id='4_Pre-Processing_and_Training_Data'></a>"
   ]
  },
  {
   "cell_type": "markdown",
   "metadata": {},
   "source": [
    "## 4.1 Contents"
   ]
  },
  {
   "cell_type": "markdown",
   "metadata": {},
   "source": [
    "## 4.2 Introduction"
   ]
  },
  {
   "cell_type": "markdown",
   "metadata": {},
   "source": [
    "## 4.3 Imports"
   ]
  },
  {
   "cell_type": "code",
   "execution_count": 2,
   "metadata": {},
   "outputs": [],
   "source": [
    "import pandas as pd\n",
    "import numpy as np\n",
    "import matplotlib.pyplot as plt\n",
    "import seaborn as sns\n",
    "from sklearn import __version__ as sklearn_version\n",
    "from sklearn.decomposition import PCA\n",
    "from sklearn.preprocessing import scale\n",
    "from sklearn.model_selection import train_test_split, cross_validate, GridSearchCV\n",
    "from sklearn.preprocessing import StandardScaler, MinMaxScaler\n",
    "from sklearn.dummy import DummyRegressor\n",
    "from sklearn.ensemble import RandomForestRegressor, GradientBoostingRegressor\n",
    "from sklearn.metrics import r2_score, mean_squared_error, mean_absolute_error\n",
    "from sklearn.pipeline import make_pipeline\n",
    "from sklearn.linear_model import LinearRegression\n",
    "from sklearn.feature_selection import SelectKBest, f_regression\n",
    "%matplotlib inline  "
   ]
  },
  {
   "cell_type": "markdown",
   "metadata": {},
   "source": [
    "## 4.4 Load Data"
   ]
  },
  {
   "cell_type": "code",
   "execution_count": 3,
   "metadata": {
    "scrolled": true
   },
   "outputs": [
    {
     "data": {
      "text/html": [
       "<div>\n",
       "<style scoped>\n",
       "    .dataframe tbody tr th:only-of-type {\n",
       "        vertical-align: middle;\n",
       "    }\n",
       "\n",
       "    .dataframe tbody tr th {\n",
       "        vertical-align: top;\n",
       "    }\n",
       "\n",
       "    .dataframe thead th {\n",
       "        text-align: right;\n",
       "    }\n",
       "</style>\n",
       "<table border=\"1\" class=\"dataframe\">\n",
       "  <thead>\n",
       "    <tr style=\"text-align: right;\">\n",
       "      <th></th>\n",
       "      <th>ttf_avg</th>\n",
       "      <th>rol50_mean</th>\n",
       "      <th>rol50_std</th>\n",
       "      <th>rol50_kurt</th>\n",
       "      <th>rol50_skew</th>\n",
       "      <th>rol500_mean</th>\n",
       "      <th>rol500_std</th>\n",
       "      <th>rol500_kurt</th>\n",
       "      <th>rol500_skew</th>\n",
       "      <th>rol5000_mean</th>\n",
       "      <th>...</th>\n",
       "      <th>rol50_kurt_std</th>\n",
       "      <th>rol50_skew_std</th>\n",
       "      <th>rol500_mean_std</th>\n",
       "      <th>rol500_std_std</th>\n",
       "      <th>rol500_kurt_std</th>\n",
       "      <th>rol500_skew_std</th>\n",
       "      <th>rol5000_mean_std</th>\n",
       "      <th>rol5000_std_std</th>\n",
       "      <th>rol5000_kurt_std</th>\n",
       "      <th>rol5000_skew_std</th>\n",
       "    </tr>\n",
       "    <tr>\n",
       "      <th>segid</th>\n",
       "      <th></th>\n",
       "      <th></th>\n",
       "      <th></th>\n",
       "      <th></th>\n",
       "      <th></th>\n",
       "      <th></th>\n",
       "      <th></th>\n",
       "      <th></th>\n",
       "      <th></th>\n",
       "      <th></th>\n",
       "      <th></th>\n",
       "      <th></th>\n",
       "      <th></th>\n",
       "      <th></th>\n",
       "      <th></th>\n",
       "      <th></th>\n",
       "      <th></th>\n",
       "      <th></th>\n",
       "      <th></th>\n",
       "      <th></th>\n",
       "      <th></th>\n",
       "    </tr>\n",
       "  </thead>\n",
       "  <tbody>\n",
       "    <tr>\n",
       "      <th>0</th>\n",
       "      <td>1.450068</td>\n",
       "      <td>4.883969</td>\n",
       "      <td>4.011743</td>\n",
       "      <td>-0.156991</td>\n",
       "      <td>0.004550</td>\n",
       "      <td>4.883703</td>\n",
       "      <td>4.182270</td>\n",
       "      <td>0.265295</td>\n",
       "      <td>0.012660</td>\n",
       "      <td>4.878336</td>\n",
       "      <td>...</td>\n",
       "      <td>0.652158</td>\n",
       "      <td>0.346816</td>\n",
       "      <td>0.319750</td>\n",
       "      <td>2.921025</td>\n",
       "      <td>0.996212</td>\n",
       "      <td>0.151200</td>\n",
       "      <td>0.255034</td>\n",
       "      <td>1.843935</td>\n",
       "      <td>3.730661</td>\n",
       "      <td>0.114367</td>\n",
       "    </tr>\n",
       "    <tr>\n",
       "      <th>1</th>\n",
       "      <td>1.411231</td>\n",
       "      <td>4.725729</td>\n",
       "      <td>4.379248</td>\n",
       "      <td>-0.161736</td>\n",
       "      <td>0.000775</td>\n",
       "      <td>4.725036</td>\n",
       "      <td>4.653421</td>\n",
       "      <td>0.323517</td>\n",
       "      <td>0.003476</td>\n",
       "      <td>4.719766</td>\n",
       "      <td>...</td>\n",
       "      <td>0.661855</td>\n",
       "      <td>0.350482</td>\n",
       "      <td>0.267451</td>\n",
       "      <td>4.679252</td>\n",
       "      <td>1.582485</td>\n",
       "      <td>0.172886</td>\n",
       "      <td>0.156929</td>\n",
       "      <td>3.623803</td>\n",
       "      <td>10.152144</td>\n",
       "      <td>0.197911</td>\n",
       "    </tr>\n",
       "    <tr>\n",
       "      <th>2</th>\n",
       "      <td>1.371918</td>\n",
       "      <td>4.906072</td>\n",
       "      <td>4.849219</td>\n",
       "      <td>-0.181254</td>\n",
       "      <td>0.009331</td>\n",
       "      <td>4.906022</td>\n",
       "      <td>5.178792</td>\n",
       "      <td>0.442928</td>\n",
       "      <td>0.010369</td>\n",
       "      <td>4.903244</td>\n",
       "      <td>...</td>\n",
       "      <td>0.657703</td>\n",
       "      <td>0.354904</td>\n",
       "      <td>0.302262</td>\n",
       "      <td>4.675530</td>\n",
       "      <td>1.629785</td>\n",
       "      <td>0.202561</td>\n",
       "      <td>0.215991</td>\n",
       "      <td>3.150538</td>\n",
       "      <td>6.937049</td>\n",
       "      <td>0.215304</td>\n",
       "    </tr>\n",
       "    <tr>\n",
       "      <th>3</th>\n",
       "      <td>1.332830</td>\n",
       "      <td>4.902059</td>\n",
       "      <td>4.475839</td>\n",
       "      <td>-0.173827</td>\n",
       "      <td>0.008608</td>\n",
       "      <td>4.901518</td>\n",
       "      <td>4.743548</td>\n",
       "      <td>0.343317</td>\n",
       "      <td>0.018004</td>\n",
       "      <td>4.898163</td>\n",
       "      <td>...</td>\n",
       "      <td>0.637633</td>\n",
       "      <td>0.350960</td>\n",
       "      <td>0.302469</td>\n",
       "      <td>5.054542</td>\n",
       "      <td>1.427065</td>\n",
       "      <td>0.197032</td>\n",
       "      <td>0.207615</td>\n",
       "      <td>4.086200</td>\n",
       "      <td>7.301352</td>\n",
       "      <td>0.249382</td>\n",
       "    </tr>\n",
       "    <tr>\n",
       "      <th>4</th>\n",
       "      <td>1.294127</td>\n",
       "      <td>4.908958</td>\n",
       "      <td>4.700727</td>\n",
       "      <td>-0.169326</td>\n",
       "      <td>0.012172</td>\n",
       "      <td>4.909695</td>\n",
       "      <td>4.950485</td>\n",
       "      <td>0.316810</td>\n",
       "      <td>0.012939</td>\n",
       "      <td>4.909758</td>\n",
       "      <td>...</td>\n",
       "      <td>0.639038</td>\n",
       "      <td>0.357612</td>\n",
       "      <td>0.270428</td>\n",
       "      <td>5.380926</td>\n",
       "      <td>1.471680</td>\n",
       "      <td>0.192242</td>\n",
       "      <td>0.157056</td>\n",
       "      <td>4.308565</td>\n",
       "      <td>8.089903</td>\n",
       "      <td>0.240521</td>\n",
       "    </tr>\n",
       "  </tbody>\n",
       "</table>\n",
       "<p>5 rows × 25 columns</p>\n",
       "</div>"
      ],
      "text/plain": [
       "        ttf_avg  rol50_mean  rol50_std  rol50_kurt  rol50_skew  rol500_mean  \\\n",
       "segid                                                                         \n",
       "0      1.450068    4.883969   4.011743   -0.156991    0.004550     4.883703   \n",
       "1      1.411231    4.725729   4.379248   -0.161736    0.000775     4.725036   \n",
       "2      1.371918    4.906072   4.849219   -0.181254    0.009331     4.906022   \n",
       "3      1.332830    4.902059   4.475839   -0.173827    0.008608     4.901518   \n",
       "4      1.294127    4.908958   4.700727   -0.169326    0.012172     4.909695   \n",
       "\n",
       "       rol500_std  rol500_kurt  rol500_skew  rol5000_mean  ...  \\\n",
       "segid                                                      ...   \n",
       "0        4.182270     0.265295     0.012660      4.878336  ...   \n",
       "1        4.653421     0.323517     0.003476      4.719766  ...   \n",
       "2        5.178792     0.442928     0.010369      4.903244  ...   \n",
       "3        4.743548     0.343317     0.018004      4.898163  ...   \n",
       "4        4.950485     0.316810     0.012939      4.909758  ...   \n",
       "\n",
       "       rol50_kurt_std  rol50_skew_std  rol500_mean_std  rol500_std_std  \\\n",
       "segid                                                                    \n",
       "0            0.652158        0.346816         0.319750        2.921025   \n",
       "1            0.661855        0.350482         0.267451        4.679252   \n",
       "2            0.657703        0.354904         0.302262        4.675530   \n",
       "3            0.637633        0.350960         0.302469        5.054542   \n",
       "4            0.639038        0.357612         0.270428        5.380926   \n",
       "\n",
       "       rol500_kurt_std  rol500_skew_std  rol5000_mean_std  rol5000_std_std  \\\n",
       "segid                                                                        \n",
       "0             0.996212         0.151200          0.255034         1.843935   \n",
       "1             1.582485         0.172886          0.156929         3.623803   \n",
       "2             1.629785         0.202561          0.215991         3.150538   \n",
       "3             1.427065         0.197032          0.207615         4.086200   \n",
       "4             1.471680         0.192242          0.157056         4.308565   \n",
       "\n",
       "       rol5000_kurt_std  rol5000_skew_std  \n",
       "segid                                      \n",
       "0              3.730661          0.114367  \n",
       "1             10.152144          0.197911  \n",
       "2              6.937049          0.215304  \n",
       "3              7.301352          0.249382  \n",
       "4              8.089903          0.240521  \n",
       "\n",
       "[5 rows x 25 columns]"
      ]
     },
     "execution_count": 3,
     "metadata": {},
     "output_type": "execute_result"
    }
   ],
   "source": [
    "train_features_df = pd.read_csv('../data/train_transform.csv', index_col = 0)\n",
    "train_features_df.head()"
   ]
  },
  {
   "cell_type": "markdown",
   "metadata": {},
   "source": [
    "## 4.5 Train/Test Split"
   ]
  },
  {
   "cell_type": "code",
   "execution_count": 4,
   "metadata": {
    "execution": {
     "iopub.execute_input": "2022-08-23T17:46:29.981177Z",
     "iopub.status.busy": "2022-08-23T17:46:29.980355Z",
     "iopub.status.idle": "2022-08-23T17:46:29.995548Z",
     "shell.execute_reply": "2022-08-23T17:46:29.994527Z",
     "shell.execute_reply.started": "2022-08-23T17:46:29.981129Z"
    }
   },
   "outputs": [],
   "source": [
    "y = train_features_df[\"ttf_avg\"].values\n",
    "X = train_features_df.drop(columns = \"ttf_avg\").values\n",
    "X_train, X_test, y_train, y_test = train_test_split(X,y, test_size=0.2, random_state=47)"
   ]
  },
  {
   "cell_type": "code",
   "execution_count": 5,
   "metadata": {},
   "outputs": [
    {
     "data": {
      "text/plain": [
       "((3343, 24), (836, 24))"
      ]
     },
     "execution_count": 5,
     "metadata": {},
     "output_type": "execute_result"
    }
   ],
   "source": [
    "print(X_train.shape, X_test.shape)"
   ]
  },
  {
   "cell_type": "code",
   "execution_count": 7,
   "metadata": {},
   "outputs": [
    {
     "name": "stdout",
     "output_type": "stream",
     "text": [
      "(3343,) (836,)\n"
     ]
    }
   ],
   "source": [
    "print(y_train.shape, y_test.shape)"
   ]
  },
  {
   "cell_type": "markdown",
   "metadata": {},
   "source": [
    "## 4.6 Auto ML using Pycaret"
   ]
  },
  {
   "cell_type": "code",
   "execution_count": 4,
   "metadata": {},
   "outputs": [
    {
     "data": {
      "text/html": [
       "<style type=\"text/css\">\n",
       "#T_d6cb1_row42_col1 {\n",
       "  background-color: lightgreen;\n",
       "}\n",
       "</style>\n",
       "<table id=\"T_d6cb1\">\n",
       "  <thead>\n",
       "    <tr>\n",
       "      <th class=\"blank level0\" >&nbsp;</th>\n",
       "      <th id=\"T_d6cb1_level0_col0\" class=\"col_heading level0 col0\" >Description</th>\n",
       "      <th id=\"T_d6cb1_level0_col1\" class=\"col_heading level0 col1\" >Value</th>\n",
       "    </tr>\n",
       "  </thead>\n",
       "  <tbody>\n",
       "    <tr>\n",
       "      <th id=\"T_d6cb1_level0_row0\" class=\"row_heading level0 row0\" >0</th>\n",
       "      <td id=\"T_d6cb1_row0_col0\" class=\"data row0 col0\" >session_id</td>\n",
       "      <td id=\"T_d6cb1_row0_col1\" class=\"data row0 col1\" >4859</td>\n",
       "    </tr>\n",
       "    <tr>\n",
       "      <th id=\"T_d6cb1_level0_row1\" class=\"row_heading level0 row1\" >1</th>\n",
       "      <td id=\"T_d6cb1_row1_col0\" class=\"data row1 col0\" >Target</td>\n",
       "      <td id=\"T_d6cb1_row1_col1\" class=\"data row1 col1\" >ttf_avg</td>\n",
       "    </tr>\n",
       "    <tr>\n",
       "      <th id=\"T_d6cb1_level0_row2\" class=\"row_heading level0 row2\" >2</th>\n",
       "      <td id=\"T_d6cb1_row2_col0\" class=\"data row2 col0\" >Original Data</td>\n",
       "      <td id=\"T_d6cb1_row2_col1\" class=\"data row2 col1\" >(4179, 25)</td>\n",
       "    </tr>\n",
       "    <tr>\n",
       "      <th id=\"T_d6cb1_level0_row3\" class=\"row_heading level0 row3\" >3</th>\n",
       "      <td id=\"T_d6cb1_row3_col0\" class=\"data row3 col0\" >Missing Values</td>\n",
       "      <td id=\"T_d6cb1_row3_col1\" class=\"data row3 col1\" >False</td>\n",
       "    </tr>\n",
       "    <tr>\n",
       "      <th id=\"T_d6cb1_level0_row4\" class=\"row_heading level0 row4\" >4</th>\n",
       "      <td id=\"T_d6cb1_row4_col0\" class=\"data row4 col0\" >Numeric Features</td>\n",
       "      <td id=\"T_d6cb1_row4_col1\" class=\"data row4 col1\" >24</td>\n",
       "    </tr>\n",
       "    <tr>\n",
       "      <th id=\"T_d6cb1_level0_row5\" class=\"row_heading level0 row5\" >5</th>\n",
       "      <td id=\"T_d6cb1_row5_col0\" class=\"data row5 col0\" >Categorical Features</td>\n",
       "      <td id=\"T_d6cb1_row5_col1\" class=\"data row5 col1\" >0</td>\n",
       "    </tr>\n",
       "    <tr>\n",
       "      <th id=\"T_d6cb1_level0_row6\" class=\"row_heading level0 row6\" >6</th>\n",
       "      <td id=\"T_d6cb1_row6_col0\" class=\"data row6 col0\" >Ordinal Features</td>\n",
       "      <td id=\"T_d6cb1_row6_col1\" class=\"data row6 col1\" >False</td>\n",
       "    </tr>\n",
       "    <tr>\n",
       "      <th id=\"T_d6cb1_level0_row7\" class=\"row_heading level0 row7\" >7</th>\n",
       "      <td id=\"T_d6cb1_row7_col0\" class=\"data row7 col0\" >High Cardinality Features</td>\n",
       "      <td id=\"T_d6cb1_row7_col1\" class=\"data row7 col1\" >False</td>\n",
       "    </tr>\n",
       "    <tr>\n",
       "      <th id=\"T_d6cb1_level0_row8\" class=\"row_heading level0 row8\" >8</th>\n",
       "      <td id=\"T_d6cb1_row8_col0\" class=\"data row8 col0\" >High Cardinality Method</td>\n",
       "      <td id=\"T_d6cb1_row8_col1\" class=\"data row8 col1\" >None</td>\n",
       "    </tr>\n",
       "    <tr>\n",
       "      <th id=\"T_d6cb1_level0_row9\" class=\"row_heading level0 row9\" >9</th>\n",
       "      <td id=\"T_d6cb1_row9_col0\" class=\"data row9 col0\" >Transformed Train Set</td>\n",
       "      <td id=\"T_d6cb1_row9_col1\" class=\"data row9 col1\" >(2925, 18)</td>\n",
       "    </tr>\n",
       "    <tr>\n",
       "      <th id=\"T_d6cb1_level0_row10\" class=\"row_heading level0 row10\" >10</th>\n",
       "      <td id=\"T_d6cb1_row10_col0\" class=\"data row10 col0\" >Transformed Test Set</td>\n",
       "      <td id=\"T_d6cb1_row10_col1\" class=\"data row10 col1\" >(1254, 18)</td>\n",
       "    </tr>\n",
       "    <tr>\n",
       "      <th id=\"T_d6cb1_level0_row11\" class=\"row_heading level0 row11\" >11</th>\n",
       "      <td id=\"T_d6cb1_row11_col0\" class=\"data row11 col0\" >Shuffle Train-Test</td>\n",
       "      <td id=\"T_d6cb1_row11_col1\" class=\"data row11 col1\" >True</td>\n",
       "    </tr>\n",
       "    <tr>\n",
       "      <th id=\"T_d6cb1_level0_row12\" class=\"row_heading level0 row12\" >12</th>\n",
       "      <td id=\"T_d6cb1_row12_col0\" class=\"data row12 col0\" >Stratify Train-Test</td>\n",
       "      <td id=\"T_d6cb1_row12_col1\" class=\"data row12 col1\" >False</td>\n",
       "    </tr>\n",
       "    <tr>\n",
       "      <th id=\"T_d6cb1_level0_row13\" class=\"row_heading level0 row13\" >13</th>\n",
       "      <td id=\"T_d6cb1_row13_col0\" class=\"data row13 col0\" >Fold Generator</td>\n",
       "      <td id=\"T_d6cb1_row13_col1\" class=\"data row13 col1\" >KFold</td>\n",
       "    </tr>\n",
       "    <tr>\n",
       "      <th id=\"T_d6cb1_level0_row14\" class=\"row_heading level0 row14\" >14</th>\n",
       "      <td id=\"T_d6cb1_row14_col0\" class=\"data row14 col0\" >Fold Number</td>\n",
       "      <td id=\"T_d6cb1_row14_col1\" class=\"data row14 col1\" >10</td>\n",
       "    </tr>\n",
       "    <tr>\n",
       "      <th id=\"T_d6cb1_level0_row15\" class=\"row_heading level0 row15\" >15</th>\n",
       "      <td id=\"T_d6cb1_row15_col0\" class=\"data row15 col0\" >CPU Jobs</td>\n",
       "      <td id=\"T_d6cb1_row15_col1\" class=\"data row15 col1\" >-1</td>\n",
       "    </tr>\n",
       "    <tr>\n",
       "      <th id=\"T_d6cb1_level0_row16\" class=\"row_heading level0 row16\" >16</th>\n",
       "      <td id=\"T_d6cb1_row16_col0\" class=\"data row16 col0\" >Use GPU</td>\n",
       "      <td id=\"T_d6cb1_row16_col1\" class=\"data row16 col1\" >False</td>\n",
       "    </tr>\n",
       "    <tr>\n",
       "      <th id=\"T_d6cb1_level0_row17\" class=\"row_heading level0 row17\" >17</th>\n",
       "      <td id=\"T_d6cb1_row17_col0\" class=\"data row17 col0\" >Log Experiment</td>\n",
       "      <td id=\"T_d6cb1_row17_col1\" class=\"data row17 col1\" >False</td>\n",
       "    </tr>\n",
       "    <tr>\n",
       "      <th id=\"T_d6cb1_level0_row18\" class=\"row_heading level0 row18\" >18</th>\n",
       "      <td id=\"T_d6cb1_row18_col0\" class=\"data row18 col0\" >Experiment Name</td>\n",
       "      <td id=\"T_d6cb1_row18_col1\" class=\"data row18 col1\" >reg-default-name</td>\n",
       "    </tr>\n",
       "    <tr>\n",
       "      <th id=\"T_d6cb1_level0_row19\" class=\"row_heading level0 row19\" >19</th>\n",
       "      <td id=\"T_d6cb1_row19_col0\" class=\"data row19 col0\" >USI</td>\n",
       "      <td id=\"T_d6cb1_row19_col1\" class=\"data row19 col1\" >70f0</td>\n",
       "    </tr>\n",
       "    <tr>\n",
       "      <th id=\"T_d6cb1_level0_row20\" class=\"row_heading level0 row20\" >20</th>\n",
       "      <td id=\"T_d6cb1_row20_col0\" class=\"data row20 col0\" >Imputation Type</td>\n",
       "      <td id=\"T_d6cb1_row20_col1\" class=\"data row20 col1\" >simple</td>\n",
       "    </tr>\n",
       "    <tr>\n",
       "      <th id=\"T_d6cb1_level0_row21\" class=\"row_heading level0 row21\" >21</th>\n",
       "      <td id=\"T_d6cb1_row21_col0\" class=\"data row21 col0\" >Iterative Imputation Iteration</td>\n",
       "      <td id=\"T_d6cb1_row21_col1\" class=\"data row21 col1\" >None</td>\n",
       "    </tr>\n",
       "    <tr>\n",
       "      <th id=\"T_d6cb1_level0_row22\" class=\"row_heading level0 row22\" >22</th>\n",
       "      <td id=\"T_d6cb1_row22_col0\" class=\"data row22 col0\" >Numeric Imputer</td>\n",
       "      <td id=\"T_d6cb1_row22_col1\" class=\"data row22 col1\" >mean</td>\n",
       "    </tr>\n",
       "    <tr>\n",
       "      <th id=\"T_d6cb1_level0_row23\" class=\"row_heading level0 row23\" >23</th>\n",
       "      <td id=\"T_d6cb1_row23_col0\" class=\"data row23 col0\" >Iterative Imputation Numeric Model</td>\n",
       "      <td id=\"T_d6cb1_row23_col1\" class=\"data row23 col1\" >None</td>\n",
       "    </tr>\n",
       "    <tr>\n",
       "      <th id=\"T_d6cb1_level0_row24\" class=\"row_heading level0 row24\" >24</th>\n",
       "      <td id=\"T_d6cb1_row24_col0\" class=\"data row24 col0\" >Categorical Imputer</td>\n",
       "      <td id=\"T_d6cb1_row24_col1\" class=\"data row24 col1\" >constant</td>\n",
       "    </tr>\n",
       "    <tr>\n",
       "      <th id=\"T_d6cb1_level0_row25\" class=\"row_heading level0 row25\" >25</th>\n",
       "      <td id=\"T_d6cb1_row25_col0\" class=\"data row25 col0\" >Iterative Imputation Categorical Model</td>\n",
       "      <td id=\"T_d6cb1_row25_col1\" class=\"data row25 col1\" >None</td>\n",
       "    </tr>\n",
       "    <tr>\n",
       "      <th id=\"T_d6cb1_level0_row26\" class=\"row_heading level0 row26\" >26</th>\n",
       "      <td id=\"T_d6cb1_row26_col0\" class=\"data row26 col0\" >Unknown Categoricals Handling</td>\n",
       "      <td id=\"T_d6cb1_row26_col1\" class=\"data row26 col1\" >least_frequent</td>\n",
       "    </tr>\n",
       "    <tr>\n",
       "      <th id=\"T_d6cb1_level0_row27\" class=\"row_heading level0 row27\" >27</th>\n",
       "      <td id=\"T_d6cb1_row27_col0\" class=\"data row27 col0\" >Normalize</td>\n",
       "      <td id=\"T_d6cb1_row27_col1\" class=\"data row27 col1\" >False</td>\n",
       "    </tr>\n",
       "    <tr>\n",
       "      <th id=\"T_d6cb1_level0_row28\" class=\"row_heading level0 row28\" >28</th>\n",
       "      <td id=\"T_d6cb1_row28_col0\" class=\"data row28 col0\" >Normalize Method</td>\n",
       "      <td id=\"T_d6cb1_row28_col1\" class=\"data row28 col1\" >None</td>\n",
       "    </tr>\n",
       "    <tr>\n",
       "      <th id=\"T_d6cb1_level0_row29\" class=\"row_heading level0 row29\" >29</th>\n",
       "      <td id=\"T_d6cb1_row29_col0\" class=\"data row29 col0\" >Transformation</td>\n",
       "      <td id=\"T_d6cb1_row29_col1\" class=\"data row29 col1\" >False</td>\n",
       "    </tr>\n",
       "    <tr>\n",
       "      <th id=\"T_d6cb1_level0_row30\" class=\"row_heading level0 row30\" >30</th>\n",
       "      <td id=\"T_d6cb1_row30_col0\" class=\"data row30 col0\" >Transformation Method</td>\n",
       "      <td id=\"T_d6cb1_row30_col1\" class=\"data row30 col1\" >None</td>\n",
       "    </tr>\n",
       "    <tr>\n",
       "      <th id=\"T_d6cb1_level0_row31\" class=\"row_heading level0 row31\" >31</th>\n",
       "      <td id=\"T_d6cb1_row31_col0\" class=\"data row31 col0\" >PCA</td>\n",
       "      <td id=\"T_d6cb1_row31_col1\" class=\"data row31 col1\" >False</td>\n",
       "    </tr>\n",
       "    <tr>\n",
       "      <th id=\"T_d6cb1_level0_row32\" class=\"row_heading level0 row32\" >32</th>\n",
       "      <td id=\"T_d6cb1_row32_col0\" class=\"data row32 col0\" >PCA Method</td>\n",
       "      <td id=\"T_d6cb1_row32_col1\" class=\"data row32 col1\" >None</td>\n",
       "    </tr>\n",
       "    <tr>\n",
       "      <th id=\"T_d6cb1_level0_row33\" class=\"row_heading level0 row33\" >33</th>\n",
       "      <td id=\"T_d6cb1_row33_col0\" class=\"data row33 col0\" >PCA Components</td>\n",
       "      <td id=\"T_d6cb1_row33_col1\" class=\"data row33 col1\" >None</td>\n",
       "    </tr>\n",
       "    <tr>\n",
       "      <th id=\"T_d6cb1_level0_row34\" class=\"row_heading level0 row34\" >34</th>\n",
       "      <td id=\"T_d6cb1_row34_col0\" class=\"data row34 col0\" >Ignore Low Variance</td>\n",
       "      <td id=\"T_d6cb1_row34_col1\" class=\"data row34 col1\" >False</td>\n",
       "    </tr>\n",
       "    <tr>\n",
       "      <th id=\"T_d6cb1_level0_row35\" class=\"row_heading level0 row35\" >35</th>\n",
       "      <td id=\"T_d6cb1_row35_col0\" class=\"data row35 col0\" >Combine Rare Levels</td>\n",
       "      <td id=\"T_d6cb1_row35_col1\" class=\"data row35 col1\" >False</td>\n",
       "    </tr>\n",
       "    <tr>\n",
       "      <th id=\"T_d6cb1_level0_row36\" class=\"row_heading level0 row36\" >36</th>\n",
       "      <td id=\"T_d6cb1_row36_col0\" class=\"data row36 col0\" >Rare Level Threshold</td>\n",
       "      <td id=\"T_d6cb1_row36_col1\" class=\"data row36 col1\" >None</td>\n",
       "    </tr>\n",
       "    <tr>\n",
       "      <th id=\"T_d6cb1_level0_row37\" class=\"row_heading level0 row37\" >37</th>\n",
       "      <td id=\"T_d6cb1_row37_col0\" class=\"data row37 col0\" >Numeric Binning</td>\n",
       "      <td id=\"T_d6cb1_row37_col1\" class=\"data row37 col1\" >False</td>\n",
       "    </tr>\n",
       "    <tr>\n",
       "      <th id=\"T_d6cb1_level0_row38\" class=\"row_heading level0 row38\" >38</th>\n",
       "      <td id=\"T_d6cb1_row38_col0\" class=\"data row38 col0\" >Remove Outliers</td>\n",
       "      <td id=\"T_d6cb1_row38_col1\" class=\"data row38 col1\" >False</td>\n",
       "    </tr>\n",
       "    <tr>\n",
       "      <th id=\"T_d6cb1_level0_row39\" class=\"row_heading level0 row39\" >39</th>\n",
       "      <td id=\"T_d6cb1_row39_col0\" class=\"data row39 col0\" >Outliers Threshold</td>\n",
       "      <td id=\"T_d6cb1_row39_col1\" class=\"data row39 col1\" >None</td>\n",
       "    </tr>\n",
       "    <tr>\n",
       "      <th id=\"T_d6cb1_level0_row40\" class=\"row_heading level0 row40\" >40</th>\n",
       "      <td id=\"T_d6cb1_row40_col0\" class=\"data row40 col0\" >Remove Multicollinearity</td>\n",
       "      <td id=\"T_d6cb1_row40_col1\" class=\"data row40 col1\" >False</td>\n",
       "    </tr>\n",
       "    <tr>\n",
       "      <th id=\"T_d6cb1_level0_row41\" class=\"row_heading level0 row41\" >41</th>\n",
       "      <td id=\"T_d6cb1_row41_col0\" class=\"data row41 col0\" >Multicollinearity Threshold</td>\n",
       "      <td id=\"T_d6cb1_row41_col1\" class=\"data row41 col1\" >None</td>\n",
       "    </tr>\n",
       "    <tr>\n",
       "      <th id=\"T_d6cb1_level0_row42\" class=\"row_heading level0 row42\" >42</th>\n",
       "      <td id=\"T_d6cb1_row42_col0\" class=\"data row42 col0\" >Remove Perfect Collinearity</td>\n",
       "      <td id=\"T_d6cb1_row42_col1\" class=\"data row42 col1\" >True</td>\n",
       "    </tr>\n",
       "    <tr>\n",
       "      <th id=\"T_d6cb1_level0_row43\" class=\"row_heading level0 row43\" >43</th>\n",
       "      <td id=\"T_d6cb1_row43_col0\" class=\"data row43 col0\" >Clustering</td>\n",
       "      <td id=\"T_d6cb1_row43_col1\" class=\"data row43 col1\" >False</td>\n",
       "    </tr>\n",
       "    <tr>\n",
       "      <th id=\"T_d6cb1_level0_row44\" class=\"row_heading level0 row44\" >44</th>\n",
       "      <td id=\"T_d6cb1_row44_col0\" class=\"data row44 col0\" >Clustering Iteration</td>\n",
       "      <td id=\"T_d6cb1_row44_col1\" class=\"data row44 col1\" >None</td>\n",
       "    </tr>\n",
       "    <tr>\n",
       "      <th id=\"T_d6cb1_level0_row45\" class=\"row_heading level0 row45\" >45</th>\n",
       "      <td id=\"T_d6cb1_row45_col0\" class=\"data row45 col0\" >Polynomial Features</td>\n",
       "      <td id=\"T_d6cb1_row45_col1\" class=\"data row45 col1\" >False</td>\n",
       "    </tr>\n",
       "    <tr>\n",
       "      <th id=\"T_d6cb1_level0_row46\" class=\"row_heading level0 row46\" >46</th>\n",
       "      <td id=\"T_d6cb1_row46_col0\" class=\"data row46 col0\" >Polynomial Degree</td>\n",
       "      <td id=\"T_d6cb1_row46_col1\" class=\"data row46 col1\" >None</td>\n",
       "    </tr>\n",
       "    <tr>\n",
       "      <th id=\"T_d6cb1_level0_row47\" class=\"row_heading level0 row47\" >47</th>\n",
       "      <td id=\"T_d6cb1_row47_col0\" class=\"data row47 col0\" >Trignometry Features</td>\n",
       "      <td id=\"T_d6cb1_row47_col1\" class=\"data row47 col1\" >False</td>\n",
       "    </tr>\n",
       "    <tr>\n",
       "      <th id=\"T_d6cb1_level0_row48\" class=\"row_heading level0 row48\" >48</th>\n",
       "      <td id=\"T_d6cb1_row48_col0\" class=\"data row48 col0\" >Polynomial Threshold</td>\n",
       "      <td id=\"T_d6cb1_row48_col1\" class=\"data row48 col1\" >None</td>\n",
       "    </tr>\n",
       "    <tr>\n",
       "      <th id=\"T_d6cb1_level0_row49\" class=\"row_heading level0 row49\" >49</th>\n",
       "      <td id=\"T_d6cb1_row49_col0\" class=\"data row49 col0\" >Group Features</td>\n",
       "      <td id=\"T_d6cb1_row49_col1\" class=\"data row49 col1\" >False</td>\n",
       "    </tr>\n",
       "    <tr>\n",
       "      <th id=\"T_d6cb1_level0_row50\" class=\"row_heading level0 row50\" >50</th>\n",
       "      <td id=\"T_d6cb1_row50_col0\" class=\"data row50 col0\" >Feature Selection</td>\n",
       "      <td id=\"T_d6cb1_row50_col1\" class=\"data row50 col1\" >False</td>\n",
       "    </tr>\n",
       "    <tr>\n",
       "      <th id=\"T_d6cb1_level0_row51\" class=\"row_heading level0 row51\" >51</th>\n",
       "      <td id=\"T_d6cb1_row51_col0\" class=\"data row51 col0\" >Feature Selection Method</td>\n",
       "      <td id=\"T_d6cb1_row51_col1\" class=\"data row51 col1\" >classic</td>\n",
       "    </tr>\n",
       "    <tr>\n",
       "      <th id=\"T_d6cb1_level0_row52\" class=\"row_heading level0 row52\" >52</th>\n",
       "      <td id=\"T_d6cb1_row52_col0\" class=\"data row52 col0\" >Features Selection Threshold</td>\n",
       "      <td id=\"T_d6cb1_row52_col1\" class=\"data row52 col1\" >None</td>\n",
       "    </tr>\n",
       "    <tr>\n",
       "      <th id=\"T_d6cb1_level0_row53\" class=\"row_heading level0 row53\" >53</th>\n",
       "      <td id=\"T_d6cb1_row53_col0\" class=\"data row53 col0\" >Feature Interaction</td>\n",
       "      <td id=\"T_d6cb1_row53_col1\" class=\"data row53 col1\" >False</td>\n",
       "    </tr>\n",
       "    <tr>\n",
       "      <th id=\"T_d6cb1_level0_row54\" class=\"row_heading level0 row54\" >54</th>\n",
       "      <td id=\"T_d6cb1_row54_col0\" class=\"data row54 col0\" >Feature Ratio</td>\n",
       "      <td id=\"T_d6cb1_row54_col1\" class=\"data row54 col1\" >False</td>\n",
       "    </tr>\n",
       "    <tr>\n",
       "      <th id=\"T_d6cb1_level0_row55\" class=\"row_heading level0 row55\" >55</th>\n",
       "      <td id=\"T_d6cb1_row55_col0\" class=\"data row55 col0\" >Interaction Threshold</td>\n",
       "      <td id=\"T_d6cb1_row55_col1\" class=\"data row55 col1\" >None</td>\n",
       "    </tr>\n",
       "    <tr>\n",
       "      <th id=\"T_d6cb1_level0_row56\" class=\"row_heading level0 row56\" >56</th>\n",
       "      <td id=\"T_d6cb1_row56_col0\" class=\"data row56 col0\" >Transform Target</td>\n",
       "      <td id=\"T_d6cb1_row56_col1\" class=\"data row56 col1\" >False</td>\n",
       "    </tr>\n",
       "    <tr>\n",
       "      <th id=\"T_d6cb1_level0_row57\" class=\"row_heading level0 row57\" >57</th>\n",
       "      <td id=\"T_d6cb1_row57_col0\" class=\"data row57 col0\" >Transform Target Method</td>\n",
       "      <td id=\"T_d6cb1_row57_col1\" class=\"data row57 col1\" >box-cox</td>\n",
       "    </tr>\n",
       "  </tbody>\n",
       "</table>\n"
      ],
      "text/plain": [
       "<pandas.io.formats.style.Styler at 0x272d4cecee0>"
      ]
     },
     "metadata": {},
     "output_type": "display_data"
    }
   ],
   "source": [
    "# init setup\n",
    "from pycaret.regression import *\n",
    "s = setup(train_features_df, target = 'ttf_avg')"
   ]
  },
  {
   "cell_type": "code",
   "execution_count": 5,
   "metadata": {},
   "outputs": [
    {
     "data": {
      "text/html": [
       "<style type=\"text/css\">\n",
       "#T_10dcd th {\n",
       "  text-align: left;\n",
       "}\n",
       "#T_10dcd_row0_col0, #T_10dcd_row1_col0, #T_10dcd_row1_col1, #T_10dcd_row1_col2, #T_10dcd_row1_col3, #T_10dcd_row1_col4, #T_10dcd_row1_col5, #T_10dcd_row1_col6, #T_10dcd_row2_col0, #T_10dcd_row2_col1, #T_10dcd_row2_col2, #T_10dcd_row2_col3, #T_10dcd_row2_col4, #T_10dcd_row2_col5, #T_10dcd_row2_col6, #T_10dcd_row3_col0, #T_10dcd_row3_col1, #T_10dcd_row3_col2, #T_10dcd_row3_col3, #T_10dcd_row3_col4, #T_10dcd_row3_col5, #T_10dcd_row3_col6, #T_10dcd_row4_col0, #T_10dcd_row4_col1, #T_10dcd_row4_col2, #T_10dcd_row4_col3, #T_10dcd_row4_col4, #T_10dcd_row4_col5, #T_10dcd_row4_col6, #T_10dcd_row5_col0, #T_10dcd_row5_col1, #T_10dcd_row5_col2, #T_10dcd_row5_col3, #T_10dcd_row5_col4, #T_10dcd_row5_col5, #T_10dcd_row5_col6, #T_10dcd_row6_col0, #T_10dcd_row6_col1, #T_10dcd_row6_col2, #T_10dcd_row6_col3, #T_10dcd_row6_col4, #T_10dcd_row6_col5, #T_10dcd_row6_col6, #T_10dcd_row7_col0, #T_10dcd_row7_col1, #T_10dcd_row7_col2, #T_10dcd_row7_col3, #T_10dcd_row7_col4, #T_10dcd_row7_col5, #T_10dcd_row7_col6, #T_10dcd_row8_col0, #T_10dcd_row8_col1, #T_10dcd_row8_col2, #T_10dcd_row8_col3, #T_10dcd_row8_col4, #T_10dcd_row8_col5, #T_10dcd_row8_col6, #T_10dcd_row9_col0, #T_10dcd_row9_col1, #T_10dcd_row9_col2, #T_10dcd_row9_col3, #T_10dcd_row9_col4, #T_10dcd_row9_col5, #T_10dcd_row9_col6, #T_10dcd_row10_col0, #T_10dcd_row10_col1, #T_10dcd_row10_col2, #T_10dcd_row10_col3, #T_10dcd_row10_col4, #T_10dcd_row10_col5, #T_10dcd_row10_col6, #T_10dcd_row11_col0, #T_10dcd_row11_col1, #T_10dcd_row11_col2, #T_10dcd_row11_col3, #T_10dcd_row11_col4, #T_10dcd_row11_col5, #T_10dcd_row11_col6, #T_10dcd_row12_col0, #T_10dcd_row12_col1, #T_10dcd_row12_col2, #T_10dcd_row12_col3, #T_10dcd_row12_col4, #T_10dcd_row12_col5, #T_10dcd_row12_col6, #T_10dcd_row13_col0, #T_10dcd_row13_col1, #T_10dcd_row13_col2, #T_10dcd_row13_col3, #T_10dcd_row13_col4, #T_10dcd_row13_col5, #T_10dcd_row13_col6, #T_10dcd_row14_col0, #T_10dcd_row14_col1, #T_10dcd_row14_col2, #T_10dcd_row14_col3, #T_10dcd_row14_col4, #T_10dcd_row14_col5, #T_10dcd_row14_col6, #T_10dcd_row15_col0, #T_10dcd_row15_col1, #T_10dcd_row15_col2, #T_10dcd_row15_col3, #T_10dcd_row15_col4, #T_10dcd_row15_col5, #T_10dcd_row15_col6, #T_10dcd_row16_col0, #T_10dcd_row16_col1, #T_10dcd_row16_col2, #T_10dcd_row16_col3, #T_10dcd_row16_col4, #T_10dcd_row16_col5, #T_10dcd_row16_col6, #T_10dcd_row17_col0, #T_10dcd_row17_col1, #T_10dcd_row17_col2, #T_10dcd_row17_col3, #T_10dcd_row17_col4, #T_10dcd_row17_col5, #T_10dcd_row17_col6 {\n",
       "  text-align: left;\n",
       "}\n",
       "#T_10dcd_row0_col1, #T_10dcd_row0_col2, #T_10dcd_row0_col3, #T_10dcd_row0_col4, #T_10dcd_row0_col5, #T_10dcd_row0_col6 {\n",
       "  text-align: left;\n",
       "  background-color: yellow;\n",
       "}\n",
       "#T_10dcd_row0_col7, #T_10dcd_row1_col7, #T_10dcd_row2_col7, #T_10dcd_row3_col7, #T_10dcd_row4_col7, #T_10dcd_row5_col7, #T_10dcd_row6_col7, #T_10dcd_row7_col7, #T_10dcd_row8_col7, #T_10dcd_row9_col7, #T_10dcd_row10_col7, #T_10dcd_row11_col7, #T_10dcd_row12_col7, #T_10dcd_row13_col7, #T_10dcd_row15_col7, #T_10dcd_row16_col7, #T_10dcd_row17_col7 {\n",
       "  text-align: left;\n",
       "  background-color: lightgrey;\n",
       "}\n",
       "#T_10dcd_row14_col7 {\n",
       "  text-align: left;\n",
       "  background-color: yellow;\n",
       "  background-color: lightgrey;\n",
       "}\n",
       "</style>\n",
       "<table id=\"T_10dcd\">\n",
       "  <thead>\n",
       "    <tr>\n",
       "      <th class=\"blank level0\" >&nbsp;</th>\n",
       "      <th id=\"T_10dcd_level0_col0\" class=\"col_heading level0 col0\" >Model</th>\n",
       "      <th id=\"T_10dcd_level0_col1\" class=\"col_heading level0 col1\" >MAE</th>\n",
       "      <th id=\"T_10dcd_level0_col2\" class=\"col_heading level0 col2\" >MSE</th>\n",
       "      <th id=\"T_10dcd_level0_col3\" class=\"col_heading level0 col3\" >RMSE</th>\n",
       "      <th id=\"T_10dcd_level0_col4\" class=\"col_heading level0 col4\" >R2</th>\n",
       "      <th id=\"T_10dcd_level0_col5\" class=\"col_heading level0 col5\" >RMSLE</th>\n",
       "      <th id=\"T_10dcd_level0_col6\" class=\"col_heading level0 col6\" >MAPE</th>\n",
       "      <th id=\"T_10dcd_level0_col7\" class=\"col_heading level0 col7\" >TT (Sec)</th>\n",
       "    </tr>\n",
       "  </thead>\n",
       "  <tbody>\n",
       "    <tr>\n",
       "      <th id=\"T_10dcd_level0_row0\" class=\"row_heading level0 row0\" >gbr</th>\n",
       "      <td id=\"T_10dcd_row0_col0\" class=\"data row0 col0\" >Gradient Boosting Regressor</td>\n",
       "      <td id=\"T_10dcd_row0_col1\" class=\"data row0 col1\" >2.1215</td>\n",
       "      <td id=\"T_10dcd_row0_col2\" class=\"data row0 col2\" >7.3323</td>\n",
       "      <td id=\"T_10dcd_row0_col3\" class=\"data row0 col3\" >2.7045</td>\n",
       "      <td id=\"T_10dcd_row0_col4\" class=\"data row0 col4\" >0.4523</td>\n",
       "      <td id=\"T_10dcd_row0_col5\" class=\"data row0 col5\" >0.5150</td>\n",
       "      <td id=\"T_10dcd_row0_col6\" class=\"data row0 col6\" >2.5444</td>\n",
       "      <td id=\"T_10dcd_row0_col7\" class=\"data row0 col7\" >1.1950</td>\n",
       "    </tr>\n",
       "    <tr>\n",
       "      <th id=\"T_10dcd_level0_row1\" class=\"row_heading level0 row1\" >et</th>\n",
       "      <td id=\"T_10dcd_row1_col0\" class=\"data row1 col0\" >Extra Trees Regressor</td>\n",
       "      <td id=\"T_10dcd_row1_col1\" class=\"data row1 col1\" >2.1451</td>\n",
       "      <td id=\"T_10dcd_row1_col2\" class=\"data row1 col2\" >7.4777</td>\n",
       "      <td id=\"T_10dcd_row1_col3\" class=\"data row1 col3\" >2.7299</td>\n",
       "      <td id=\"T_10dcd_row1_col4\" class=\"data row1 col4\" >0.4420</td>\n",
       "      <td id=\"T_10dcd_row1_col5\" class=\"data row1 col5\" >0.5213</td>\n",
       "      <td id=\"T_10dcd_row1_col6\" class=\"data row1 col6\" >2.6145</td>\n",
       "      <td id=\"T_10dcd_row1_col7\" class=\"data row1 col7\" >1.6200</td>\n",
       "    </tr>\n",
       "    <tr>\n",
       "      <th id=\"T_10dcd_level0_row2\" class=\"row_heading level0 row2\" >rf</th>\n",
       "      <td id=\"T_10dcd_row2_col0\" class=\"data row2 col0\" >Random Forest Regressor</td>\n",
       "      <td id=\"T_10dcd_row2_col1\" class=\"data row2 col1\" >2.1386</td>\n",
       "      <td id=\"T_10dcd_row2_col2\" class=\"data row2 col2\" >7.4809</td>\n",
       "      <td id=\"T_10dcd_row2_col3\" class=\"data row2 col3\" >2.7301</td>\n",
       "      <td id=\"T_10dcd_row2_col4\" class=\"data row2 col4\" >0.4417</td>\n",
       "      <td id=\"T_10dcd_row2_col5\" class=\"data row2 col5\" >0.5210</td>\n",
       "      <td id=\"T_10dcd_row2_col6\" class=\"data row2 col6\" >2.5831</td>\n",
       "      <td id=\"T_10dcd_row2_col7\" class=\"data row2 col7\" >2.5630</td>\n",
       "    </tr>\n",
       "    <tr>\n",
       "      <th id=\"T_10dcd_level0_row3\" class=\"row_heading level0 row3\" >br</th>\n",
       "      <td id=\"T_10dcd_row3_col0\" class=\"data row3 col0\" >Bayesian Ridge</td>\n",
       "      <td id=\"T_10dcd_row3_col1\" class=\"data row3 col1\" >2.1867</td>\n",
       "      <td id=\"T_10dcd_row3_col2\" class=\"data row3 col2\" >7.6553</td>\n",
       "      <td id=\"T_10dcd_row3_col3\" class=\"data row3 col3\" >2.7624</td>\n",
       "      <td id=\"T_10dcd_row3_col4\" class=\"data row3 col4\" >0.4286</td>\n",
       "      <td id=\"T_10dcd_row3_col5\" class=\"data row3 col5\" >0.5346</td>\n",
       "      <td id=\"T_10dcd_row3_col6\" class=\"data row3 col6\" >2.6762</td>\n",
       "      <td id=\"T_10dcd_row3_col7\" class=\"data row3 col7\" >0.0170</td>\n",
       "    </tr>\n",
       "    <tr>\n",
       "      <th id=\"T_10dcd_level0_row4\" class=\"row_heading level0 row4\" >lr</th>\n",
       "      <td id=\"T_10dcd_row4_col0\" class=\"data row4 col0\" >Linear Regression</td>\n",
       "      <td id=\"T_10dcd_row4_col1\" class=\"data row4 col1\" >2.1827</td>\n",
       "      <td id=\"T_10dcd_row4_col2\" class=\"data row4 col2\" >7.6602</td>\n",
       "      <td id=\"T_10dcd_row4_col3\" class=\"data row4 col3\" >2.7631</td>\n",
       "      <td id=\"T_10dcd_row4_col4\" class=\"data row4 col4\" >0.4282</td>\n",
       "      <td id=\"T_10dcd_row4_col5\" class=\"data row4 col5\" >0.5344</td>\n",
       "      <td id=\"T_10dcd_row4_col6\" class=\"data row4 col6\" >2.6947</td>\n",
       "      <td id=\"T_10dcd_row4_col7\" class=\"data row4 col7\" >0.9260</td>\n",
       "    </tr>\n",
       "    <tr>\n",
       "      <th id=\"T_10dcd_level0_row5\" class=\"row_heading level0 row5\" >lightgbm</th>\n",
       "      <td id=\"T_10dcd_row5_col0\" class=\"data row5 col0\" >Light Gradient Boosting Machine</td>\n",
       "      <td id=\"T_10dcd_row5_col1\" class=\"data row5 col1\" >2.1660</td>\n",
       "      <td id=\"T_10dcd_row5_col2\" class=\"data row5 col2\" >7.7784</td>\n",
       "      <td id=\"T_10dcd_row5_col3\" class=\"data row5 col3\" >2.7838</td>\n",
       "      <td id=\"T_10dcd_row5_col4\" class=\"data row5 col4\" >0.4194</td>\n",
       "      <td id=\"T_10dcd_row5_col5\" class=\"data row5 col5\" >0.5240</td>\n",
       "      <td id=\"T_10dcd_row5_col6\" class=\"data row5 col6\" >2.5682</td>\n",
       "      <td id=\"T_10dcd_row5_col7\" class=\"data row5 col7\" >0.4710</td>\n",
       "    </tr>\n",
       "    <tr>\n",
       "      <th id=\"T_10dcd_level0_row6\" class=\"row_heading level0 row6\" >ridge</th>\n",
       "      <td id=\"T_10dcd_row6_col0\" class=\"data row6 col0\" >Ridge Regression</td>\n",
       "      <td id=\"T_10dcd_row6_col1\" class=\"data row6 col1\" >2.2205</td>\n",
       "      <td id=\"T_10dcd_row6_col2\" class=\"data row6 col2\" >7.8403</td>\n",
       "      <td id=\"T_10dcd_row6_col3\" class=\"data row6 col3\" >2.7953</td>\n",
       "      <td id=\"T_10dcd_row6_col4\" class=\"data row6 col4\" >0.4151</td>\n",
       "      <td id=\"T_10dcd_row6_col5\" class=\"data row6 col5\" >0.5410</td>\n",
       "      <td id=\"T_10dcd_row6_col6\" class=\"data row6 col6\" >2.6570</td>\n",
       "      <td id=\"T_10dcd_row6_col7\" class=\"data row6 col7\" >0.0200</td>\n",
       "    </tr>\n",
       "    <tr>\n",
       "      <th id=\"T_10dcd_level0_row7\" class=\"row_heading level0 row7\" >omp</th>\n",
       "      <td id=\"T_10dcd_row7_col0\" class=\"data row7 col0\" >Orthogonal Matching Pursuit</td>\n",
       "      <td id=\"T_10dcd_row7_col1\" class=\"data row7 col1\" >2.2206</td>\n",
       "      <td id=\"T_10dcd_row7_col2\" class=\"data row7 col2\" >7.9171</td>\n",
       "      <td id=\"T_10dcd_row7_col3\" class=\"data row7 col3\" >2.8091</td>\n",
       "      <td id=\"T_10dcd_row7_col4\" class=\"data row7 col4\" >0.4090</td>\n",
       "      <td id=\"T_10dcd_row7_col5\" class=\"data row7 col5\" >0.5434</td>\n",
       "      <td id=\"T_10dcd_row7_col6\" class=\"data row7 col6\" >2.7449</td>\n",
       "      <td id=\"T_10dcd_row7_col7\" class=\"data row7 col7\" >0.0140</td>\n",
       "    </tr>\n",
       "    <tr>\n",
       "      <th id=\"T_10dcd_level0_row8\" class=\"row_heading level0 row8\" >huber</th>\n",
       "      <td id=\"T_10dcd_row8_col0\" class=\"data row8 col0\" >Huber Regressor</td>\n",
       "      <td id=\"T_10dcd_row8_col1\" class=\"data row8 col1\" >2.2304</td>\n",
       "      <td id=\"T_10dcd_row8_col2\" class=\"data row8 col2\" >8.3800</td>\n",
       "      <td id=\"T_10dcd_row8_col3\" class=\"data row8 col3\" >2.8848</td>\n",
       "      <td id=\"T_10dcd_row8_col4\" class=\"data row8 col4\" >0.3758</td>\n",
       "      <td id=\"T_10dcd_row8_col5\" class=\"data row8 col5\" >0.5439</td>\n",
       "      <td id=\"T_10dcd_row8_col6\" class=\"data row8 col6\" >2.6368</td>\n",
       "      <td id=\"T_10dcd_row8_col7\" class=\"data row8 col7\" >0.0900</td>\n",
       "    </tr>\n",
       "    <tr>\n",
       "      <th id=\"T_10dcd_level0_row9\" class=\"row_heading level0 row9\" >ada</th>\n",
       "      <td id=\"T_10dcd_row9_col0\" class=\"data row9 col0\" >AdaBoost Regressor</td>\n",
       "      <td id=\"T_10dcd_row9_col1\" class=\"data row9 col1\" >2.4027</td>\n",
       "      <td id=\"T_10dcd_row9_col2\" class=\"data row9 col2\" >8.4910</td>\n",
       "      <td id=\"T_10dcd_row9_col3\" class=\"data row9 col3\" >2.9116</td>\n",
       "      <td id=\"T_10dcd_row9_col4\" class=\"data row9 col4\" >0.3649</td>\n",
       "      <td id=\"T_10dcd_row9_col5\" class=\"data row9 col5\" >0.5835</td>\n",
       "      <td id=\"T_10dcd_row9_col6\" class=\"data row9 col6\" >2.7131</td>\n",
       "      <td id=\"T_10dcd_row9_col7\" class=\"data row9 col7\" >0.4000</td>\n",
       "    </tr>\n",
       "    <tr>\n",
       "      <th id=\"T_10dcd_level0_row10\" class=\"row_heading level0 row10\" >knn</th>\n",
       "      <td id=\"T_10dcd_row10_col0\" class=\"data row10 col0\" >K Neighbors Regressor</td>\n",
       "      <td id=\"T_10dcd_row10_col1\" class=\"data row10 col1\" >2.3639</td>\n",
       "      <td id=\"T_10dcd_row10_col2\" class=\"data row10 col2\" >9.3328</td>\n",
       "      <td id=\"T_10dcd_row10_col3\" class=\"data row10 col3\" >3.0521</td>\n",
       "      <td id=\"T_10dcd_row10_col4\" class=\"data row10 col4\" >0.3028</td>\n",
       "      <td id=\"T_10dcd_row10_col5\" class=\"data row10 col5\" >0.5626</td>\n",
       "      <td id=\"T_10dcd_row10_col6\" class=\"data row10 col6\" >2.7662</td>\n",
       "      <td id=\"T_10dcd_row10_col7\" class=\"data row10 col7\" >0.0350</td>\n",
       "    </tr>\n",
       "    <tr>\n",
       "      <th id=\"T_10dcd_level0_row11\" class=\"row_heading level0 row11\" >en</th>\n",
       "      <td id=\"T_10dcd_row11_col0\" class=\"data row11 col0\" >Elastic Net</td>\n",
       "      <td id=\"T_10dcd_row11_col1\" class=\"data row11 col1\" >2.5489</td>\n",
       "      <td id=\"T_10dcd_row11_col2\" class=\"data row11 col2\" >9.9661</td>\n",
       "      <td id=\"T_10dcd_row11_col3\" class=\"data row11 col3\" >3.1537</td>\n",
       "      <td id=\"T_10dcd_row11_col4\" class=\"data row11 col4\" >0.2561</td>\n",
       "      <td id=\"T_10dcd_row11_col5\" class=\"data row11 col5\" >0.6037</td>\n",
       "      <td id=\"T_10dcd_row11_col6\" class=\"data row11 col6\" >2.6905</td>\n",
       "      <td id=\"T_10dcd_row11_col7\" class=\"data row11 col7\" >0.0170</td>\n",
       "    </tr>\n",
       "    <tr>\n",
       "      <th id=\"T_10dcd_level0_row12\" class=\"row_heading level0 row12\" >lasso</th>\n",
       "      <td id=\"T_10dcd_row12_col0\" class=\"data row12 col0\" >Lasso Regression</td>\n",
       "      <td id=\"T_10dcd_row12_col1\" class=\"data row12 col1\" >2.5996</td>\n",
       "      <td id=\"T_10dcd_row12_col2\" class=\"data row12 col2\" >10.3331</td>\n",
       "      <td id=\"T_10dcd_row12_col3\" class=\"data row12 col3\" >3.2115</td>\n",
       "      <td id=\"T_10dcd_row12_col4\" class=\"data row12 col4\" >0.2286</td>\n",
       "      <td id=\"T_10dcd_row12_col5\" class=\"data row12 col5\" >0.6113</td>\n",
       "      <td id=\"T_10dcd_row12_col6\" class=\"data row12 col6\" >2.6844</td>\n",
       "      <td id=\"T_10dcd_row12_col7\" class=\"data row12 col7\" >0.0210</td>\n",
       "    </tr>\n",
       "    <tr>\n",
       "      <th id=\"T_10dcd_level0_row13\" class=\"row_heading level0 row13\" >lar</th>\n",
       "      <td id=\"T_10dcd_row13_col0\" class=\"data row13 col0\" >Least Angle Regression</td>\n",
       "      <td id=\"T_10dcd_row13_col1\" class=\"data row13 col1\" >2.4507</td>\n",
       "      <td id=\"T_10dcd_row13_col2\" class=\"data row13 col2\" >13.4808</td>\n",
       "      <td id=\"T_10dcd_row13_col3\" class=\"data row13 col3\" >3.3935</td>\n",
       "      <td id=\"T_10dcd_row13_col4\" class=\"data row13 col4\" >0.0061</td>\n",
       "      <td id=\"T_10dcd_row13_col5\" class=\"data row13 col5\" >0.5861</td>\n",
       "      <td id=\"T_10dcd_row13_col6\" class=\"data row13 col6\" >3.0658</td>\n",
       "      <td id=\"T_10dcd_row13_col7\" class=\"data row13 col7\" >0.0160</td>\n",
       "    </tr>\n",
       "    <tr>\n",
       "      <th id=\"T_10dcd_level0_row14\" class=\"row_heading level0 row14\" >llar</th>\n",
       "      <td id=\"T_10dcd_row14_col0\" class=\"data row14 col0\" >Lasso Least Angle Regression</td>\n",
       "      <td id=\"T_10dcd_row14_col1\" class=\"data row14 col1\" >3.0448</td>\n",
       "      <td id=\"T_10dcd_row14_col2\" class=\"data row14 col2\" >13.4379</td>\n",
       "      <td id=\"T_10dcd_row14_col3\" class=\"data row14 col3\" >3.6629</td>\n",
       "      <td id=\"T_10dcd_row14_col4\" class=\"data row14 col4\" >-0.0034</td>\n",
       "      <td id=\"T_10dcd_row14_col5\" class=\"data row14 col5\" >0.6802</td>\n",
       "      <td id=\"T_10dcd_row14_col6\" class=\"data row14 col6\" >2.6888</td>\n",
       "      <td id=\"T_10dcd_row14_col7\" class=\"data row14 col7\" >0.0130</td>\n",
       "    </tr>\n",
       "    <tr>\n",
       "      <th id=\"T_10dcd_level0_row15\" class=\"row_heading level0 row15\" >dummy</th>\n",
       "      <td id=\"T_10dcd_row15_col0\" class=\"data row15 col0\" >Dummy Regressor</td>\n",
       "      <td id=\"T_10dcd_row15_col1\" class=\"data row15 col1\" >3.0448</td>\n",
       "      <td id=\"T_10dcd_row15_col2\" class=\"data row15 col2\" >13.4379</td>\n",
       "      <td id=\"T_10dcd_row15_col3\" class=\"data row15 col3\" >3.6629</td>\n",
       "      <td id=\"T_10dcd_row15_col4\" class=\"data row15 col4\" >-0.0034</td>\n",
       "      <td id=\"T_10dcd_row15_col5\" class=\"data row15 col5\" >0.6802</td>\n",
       "      <td id=\"T_10dcd_row15_col6\" class=\"data row15 col6\" >2.6888</td>\n",
       "      <td id=\"T_10dcd_row15_col7\" class=\"data row15 col7\" >0.0180</td>\n",
       "    </tr>\n",
       "    <tr>\n",
       "      <th id=\"T_10dcd_level0_row16\" class=\"row_heading level0 row16\" >dt</th>\n",
       "      <td id=\"T_10dcd_row16_col0\" class=\"data row16 col0\" >Decision Tree Regressor</td>\n",
       "      <td id=\"T_10dcd_row16_col1\" class=\"data row16 col1\" >2.9854</td>\n",
       "      <td id=\"T_10dcd_row16_col2\" class=\"data row16 col2\" >15.4363</td>\n",
       "      <td id=\"T_10dcd_row16_col3\" class=\"data row16 col3\" >3.9264</td>\n",
       "      <td id=\"T_10dcd_row16_col4\" class=\"data row16 col4\" >-0.1579</td>\n",
       "      <td id=\"T_10dcd_row16_col5\" class=\"data row16 col5\" >0.7275</td>\n",
       "      <td id=\"T_10dcd_row16_col6\" class=\"data row16 col6\" >2.7269</td>\n",
       "      <td id=\"T_10dcd_row16_col7\" class=\"data row16 col7\" >0.0580</td>\n",
       "    </tr>\n",
       "    <tr>\n",
       "      <th id=\"T_10dcd_level0_row17\" class=\"row_heading level0 row17\" >par</th>\n",
       "      <td id=\"T_10dcd_row17_col0\" class=\"data row17 col0\" >Passive Aggressive Regressor</td>\n",
       "      <td id=\"T_10dcd_row17_col1\" class=\"data row17 col1\" >3.7767</td>\n",
       "      <td id=\"T_10dcd_row17_col2\" class=\"data row17 col2\" >29.1039</td>\n",
       "      <td id=\"T_10dcd_row17_col3\" class=\"data row17 col3\" >5.2616</td>\n",
       "      <td id=\"T_10dcd_row17_col4\" class=\"data row17 col4\" >-1.1888</td>\n",
       "      <td id=\"T_10dcd_row17_col5\" class=\"data row17 col5\" >0.7761</td>\n",
       "      <td id=\"T_10dcd_row17_col6\" class=\"data row17 col6\" >4.0055</td>\n",
       "      <td id=\"T_10dcd_row17_col7\" class=\"data row17 col7\" >0.0260</td>\n",
       "    </tr>\n",
       "  </tbody>\n",
       "</table>\n"
      ],
      "text/plain": [
       "<pandas.io.formats.style.Styler at 0x272d4c380d0>"
      ]
     },
     "metadata": {},
     "output_type": "display_data"
    }
   ],
   "source": [
    "# model training and selection\n",
    "best = compare_models()"
   ]
  },
  {
   "cell_type": "code",
   "execution_count": 7,
   "metadata": {},
   "outputs": [
    {
     "data": {
      "application/vnd.jupyter.widget-view+json": {
       "model_id": "e9f080a5d692489787e60a5bec166608",
       "version_major": 2,
       "version_minor": 0
      },
      "text/plain": [
       "interactive(children=(ToggleButtons(description='Plot Type:', icons=('',), options=(('Hyperparameters', 'param…"
      ]
     },
     "metadata": {},
     "output_type": "display_data"
    }
   ],
   "source": [
    "# analyze best model\n",
    "evaluate_model(best)"
   ]
  },
  {
   "cell_type": "code",
   "execution_count": null,
   "metadata": {},
   "outputs": [],
   "source": [
    "# predict on new data\n",
    "# predictions = predict_model(best, data = test)"
   ]
  },
  {
   "cell_type": "code",
   "execution_count": null,
   "metadata": {},
   "outputs": [],
   "source": [
    "# save best pipeline\n",
    "# save_model(best,'my_best_pipeline')"
   ]
  },
  {
   "cell_type": "markdown",
   "metadata": {},
   "source": [
    "## 4.7 Dummy Regressor"
   ]
  },
  {
   "cell_type": "markdown",
   "metadata": {},
   "source": [
    "### 4.7.1 Initial Not-Even-A-Model<a id='4.7_Initial_Not-Even-A-Model'></a>"
   ]
  },
  {
   "cell_type": "markdown",
   "metadata": {},
   "source": [
    "A good place to start is to see how good the mean is as a predictor. In other words, what if you simply say your best guess is the average price?"
   ]
  },
  {
   "cell_type": "code",
   "execution_count": 8,
   "metadata": {},
   "outputs": [
    {
     "data": {
      "text/plain": [
       "5.680453259308997"
      ]
     },
     "execution_count": 8,
     "metadata": {},
     "output_type": "execute_result"
    }
   ],
   "source": [
    "#Calculate the mean of `y_train`\n",
    "train_mean = y_train.mean()\n",
    "train_mean"
   ]
  },
  {
   "cell_type": "markdown",
   "metadata": {},
   "source": [
    "`sklearn`'s `DummyRegressor` easily does this:"
   ]
  },
  {
   "cell_type": "code",
   "execution_count": 9,
   "metadata": {},
   "outputs": [
    {
     "data": {
      "text/plain": [
       "array([[5.68045326]])"
      ]
     },
     "execution_count": 9,
     "metadata": {},
     "output_type": "execute_result"
    }
   ],
   "source": [
    "#Fit the dummy regressor on the training data\n",
    "#Hint, call its `.fit()` method with `X_train` and `y_train` as arguments\n",
    "#Then print the object's `constant_` attribute and verify it's the same as the mean above\n",
    "dumb_reg = DummyRegressor(strategy='mean')\n",
    "dumb_reg.fit(X_train, y_train)\n",
    "dumb_reg.constant_"
   ]
  },
  {
   "cell_type": "code",
   "execution_count": 10,
   "metadata": {},
   "outputs": [],
   "source": [
    "y_tr_pred = train_mean * np.ones(len(y_train))\n",
    "y_te_pred = train_mean * np.ones(len(y_test))"
   ]
  },
  {
   "cell_type": "markdown",
   "metadata": {},
   "source": [
    "### 4.7.2 R-squared<a id='4.7.2.0.1_R-squared'></a>"
   ]
  },
  {
   "cell_type": "code",
   "execution_count": 17,
   "metadata": {},
   "outputs": [
    {
     "name": "stdout",
     "output_type": "stream",
     "text": [
      "train R2 = 0.000 and test R2 = -0.000\n"
     ]
    }
   ],
   "source": [
    "print(\"train R2 = %5.3f and test R2 = %5.3f\" % (r2_score(y_train, y_tr_pred), r2_score(y_test, y_te_pred)))"
   ]
  },
  {
   "cell_type": "markdown",
   "metadata": {},
   "source": [
    "### 4.7.3 Mean absolute error<a id='4.7.2.0.2_Mean_absolute_error'></a>"
   ]
  },
  {
   "cell_type": "code",
   "execution_count": 18,
   "metadata": {
    "scrolled": true
   },
   "outputs": [
    {
     "name": "stdout",
     "output_type": "stream",
     "text": [
      "MAEs of train and  test are 3.050 and 2.995\n"
     ]
    }
   ],
   "source": [
    "print(\"MAEs of train and test are %5.3f and %5.3f\" %(mean_absolute_error(y_train, y_tr_pred), mean_absolute_error(y_test, y_te_pred)))"
   ]
  },
  {
   "cell_type": "markdown",
   "metadata": {},
   "source": [
    "### 4.7.4 Root mean squared error<a id='4.7.2.0.3_Mean_squared_error'></a>"
   ]
  },
  {
   "cell_type": "code",
   "execution_count": 19,
   "metadata": {
    "scrolled": true
   },
   "outputs": [
    {
     "name": "stdout",
     "output_type": "stream",
     "text": [
      "MSEs of train and test are 13.487 and 13.144\n"
     ]
    }
   ],
   "source": [
    "print(\"RMSEs of train and test are %5.3f and %5.3f\" % (mean_squared_error(y_train, y_tr_pred).sqrt(), mean_squared_error(y_test, y_te_pred).sqrt()))"
   ]
  },
  {
   "cell_type": "markdown",
   "metadata": {},
   "source": [
    "## 4.8 Linear Models"
   ]
  },
  {
   "cell_type": "markdown",
   "metadata": {},
   "source": [
    "### 4.8.1 Linear Regression"
   ]
  },
  {
   "cell_type": "code",
   "execution_count": 20,
   "metadata": {},
   "outputs": [],
   "source": [
    "LR_pipe = make_pipeline(\n",
    "    StandardScaler(), \n",
    "    SelectKBest(f_regression),\n",
    "    LinearRegression()\n",
    ")"
   ]
  },
  {
   "cell_type": "code",
   "execution_count": 21,
   "metadata": {},
   "outputs": [
    {
     "data": {
      "text/html": [
       "<style>#sk-container-id-1 {color: black;background-color: white;}#sk-container-id-1 pre{padding: 0;}#sk-container-id-1 div.sk-toggleable {background-color: white;}#sk-container-id-1 label.sk-toggleable__label {cursor: pointer;display: block;width: 100%;margin-bottom: 0;padding: 0.3em;box-sizing: border-box;text-align: center;}#sk-container-id-1 label.sk-toggleable__label-arrow:before {content: \"▸\";float: left;margin-right: 0.25em;color: #696969;}#sk-container-id-1 label.sk-toggleable__label-arrow:hover:before {color: black;}#sk-container-id-1 div.sk-estimator:hover label.sk-toggleable__label-arrow:before {color: black;}#sk-container-id-1 div.sk-toggleable__content {max-height: 0;max-width: 0;overflow: hidden;text-align: left;background-color: #f0f8ff;}#sk-container-id-1 div.sk-toggleable__content pre {margin: 0.2em;color: black;border-radius: 0.25em;background-color: #f0f8ff;}#sk-container-id-1 input.sk-toggleable__control:checked~div.sk-toggleable__content {max-height: 200px;max-width: 100%;overflow: auto;}#sk-container-id-1 input.sk-toggleable__control:checked~label.sk-toggleable__label-arrow:before {content: \"▾\";}#sk-container-id-1 div.sk-estimator input.sk-toggleable__control:checked~label.sk-toggleable__label {background-color: #d4ebff;}#sk-container-id-1 div.sk-label input.sk-toggleable__control:checked~label.sk-toggleable__label {background-color: #d4ebff;}#sk-container-id-1 input.sk-hidden--visually {border: 0;clip: rect(1px 1px 1px 1px);clip: rect(1px, 1px, 1px, 1px);height: 1px;margin: -1px;overflow: hidden;padding: 0;position: absolute;width: 1px;}#sk-container-id-1 div.sk-estimator {font-family: monospace;background-color: #f0f8ff;border: 1px dotted black;border-radius: 0.25em;box-sizing: border-box;margin-bottom: 0.5em;}#sk-container-id-1 div.sk-estimator:hover {background-color: #d4ebff;}#sk-container-id-1 div.sk-parallel-item::after {content: \"\";width: 100%;border-bottom: 1px solid gray;flex-grow: 1;}#sk-container-id-1 div.sk-label:hover label.sk-toggleable__label {background-color: #d4ebff;}#sk-container-id-1 div.sk-serial::before {content: \"\";position: absolute;border-left: 1px solid gray;box-sizing: border-box;top: 0;bottom: 0;left: 50%;z-index: 0;}#sk-container-id-1 div.sk-serial {display: flex;flex-direction: column;align-items: center;background-color: white;padding-right: 0.2em;padding-left: 0.2em;position: relative;}#sk-container-id-1 div.sk-item {position: relative;z-index: 1;}#sk-container-id-1 div.sk-parallel {display: flex;align-items: stretch;justify-content: center;background-color: white;position: relative;}#sk-container-id-1 div.sk-item::before, #sk-container-id-1 div.sk-parallel-item::before {content: \"\";position: absolute;border-left: 1px solid gray;box-sizing: border-box;top: 0;bottom: 0;left: 50%;z-index: -1;}#sk-container-id-1 div.sk-parallel-item {display: flex;flex-direction: column;z-index: 1;position: relative;background-color: white;}#sk-container-id-1 div.sk-parallel-item:first-child::after {align-self: flex-end;width: 50%;}#sk-container-id-1 div.sk-parallel-item:last-child::after {align-self: flex-start;width: 50%;}#sk-container-id-1 div.sk-parallel-item:only-child::after {width: 0;}#sk-container-id-1 div.sk-dashed-wrapped {border: 1px dashed gray;margin: 0 0.4em 0.5em 0.4em;box-sizing: border-box;padding-bottom: 0.4em;background-color: white;}#sk-container-id-1 div.sk-label label {font-family: monospace;font-weight: bold;display: inline-block;line-height: 1.2em;}#sk-container-id-1 div.sk-label-container {text-align: center;}#sk-container-id-1 div.sk-container {/* jupyter's `normalize.less` sets `[hidden] { display: none; }` but bootstrap.min.css set `[hidden] { display: none !important; }` so we also need the `!important` here to be able to override the default hidden behavior on the sphinx rendered scikit-learn.org. See: https://github.com/scikit-learn/scikit-learn/issues/21755 */display: inline-block !important;position: relative;}#sk-container-id-1 div.sk-text-repr-fallback {display: none;}</style><div id=\"sk-container-id-1\" class=\"sk-top-container\"><div class=\"sk-text-repr-fallback\"><pre>Pipeline(steps=[(&#x27;standardscaler&#x27;, StandardScaler()),\n",
       "                (&#x27;selectkbest&#x27;,\n",
       "                 SelectKBest(score_func=&lt;function f_regression at 0x000002DFD01CE160&gt;)),\n",
       "                (&#x27;linearregression&#x27;, LinearRegression())])</pre><b>In a Jupyter environment, please rerun this cell to show the HTML representation or trust the notebook. <br />On GitHub, the HTML representation is unable to render, please try loading this page with nbviewer.org.</b></div><div class=\"sk-container\" hidden><div class=\"sk-item sk-dashed-wrapped\"><div class=\"sk-label-container\"><div class=\"sk-label sk-toggleable\"><input class=\"sk-toggleable__control sk-hidden--visually\" id=\"sk-estimator-id-1\" type=\"checkbox\" ><label for=\"sk-estimator-id-1\" class=\"sk-toggleable__label sk-toggleable__label-arrow\">Pipeline</label><div class=\"sk-toggleable__content\"><pre>Pipeline(steps=[(&#x27;standardscaler&#x27;, StandardScaler()),\n",
       "                (&#x27;selectkbest&#x27;,\n",
       "                 SelectKBest(score_func=&lt;function f_regression at 0x000002DFD01CE160&gt;)),\n",
       "                (&#x27;linearregression&#x27;, LinearRegression())])</pre></div></div></div><div class=\"sk-serial\"><div class=\"sk-item\"><div class=\"sk-estimator sk-toggleable\"><input class=\"sk-toggleable__control sk-hidden--visually\" id=\"sk-estimator-id-2\" type=\"checkbox\" ><label for=\"sk-estimator-id-2\" class=\"sk-toggleable__label sk-toggleable__label-arrow\">StandardScaler</label><div class=\"sk-toggleable__content\"><pre>StandardScaler()</pre></div></div></div><div class=\"sk-item\"><div class=\"sk-estimator sk-toggleable\"><input class=\"sk-toggleable__control sk-hidden--visually\" id=\"sk-estimator-id-3\" type=\"checkbox\" ><label for=\"sk-estimator-id-3\" class=\"sk-toggleable__label sk-toggleable__label-arrow\">SelectKBest</label><div class=\"sk-toggleable__content\"><pre>SelectKBest(score_func=&lt;function f_regression at 0x000002DFD01CE160&gt;)</pre></div></div></div><div class=\"sk-item\"><div class=\"sk-estimator sk-toggleable\"><input class=\"sk-toggleable__control sk-hidden--visually\" id=\"sk-estimator-id-4\" type=\"checkbox\" ><label for=\"sk-estimator-id-4\" class=\"sk-toggleable__label sk-toggleable__label-arrow\">LinearRegression</label><div class=\"sk-toggleable__content\"><pre>LinearRegression()</pre></div></div></div></div></div></div></div>"
      ],
      "text/plain": [
       "Pipeline(steps=[('standardscaler', StandardScaler()),\n",
       "                ('selectkbest',\n",
       "                 SelectKBest(score_func=<function f_regression at 0x000002DFD01CE160>)),\n",
       "                ('linearregression', LinearRegression())])"
      ]
     },
     "execution_count": 21,
     "metadata": {},
     "output_type": "execute_result"
    }
   ],
   "source": [
    "#Call the pipe's `fit()` method with `X_train` and `y_train` as arguments\n",
    "LR_pipe.fit(X_train, y_train)"
   ]
  },
  {
   "cell_type": "markdown",
   "metadata": {},
   "source": [
    "#### 4.8.1.1 Make predictions on the train and test sets<a id='4.8.2.3_Make_predictions_on_the_train_and_test_sets'></a>"
   ]
  },
  {
   "cell_type": "code",
   "execution_count": 22,
   "metadata": {},
   "outputs": [],
   "source": [
    "y_tr_pred = LR_pipe.predict(X_train)\n",
    "y_te_pred = LR_pipe.predict(X_test)"
   ]
  },
  {
   "cell_type": "markdown",
   "metadata": {},
   "source": [
    "#### 4.8.1.2 Assess performance<a id='4.8.2.4_Assess_performance'></a>"
   ]
  },
  {
   "cell_type": "code",
   "execution_count": 24,
   "metadata": {},
   "outputs": [
    {
     "name": "stdout",
     "output_type": "stream",
     "text": [
      "R2 of train and test are 0.432 and 0.450\n"
     ]
    }
   ],
   "source": [
    "print(\"R2 of train and test are %5.3f and %5.3f\" % (r2_score(y_train, y_tr_pred), r2_score(y_test, y_te_pred)))"
   ]
  },
  {
   "cell_type": "code",
   "execution_count": 27,
   "metadata": {},
   "outputs": [
    {
     "name": "stdout",
     "output_type": "stream",
     "text": [
      "MAEs of train and test are 2.163 and 2.119\n"
     ]
    }
   ],
   "source": [
    "print(\"MAEs of train and test are %5.3f and %5.3f\" %(mean_absolute_error(y_train, y_tr_pred), mean_absolute_error(y_test, y_te_pred)))"
   ]
  },
  {
   "cell_type": "code",
   "execution_count": 29,
   "metadata": {},
   "outputs": [
    {
     "name": "stdout",
     "output_type": "stream",
     "text": [
      "RMSEs of train and test are 2.768 and 2.690\n"
     ]
    }
   ],
   "source": [
    "print(\"RMSEs of train and test are %5.3f and %5.3f\" % (np.sqrt(mean_squared_error(y_train, y_tr_pred)), np.sqrt(mean_squared_error(y_test, y_te_pred))))"
   ]
  },
  {
   "cell_type": "markdown",
   "metadata": {},
   "source": [
    "### 4.8.2 Define a new pipeline to select a different number of features"
   ]
  },
  {
   "cell_type": "code",
   "execution_count": 31,
   "metadata": {},
   "outputs": [],
   "source": [
    "k = [k+1 for k in range(X_train.shape[1])]\n",
    "grid_params = {'selectkbest__k': k}"
   ]
  },
  {
   "cell_type": "code",
   "execution_count": 32,
   "metadata": {},
   "outputs": [],
   "source": [
    "lr_grid_cv = GridSearchCV(LR_pipe, param_grid=grid_params, cv=5, n_jobs=-1)"
   ]
  },
  {
   "cell_type": "code",
   "execution_count": 33,
   "metadata": {},
   "outputs": [
    {
     "data": {
      "text/html": [
       "<style>#sk-container-id-2 {color: black;background-color: white;}#sk-container-id-2 pre{padding: 0;}#sk-container-id-2 div.sk-toggleable {background-color: white;}#sk-container-id-2 label.sk-toggleable__label {cursor: pointer;display: block;width: 100%;margin-bottom: 0;padding: 0.3em;box-sizing: border-box;text-align: center;}#sk-container-id-2 label.sk-toggleable__label-arrow:before {content: \"▸\";float: left;margin-right: 0.25em;color: #696969;}#sk-container-id-2 label.sk-toggleable__label-arrow:hover:before {color: black;}#sk-container-id-2 div.sk-estimator:hover label.sk-toggleable__label-arrow:before {color: black;}#sk-container-id-2 div.sk-toggleable__content {max-height: 0;max-width: 0;overflow: hidden;text-align: left;background-color: #f0f8ff;}#sk-container-id-2 div.sk-toggleable__content pre {margin: 0.2em;color: black;border-radius: 0.25em;background-color: #f0f8ff;}#sk-container-id-2 input.sk-toggleable__control:checked~div.sk-toggleable__content {max-height: 200px;max-width: 100%;overflow: auto;}#sk-container-id-2 input.sk-toggleable__control:checked~label.sk-toggleable__label-arrow:before {content: \"▾\";}#sk-container-id-2 div.sk-estimator input.sk-toggleable__control:checked~label.sk-toggleable__label {background-color: #d4ebff;}#sk-container-id-2 div.sk-label input.sk-toggleable__control:checked~label.sk-toggleable__label {background-color: #d4ebff;}#sk-container-id-2 input.sk-hidden--visually {border: 0;clip: rect(1px 1px 1px 1px);clip: rect(1px, 1px, 1px, 1px);height: 1px;margin: -1px;overflow: hidden;padding: 0;position: absolute;width: 1px;}#sk-container-id-2 div.sk-estimator {font-family: monospace;background-color: #f0f8ff;border: 1px dotted black;border-radius: 0.25em;box-sizing: border-box;margin-bottom: 0.5em;}#sk-container-id-2 div.sk-estimator:hover {background-color: #d4ebff;}#sk-container-id-2 div.sk-parallel-item::after {content: \"\";width: 100%;border-bottom: 1px solid gray;flex-grow: 1;}#sk-container-id-2 div.sk-label:hover label.sk-toggleable__label {background-color: #d4ebff;}#sk-container-id-2 div.sk-serial::before {content: \"\";position: absolute;border-left: 1px solid gray;box-sizing: border-box;top: 0;bottom: 0;left: 50%;z-index: 0;}#sk-container-id-2 div.sk-serial {display: flex;flex-direction: column;align-items: center;background-color: white;padding-right: 0.2em;padding-left: 0.2em;position: relative;}#sk-container-id-2 div.sk-item {position: relative;z-index: 1;}#sk-container-id-2 div.sk-parallel {display: flex;align-items: stretch;justify-content: center;background-color: white;position: relative;}#sk-container-id-2 div.sk-item::before, #sk-container-id-2 div.sk-parallel-item::before {content: \"\";position: absolute;border-left: 1px solid gray;box-sizing: border-box;top: 0;bottom: 0;left: 50%;z-index: -1;}#sk-container-id-2 div.sk-parallel-item {display: flex;flex-direction: column;z-index: 1;position: relative;background-color: white;}#sk-container-id-2 div.sk-parallel-item:first-child::after {align-self: flex-end;width: 50%;}#sk-container-id-2 div.sk-parallel-item:last-child::after {align-self: flex-start;width: 50%;}#sk-container-id-2 div.sk-parallel-item:only-child::after {width: 0;}#sk-container-id-2 div.sk-dashed-wrapped {border: 1px dashed gray;margin: 0 0.4em 0.5em 0.4em;box-sizing: border-box;padding-bottom: 0.4em;background-color: white;}#sk-container-id-2 div.sk-label label {font-family: monospace;font-weight: bold;display: inline-block;line-height: 1.2em;}#sk-container-id-2 div.sk-label-container {text-align: center;}#sk-container-id-2 div.sk-container {/* jupyter's `normalize.less` sets `[hidden] { display: none; }` but bootstrap.min.css set `[hidden] { display: none !important; }` so we also need the `!important` here to be able to override the default hidden behavior on the sphinx rendered scikit-learn.org. See: https://github.com/scikit-learn/scikit-learn/issues/21755 */display: inline-block !important;position: relative;}#sk-container-id-2 div.sk-text-repr-fallback {display: none;}</style><div id=\"sk-container-id-2\" class=\"sk-top-container\"><div class=\"sk-text-repr-fallback\"><pre>GridSearchCV(cv=5,\n",
       "             estimator=Pipeline(steps=[(&#x27;standardscaler&#x27;, StandardScaler()),\n",
       "                                       (&#x27;selectkbest&#x27;,\n",
       "                                        SelectKBest(score_func=&lt;function f_regression at 0x000002DFD01CE160&gt;)),\n",
       "                                       (&#x27;linearregression&#x27;,\n",
       "                                        LinearRegression())]),\n",
       "             n_jobs=-1,\n",
       "             param_grid={&#x27;selectkbest__k&#x27;: [1, 2, 3, 4, 5, 6, 7, 8, 9, 10, 11,\n",
       "                                            12, 13, 14, 15, 16, 17, 18, 19, 20,\n",
       "                                            21, 22, 23, 24]})</pre><b>In a Jupyter environment, please rerun this cell to show the HTML representation or trust the notebook. <br />On GitHub, the HTML representation is unable to render, please try loading this page with nbviewer.org.</b></div><div class=\"sk-container\" hidden><div class=\"sk-item sk-dashed-wrapped\"><div class=\"sk-label-container\"><div class=\"sk-label sk-toggleable\"><input class=\"sk-toggleable__control sk-hidden--visually\" id=\"sk-estimator-id-5\" type=\"checkbox\" ><label for=\"sk-estimator-id-5\" class=\"sk-toggleable__label sk-toggleable__label-arrow\">GridSearchCV</label><div class=\"sk-toggleable__content\"><pre>GridSearchCV(cv=5,\n",
       "             estimator=Pipeline(steps=[(&#x27;standardscaler&#x27;, StandardScaler()),\n",
       "                                       (&#x27;selectkbest&#x27;,\n",
       "                                        SelectKBest(score_func=&lt;function f_regression at 0x000002DFD01CE160&gt;)),\n",
       "                                       (&#x27;linearregression&#x27;,\n",
       "                                        LinearRegression())]),\n",
       "             n_jobs=-1,\n",
       "             param_grid={&#x27;selectkbest__k&#x27;: [1, 2, 3, 4, 5, 6, 7, 8, 9, 10, 11,\n",
       "                                            12, 13, 14, 15, 16, 17, 18, 19, 20,\n",
       "                                            21, 22, 23, 24]})</pre></div></div></div><div class=\"sk-parallel\"><div class=\"sk-parallel-item\"><div class=\"sk-item\"><div class=\"sk-label-container\"><div class=\"sk-label sk-toggleable\"><input class=\"sk-toggleable__control sk-hidden--visually\" id=\"sk-estimator-id-6\" type=\"checkbox\" ><label for=\"sk-estimator-id-6\" class=\"sk-toggleable__label sk-toggleable__label-arrow\">estimator: Pipeline</label><div class=\"sk-toggleable__content\"><pre>Pipeline(steps=[(&#x27;standardscaler&#x27;, StandardScaler()),\n",
       "                (&#x27;selectkbest&#x27;,\n",
       "                 SelectKBest(score_func=&lt;function f_regression at 0x000002DFD01CE160&gt;)),\n",
       "                (&#x27;linearregression&#x27;, LinearRegression())])</pre></div></div></div><div class=\"sk-serial\"><div class=\"sk-item\"><div class=\"sk-serial\"><div class=\"sk-item\"><div class=\"sk-estimator sk-toggleable\"><input class=\"sk-toggleable__control sk-hidden--visually\" id=\"sk-estimator-id-7\" type=\"checkbox\" ><label for=\"sk-estimator-id-7\" class=\"sk-toggleable__label sk-toggleable__label-arrow\">StandardScaler</label><div class=\"sk-toggleable__content\"><pre>StandardScaler()</pre></div></div></div><div class=\"sk-item\"><div class=\"sk-estimator sk-toggleable\"><input class=\"sk-toggleable__control sk-hidden--visually\" id=\"sk-estimator-id-8\" type=\"checkbox\" ><label for=\"sk-estimator-id-8\" class=\"sk-toggleable__label sk-toggleable__label-arrow\">SelectKBest</label><div class=\"sk-toggleable__content\"><pre>SelectKBest(score_func=&lt;function f_regression at 0x000002DFD01CE160&gt;)</pre></div></div></div><div class=\"sk-item\"><div class=\"sk-estimator sk-toggleable\"><input class=\"sk-toggleable__control sk-hidden--visually\" id=\"sk-estimator-id-9\" type=\"checkbox\" ><label for=\"sk-estimator-id-9\" class=\"sk-toggleable__label sk-toggleable__label-arrow\">LinearRegression</label><div class=\"sk-toggleable__content\"><pre>LinearRegression()</pre></div></div></div></div></div></div></div></div></div></div></div></div>"
      ],
      "text/plain": [
       "GridSearchCV(cv=5,\n",
       "             estimator=Pipeline(steps=[('standardscaler', StandardScaler()),\n",
       "                                       ('selectkbest',\n",
       "                                        SelectKBest(score_func=<function f_regression at 0x000002DFD01CE160>)),\n",
       "                                       ('linearregression',\n",
       "                                        LinearRegression())]),\n",
       "             n_jobs=-1,\n",
       "             param_grid={'selectkbest__k': [1, 2, 3, 4, 5, 6, 7, 8, 9, 10, 11,\n",
       "                                            12, 13, 14, 15, 16, 17, 18, 19, 20,\n",
       "                                            21, 22, 23, 24]})"
      ]
     },
     "execution_count": 33,
     "metadata": {},
     "output_type": "execute_result"
    }
   ],
   "source": [
    "lr_grid_cv.fit(X_train, y_train)"
   ]
  },
  {
   "cell_type": "code",
   "execution_count": 34,
   "metadata": {},
   "outputs": [],
   "source": [
    "score_mean = lr_grid_cv.cv_results_['mean_test_score']\n",
    "score_std = lr_grid_cv.cv_results_['std_test_score']\n",
    "cv_k = [k for k in lr_grid_cv.cv_results_['param_selectkbest__k']]"
   ]
  },
  {
   "cell_type": "code",
   "execution_count": 35,
   "metadata": {},
   "outputs": [
    {
     "data": {
      "text/plain": [
       "{'selectkbest__k': 13}"
      ]
     },
     "execution_count": 35,
     "metadata": {},
     "output_type": "execute_result"
    }
   ],
   "source": [
    "#Print the `best_params_` attribute of `lr_grid_cv`\n",
    "lr_grid_cv.best_params_"
   ]
  },
  {
   "cell_type": "code",
   "execution_count": 36,
   "metadata": {},
   "outputs": [
    {
     "data": {
      "image/png": "[encoded data removed]",
      "text/plain": [
       "<Figure size 720x360 with 1 Axes>"
      ]
     },
     "metadata": {
      "needs_background": "light"
     },
     "output_type": "display_data"
    }
   ],
   "source": [
    "best_k = lr_grid_cv.best_params_['selectkbest__k']\n",
    "plt.subplots(figsize=(10, 5))\n",
    "plt.errorbar(cv_k, score_mean, yerr=score_std)\n",
    "plt.axvline(x=best_k, c='r', ls='--', alpha=.5)\n",
    "plt.xlabel('k')\n",
    "plt.ylabel('CV score (r-squared)')\n",
    "plt.title('Pipeline mean CV score (error bars +/- 1sd)');"
   ]
  },
  {
   "cell_type": "code",
   "execution_count": 37,
   "metadata": {},
   "outputs": [],
   "source": [
    "selected = lr_grid_cv.best_estimator_.named_steps.selectkbest.get_support()\n"
   ]
  },
  {
   "cell_type": "code",
   "execution_count": 38,
   "metadata": {},
   "outputs": [
    {
     "data": {
      "text/plain": [
       "rol50_std_std       8.757827\n",
       "rol500_std          5.724139\n",
       "rol50_kurt          2.531846\n",
       "rol500_kurt_std     0.457019\n",
       "rol500_skew_std     0.233943\n",
       "rol5000_std         0.147178\n",
       "rol5000_kurt        0.027073\n",
       "rol5000_skew_std    0.000036\n",
       "rol50_kurt_std     -0.088565\n",
       "rol50_skew_std     -0.295729\n",
       "rol500_kurt        -1.098162\n",
       "rol50_std          -4.194237\n",
       "rol500_std_std     -9.749545\n",
       "dtype: float64"
      ]
     },
     "execution_count": 38,
     "metadata": {},
     "output_type": "execute_result"
    }
   ],
   "source": [
    "coefs = lr_grid_cv.best_estimator_.named_steps.linearregression.coef_\n",
    "features = train_features_df.drop(columns = \"ttf_avg\").columns[selected]\n",
    "pd.Series(coefs, index=features).sort_values(ascending=False)"
   ]
  },
  {
   "cell_type": "markdown",
   "metadata": {},
   "source": [
    "## 4.9 Ensemble methods"
   ]
  },
  {
   "cell_type": "markdown",
   "metadata": {},
   "source": [
    "### 4.9.1 Random Forest Regression"
   ]
  },
  {
   "cell_type": "markdown",
   "metadata": {},
   "source": [
    "#### 4.9.1.1 Define the pipeline<a id='4.10.1_Define_the_pipeline'></a>"
   ]
  },
  {
   "cell_type": "code",
   "execution_count": 39,
   "metadata": {},
   "outputs": [],
   "source": [
    "RF_pipe = make_pipeline(\n",
    "    StandardScaler(),\n",
    "    RandomForestRegressor(random_state=47)\n",
    ")"
   ]
  },
  {
   "cell_type": "markdown",
   "metadata": {},
   "source": [
    "#### 4.9.1.2 Fit and assess performance using cross-validation<a id='4.10.2_Fit_and_assess_performance_using_cross-validation'></a>"
   ]
  },
  {
   "cell_type": "code",
   "execution_count": 40,
   "metadata": {},
   "outputs": [],
   "source": [
    "#Pass it the random forest pipe object, `X_train` and `y_train`,\n",
    "#and get it to use 5-fold cross-validation\n",
    "rf_default_cv_results = cross_validate(RF_pipe, X_train, y_train, cv=5)"
   ]
  },
  {
   "cell_type": "code",
   "execution_count": 41,
   "metadata": {
    "scrolled": true
   },
   "outputs": [
    {
     "data": {
      "text/plain": [
       "array([0.43740624, 0.40543095, 0.47560118, 0.46472576, 0.44121179])"
      ]
     },
     "execution_count": 41,
     "metadata": {},
     "output_type": "execute_result"
    }
   ],
   "source": [
    "rf_cv_scores = rf_default_cv_results['test_score']\n",
    "rf_cv_scores"
   ]
  },
  {
   "cell_type": "code",
   "execution_count": 42,
   "metadata": {
    "scrolled": true
   },
   "outputs": [
    {
     "data": {
      "text/plain": [
       "(0.4448751821152014, 0.02434413803649507)"
      ]
     },
     "execution_count": 42,
     "metadata": {},
     "output_type": "execute_result"
    }
   ],
   "source": [
    "np.mean(rf_cv_scores), np.std(rf_cv_scores)"
   ]
  },
  {
   "cell_type": "markdown",
   "metadata": {},
   "source": [
    "### 4.9.2 Gradient Boosting Regression"
   ]
  },
  {
   "cell_type": "markdown",
   "metadata": {},
   "source": [
    "#### 4.9.2.1 Define the pipeline"
   ]
  },
  {
   "cell_type": "code",
   "execution_count": 43,
   "metadata": {},
   "outputs": [],
   "source": [
    "GB_pipe = make_pipeline(\n",
    "    StandardScaler(),\n",
    "    GradientBoostingRegressor(random_state=47)\n",
    ")"
   ]
  },
  {
   "cell_type": "markdown",
   "metadata": {},
   "source": [
    "#### 4.9.2.2 Fit and assess performance using cross-validation<a id='4.10.2_Fit_and_assess_performance_using_cross-validation'></a>"
   ]
  },
  {
   "cell_type": "code",
   "execution_count": 44,
   "metadata": {},
   "outputs": [],
   "source": [
    "gb_default_cv_results = cross_validate(GB_pipe, X_train, y_train, cv=5)"
   ]
  },
  {
   "cell_type": "code",
   "execution_count": 45,
   "metadata": {},
   "outputs": [
    {
     "data": {
      "text/plain": [
       "array([0.42326037, 0.39957159, 0.47535086, 0.44176555, 0.46000774])"
      ]
     },
     "execution_count": 45,
     "metadata": {},
     "output_type": "execute_result"
    }
   ],
   "source": [
    "gb_cv_scores = gb_default_cv_results['test_score']\n",
    "gb_cv_scores"
   ]
  },
  {
   "cell_type": "code",
   "execution_count": 46,
   "metadata": {},
   "outputs": [
    {
     "data": {
      "text/plain": [
       "(0.4399912209828273, 0.026712472996304797)"
      ]
     },
     "execution_count": 46,
     "metadata": {},
     "output_type": "execute_result"
    }
   ],
   "source": [
    "np.mean(gb_cv_scores), np.std(gb_cv_scores)"
   ]
  },
  {
   "cell_type": "code",
   "execution_count": 49,
   "metadata": {},
   "outputs": [
    {
     "name": "stdout",
     "output_type": "stream",
     "text": [
      "Learning rate:  0.05\n",
      "R2 (training): 0.440\n",
      "std of R2 (training): 0.027\n",
      "Learning rate:  0.1\n",
      "R2 (training): 0.440\n",
      "std of R2 (training): 0.027\n",
      "Learning rate:  0.25\n",
      "R2 (training): 0.440\n",
      "std of R2 (training): 0.027\n",
      "Learning rate:  0.5\n",
      "R2 (training): 0.440\n",
      "std of R2 (training): 0.027\n",
      "Learning rate:  0.75\n",
      "R2 (training): 0.440\n",
      "std of R2 (training): 0.027\n",
      "Learning rate:  1\n",
      "R2 (training): 0.440\n",
      "std of R2 (training): 0.027\n"
     ]
    }
   ],
   "source": [
    "learning_rates = [0.05, 0.1, 0.25, 0.5, 0.75, 1]\n",
    "for learning_rate in learning_rates:\n",
    "    gb = GradientBoostingRegressor(n_estimators=20, learning_rate = learning_rate, max_features=2, max_depth = 2, random_state = 47)\n",
    "    gb_pipe = make_pipeline(    StandardScaler(),    gb)\n",
    "    gb_pipe.fit(X_train, y_train)\n",
    "    print(\"Learning rate: \", learning_rate)\n",
    "    gb_cv_scores = gb_default_cv_results['test_score']\n",
    "    print(\"R2 (training): {0:.3f}\".format(np.mean(gb_cv_scores)))\n",
    "    print(\"std of R2 (training): {0:.3f}\".format(np.std(gb_cv_scores)))"
   ]
  },
  {
   "cell_type": "code",
   "execution_count": null,
   "metadata": {},
   "outputs": [],
   "source": []
  }
 ],
 "metadata": {
  "kernelspec": {
   "display_name": "Python 3",
   "language": "python",
   "name": "python3"
  },
  "language_info": {
   "codemirror_mode": {
    "name": "ipython",
    "version": 3
   },
   "file_extension": ".py",
   "mimetype": "text/x-python",
   "name": "python",
   "nbconvert_exporter": "python",
   "pygments_lexer": "ipython3",
   "version": "3.8.3"
  }
 },
 "nbformat": 4,
 "nbformat_minor": 4
}
