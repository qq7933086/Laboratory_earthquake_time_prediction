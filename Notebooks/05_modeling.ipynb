{
 "cells": [
  {
   "cell_type": "markdown",
   "metadata": {},
   "source": [
    "# 5 Modeling"
   ]
  },
  {
   "cell_type": "markdown",
   "metadata": {},
   "source": [
    "## 5.1 Contents"
   ]
  },
  {
   "cell_type": "markdown",
   "metadata": {},
   "source": [
    "## 5.2 Introduction"
   ]
  },
  {
   "cell_type": "markdown",
   "metadata": {},
   "source": [
    "This notebook models the predict earthquake time"
   ]
  },
  {
   "cell_type": "markdown",
   "metadata": {},
   "source": [
    "## 5.3 Imports"
   ]
  },
  {
   "cell_type": "code",
   "execution_count": 1,
   "metadata": {},
   "outputs": [],
   "source": [
    "import pandas as pd\n",
    "import numpy as np\n",
    "import os\n",
    "import matplotlib.pyplot as plt\n",
    "import seaborn as sns\n",
    "from sklearn import __version__ as sklearn_version\n",
    "from sklearn.model_selection import cross_validate"
   ]
  },
  {
   "cell_type": "markdown",
   "metadata": {},
   "source": [
    "## 5.4 Load Model"
   ]
  },
  {
   "cell_type": "code",
   "execution_count": null,
   "metadata": {},
   "outputs": [],
   "source": []
  },
  {
   "cell_type": "markdown",
   "metadata": {},
   "source": [
    "## 5.5 Load Data"
   ]
  },
  {
   "cell_type": "code",
   "execution_count": 2,
   "metadata": {},
   "outputs": [],
   "source": [
    "filename = 'D:/DataScience/rawdata/2ndCapstone/train.csv'"
   ]
  },
  {
   "cell_type": "code",
   "execution_count": 3,
   "metadata": {},
   "outputs": [
    {
     "data": {
      "text/plain": [
       "(8355, 169)"
      ]
     },
     "execution_count": 3,
     "metadata": {},
     "output_type": "execute_result"
    }
   ],
   "source": [
    "train_features_df = pd.read_pickle('../data/train_df.pkl')\n",
    "ttf_avg = train_features_df.ttf_avg.values\n",
    "train_features_df.shape"
   ]
  },
  {
   "cell_type": "code",
   "execution_count": 4,
   "metadata": {},
   "outputs": [
    {
     "name": "stdout",
     "output_type": "stream",
     "text": [
      "0\n",
      "1000\n",
      "2000\n",
      "3000\n",
      "4000\n"
     ]
    }
   ],
   "source": [
    "# %%time\n",
    "j = -1\n",
    "seg_len = 150_000\n",
    "rng = []  \n",
    "\n",
    "for chunk in pd.read_csv(filename, chunksize = seg_len, dtype={'acoustic_data': np.int16, 'time_to_failure': np.float32}): \n",
    "    j += 1\n",
    "    if j % 1000 == 0:\n",
    "        print(j)\n",
    "    \n",
    "    firsthalf_chunk = chunk.iloc[0:int(len(chunk)/2)]\n",
    "    if j > 0:\n",
    "        combined_chunk = pd.concat([ lasthalf_chunk, firsthalf_chunk], axis = 0)\n",
    "        if combined_chunk['time_to_failure'].iloc[-1] < combined_chunk['time_to_failure'].iloc[0]:\n",
    "            rng.append(combined_chunk[\"time_to_failure\"].iloc[0] - combined_chunk[\"time_to_failure\"].iloc[-1]) \n",
    "\n",
    "    lasthalf_chunk = chunk.iloc[int(len(chunk)/2):]\n",
    "    if chunk['time_to_failure'].iloc[-1] < chunk['time_to_failure'].iloc[0]:\n",
    "        rng.append(chunk[\"time_to_failure\"].iloc[0] - chunk[\"time_to_failure\"].iloc[-1]) "
   ]
  },
  {
   "cell_type": "code",
   "execution_count": 8,
   "metadata": {},
   "outputs": [
    {
     "data": {
      "text/plain": [
       "(8355, 1)"
      ]
     },
     "execution_count": 8,
     "metadata": {},
     "output_type": "execute_result"
    }
   ],
   "source": [
    "rng_np = np.array(rng)\n",
    "rng_df = pd.DataFrame(rng_np, columns = ['range'])\n",
    "rng_df.drop(rng_df.tail(2).index,inplace=True)\n",
    "rng_df.shape"
   ]
  },
  {
   "cell_type": "code",
   "execution_count": 10,
   "metadata": {},
   "outputs": [
    {
     "data": {
      "text/plain": [
       "0.039398    2250\n",
       "0.038303    1213\n",
       "0.038302     718\n",
       "0.039298     633\n",
       "0.039298     592\n",
       "0.039398     449\n",
       "0.038303     411\n",
       "0.038303     321\n",
       "0.039299     302\n",
       "0.039399     268\n",
       "0.039398     261\n",
       "0.038303     234\n",
       "0.039299     105\n",
       "0.039399      91\n",
       "0.039398      83\n",
       "0.038303      59\n",
       "0.038403      49\n",
       "0.038403      45\n",
       "0.038303      44\n",
       "0.039398      42\n",
       "0.039398      34\n",
       "0.039398      26\n",
       "0.038303      22\n",
       "0.038403      16\n",
       "0.038303      12\n",
       "0.039298       9\n",
       "0.039298       9\n",
       "0.038303       8\n",
       "0.039398       8\n",
       "0.039298       6\n",
       "0.038404       6\n",
       "0.038303       5\n",
       "0.039298       5\n",
       "0.039298       4\n",
       "0.039298       3\n",
       "0.039298       2\n",
       "0.039398       1\n",
       "0.038303       1\n",
       "0.038301       1\n",
       "0.039400       1\n",
       "0.039397       1\n",
       "0.039398       1\n",
       "0.038403       1\n",
       "0.039298       1\n",
       "0.038403       1\n",
       "0.039298       1\n",
       "Name: range, dtype: int64"
      ]
     },
     "execution_count": 10,
     "metadata": {},
     "output_type": "execute_result"
    }
   ],
   "source": [
    "rng_df[\"ttf_avg\"] = ttf_avg\n",
    "rng_df.to_pickle('../data/labelrange.pkl')\n",
    "rng_df[\"range\"].value_counts(ascending = False)"
   ]
  },
  {
   "cell_type": "code",
   "execution_count": null,
   "metadata": {},
   "outputs": [],
   "source": []
  }
 ],
 "metadata": {
  "kernelspec": {
   "display_name": "Python 3",
   "language": "python",
   "name": "python3"
  }
 },
 "nbformat": 4,
 "nbformat_minor": 4
}
