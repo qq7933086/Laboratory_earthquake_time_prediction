{
 "cells": [
  {
   "cell_type": "markdown",
   "metadata": {},
   "source": [
    "# 4 Pre-Processing and Training Data<a id='4_Pre-Processing_and_Training_Data'></a>"
   ]
  },
  {
   "cell_type": "markdown",
   "metadata": {},
   "source": [
    "## 4.1 Contents"
   ]
  },
  {
   "cell_type": "markdown",
   "metadata": {},
   "source": [
    "## 4.2 Introduction"
   ]
  },
  {
   "cell_type": "markdown",
   "metadata": {},
   "source": [
    "## 4.3 Imports"
   ]
  },
  {
   "cell_type": "code",
   "execution_count": 40,
   "metadata": {},
   "outputs": [],
   "source": [
    "import pandas as pd\n",
    "import numpy as np\n",
    "import matplotlib.pyplot as plt\n",
    "import seaborn as sns\n",
    "from sklearn import __version__ as sklearn_version\n",
    "from sklearn.decomposition import PCA\n",
    "from sklearn.preprocessing import scale\n",
    "from sklearn.model_selection import train_test_split, cross_validate, GridSearchCV\n",
    "from sklearn.preprocessing import StandardScaler, MinMaxScaler\n",
    "from sklearn.dummy import DummyRegressor\n",
    "from sklearn.ensemble import RandomForestRegressor\n",
    "from sklearn.metrics import r2_score, mean_squared_error, mean_absolute_error\n",
    "from sklearn.pipeline import make_pipeline\n",
    "from sklearn.linear_model import LinearRegression\n"
   ]
  },
  {
   "cell_type": "markdown",
   "metadata": {},
   "source": [
    "## 4.4 Load Data"
   ]
  },
  {
   "cell_type": "code",
   "execution_count": 3,
   "metadata": {},
   "outputs": [
    {
     "name": "stdout",
     "output_type": "stream",
     "text": [
      "                 0          1          2          3          4\n",
      "ttf_ms      1.3915     1.3925     1.3936     1.3947     1.3957\n",
      "mean       4.58207    5.05908    4.91309    4.75464    4.66553\n",
      "median           5          5          5          5          5\n",
      "std        2.67334    3.18266    3.48529    6.27187    2.75112\n",
      "iqr              3          4          4          7          4\n",
      "...            ...        ...        ...        ...        ...\n",
      "f_sec6    0.143069   0.260637   0.440955    0.53825   0.226379\n",
      "f_sec7    0.119162   0.133923   0.171251   0.125679   0.147104\n",
      "f_sec8   0.0647039  0.0645654  0.0446885  0.0287065   0.081306\n",
      "f_sec9    0.110163   0.056461  0.0386167  0.0381988  0.0727754\n",
      "f_sec10   0.084086  0.0514141  0.0432133  0.0164302  0.0890251\n",
      "\n",
      "[69 rows x 5 columns]\n",
      "                 0          1         2          3          4\n",
      "ttf_us      1.3915     1.3915    1.3925     1.3925     1.3925\n",
      "mean       4.80978    4.29705   5.52632    4.75028    4.89439\n",
      "median           5          4         6          5          5\n",
      "std        2.65876    2.66718   2.67433    3.16477    3.19379\n",
      "iqr              4          3         3          4          4\n",
      "...            ...        ...       ...        ...        ...\n",
      "f_sec6     0.14082   0.135233         0   0.139169   0.380914\n",
      "f_sec7     0.11068  0.0421383         0   0.232419   0.075943\n",
      "f_sec8   0.0534838     0.1532         0  0.0943034  0.0503701\n",
      "f_sec9    0.123044   0.114985         0  0.0420201  0.0525881\n",
      "f_sec10  0.0828496  0.0878922  0.114403   0.108755  0.0387221\n",
      "\n",
      "[69 rows x 5 columns]\n"
     ]
    }
   ],
   "source": [
    "ms_sec = pd.read_pickle('../data/train_ms_section.pkl')\n",
    "us_sec = pd.read_pickle('../data/train_us_section.pkl')\n",
    "print(ms_sec.head().T)\n",
    "print(us_sec.head().T)"
   ]
  },
  {
   "cell_type": "markdown",
   "metadata": {},
   "source": [
    "## 4.6 Train/Test Split"
   ]
  },
  {
   "cell_type": "code",
   "execution_count": 17,
   "metadata": {
    "scrolled": true
   },
   "outputs": [
    {
     "data": {
      "text/html": [
       "<div>\n",
       "<style scoped>\n",
       "    .dataframe tbody tr th:only-of-type {\n",
       "        vertical-align: middle;\n",
       "    }\n",
       "\n",
       "    .dataframe tbody tr th {\n",
       "        vertical-align: top;\n",
       "    }\n",
       "\n",
       "    .dataframe thead th {\n",
       "        text-align: right;\n",
       "    }\n",
       "</style>\n",
       "<table border=\"1\" class=\"dataframe\">\n",
       "  <thead>\n",
       "    <tr style=\"text-align: right;\">\n",
       "      <th></th>\n",
       "      <th>0</th>\n",
       "      <th>1</th>\n",
       "      <th>2</th>\n",
       "      <th>3</th>\n",
       "      <th>4</th>\n",
       "    </tr>\n",
       "  </thead>\n",
       "  <tbody>\n",
       "    <tr>\n",
       "      <th>f_dom</th>\n",
       "      <td>4.940711e+07</td>\n",
       "      <td>7.008864e+07</td>\n",
       "      <td>4.784689e+07</td>\n",
       "      <td>6.500650e+07</td>\n",
       "      <td>5.600560e+07</td>\n",
       "    </tr>\n",
       "    <tr>\n",
       "      <th>f_sec1</th>\n",
       "      <td>6.360166e-02</td>\n",
       "      <td>7.215520e-02</td>\n",
       "      <td>4.736574e-33</td>\n",
       "      <td>3.024468e-02</td>\n",
       "      <td>1.810273e-02</td>\n",
       "    </tr>\n",
       "    <tr>\n",
       "      <th>f_sec2</th>\n",
       "      <td>4.750125e-02</td>\n",
       "      <td>4.901716e-02</td>\n",
       "      <td>0.000000e+00</td>\n",
       "      <td>3.369577e-02</td>\n",
       "      <td>3.136409e-02</td>\n",
       "    </tr>\n",
       "    <tr>\n",
       "      <th>f_sec3</th>\n",
       "      <td>6.200338e-02</td>\n",
       "      <td>9.898938e-02</td>\n",
       "      <td>0.000000e+00</td>\n",
       "      <td>9.525854e-02</td>\n",
       "      <td>9.126262e-02</td>\n",
       "    </tr>\n",
       "    <tr>\n",
       "      <th>f_sec4</th>\n",
       "      <td>6.135241e-02</td>\n",
       "      <td>1.019314e-01</td>\n",
       "      <td>0.000000e+00</td>\n",
       "      <td>1.361151e-01</td>\n",
       "      <td>1.510140e-01</td>\n",
       "    </tr>\n",
       "    <tr>\n",
       "      <th>f_sec5</th>\n",
       "      <td>2.546645e-01</td>\n",
       "      <td>1.444582e-01</td>\n",
       "      <td>8.855972e-01</td>\n",
       "      <td>8.801925e-02</td>\n",
       "      <td>1.097193e-01</td>\n",
       "    </tr>\n",
       "    <tr>\n",
       "      <th>f_sec6</th>\n",
       "      <td>1.408196e-01</td>\n",
       "      <td>1.352330e-01</td>\n",
       "      <td>0.000000e+00</td>\n",
       "      <td>1.391692e-01</td>\n",
       "      <td>3.809139e-01</td>\n",
       "    </tr>\n",
       "    <tr>\n",
       "      <th>f_sec7</th>\n",
       "      <td>1.106803e-01</td>\n",
       "      <td>4.213827e-02</td>\n",
       "      <td>0.000000e+00</td>\n",
       "      <td>2.324192e-01</td>\n",
       "      <td>7.594299e-02</td>\n",
       "    </tr>\n",
       "    <tr>\n",
       "      <th>f_sec8</th>\n",
       "      <td>5.348384e-02</td>\n",
       "      <td>1.532000e-01</td>\n",
       "      <td>0.000000e+00</td>\n",
       "      <td>9.430336e-02</td>\n",
       "      <td>5.037014e-02</td>\n",
       "    </tr>\n",
       "    <tr>\n",
       "      <th>f_sec9</th>\n",
       "      <td>1.230435e-01</td>\n",
       "      <td>1.149851e-01</td>\n",
       "      <td>0.000000e+00</td>\n",
       "      <td>4.202010e-02</td>\n",
       "      <td>5.258808e-02</td>\n",
       "    </tr>\n",
       "    <tr>\n",
       "      <th>f_sec10</th>\n",
       "      <td>8.284958e-02</td>\n",
       "      <td>8.789219e-02</td>\n",
       "      <td>1.144028e-01</td>\n",
       "      <td>1.087548e-01</td>\n",
       "      <td>3.872215e-02</td>\n",
       "    </tr>\n",
       "  </tbody>\n",
       "</table>\n",
       "</div>"
      ],
      "text/plain": [
       "                    0             1             2             3             4\n",
       "f_dom    4.940711e+07  7.008864e+07  4.784689e+07  6.500650e+07  5.600560e+07\n",
       "f_sec1   6.360166e-02  7.215520e-02  4.736574e-33  3.024468e-02  1.810273e-02\n",
       "f_sec2   4.750125e-02  4.901716e-02  0.000000e+00  3.369577e-02  3.136409e-02\n",
       "f_sec3   6.200338e-02  9.898938e-02  0.000000e+00  9.525854e-02  9.126262e-02\n",
       "f_sec4   6.135241e-02  1.019314e-01  0.000000e+00  1.361151e-01  1.510140e-01\n",
       "f_sec5   2.546645e-01  1.444582e-01  8.855972e-01  8.801925e-02  1.097193e-01\n",
       "f_sec6   1.408196e-01  1.352330e-01  0.000000e+00  1.391692e-01  3.809139e-01\n",
       "f_sec7   1.106803e-01  4.213827e-02  0.000000e+00  2.324192e-01  7.594299e-02\n",
       "f_sec8   5.348384e-02  1.532000e-01  0.000000e+00  9.430336e-02  5.037014e-02\n",
       "f_sec9   1.230435e-01  1.149851e-01  0.000000e+00  4.202010e-02  5.258808e-02\n",
       "f_sec10  8.284958e-02  8.789219e-02  1.144028e-01  1.087548e-01  3.872215e-02"
      ]
     },
     "execution_count": 17,
     "metadata": {},
     "output_type": "execute_result"
    }
   ],
   "source": [
    "t_features = [col for col in us_sec.iloc[:,1:].columns if (col[0:2] != \"f_\") & (col != \"freq\") & (col != \"psd\")]\n",
    "f_features = [col for col in us_sec.iloc[:,1:].columns if col[0:2] == \"f_\"]\n",
    "\n",
    "y = us_sec.ttf_us\n",
    "X = us_sec.loc[:,f_features]\n",
    "X.head().T\n"
   ]
  },
  {
   "cell_type": "code",
   "execution_count": 18,
   "metadata": {},
   "outputs": [],
   "source": [
    "X_train, X_test, y_train, y_test = train_test_split(X,y, test_size=0.2, random_state=47)"
   ]
  },
  {
   "cell_type": "code",
   "execution_count": 19,
   "metadata": {},
   "outputs": [
    {
     "data": {
      "text/plain": [
       "((352, 11), (88, 11))"
      ]
     },
     "execution_count": 19,
     "metadata": {},
     "output_type": "execute_result"
    }
   ],
   "source": [
    "X_train.shape, X_test.shape"
   ]
  },
  {
   "cell_type": "code",
   "execution_count": 20,
   "metadata": {},
   "outputs": [
    {
     "data": {
      "text/plain": [
       "((352,), (88,))"
      ]
     },
     "execution_count": 20,
     "metadata": {},
     "output_type": "execute_result"
    }
   ],
   "source": [
    "y_train.shape, y_test.shape"
   ]
  },
  {
   "cell_type": "code",
   "execution_count": null,
   "metadata": {},
   "outputs": [],
   "source": []
  },
  {
   "cell_type": "markdown",
   "metadata": {},
   "source": [
    "## 4.7 Initial Not-Even-A-Model<a id='4.7_Initial_Not-Even-A-Model'></a>"
   ]
  },
  {
   "cell_type": "markdown",
   "metadata": {},
   "source": [
    "A good place to start is to see how good the mean is as a predictor. In other words, what if you simply say your best guess is the average price?"
   ]
  },
  {
   "cell_type": "code",
   "execution_count": 26,
   "metadata": {},
   "outputs": [
    {
     "data": {
      "text/plain": [
       "1.429944153409091"
      ]
     },
     "execution_count": 26,
     "metadata": {},
     "output_type": "execute_result"
    }
   ],
   "source": [
    "#Calculate the mean of `y_train`\n",
    "train_mean = y_train.mean()\n",
    "train_mean"
   ]
  },
  {
   "cell_type": "markdown",
   "metadata": {},
   "source": [
    "`sklearn`'s `DummyRegressor` easily does this:"
   ]
  },
  {
   "cell_type": "code",
   "execution_count": 27,
   "metadata": {},
   "outputs": [
    {
     "data": {
      "text/plain": [
       "array([[1.42994415]])"
      ]
     },
     "execution_count": 27,
     "metadata": {},
     "output_type": "execute_result"
    }
   ],
   "source": [
    "#Fit the dummy regressor on the training data\n",
    "#Hint, call its `.fit()` method with `X_train` and `y_train` as arguments\n",
    "#Then print the object's `constant_` attribute and verify it's the same as the mean above\n",
    "dumb_reg = DummyRegressor(strategy='mean')\n",
    "dumb_reg.fit(X_train, y_train)\n",
    "dumb_reg.constant_"
   ]
  },
  {
   "cell_type": "code",
   "execution_count": 35,
   "metadata": {},
   "outputs": [],
   "source": [
    "y_tr_pred = train_mean * np.ones(len(y_train))\n",
    "y_te_pred = train_mean * np.ones(len(y_test))"
   ]
  },
  {
   "cell_type": "markdown",
   "metadata": {},
   "source": [
    "### 4.7.1 R-squared<a id='4.7.2.0.1_R-squared'></a>"
   ]
  },
  {
   "cell_type": "code",
   "execution_count": 36,
   "metadata": {},
   "outputs": [
    {
     "data": {
      "text/plain": [
       "(0.0, -0.02331881097419397)"
      ]
     },
     "execution_count": 36,
     "metadata": {},
     "output_type": "execute_result"
    }
   ],
   "source": [
    "r2_score(y_train, y_tr_pred), r2_score(y_test, y_te_pred)"
   ]
  },
  {
   "cell_type": "markdown",
   "metadata": {},
   "source": [
    "##### 4.7.2.0.2 Mean absolute error<a id='4.7.2.0.2_Mean_absolute_error'></a>"
   ]
  },
  {
   "cell_type": "code",
   "execution_count": 37,
   "metadata": {
    "scrolled": true
   },
   "outputs": [
    {
     "data": {
      "text/plain": [
       "(0.019063018788739672, 0.021307122417355353)"
      ]
     },
     "execution_count": 37,
     "metadata": {},
     "output_type": "execute_result"
    }
   ],
   "source": [
    "mean_absolute_error(y_train, y_tr_pred), mean_absolute_error(y_test, y_te_pred)"
   ]
  },
  {
   "cell_type": "markdown",
   "metadata": {},
   "source": [
    "##### 4.7.2.0.3 Mean squared error<a id='4.7.2.0.3_Mean_squared_error'></a>"
   ]
  },
  {
   "cell_type": "code",
   "execution_count": 38,
   "metadata": {
    "scrolled": true
   },
   "outputs": [
    {
     "data": {
      "text/plain": [
       "(0.0004964496395276021, 0.0005533168989370142)"
      ]
     },
     "execution_count": 38,
     "metadata": {},
     "output_type": "execute_result"
    }
   ],
   "source": [
    "mean_squared_error(y_train, y_tr_pred), mean_squared_error(y_test, y_te_pred)"
   ]
  },
  {
   "cell_type": "code",
   "execution_count": null,
   "metadata": {},
   "outputs": [],
   "source": []
  },
  {
   "cell_type": "markdown",
   "metadata": {},
   "source": [
    "How good is this? How closely does this match, or explain, the actual values? There are many ways of assessing how good one set of values agrees with another, which brings us to the subject of metrics."
   ]
  },
  {
   "cell_type": "markdown",
   "metadata": {},
   "source": [
    "## 4.8 Initial Models"
   ]
  },
  {
   "cell_type": "markdown",
   "metadata": {},
   "source": [
    "### 4.8.1 Random Forest Regression"
   ]
  },
  {
   "cell_type": "markdown",
   "metadata": {},
   "source": [
    "#### 4.8.1.1 Define the pipeline<a id='4.10.1_Define_the_pipeline'></a>"
   ]
  },
  {
   "cell_type": "code",
   "execution_count": 21,
   "metadata": {},
   "outputs": [],
   "source": [
    "RF_pipe = make_pipeline(\n",
    "    StandardScaler(),\n",
    "    RandomForestRegressor(random_state=47)\n",
    ")"
   ]
  },
  {
   "cell_type": "markdown",
   "metadata": {},
   "source": [
    "#### 4.8.1.2 Fit and assess performance using cross-validation<a id='4.10.2_Fit_and_assess_performance_using_cross-validation'></a>"
   ]
  },
  {
   "cell_type": "code",
   "execution_count": 22,
   "metadata": {},
   "outputs": [],
   "source": [
    "#Pass it the random forest pipe object, `X_train` and `y_train`,\n",
    "#and get it to use 5-fold cross-validation\n",
    "rf_default_cv_results = cross_validate(RF_pipe, X_train, y_train, cv=5)"
   ]
  },
  {
   "cell_type": "code",
   "execution_count": 23,
   "metadata": {},
   "outputs": [
    {
     "data": {
      "text/plain": [
       "array([-0.17551192, -0.24740566, -0.17814721, -0.23774978, -0.2477249 ])"
      ]
     },
     "execution_count": 23,
     "metadata": {},
     "output_type": "execute_result"
    }
   ],
   "source": [
    "rf_cv_scores = rf_default_cv_results['test_score']\n",
    "rf_cv_scores"
   ]
  },
  {
   "cell_type": "code",
   "execution_count": 24,
   "metadata": {},
   "outputs": [
    {
     "data": {
      "text/plain": [
       "(-0.21730789651467836, 0.03325478191175324)"
      ]
     },
     "execution_count": 24,
     "metadata": {},
     "output_type": "execute_result"
    }
   ],
   "source": [
    "np.mean(rf_cv_scores), np.std(rf_cv_scores)"
   ]
  },
  {
   "cell_type": "markdown",
   "metadata": {},
   "source": [
    "### 4.8.2 Linear Regression"
   ]
  },
  {
   "cell_type": "code",
   "execution_count": 41,
   "metadata": {},
   "outputs": [],
   "source": [
    "LR_pipe = make_pipeline(\n",
    "    StandardScaler(), \n",
    "    LinearRegression()\n",
    ")"
   ]
  },
  {
   "cell_type": "code",
   "execution_count": 42,
   "metadata": {},
   "outputs": [
    {
     "data": {
      "text/plain": [
       "Pipeline(steps=[('standardscaler', StandardScaler()),\n",
       "                ('linearregression', LinearRegression())])"
      ]
     },
     "execution_count": 42,
     "metadata": {},
     "output_type": "execute_result"
    }
   ],
   "source": [
    "#Call the pipe's `fit()` method with `X_train` and `y_train` as arguments\n",
    "LR_pipe.fit(X_train, y_train)"
   ]
  },
  {
   "cell_type": "markdown",
   "metadata": {},
   "source": [
    "#### 4.8.2.3 Make predictions on the train and test sets<a id='4.8.2.3_Make_predictions_on_the_train_and_test_sets'></a>"
   ]
  },
  {
   "cell_type": "code",
   "execution_count": 43,
   "metadata": {},
   "outputs": [],
   "source": [
    "y_tr_pred = LR_pipe.predict(X_train)\n",
    "y_te_pred = LR_pipe.predict(X_test)"
   ]
  },
  {
   "cell_type": "markdown",
   "metadata": {},
   "source": [
    "#### 4.8.2.4 Assess performance<a id='4.8.2.4_Assess_performance'></a>"
   ]
  },
  {
   "cell_type": "code",
   "execution_count": 44,
   "metadata": {},
   "outputs": [
    {
     "data": {
      "text/plain": [
       "(0.033585889002502034, -0.020005953760202422)"
      ]
     },
     "execution_count": 44,
     "metadata": {},
     "output_type": "execute_result"
    }
   ],
   "source": [
    "r2_score(y_train, y_tr_pred), r2_score(y_test, y_te_pred)"
   ]
  },
  {
   "cell_type": "code",
   "execution_count": 46,
   "metadata": {},
   "outputs": [
    {
     "data": {
      "text/plain": [
       "(0.01894592085395954, 0.021209013971501243)"
      ]
     },
     "execution_count": 46,
     "metadata": {},
     "output_type": "execute_result"
    }
   ],
   "source": [
    "mean_absolute_error(y_train, y_tr_pred), mean_absolute_error(y_test, y_te_pred)"
   ]
  },
  {
   "cell_type": "code",
   "execution_count": null,
   "metadata": {},
   "outputs": [],
   "source": []
  }
 ],
 "metadata": {
  "kernelspec": {
   "display_name": "Python 3",
   "language": "python",
   "name": "python3"
  },
  "language_info": {
   "codemirror_mode": {
    "name": "ipython",
    "version": 3
   },
   "file_extension": ".py",
   "mimetype": "text/x-python",
   "name": "python",
   "nbconvert_exporter": "python",
   "pygments_lexer": "ipython3",
   "version": "3.8.3"
  }
 },
 "nbformat": 4,
 "nbformat_minor": 4
}
